{
 "cells": [
  {
   "cell_type": "code",
   "execution_count": null,
   "id": "7aa31bf6",
   "metadata": {
    "deletable": false,
    "editable": false
   },
   "outputs": [],
   "source": [
    "# Initialize Otter\n",
    "import otter\n",
    "grader = otter.Notebook(\"lab05.ipynb\")"
   ]
  },
  {
   "cell_type": "markdown",
   "id": "e76156fa",
   "metadata": {},
   "source": [
    "# Lab 5: Introduction to Pandas\n",
    "Welcome to Lab 5 of DATA 271!"
   ]
  },
  {
   "cell_type": "markdown",
   "id": "d20a5c7d",
   "metadata": {},
   "source": [
    "## Overview\n",
    "Pandas is a fast, powerful, and flexible open source data analysis and maniputation tool built on top of the Python programming language.  Pandas is built for tabular data.  Moreover, it displays data in an intuitive and pleasing way (compared to NumPy, for example).\n",
    "\n",
    "More documentation can be found here: https://pandas.pydata.org.\n",
    "\n",
    "### In today's lab, we will...\n",
    "- Use Series and DataFrames to work with data\n",
    "- Create a DataFrame from a list or dictionaries or by reading a CSV file\n",
    "- Inspect DataFrames\n",
    "- Access rows, columns and elements of DataFrames\n",
    "- Subset or filter data\n",
    "- Make basic plots (bar and line) with Pandas"
   ]
  },
  {
   "cell_type": "markdown",
   "id": "e047ca29",
   "metadata": {},
   "source": [
    "### Introduction and Motivation\n",
    "Python data structures like dictionaries and NumPy arrays are very powerful tools in data science. However Pandas is sometimes better suited for certain tasks. \n",
    "\n",
    "Let's take a look at one example to see why. The cell below imports a sample dataset related to earthquakes. "
   ]
  },
  {
   "cell_type": "code",
   "execution_count": null,
   "id": "c9455677",
   "metadata": {},
   "outputs": [],
   "source": [
    "# read short CSV file using numpy\n",
    "import numpy as np\n",
    "\n",
    "data = np.genfromtxt(\n",
    "    'example_data.csv', delimiter=';', \n",
    "    names=True, dtype=None, encoding='UTF'\n",
    ")\n",
    "data"
   ]
  },
  {
   "cell_type": "code",
   "execution_count": null,
   "id": "a245c118",
   "metadata": {},
   "outputs": [],
   "source": [
    "data.shape"
   ]
  },
  {
   "cell_type": "markdown",
   "id": "34b357c7",
   "metadata": {},
   "source": [
    "Each of the entries in the array is a row from the CSV file, and in each row, we see several strings, a float and an integer.  \n",
    "Suppose we want to find the maximum magnitude of the floats in the dataset. With the data stored in a 1d array like this, we would have to use we can use list comprehension to select the third index of each row and then take the maximum.  "
   ]
  },
  {
   "cell_type": "code",
   "execution_count": null,
   "id": "8c3e1707",
   "metadata": {},
   "outputs": [],
   "source": [
    "max([row[3] for row in data])"
   ]
  },
  {
   "cell_type": "markdown",
   "id": "86fc6d85",
   "metadata": {},
   "source": [
    "The step above is a bit awkward and it would be better to have the data separated in a more understandable representation. We can instead create a dictionary where the keys are the column names (time, place, magType, etc.) and the values are NumPy arrays of the data.  Maybe this is an improvement, but it is still pretty difficult to parse visually."
   ]
  },
  {
   "cell_type": "code",
   "execution_count": null,
   "id": "7b42629a",
   "metadata": {},
   "outputs": [],
   "source": [
    "array_dict = {\n",
    "    col: np.array([row[i] for row in data])\n",
    "    for i, col in enumerate(data.dtype.names)\n",
    "}\n",
    "array_dict"
   ]
  },
  {
   "cell_type": "code",
   "execution_count": null,
   "id": "b277f9d7",
   "metadata": {},
   "outputs": [],
   "source": [
    "# select the mag key fromt he dictionary and use the max() method\n",
    "array_dict['mag'].max()"
   ]
  },
  {
   "cell_type": "markdown",
   "id": "828e0dae",
   "metadata": {},
   "source": [
    "If we want to select all of the information associated with the earthquake with the maximum magnitude, we would need to find the index of the maximum and then for each of the keys in the dictionary, take that item."
   ]
  },
  {
   "cell_type": "code",
   "execution_count": null,
   "id": "89581bb1",
   "metadata": {
    "scrolled": true
   },
   "outputs": [],
   "source": [
    "[array_dict[key][array_dict['mag'].argmax()] for key in array_dict.keys()]"
   ]
  },
  {
   "cell_type": "markdown",
   "id": "99799688",
   "metadata": {},
   "source": [
    "Although it was possible to perform this task, with NumPy and base Python, it was a little clunky. Let's explore other options."
   ]
  },
  {
   "cell_type": "markdown",
   "id": "e50e4022",
   "metadata": {},
   "source": [
    "### Series\n",
    "\n",
    "The point of the above examples is that NumPy arrays and dictionaries, though perfectly valid, might not be the best way to store and access data in this form.\n",
    "\n",
    "In Pandas, the Series class is a data structure for arrays of a single type-- think of it as a single column in a spreadsheet.  Its shape will always be `(n, )` where `n` is the number of rows.  When created, it includes an **index** (see numbers 0 through 4 in left column below) which enable us to select rows.  Pandas creates a default index, but you can also define another index. \n",
    "\n",
    "We can create a series storing the location of each earthquake by using the dictionary we created."
   ]
  },
  {
   "cell_type": "code",
   "execution_count": null,
   "id": "7a421e21",
   "metadata": {},
   "outputs": [],
   "source": [
    "import pandas as pd\n",
    "\n",
    "# create a Pandas series called place\n",
    "place = pd.Series(array_dict['place'], name='place')\n",
    "place"
   ]
  },
  {
   "cell_type": "code",
   "execution_count": null,
   "id": "120d33d1",
   "metadata": {},
   "outputs": [],
   "source": [
    "# shape-- will return (rows,)\n",
    "place.shape"
   ]
  },
  {
   "cell_type": "markdown",
   "id": "47fa1228",
   "metadata": {},
   "source": [
    "### DataFrame\n",
    "\n",
    "The Pandas DataFrame class builds on the Series class, and can have many columns, each with its own data type.  You can think of this as an entire spreadsheet.\n"
   ]
  },
  {
   "cell_type": "code",
   "execution_count": null,
   "id": "66f2b63e",
   "metadata": {},
   "outputs": [],
   "source": [
    "# create a dataframe from the file we read\n",
    "df = pd.DataFrame(data)\n",
    "df"
   ]
  },
  {
   "cell_type": "markdown",
   "id": "61f2e69e",
   "metadata": {},
   "source": [
    "Notice the index on the left and the pleasing display of the information compared to the Numpy array or the dictionary above."
   ]
  },
  {
   "cell_type": "code",
   "execution_count": null,
   "id": "690cf31c",
   "metadata": {},
   "outputs": [],
   "source": [
    "# check type of data\n",
    "df.dtypes"
   ]
  },
  {
   "cell_type": "code",
   "execution_count": null,
   "id": "418e3fd5",
   "metadata": {},
   "outputs": [],
   "source": [
    "# find column names\n",
    "df.columns"
   ]
  },
  {
   "cell_type": "code",
   "execution_count": null,
   "id": "cd8f5f73",
   "metadata": {},
   "outputs": [],
   "source": [
    "# see index\n",
    "df.index"
   ]
  },
  {
   "cell_type": "code",
   "execution_count": null,
   "id": "61472820",
   "metadata": {},
   "outputs": [],
   "source": [
    "# see dimensions -- (rows, columns)\n",
    "df.shape"
   ]
  },
  {
   "cell_type": "markdown",
   "id": "9f74b3f7",
   "metadata": {},
   "source": [
    "The above attributes give us a great deal of information about our (small) data set.  We see there are 5 rows and 6 columns, and the columns have titles `'time'`, `'place'`, etc."
   ]
  },
  {
   "cell_type": "markdown",
   "id": "4c2954f1",
   "metadata": {},
   "source": [
    "### Creating Series and DataFrames "
   ]
  },
  {
   "cell_type": "markdown",
   "id": "5438eb06",
   "metadata": {},
   "source": [
    "As we saw in lecture, we can create a DataFrame from a Python Data Structure.  See the three examples below to refresh your memory."
   ]
  },
  {
   "cell_type": "code",
   "execution_count": null,
   "id": "65ec386f",
   "metadata": {},
   "outputs": [],
   "source": [
    "# data frame from dictionary\n",
    "pd.DataFrame(\n",
    "    {\n",
    "    'Name' : ['Aaron', 'Luke', 'Kai', 'Casey'],\n",
    "    'Age' : [23, 21, 22, 21],\n",
    "    'University' : ['Cal Poly Humboldt', 'Sonoma State', 'UCLA', 'UCD'],\n",
    "    }, \n",
    "   \n",
    ")"
   ]
  },
  {
   "cell_type": "code",
   "execution_count": null,
   "id": "c0b95c1d",
   "metadata": {},
   "outputs": [],
   "source": [
    "# data frame from list of tuples\n",
    "list_of_tuples = [(n, n/2, n**4) for n in range(5)]\n",
    "list_of_tuples\n",
    "pd.DataFrame(\n",
    "    list_of_tuples, \n",
    "    columns=['n', 'n/2', 'n^4']\n",
    ")"
   ]
  },
  {
   "cell_type": "code",
   "execution_count": null,
   "id": "32c1fe12",
   "metadata": {},
   "outputs": [],
   "source": [
    "# data frame from NumPy array\n",
    "pd.DataFrame(\n",
    "    np.array([\n",
    "        [0, 0, 0],\n",
    "        [1, .5, 1],\n",
    "        [2, 1, 16],\n",
    "        [3, 1.5, 81],\n",
    "        [4, 2, 256]\n",
    "    ]), columns=['n', 'n/2', 'n^4']\n",
    ")"
   ]
  },
  {
   "cell_type": "markdown",
   "id": "1097ea3c",
   "metadata": {},
   "source": [
    "**Question 1.1:** Create a Numpy array containing\n",
    "\\begin{bmatrix}\n",
    "5 & 6 \\\\\n",
    "7 & 8 \n",
    "\\end{bmatrix}\n",
    "Then create a Pandas dataframe from that array. Each column in the dataframe should be a column from the array, and the columns should be named `a` and `b`."
   ]
  },
  {
   "cell_type": "code",
   "execution_count": null,
   "id": "bbbdddfd",
   "metadata": {
    "tags": []
   },
   "outputs": [],
   "source": [
    "array1 = ...\n",
    "df_from_array1 = ...\n",
    "df_from_array1"
   ]
  },
  {
   "cell_type": "code",
   "execution_count": null,
   "id": "4de2965c",
   "metadata": {
    "deletable": false,
    "editable": false
   },
   "outputs": [],
   "source": [
    "grader.check(\"q1_1\")"
   ]
  },
  {
   "cell_type": "markdown",
   "id": "0eceb857",
   "metadata": {},
   "source": [
    "**Question 1.2:** Create a list of two tuples. The first tuple should contain `5` and `6`. The second should contain `7` and `8`. \n",
    "Then create a Pandas dataframe from the list of tuples. The columns should be named `a` and `b`."
   ]
  },
  {
   "cell_type": "code",
   "execution_count": null,
   "id": "4935107a",
   "metadata": {
    "tags": []
   },
   "outputs": [],
   "source": [
    "lst = ...\n",
    "df_from_lst = ...\n",
    "df_from_lst"
   ]
  },
  {
   "cell_type": "code",
   "execution_count": null,
   "id": "9c0cf8f3",
   "metadata": {
    "deletable": false,
    "editable": false
   },
   "outputs": [],
   "source": [
    "grader.check(\"q1_2\")"
   ]
  },
  {
   "cell_type": "markdown",
   "id": "22e684d4",
   "metadata": {},
   "source": [
    "**Question 1.3:** Create a Python dictionary to generate another dataframe equivalent to the ones from the previous two parts."
   ]
  },
  {
   "cell_type": "code",
   "execution_count": null,
   "id": "59d5cab6",
   "metadata": {
    "tags": []
   },
   "outputs": [],
   "source": [
    "dct = ...\n",
    "df_from_dct = pd.DataFrame(dct)\n",
    "df_from_dct"
   ]
  },
  {
   "cell_type": "code",
   "execution_count": null,
   "id": "a059a18e",
   "metadata": {
    "deletable": false,
    "editable": false
   },
   "outputs": [],
   "source": [
    "grader.check(\"q1_3\")"
   ]
  },
  {
   "cell_type": "markdown",
   "id": "d7288b23",
   "metadata": {},
   "source": [
    "### Working with dataframes \n",
    "We can create a data frame with a nested list with the populations of a few European capital cities.  For example, London, the capital of the UK, has a population of 8.615 million in 2015."
   ]
  },
  {
   "cell_type": "code",
   "execution_count": null,
   "id": "a77ead36",
   "metadata": {},
   "outputs": [],
   "source": [
    "df = pd.DataFrame([[909976, 'Sweden'], [8615246, 'UK'], [2872086, 'Italy'], [2273305, 'France']])\n",
    "df"
   ]
  },
  {
   "cell_type": "markdown",
   "id": "40447ecc",
   "metadata": {},
   "source": [
    "We can reindex the data frame with the names of the respective capitals, since this might be more intuitive than a numbered index."
   ]
  },
  {
   "cell_type": "code",
   "execution_count": null,
   "id": "26776f44",
   "metadata": {},
   "outputs": [],
   "source": [
    "df.index = ['Stockholm', 'London', 'Rome', 'Paris']\n",
    "df"
   ]
  },
  {
   "cell_type": "markdown",
   "id": "a865c0ec",
   "metadata": {},
   "source": [
    "We can also rename the columns so the data frame is more understandable."
   ]
  },
  {
   "cell_type": "code",
   "execution_count": null,
   "id": "a9fe0a65",
   "metadata": {},
   "outputs": [],
   "source": [
    "df.columns = ['Population', 'Country']\n",
    "df"
   ]
  },
  {
   "cell_type": "markdown",
   "id": "5a014c88",
   "metadata": {},
   "source": [
    "### Accessing Columns\n",
    "We can access a column using attribute notation or by indexing with the column name.  These are equivalent.  Note that a column of a data frame is just a Series object."
   ]
  },
  {
   "cell_type": "code",
   "execution_count": null,
   "id": "00807097",
   "metadata": {},
   "outputs": [],
   "source": [
    "# option 1, attribute notation\n",
    "df.Population"
   ]
  },
  {
   "cell_type": "code",
   "execution_count": null,
   "id": "1916355e",
   "metadata": {},
   "outputs": [],
   "source": [
    "# option 2 indexing notation\n",
    "df['Population']"
   ]
  },
  {
   "cell_type": "markdown",
   "id": "1268cbec",
   "metadata": {},
   "source": [
    "### Accessing Rows"
   ]
  },
  {
   "cell_type": "markdown",
   "id": "b16d37d5",
   "metadata": {},
   "source": [
    "We can access rows with the `loc` index attribute.  This will also result in a Series object."
   ]
  },
  {
   "cell_type": "code",
   "execution_count": null,
   "id": "34cac9ce",
   "metadata": {},
   "outputs": [],
   "source": [
    "# access the row for Stockholm\n",
    "df.loc['Stockholm']"
   ]
  },
  {
   "cell_type": "markdown",
   "id": "dc92e915",
   "metadata": {},
   "source": [
    "We can also access rows by position with the `iloc` index. "
   ]
  },
  {
   "cell_type": "code",
   "execution_count": null,
   "id": "d84fdc52",
   "metadata": {},
   "outputs": [],
   "source": [
    "# access the row for Stockholm\n",
    "df.iloc[0]"
   ]
  },
  {
   "cell_type": "markdown",
   "id": "a550eaed",
   "metadata": {},
   "source": [
    "### Subsetting with `loc`"
   ]
  },
  {
   "cell_type": "markdown",
   "id": "e6a11546",
   "metadata": {},
   "source": [
    "We can also pass a list of row labels to loc to result in a new data frame that is a subset of the rows of the original.  We can also subset on both rows and columns."
   ]
  },
  {
   "cell_type": "code",
   "execution_count": null,
   "id": "8b6f9b23",
   "metadata": {},
   "outputs": [],
   "source": [
    "# create new data frame with the rows for Paris and Rome and all columns\n",
    "df.loc[['Paris', 'Rome']]"
   ]
  },
  {
   "cell_type": "code",
   "execution_count": null,
   "id": "47c21ec7",
   "metadata": {},
   "outputs": [],
   "source": [
    "# create new data frame with rows for Paris and Rome and only the column for Population\n",
    "df.loc[['Paris', 'Rome'], 'Population']"
   ]
  },
  {
   "cell_type": "markdown",
   "id": "59156180",
   "metadata": {},
   "source": [
    "### Descriptive Statistics\n"
   ]
  },
  {
   "cell_type": "code",
   "execution_count": null,
   "id": "f05cd19d",
   "metadata": {
    "scrolled": true
   },
   "outputs": [],
   "source": [
    "df.mean() # returns mean of numerical columns only (with a warning)"
   ]
  },
  {
   "cell_type": "code",
   "execution_count": null,
   "id": "fd42330d",
   "metadata": {},
   "outputs": [],
   "source": [
    "# if you ever want to ignore warnings, use the following\n",
    "import warnings\n",
    "warnings.filterwarnings(\"ignore\")"
   ]
  },
  {
   "cell_type": "code",
   "execution_count": null,
   "id": "97febe4c",
   "metadata": {},
   "outputs": [],
   "source": [
    "df.mean() # returns mean of numerical columns only (with a warning)"
   ]
  },
  {
   "cell_type": "markdown",
   "id": "030fd221",
   "metadata": {},
   "source": [
    "We can also get summary statistics of all of our numeric data."
   ]
  },
  {
   "cell_type": "code",
   "execution_count": null,
   "id": "fe61e990",
   "metadata": {},
   "outputs": [],
   "source": [
    "df.describe()"
   ]
  },
  {
   "cell_type": "code",
   "execution_count": null,
   "id": "934849f6",
   "metadata": {},
   "outputs": [],
   "source": [
    "# if you don't like the scientific notation\n",
    "pd.options.display.float_format = '{:10,.2f}'.format\n",
    "df.describe()"
   ]
  },
  {
   "cell_type": "markdown",
   "id": "7b42ee89",
   "metadata": {},
   "source": [
    "## Basic plotting with Pandas\n",
    "\n",
    "`Series` and `DataFrame` objects have a `plot()` method that allows us to create several plots. This makes plotting our data much more convenient, as the bulk of the work to create presentable plots is achieved with a single method call. Under the hood, `pandas` is making several calls to `matplotlib` to produce plots. We will learn more about `matplotlib` next week. "
   ]
  },
  {
   "cell_type": "code",
   "execution_count": null,
   "id": "5c3b1092",
   "metadata": {},
   "outputs": [],
   "source": [
    "# bar plot\n",
    "df.plot.bar(y = 'Population'); # uses index as x-axis by default"
   ]
  },
  {
   "cell_type": "markdown",
   "id": "2cb33188",
   "metadata": {},
   "source": [
    "Note that the bar plot uses the indices as the x-axis by default. You can also use a column as your x-axis by specifying an `x=...` input inside your `.plot` all."
   ]
  },
  {
   "cell_type": "code",
   "execution_count": null,
   "id": "e1aa17e7",
   "metadata": {
    "scrolled": false
   },
   "outputs": [],
   "source": [
    "# line plot from a Series\n",
    "pd.Series(np.random.rand(20)).plot.line();"
   ]
  },
  {
   "cell_type": "code",
   "execution_count": null,
   "id": "300781fa",
   "metadata": {},
   "outputs": [],
   "source": [
    "# line plot from a DataFrame \n",
    "pd.DataFrame([(i,i**2) for i in np.arange(-10,11)],columns =['n','n^2']).plot.line(x = 'n', y = 'n^2');"
   ]
  },
  {
   "cell_type": "markdown",
   "id": "b7daeb1b",
   "metadata": {},
   "source": [
    "**Question 2.1:** Look up census data [here](https://www.census.gov/quickfacts/fact/table) to determine the population of the following cities in Humboldt County: Arcata, Eureka, McKinelyville, Fortuna. Use the population estimates according to the April 1, 2020 Census. \n",
    "Put this information into a DataFrame with 4 rows and 2 columns. The left column should contain the name of the city, and the right column contains the population size. \n",
    "\n",
    "*NOTE:* Don't worry about giving your columns or indices descriptive labels yet. Just get the data into a DataFrame."
   ]
  },
  {
   "cell_type": "code",
   "execution_count": null,
   "id": "c0617fe2",
   "metadata": {
    "tags": []
   },
   "outputs": [],
   "source": [
    "humboldt_df = ...\n",
    "humboldt_df"
   ]
  },
  {
   "cell_type": "code",
   "execution_count": null,
   "id": "098bd0a8",
   "metadata": {
    "deletable": false,
    "editable": false
   },
   "outputs": [],
   "source": [
    "grader.check(\"q2_1\")"
   ]
  },
  {
   "cell_type": "markdown",
   "id": "7700303d",
   "metadata": {},
   "source": [
    "**Question 2.2:** Rename the columns to `City` and `Population` appropriately. "
   ]
  },
  {
   "cell_type": "code",
   "execution_count": null,
   "id": "48b04519",
   "metadata": {
    "tags": []
   },
   "outputs": [],
   "source": [
    "humboldt_df.columns = ...\n",
    "humboldt_df"
   ]
  },
  {
   "cell_type": "code",
   "execution_count": null,
   "id": "9660dd51",
   "metadata": {
    "deletable": false,
    "editable": false
   },
   "outputs": [],
   "source": [
    "grader.check(\"q2_2\")"
   ]
  },
  {
   "cell_type": "markdown",
   "id": "e1adf681",
   "metadata": {},
   "source": [
    "**Question 2.3:** Make a barplot of the population by city. Make sure that your x-axis is labeled with each city name. "
   ]
  },
  {
   "cell_type": "code",
   "execution_count": null,
   "id": "1af2c7bc",
   "metadata": {
    "tags": []
   },
   "outputs": [],
   "source": [
    "ax = ..."
   ]
  },
  {
   "cell_type": "code",
   "execution_count": null,
   "id": "7a7e3ef3",
   "metadata": {
    "deletable": false,
    "editable": false
   },
   "outputs": [],
   "source": [
    "grader.check(\"q2_3\")"
   ]
  },
  {
   "cell_type": "markdown",
   "id": "3a6f3170",
   "metadata": {},
   "source": [
    "**Question 2.4:** Subset the data frame so you have just the cities associated with Northern Humboldt Union High School District (Arcata and McKinleyville). "
   ]
  },
  {
   "cell_type": "code",
   "execution_count": null,
   "id": "d695fa1c",
   "metadata": {
    "tags": []
   },
   "outputs": [],
   "source": [
    "humboldt_subset = ...\n",
    "humboldt_subset"
   ]
  },
  {
   "cell_type": "code",
   "execution_count": null,
   "id": "2ec12f71",
   "metadata": {
    "deletable": false,
    "editable": false
   },
   "outputs": [],
   "source": [
    "grader.check(\"q2_4\")"
   ]
  },
  {
   "cell_type": "markdown",
   "id": "0392c08e",
   "metadata": {},
   "source": [
    "### Task (Main Course)\n",
    "\n",
    "The Eviction Lab at Princeton University gathers and provides data on evictions in the United States.  They have constructed a nationwide database of eviction filings, demonstrating that, on average, 2.7 million households are threatened with eviction annually.  The database relied on almost 100 million court records and is available for researchers who want to examine causes and consequences of eviction lawsuits in the United States.  \n",
    "\n",
    "Having a national perspective is important in understanding how state and local level housing policies relate to eviction risk.  For example, states that require landlords to provide notice to tenants prior to filing an eviction case for nonpayment of rent seem to have lower risk of eviction.  Between 2000 and 2018, almost 7% of renting households faced an eviction lawsuit (Gromis, 2022).\n",
    "\n",
    "If you are interested in this topic, the book *Evicted: Poverty and Profit in the American City* by Matthew Desmond goes into detail.  This book was a winner of the Pulitzer Prize and was identified as one of the top ten books of 2016 by the New York Times.\n",
    "\n",
    "To begin, navigate to the Eviction Lab's [data downloads site](https://data-downloads.evictionlab.org/#estimating-eviction-prevalance-across-us/) and download the csv file *state_eviction_estimates_2000_2018.csv*.  Put the file in your working directory."
   ]
  },
  {
   "cell_type": "markdown",
   "id": "2a263a85",
   "metadata": {},
   "source": [
    "**Question 3.1:** Read your downloaded file into a Pandas DataFrame."
   ]
  },
  {
   "cell_type": "code",
   "execution_count": null,
   "id": "4c33a54c",
   "metadata": {
    "tags": []
   },
   "outputs": [],
   "source": [
    "evictions_df = ...\n",
    "evictions_df"
   ]
  },
  {
   "cell_type": "code",
   "execution_count": null,
   "id": "aa3e5741",
   "metadata": {
    "deletable": false,
    "editable": false
   },
   "outputs": [],
   "source": [
    "grader.check(\"q3_1\")"
   ]
  },
  {
   "cell_type": "markdown",
   "id": "c58b99e4",
   "metadata": {},
   "source": [
    "**Question 3.2:** How many rows and columns are in the evictions dataset?"
   ]
  },
  {
   "cell_type": "code",
   "execution_count": null,
   "id": "71d21b54",
   "metadata": {
    "tags": []
   },
   "outputs": [],
   "source": [
    "num_rows = ...\n",
    "num_cols = ...\n",
    "\n",
    "num_rows,num_cols"
   ]
  },
  {
   "cell_type": "code",
   "execution_count": null,
   "id": "7e2be35b",
   "metadata": {
    "deletable": false,
    "editable": false
   },
   "outputs": [],
   "source": [
    "grader.check(\"q3_2\")"
   ]
  },
  {
   "cell_type": "markdown",
   "id": "c570ab03",
   "metadata": {},
   "source": [
    "**Question 3.3:** Create a list containing all the column names in the dataset. "
   ]
  },
  {
   "cell_type": "code",
   "execution_count": null,
   "id": "94f71a08",
   "metadata": {
    "tags": []
   },
   "outputs": [],
   "source": [
    "eviction_columns = ...\n",
    "eviction_columns"
   ]
  },
  {
   "cell_type": "code",
   "execution_count": null,
   "id": "623c9809",
   "metadata": {
    "deletable": false,
    "editable": false
   },
   "outputs": [],
   "source": [
    "grader.check(\"q3_3\")"
   ]
  },
  {
   "cell_type": "markdown",
   "id": "0c707091",
   "metadata": {},
   "source": [
    "**Question 3.4:** Which data types are present in the dataset? Enter 1,2,3, or 4. \n",
    "\n",
    "1. all columns are type `object`\n",
    "2. all columns are type `float64`\n",
    "3. `int64` and `float64`\n",
    "4. `int64` and `float64` and `object`"
   ]
  },
  {
   "cell_type": "code",
   "execution_count": null,
   "id": "8a7d6fa2",
   "metadata": {
    "tags": []
   },
   "outputs": [],
   "source": [
    "datatypes = ..."
   ]
  },
  {
   "cell_type": "code",
   "execution_count": null,
   "id": "6dd97b69",
   "metadata": {
    "deletable": false,
    "editable": false
   },
   "outputs": [],
   "source": [
    "grader.check(\"q3_4\")"
   ]
  },
  {
   "cell_type": "markdown",
   "id": "03df807d",
   "metadata": {},
   "source": [
    "**Question 3.5:** Some of the columns will not be needed for this exercise, so subset the data frame and retain the columns `state`, `FIPS_state`, `year`, `renting_hh`, `filings_estimate`, `hh_threat_estimate` (in that order)."
   ]
  },
  {
   "cell_type": "code",
   "execution_count": null,
   "id": "0f6a2d10",
   "metadata": {
    "tags": []
   },
   "outputs": [],
   "source": [
    "evictions_subset = ...\n",
    "evictions_subset"
   ]
  },
  {
   "cell_type": "code",
   "execution_count": null,
   "id": "963e6923",
   "metadata": {
    "deletable": false,
    "editable": false
   },
   "outputs": [],
   "source": [
    "grader.check(\"q3_5\")"
   ]
  },
  {
   "cell_type": "markdown",
   "id": "9d797bdf",
   "metadata": {},
   "source": [
    "<!-- BEGIN QUESTION -->\n",
    "\n",
    "**Question 3.6:** Look at the codebook provided on the same site you got the data from, and make sure you understand what each column name you have retained means.  Write a quick summary."
   ]
  },
  {
   "cell_type": "markdown",
   "id": "f9c01c54",
   "metadata": {},
   "source": [
    "_Type your answer here, replacing this text._"
   ]
  },
  {
   "cell_type": "markdown",
   "id": "30a464b8",
   "metadata": {},
   "source": [
    "<!-- END QUESTION -->\n",
    "\n",
    "**Question 3.7:** Are there any null objects in your `evictions_subset` data? If there are, specify how many.\n",
    "\n",
    "Assign `null_vals` to a bool which is `True` if there are null objects, and `False` if there aren't.  \n",
    "Assign `num_null` to the number of null values. (Enter `0` if `null_vals` is `False`)"
   ]
  },
  {
   "cell_type": "code",
   "execution_count": null,
   "id": "bbf3bfab",
   "metadata": {
    "tags": []
   },
   "outputs": [],
   "source": [
    "null_vals = ...\n",
    "num_null = ..."
   ]
  },
  {
   "cell_type": "code",
   "execution_count": null,
   "id": "d04baaca",
   "metadata": {
    "deletable": false,
    "editable": false
   },
   "outputs": [],
   "source": [
    "grader.check(\"q3_7\")"
   ]
  },
  {
   "cell_type": "markdown",
   "id": "7ba49fdc",
   "metadata": {},
   "source": [
    "**Question 3.8:** Get the summary statistics for the entire `evictions_subset` DataFrame. If you had to remove the summary statistics for one of these columns, which one would you choose?"
   ]
  },
  {
   "cell_type": "code",
   "execution_count": null,
   "id": "53a59016",
   "metadata": {
    "tags": []
   },
   "outputs": [],
   "source": [
    "summary_stats = ...\n",
    "summary_stats"
   ]
  },
  {
   "cell_type": "code",
   "execution_count": null,
   "id": "c1252a56",
   "metadata": {
    "deletable": false,
    "editable": false
   },
   "outputs": [],
   "source": [
    "grader.check(\"q3_8\")"
   ]
  },
  {
   "cell_type": "markdown",
   "id": "42e7a469",
   "metadata": {},
   "source": [
    "**Question 3.9:** Create a data frame that retains just the rows related to California. Keep the columns `state`, `year`, `renting_hh`, `filings_estimate`, `hh_threat_estimate` only."
   ]
  },
  {
   "cell_type": "code",
   "execution_count": null,
   "id": "fc108f85",
   "metadata": {
    "tags": []
   },
   "outputs": [],
   "source": [
    "cali_df = ...\n",
    "                              ...\n",
    "cali_df"
   ]
  },
  {
   "cell_type": "code",
   "execution_count": null,
   "id": "f3dc5fda",
   "metadata": {
    "deletable": false,
    "editable": false
   },
   "outputs": [],
   "source": [
    "grader.check(\"q3_9\")"
   ]
  },
  {
   "cell_type": "markdown",
   "id": "a6f36c7c",
   "metadata": {},
   "source": [
    "**Question 3.10:** What year had the minimum number of eviction filings in California between 2000 and 2018 (inclusive)? Assign this to `min_cali_filings_year`.  \n",
    "How many filings were there that year? Assign this to `min_cali_filings_num`. \n",
    "\n",
    "Similarly, find what year had the maximum number of eviction filings in California between 2000 and 2018, and how many filings there were in that year. "
   ]
  },
  {
   "cell_type": "code",
   "execution_count": null,
   "id": "ad6ea155",
   "metadata": {
    "tags": []
   },
   "outputs": [],
   "source": [
    "min_cali_filings_year = ...\n",
    "min_cali_filings_num = ...\n",
    "max_cali_filings_year = ...\n",
    "max_cali_filings_num = ...\n",
    "min_cali_filings_year, min_cali_filings_num, max_cali_filings_year, max_cali_filings_num"
   ]
  },
  {
   "cell_type": "code",
   "execution_count": null,
   "id": "8d92793f",
   "metadata": {
    "deletable": false,
    "editable": false
   },
   "outputs": [],
   "source": [
    "grader.check(\"q3_10\")"
   ]
  },
  {
   "cell_type": "markdown",
   "id": "bb3834a9",
   "metadata": {},
   "source": [
    "<!-- BEGIN QUESTION -->\n",
    "\n",
    "**Question 3.11:** Make a line plot for the eviction filings in California (y-axis) for each year (x-axis).  \n",
    "*HINT:* Instead of `plot.bar` in the previous example, use `plot.line`. "
   ]
  },
  {
   "cell_type": "code",
   "execution_count": null,
   "id": "10dfa930",
   "metadata": {
    "tags": []
   },
   "outputs": [],
   "source": []
  },
  {
   "cell_type": "markdown",
   "id": "873ab42b",
   "metadata": {},
   "source": [
    "<!-- END QUESTION -->\n",
    "\n",
    "<!-- BEGIN QUESTION -->\n",
    "\n",
    "**Question 3.12:** What trends do you notice in the plot above?  Write a few sentences describing the number of eviction filings in California over this time period and your interpretation of the trend. For example, what economic factors might have contributed to the rising eviction filings leading up to 2010?"
   ]
  },
  {
   "cell_type": "markdown",
   "id": "fc7a5cbd",
   "metadata": {},
   "source": [
    "_Type your answer here, replacing this text._"
   ]
  },
  {
   "cell_type": "markdown",
   "id": "29b1581c",
   "metadata": {},
   "source": [
    "<!-- END QUESTION -->\n",
    "\n",
    "**Question 3.13:** California passed a Just Cause Eviction Act in October 2019.  Prior to a state-wide adoption of this policy, many cities in California had just cause eviction ordinances.  For example, East Palo Alto has had an ordinance since 2010 and San Diego has had one since 2004.  New Jersey has had a state-wide Just Cause policy since 1974 (nearly 50 years!).\n",
    "\n",
    "Create a data frame from `evictions_subset` that retains just the rows related to New Jersey.  Keep the columns `state`, `year`, `renting_hh`, `filings_estimate`, `hh_threat_estimate` only."
   ]
  },
  {
   "cell_type": "code",
   "execution_count": null,
   "id": "e6c74bcb",
   "metadata": {
    "tags": []
   },
   "outputs": [],
   "source": [
    "nj_df = ...\n",
    "nj_df"
   ]
  },
  {
   "cell_type": "code",
   "execution_count": null,
   "id": "0ad93ff1",
   "metadata": {
    "deletable": false,
    "editable": false
   },
   "outputs": [],
   "source": [
    "grader.check(\"q3_13\")"
   ]
  },
  {
   "cell_type": "markdown",
   "id": "3677b057",
   "metadata": {},
   "source": [
    "**Question 3.14:** What year had the minimum number of eviction filings in New Jersey between 2000 and 2018 (inclusive)? Assign this to `min_nj_filings_year`.  \n",
    "How many filings were there that year? Assign this to `min_nj_filings_num`. \n",
    "\n",
    "Similarly, find what year had the maximum number of eviction filings in New Jersey between 2000 and 2018, and how many filings there were in that year. "
   ]
  },
  {
   "cell_type": "code",
   "execution_count": null,
   "id": "aea82f41",
   "metadata": {
    "tags": []
   },
   "outputs": [],
   "source": [
    "min_nj_filings_year = ...\n",
    "min_nj_filings_num = ...\n",
    "max_nj_filings_year = ...\n",
    "max_nj_filings_num = ...\n",
    "min_nj_filings_year, min_nj_filings_num, max_nj_filings_year, max_nj_filings_num"
   ]
  },
  {
   "cell_type": "code",
   "execution_count": null,
   "id": "8a07490f",
   "metadata": {
    "deletable": false,
    "editable": false
   },
   "outputs": [],
   "source": [
    "grader.check(\"q3_14\")"
   ]
  },
  {
   "cell_type": "markdown",
   "id": "e6b2cf1f",
   "metadata": {},
   "source": [
    "<!-- BEGIN QUESTION -->\n",
    "\n",
    "**Question 3.15:** Make a line plot for the eviction filings in New Jersey (y-axis) for each year (x-axis).  "
   ]
  },
  {
   "cell_type": "code",
   "execution_count": null,
   "id": "5b60d2f5",
   "metadata": {
    "tags": []
   },
   "outputs": [],
   "source": []
  },
  {
   "cell_type": "markdown",
   "id": "bd2c182a",
   "metadata": {},
   "source": [
    "<!-- END QUESTION -->\n",
    "\n",
    "<!-- BEGIN QUESTION -->\n",
    "\n",
    "**Question 3.16:** Write a few sentences describing the number of eviction filings in New Jersey over this time period.  Does the graph for New Jersey have a similar rise and peak as the graph for California?  (Note: comparing the numbers of eviction filings between the two states doesn't account for their different population sizes, but looking at the trends in the graph helps us understand what was similar and what was different over this time period."
   ]
  },
  {
   "cell_type": "markdown",
   "id": "da612870",
   "metadata": {},
   "source": [
    "_Type your answer here, replacing this text._"
   ]
  },
  {
   "cell_type": "markdown",
   "id": "86209955",
   "metadata": {},
   "source": [
    "<!-- END QUESTION -->\n",
    "\n",
    "<!-- BEGIN QUESTION -->\n",
    "\n",
    "**Question 3.17:** There has been some criticism about how the Eviction Lab obtained some of its data.  For example, they purchased California eviction data from American Information Research Services, which offers tenant screening as a service.  Some critics (e.g., Anti-Eviction Mapping Project, Tenants Together) suggest this purchased data vastly undercounts the number of evictions that have been filed. For example, informal evictions (when landlords induce renters to leave through monetary incentives or illegal lockouts) are not accounted for in this data set. Discuss the implications of this undercounting in terms of analysis and policy.  (A few sentences is sufficient.)"
   ]
  },
  {
   "cell_type": "markdown",
   "id": "045c226c",
   "metadata": {},
   "source": [
    "_Type your answer here, replacing this text._"
   ]
  },
  {
   "cell_type": "markdown",
   "id": "8012de9d",
   "metadata": {},
   "source": [
    "<!-- END QUESTION -->\n",
    "\n",
    "## Task (Optional Dessert)\n",
    "\n",
    "Go to [Kaggle](https://www.kaggle.com/search) and find a dataset that you're interested in. Use Pandas to do an initial exploration of the data. Practice plotting with Pandas and play around with way to manipulate Pandas plots. e.g. explore\n",
    "\n",
    "- `subplots`\n",
    "- `figsize`\n",
    "- `legend`\n",
    "- `color`\n",
    "- `colormap`\n",
    "- etc."
   ]
  },
  {
   "cell_type": "markdown",
   "id": "4b009ffb",
   "metadata": {},
   "source": [
    "# You're done!\n",
    "\n",
    "Congrats on finishing Lab 5! Gus is jumping for joy! Run the cell below to download the zip and submit to Canvas. \n",
    "\n",
    "<img src=\"gus_gets_yelled_at.JPG\" alt=\"drawing\" width=\"300\"/>\n",
    "\n",
    "### References\n",
    "- Hands on Data Analysis with Pandas by Stefanie Molin\n",
    "- Gromis, Ashley, Ian Fellows, James R. Hendrickson, Lavar Edmonds, Lillian Leung, Adam Porton, and Matthew Desmond. Estimating Eviction Prevalence across the United States. Princeton University Eviction Lab. https://data-downloads.evictionlab.org/#estimating-eviction-prevalance-across-us/. Deposited May 13, 2022.\n",
    "- Evicted: Poverty and Profit in the American City by Matthew Desmond.\n",
    "- Cuellar, Julieta. \"Effect of “just cause” eviction ordinances on eviction in four California cities.\" Journal of Public & International Affairs 30 (2019).  https://jpia.princeton.edu/news/effect-just-cause-eviction-ordinances-eviction-four-california-cities\n",
    "- California Tenant Protection Act of 2019 (AB1482): https://leginfo.legislature.ca.gov/faces/billTextClient.xhtml?bill_id=201920200AB1482"
   ]
  },
  {
   "cell_type": "markdown",
   "id": "0607c0f5",
   "metadata": {
    "deletable": false,
    "editable": false
   },
   "source": [
    "## Submission\n",
    "\n",
    "Make sure you have run all cells in your notebook in order before running the cell below, so that all images/graphs appear in the output. The cell below will generate a zip file for you to submit. **Please save before exporting!**"
   ]
  },
  {
   "cell_type": "code",
   "execution_count": null,
   "id": "c164463f",
   "metadata": {
    "deletable": false,
    "editable": false
   },
   "outputs": [],
   "source": [
    "# Save your notebook first, then run this cell to export your submission.\n",
    "grader.export(pdf=False, run_tests=True)"
   ]
  },
  {
   "cell_type": "markdown",
   "id": "934a570b",
   "metadata": {},
   "source": [
    " "
   ]
  }
 ],
 "metadata": {
  "kernelspec": {
   "display_name": "Python 3 (ipykernel)",
   "language": "python",
   "name": "python3"
  },
  "language_info": {
   "codemirror_mode": {
    "name": "ipython",
    "version": 3
   },
   "file_extension": ".py",
   "mimetype": "text/x-python",
   "name": "python",
   "nbconvert_exporter": "python",
   "pygments_lexer": "ipython3",
   "version": "3.11.4"
  },
  "otter": {
   "OK_FORMAT": true,
   "tests": {
    "q1_1": {
     "name": "q1_1",
     "points": null,
     "suites": [
      {
       "cases": [
        {
         "code": ">>> df_from_array1.columns\nIndex(['a', 'b'], dtype='object')",
         "hidden": false,
         "locked": false
        },
        {
         "code": ">>> df_from_array1['a'][0]\n5",
         "hidden": false,
         "locked": false
        },
        {
         "code": ">>> df_from_array1['b'][0]\n6",
         "hidden": false,
         "locked": false
        }
       ],
       "scored": true,
       "setup": "",
       "teardown": "",
       "type": "doctest"
      }
     ]
    },
    "q1_2": {
     "name": "q1_2",
     "points": null,
     "suites": [
      {
       "cases": [
        {
         "code": ">>> df_from_lst.columns\nIndex(['a', 'b'], dtype='object')",
         "hidden": false,
         "locked": false
        },
        {
         "code": ">>> df_from_lst['a'][0]\n5",
         "hidden": false,
         "locked": false
        },
        {
         "code": ">>> df_from_lst['b'][0]\n6",
         "hidden": false,
         "locked": false
        }
       ],
       "scored": true,
       "setup": "",
       "teardown": "",
       "type": "doctest"
      }
     ]
    },
    "q1_3": {
     "name": "q1_3",
     "points": null,
     "suites": [
      {
       "cases": [
        {
         "code": ">>> df_from_dct.columns\nIndex(['a', 'b'], dtype='object')",
         "hidden": false,
         "locked": false
        },
        {
         "code": ">>> df_from_dct['a'][0]\n5",
         "hidden": false,
         "locked": false
        },
        {
         "code": ">>> df_from_dct['b'][0]\n6",
         "hidden": false,
         "locked": false
        }
       ],
       "scored": true,
       "setup": "",
       "teardown": "",
       "type": "doctest"
      }
     ]
    },
    "q2_1": {
     "name": "q2_1",
     "points": null,
     "suites": [
      {
       "cases": [
        {
         "code": ">>> all([i in [12516, 16262, 18857, 26512] for i in humboldt_df.values[:,1]])\nTrue",
         "hidden": false,
         "locked": false
        },
        {
         "code": ">>> all([i in ['Arcata','Eureka','Fortuna','McKinleyville'] for i in humboldt_df.values[:,0]])\nTrue",
         "hidden": false,
         "locked": false
        }
       ],
       "scored": true,
       "setup": "",
       "teardown": "",
       "type": "doctest"
      }
     ]
    },
    "q2_2": {
     "name": "q2_2",
     "points": null,
     "suites": [
      {
       "cases": [
        {
         "code": ">>> list(humboldt_df.columns)\n['City', 'Population']",
         "hidden": false,
         "locked": false
        }
       ],
       "scored": true,
       "setup": "",
       "teardown": "",
       "type": "doctest"
      }
     ]
    },
    "q2_3": {
     "name": "q2_3",
     "points": null,
     "suites": [
      {
       "cases": [
        {
         "code": ">>> ax.get_xlabel()\n'City'",
         "hidden": false,
         "locked": false
        }
       ],
       "scored": true,
       "setup": "",
       "teardown": "",
       "type": "doctest"
      }
     ]
    },
    "q2_4": {
     "name": "q2_4",
     "points": null,
     "suites": [
      {
       "cases": [
        {
         "code": ">>> humboldt_subset.shape\n(2, 2)",
         "hidden": false,
         "locked": false
        },
        {
         "code": ">>> all([i in ['Arcata','McKinleyville'] for i in humboldt_subset.values[:,0]])\nTrue",
         "hidden": false,
         "locked": false
        }
       ],
       "scored": true,
       "setup": "",
       "teardown": "",
       "type": "doctest"
      }
     ]
    },
    "q3_1": {
     "name": "q3_1",
     "points": null,
     "suites": [
      {
       "cases": [
        {
         "code": ">>> not evictions_df.empty\nTrue",
         "hidden": false,
         "locked": false
        }
       ],
       "scored": true,
       "setup": "",
       "teardown": "",
       "type": "doctest"
      }
     ]
    },
    "q3_10": {
     "name": "q3_10",
     "points": null,
     "suites": [
      {
       "cases": [
        {
         "code": ">>> min_cali_filings_year\n2018",
         "hidden": false,
         "locked": false
        },
        {
         "code": ">>> min_cali_filings_num\n132901",
         "hidden": false,
         "locked": false
        },
        {
         "code": ">>> max_cali_filings_year\n2010",
         "hidden": false,
         "locked": false
        },
        {
         "code": ">>> max_cali_filings_num\n221841",
         "hidden": false,
         "locked": false
        }
       ],
       "scored": true,
       "setup": "",
       "teardown": "",
       "type": "doctest"
      }
     ]
    },
    "q3_13": {
     "name": "q3_13",
     "points": null,
     "suites": [
      {
       "cases": [
        {
         "code": ">>> nj_df.shape\n(19, 5)",
         "hidden": false,
         "locked": false
        },
        {
         "code": ">>> (nj_df.state == 'New Jersey').all()\nTrue",
         "hidden": false,
         "locked": false
        }
       ],
       "scored": true,
       "setup": "",
       "teardown": "",
       "type": "doctest"
      }
     ]
    },
    "q3_14": {
     "name": "q3_14",
     "points": null,
     "suites": [
      {
       "cases": [
        {
         "code": ">>> min_nj_filings_year\n2000",
         "hidden": false,
         "locked": false
        },
        {
         "code": ">>> min_nj_filings_num\n88880",
         "hidden": false,
         "locked": false
        },
        {
         "code": ">>> max_nj_filings_year\n2011",
         "hidden": false,
         "locked": false
        },
        {
         "code": ">>> max_nj_filings_num\n185514",
         "hidden": false,
         "locked": false
        }
       ],
       "scored": true,
       "setup": "",
       "teardown": "",
       "type": "doctest"
      }
     ]
    },
    "q3_2": {
     "name": "q3_2",
     "points": null,
     "suites": [
      {
       "cases": [
        {
         "code": ">>> num_rows\n969",
         "hidden": false,
         "locked": false
        },
        {
         "code": ">>> num_cols\n12",
         "hidden": false,
         "locked": false
        }
       ],
       "scored": true,
       "setup": "",
       "teardown": "",
       "type": "doctest"
      }
     ]
    },
    "q3_3": {
     "name": "q3_3",
     "points": null,
     "suites": [
      {
       "cases": [
        {
         "code": ">>> eviction_columns ==  ['state', 'FIPS_state', \n...                      'year', 'renting_hh', \n...                      'filings_estimate', 'filings_ci_95_lower', \n...                      'filings_ci_95_upper', 'ind_filings_court_issued', \n...                      'ind_filings_court_issued_LT', 'hh_threat_estimate', \n...                      'hh_threat_95_lower', 'hh_threat_95_upper']\nTrue",
         "hidden": false,
         "locked": false
        }
       ],
       "scored": true,
       "setup": "",
       "teardown": "",
       "type": "doctest"
      }
     ]
    },
    "q3_4": {
     "name": "q3_4",
     "points": null,
     "suites": [
      {
       "cases": [
        {
         "code": ">>> datatypes\n4",
         "hidden": false,
         "locked": false
        }
       ],
       "scored": true,
       "setup": "",
       "teardown": "",
       "type": "doctest"
      }
     ]
    },
    "q3_5": {
     "name": "q3_5",
     "points": null,
     "suites": [
      {
       "cases": [
        {
         "code": ">>> evictions_subset.shape\n(969, 6)",
         "hidden": false,
         "locked": false
        },
        {
         "code": ">>> all(evictions_subset.columns == ['state', 'FIPS_state', 'year', 'renting_hh', 'filings_estimate', 'hh_threat_estimate'])\nTrue",
         "hidden": false,
         "locked": false
        }
       ],
       "scored": true,
       "setup": "",
       "teardown": "",
       "type": "doctest"
      }
     ]
    },
    "q3_7": {
     "name": "q3_7",
     "points": null,
     "suites": [
      {
       "cases": [
        {
         "code": ">>> null_vals\nFalse",
         "hidden": false,
         "locked": false
        },
        {
         "code": ">>> num_null\n0",
         "hidden": false,
         "locked": false
        }
       ],
       "scored": true,
       "setup": "",
       "teardown": "",
       "type": "doctest"
      }
     ]
    },
    "q3_8": {
     "name": "q3_8",
     "points": null,
     "suites": [
      {
       "cases": [
        {
         "code": ">>> summary_stats['FIPS_state']\ncount       969.00\nmean         28.96\nstd          15.68\nmin           1.00\n25%          16.00\n50%          29.00\n75%          42.00\nmax          56.00\nName: FIPS_state, dtype: float64",
         "hidden": false,
         "locked": false
        },
        {
         "code": ">>> summary_stats['hh_threat_estimate']\ncount       969.00\nmean     53,116.66\nstd      66,573.90\nmin         457.00\n25%       8,194.00\n50%      22,767.00\n75%      78,743.00\nmax     328,473.00\nName: hh_threat_estimate, dtype: float64",
         "hidden": false,
         "locked": false
        }
       ],
       "scored": true,
       "setup": "",
       "teardown": "",
       "type": "doctest"
      }
     ]
    },
    "q3_9": {
     "name": "q3_9",
     "points": null,
     "suites": [
      {
       "cases": [
        {
         "code": ">>> cali_df.shape\n(19, 5)",
         "hidden": false,
         "locked": false
        },
        {
         "code": ">>> (cali_df.state =='California').all()\nTrue",
         "hidden": false,
         "locked": false
        }
       ],
       "scored": true,
       "setup": "",
       "teardown": "",
       "type": "doctest"
      }
     ]
    }
   }
  }
 },
 "nbformat": 4,
 "nbformat_minor": 5
}
