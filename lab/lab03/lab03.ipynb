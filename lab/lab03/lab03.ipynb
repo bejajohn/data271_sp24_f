{
 "cells": [
  {
   "cell_type": "code",
   "execution_count": null,
   "id": "14ae944f",
   "metadata": {
    "deletable": false,
    "editable": false
   },
   "outputs": [],
   "source": [
    "# Initialize Otter\n",
    "import otter\n",
    "grader = otter.Notebook(\"lab03.ipynb\")"
   ]
  },
  {
   "cell_type": "markdown",
   "id": "dfbdb3c5",
   "metadata": {},
   "source": [
    "# Lab 3: Regular Expression with Python"
   ]
  },
  {
   "cell_type": "markdown",
   "id": "3edf0c1a",
   "metadata": {},
   "source": [
    "Welcome to Lab 3 of DATA 271! \n",
    "\n",
    "This document contains examples and small tasks (\"appetizers\") for you to make sure you understand the examples.  The culminating task (\"main course\") at the end of the document is more complex, and uses most of the topics you have will have worked through. You should rarely remain stuck for more than a few minutes on questions in labs, so feel free to ask for help. Collaborating on labs is more than okay -- it's encouraged! Explaining things is beneficial -- the best way to solidify your knowledge of a subject is to explain it. Please don't just share answers, though. \n",
    "\n",
    "For this lab and all future ones, please be sure to not re-assign variables throughout the notebook! For example, if you use `my_list` in your answer to one question, do not reassign it later on. Otherwise, you will fail tests that you passed previously!"
   ]
  },
  {
   "cell_type": "markdown",
   "id": "c1a43dea",
   "metadata": {},
   "source": [
    "### In today's lab, we will\n",
    "- Learn basic syntax for regular expression in Python and be able to write simple regular expressions using common operations in pattern matching.\n",
    "- Understand the flexibility regular expression affords in searching and articulate at least one real world example where this is useful\n",
    "- Become familiar with Python's `re` module and some of its functions such as `findall()`, `search()`, and `sub()`.\n",
    "- Become more familiar with using online resources such as documentation, \"cheat sheets\" and Stack Exchange to independently learn more about a technical topic."
   ]
  },
  {
   "cell_type": "markdown",
   "id": "e2fc02f6",
   "metadata": {},
   "source": [
    "## Overview\n",
    "\n",
    "Regular expression (shortened as regex or regexp) can be used for pattern matching in a text editor.  For example, when you use the \"find and replace\" feature in Microsoft Word, you are asking the computer to find specific strings which match a pattern and replace them with another string. We might desire a more flexible way to search and replace. For example, we might wish to locate and replace a word spelled two different ways in a text: serialise and serialize (British and American spelling). The regular expression `seriali[sz]e` matches both \"serialise\" and \"serialize\". Wildcard characters also achieve this, but are more limited in what they can pattern.\n",
    "\n",
    "Other examples where this flexibilty is useful might be searching for and extracting email addresses from a file.  We know there will be an at sign (@), but don't know what the constraints are in front of it in terms of word length or characters used. It is possible to read through texts and look for patterns using string methods like `split()` and `find()`. However, searching and extracting is so common that there is a powerful library for these tasks (`re`).\n",
    "\n",
    "The `re` module provides a set of powerful regular expression facilities, which allows you to quickly check whether a given string matches a given pattern (using the match function), or contains such a pattern (using the search function). A regular expression is a string pattern written in a compact (and quite cryptic) syntax.  \n",
    "\n",
    "The module functions fall into three categories:\n",
    "- pattern matching\n",
    "- substitution\n",
    "- splitting\n",
    "\n",
    "The regex describes a pattern to locate in the text, and then we can use specific methods to accomplish tasks.  You can then ask questions such as “Does this string match the pattern?”, or “Is there a match for the pattern anywhere in this string?” You can also use regular expression to modify a string or to split it apart in various ways.\n",
    "\n",
    "The documentation provides more details: https://docs.python.org/3/library/re.html."
   ]
  },
  {
   "cell_type": "markdown",
   "id": "cbc21f0c",
   "metadata": {},
   "source": [
    "### Pattern matching\n"
   ]
  },
  {
   "cell_type": "code",
   "execution_count": null,
   "id": "dd60b21d",
   "metadata": {},
   "outputs": [],
   "source": [
    "import re # Imports the re module\n",
    "\n",
    "#Check if the string starts with \"The\" and ends with \"Spain\":\n",
    "\n",
    "txt = \"The rain in Spain\"\n",
    "x = re.search(\"^The.*Spain$\", txt)\n",
    "\n",
    "if x:\n",
    "  print(\"YES! We have a match!\")\n",
    "else:\n",
    "  print(\"No match\")"
   ]
  },
  {
   "cell_type": "code",
   "execution_count": null,
   "id": "a67d8ceb",
   "metadata": {},
   "outputs": [],
   "source": [
    "#Check if the string starts with \"The\" and ends with \"Spain\":\n",
    "txt = \"The Running of the Bulls occurs in Pamplona, Spain\"\n",
    "x = re.search(\"^The.*Spain$\", txt)\n",
    "\n",
    "if x:\n",
    "  print(\"YES! We have a match!\")\n",
    "else:\n",
    "  print(\"No match\")"
   ]
  },
  {
   "cell_type": "code",
   "execution_count": null,
   "id": "9be2a7b0",
   "metadata": {},
   "outputs": [],
   "source": [
    "#Check if the string starts with \"The\" and ends with \"Spain\":\n",
    "\n",
    "txt = \"The Louvre is in Paris, France\"\n",
    "x = re.search(\"^The.*Spain$\", txt)\n",
    "\n",
    "if x:\n",
    "  print(\"YES! We have a match!\")\n",
    "else:\n",
    "  print(\"No match\")"
   ]
  },
  {
   "cell_type": "markdown",
   "id": "781c5c41",
   "metadata": {},
   "source": [
    "### Print Matches\n",
    "You can print any matches found with the following."
   ]
  },
  {
   "cell_type": "code",
   "execution_count": null,
   "id": "7e1e0822",
   "metadata": {},
   "outputs": [],
   "source": [
    "txt = \"The rain in Spain\"\n",
    "x = re.findall(\"ai\", txt)\n",
    "print(x)\n",
    "len(x) # how many matches are found"
   ]
  },
  {
   "cell_type": "code",
   "execution_count": null,
   "id": "e5ff1539",
   "metadata": {},
   "outputs": [],
   "source": [
    "# returns an empty list if no matches are found\n",
    "txt = \"The rain in Spain\"\n",
    "x = re.findall(\"Portugal\", txt)\n",
    "print(x)"
   ]
  },
  {
   "cell_type": "markdown",
   "id": "39b989a7",
   "metadata": {},
   "source": [
    "### Search\n",
    "The `search()` function searches the string for a match and returns a match object if there is a match.  If there is more than one match, only the first occurence will be returned.  If there are no matches `None` is returned.  The match object returned has properties and methods which can provide more information about the search such as\n",
    "- `span()` which returns a tuple containing the start and end positions of the match\n",
    "- `group()` returns the part of the string where there was a match"
   ]
  },
  {
   "cell_type": "code",
   "execution_count": null,
   "id": "2cb65f11",
   "metadata": {},
   "outputs": [],
   "source": [
    "txt = \"The rain in Spain\"\n",
    "# search for first white space character \\s\n",
    "x = re.search(\"\\s\", txt)\n",
    "\n",
    "print(\"The first white-space character is located in position:\", x.start())"
   ]
  },
  {
   "cell_type": "code",
   "execution_count": null,
   "id": "d8491344",
   "metadata": {},
   "outputs": [],
   "source": [
    "x = re.search(\"Portugal\", txt)\n",
    "print(x)"
   ]
  },
  {
   "cell_type": "code",
   "execution_count": null,
   "id": "b23e15e7",
   "metadata": {},
   "outputs": [],
   "source": [
    "x = re.search(\"ai\", txt)\n",
    "print(x) #this will print an object"
   ]
  },
  {
   "cell_type": "code",
   "execution_count": null,
   "id": "e09d0151",
   "metadata": {},
   "outputs": [],
   "source": [
    "x = re.search(r\"\\bS\\w+\", txt)\n",
    "print(x)\n",
    "# span returns the start and end position of the first match occurrence.\n",
    "print(x.span())"
   ]
  },
  {
   "cell_type": "code",
   "execution_count": null,
   "id": "360fe6a1",
   "metadata": {},
   "outputs": [],
   "source": [
    "# look for upper case S\n",
    "x = re.search(r\"\\bS\\w+\", txt)\n",
    "# print the part of the string where there was a match\n",
    "print(x.group())"
   ]
  },
  {
   "cell_type": "markdown",
   "id": "07829fcb",
   "metadata": {},
   "source": [
    "### Split\n",
    "The `split()` function returns a list where the string has been split on each match.  Notice this can also be accomplished with the string method `split()`."
   ]
  },
  {
   "cell_type": "code",
   "execution_count": null,
   "id": "0998ceed",
   "metadata": {},
   "outputs": [],
   "source": [
    "# split on white space\n",
    "x = re.split(\"\\s\", txt)\n",
    "print(x)"
   ]
  },
  {
   "cell_type": "code",
   "execution_count": null,
   "id": "3db446cf",
   "metadata": {},
   "outputs": [],
   "source": [
    "txt = \"The rain in Spain\"\n",
    "x = txt.split()\n",
    "print(x)"
   ]
  },
  {
   "cell_type": "markdown",
   "id": "e23c0556",
   "metadata": {},
   "source": [
    "### Substitution\n",
    "The `sub()` function replaces the matches found with a string you indicate.  You can control how many replacements are done with the optional count parameter."
   ]
  },
  {
   "cell_type": "code",
   "execution_count": null,
   "id": "2ff4e7b1",
   "metadata": {},
   "outputs": [],
   "source": [
    "# replace spaces with the number nine as a string\n",
    "x = re.sub(\"\\s\", \"9\", txt)\n",
    "print(x)"
   ]
  },
  {
   "cell_type": "code",
   "execution_count": null,
   "id": "1833ba78",
   "metadata": {},
   "outputs": [],
   "source": [
    "x = re.sub(\"\\s\", \"9\", txt, 2)\n",
    "print(x)"
   ]
  },
  {
   "cell_type": "markdown",
   "id": "8e16f1b9",
   "metadata": {},
   "source": [
    "### Example application: Bioinformatics\n",
    "The flexibility of regular expression is particularly useful in bioinformatics.  A codon is a DNA or RNA sequence of 3 nucleotides that encodes a particular amino acid or gives a stop signal.  For DNA, there are three stop codons: TAG, TAA, and TGA.  If we want to match any sequence of DNA terminated by a stop codon, we can use this syntax:\n",
    "`([ACTG])+(TAG|TAA|TGA)`.\n",
    "- `[ACTG]` indicates any of the nucleotide bases (A, C, T, G) \n",
    "- the parentheses group patterns\n",
    "- `+` modifies the previous group to match one or more times\n",
    "- `(TAG|TAA|TGA)` indicates followed by one of the stop codons (the | notation signifies or)\n",
    "\n",
    "Curly brackets allow flexibility in terms of how many repetitions we are searching for.  For example, `(AT){10,100}` matches an \"AT\" repeated 10 to 100 times.  `(AT){10,}` matches an \"AT\" repeated 10 or more times (no upper bound).\n",
    "\n",
    "The GATA protein is a transcription factor and is important for regulating transcription (the process where cells make an RNA copy of a piece of DNA which will later be used to make proteins). It binds to any short DNA sequence which matches the pattern GATA with either an A or a T before and either a G or an A after.  For example, in this sequence \n",
    "- `AAAAAAATGATAGAAAAAGATAAAAAA`\n",
    "there are two matches (find the substring GATA, and then check that before you see an A or a T and after you see a G or an A).\n",
    "\n",
    "Given a specific string, we can use regular expression to find out how many times this motif occurs."
   ]
  },
  {
   "cell_type": "code",
   "execution_count": null,
   "id": "3bfbd007",
   "metadata": {},
   "outputs": [],
   "source": [
    "seq = 'AAAAAAATGATAGAAAAAGATAAAAAA'\n",
    "\n",
    "matches = re.findall('[AT]GATA[GA]',seq)\n",
    "print(matches)\n",
    "count_motifs = len(matches)\n",
    "print(count_motifs)"
   ]
  },
  {
   "cell_type": "markdown",
   "id": "85c24c23",
   "metadata": {},
   "source": [
    "## Appetizers\n",
    "Now it's time for you to get some practice."
   ]
  },
  {
   "cell_type": "markdown",
   "id": "95bba6e5",
   "metadata": {},
   "source": [
    "**Question 1:** We have seen now different syntaxes to flexibly control what we want to match or replace.  Google \"regular expression in Python cheat sheet\" and download one of your choosing. Or use [this one](https://canvas.humboldt.edu/courses/71553/files/5254145?wrap=1). Take a moment to read through it.\n",
    "Choose four different syntaxes on the cheat sheet and write a small example with a string of your choosing like \"The rain in Spain\" to test them.  \n",
    "Specifically experiment with\n",
    "- `[]` vs `()`\n",
    "- `+` vs `*`\n",
    "- `{}`\n",
    "- character classes like `\\d`, `\\w`, etc.\n",
    "\n",
    "If you can't think of things to try, try going to Stack Overflow and find a question related to regular expression in Python. Read the answer and test it out with code. (If the first one you find doesn't make sense, look for another.)  Did you learn anything about syntax from the example you found? Explain the problem and solution to a peer."
   ]
  },
  {
   "cell_type": "code",
   "execution_count": null,
   "id": "6b47032f",
   "metadata": {
    "tags": []
   },
   "outputs": [],
   "source": [
    "any_string = ...\n",
    "some_practice = ...\n",
    "some_practice"
   ]
  },
  {
   "cell_type": "code",
   "execution_count": null,
   "id": "a9d9abbe",
   "metadata": {
    "tags": []
   },
   "outputs": [],
   "source": [
    "any_string = ...\n",
    "some_practice = ...\n",
    "some_practice"
   ]
  },
  {
   "cell_type": "code",
   "execution_count": null,
   "id": "08a3a0f1",
   "metadata": {
    "tags": []
   },
   "outputs": [],
   "source": [
    "any_string = ...\n",
    "some_practice = ...\n",
    "some_practice"
   ]
  },
  {
   "cell_type": "code",
   "execution_count": null,
   "id": "39faa43b",
   "metadata": {
    "tags": []
   },
   "outputs": [],
   "source": [
    "any_string = ...\n",
    "some_practice = ...\n",
    "some_practice"
   ]
  },
  {
   "cell_type": "markdown",
   "id": "7dd6caaa",
   "metadata": {},
   "source": [
    "**Question 2.1:** We will use the text file *emails.txt* for this exercise. If you are working from your local device, this file needs to be in the same directory as your Jupyter notebook. If you are using JupyterHub, this is already done for you. \n",
    "\n",
    "Here is a snippet of the file:<br />\n",
    "*From bkirschn@umich.edu Fri Dec 21 09:55:06 2007<br />\n",
    "Return-Path: <postmaster@collab.sakaiproject.org><br />\n",
    "Received: from murder (mail.umich.edu [141.211.14.25])<br />\n",
    "\t by frankenstein.mail.umich.edu (Cyrus v2.3.8) with LMTPA;<br />\n",
    "\t Fri, 21 Dec 2007 09:55:06 -0500<br />\n",
    "X-Sieve: CMU Sieve 2.3<br />\n",
    "Received: from murder ([unix socket])<br />\n",
    "\t by mail.umich.edu (Cyrus v2.2.12) with LMTPA;<br />\n",
    "\t Fri, 21 Dec 2007 09:55:06 -0500<br />\n",
    "Received: from dreamcatcher.mr.itd.umich.edu (dreamcatcher.mr.itd.umich.edu [141.211.14.43])<br />\n",
    "\tby panther.mail.umich.edu () with ESMTP id lBLEt6x8006098;<br />\n",
    "\tFri, 21 Dec 2007 09:55:06 -0500<br />\n",
    "Received: FROM paploo.uhi.ac.uk (app1.prod.collab.uhi.ac.uk [194.35.219.184])<br />\n",
    "\tBY dreamcatcher.mr.itd.umich.edu ID 476BD3C4.BFDC1.28307 ; <br />\n",
    "\t21 Dec 2007 09:55:03 -0500<br />\n",
    "Received: from paploo.uhi.ac.uk (localhost [127.0.0.1])<br />\n",
    "\tby paploo.uhi.ac.uk (Postfix) with ESMTP id A4CC6A7DD7;<br />\n",
    "\tFri, 21 Dec 2007 14:51:39 +0000 (GMT)<br />\n",
    "Message-ID: <200712211454.lBLEs7d9009944@nakamura.uits.iupui.edu><br />\n",
    "Mime-Version: 1.0<br />\n",
    "Content-Transfer-Encoding: 7bit*<br />\n",
    "\n",
    "\n",
    "Create a list `from_lines` containing the lines in the .txt file which contain the word `\"From\"` Be sure that the lines that end up in your list do not include any trailing characters (like spaces or newlines).\n",
    "\n",
    "*HINTS:* You can iterate though `hand` (i.e. `for line in hand` is valid). `rstrip()` method removes any trailing characters (characters at the end a string) with space as the default character to remove.\n",
    "\n",
    "*NOTE:* Feel free to solve this with list comprehension if you prefer that."
   ]
  },
  {
   "cell_type": "code",
   "execution_count": null,
   "id": "b5c1c950",
   "metadata": {
    "tags": []
   },
   "outputs": [],
   "source": [
    "hand = open('emails.txt')\n",
    "from_lines = []\n",
    "for ... in ...: \n",
    "    clean_line = ... # remove trailing characters\n",
    "    if ...: # search for the word \"From\"\n",
    "        ... # add the line to list\n",
    "hand.close  \n",
    "from_lines\n"
   ]
  },
  {
   "cell_type": "code",
   "execution_count": null,
   "id": "1be6f999",
   "metadata": {
    "deletable": false,
    "editable": false
   },
   "outputs": [],
   "source": [
    "grader.check(\"q2_1\")"
   ]
  },
  {
   "cell_type": "markdown",
   "id": "d0f46e6b",
   "metadata": {},
   "source": [
    "**Question 2.2:** The real power of regular expression comes from adding special characters to the search string to more precisely control which lines match the string.  For example, what if there were some lines in the file that contained the word \"From\" but were not specifically a line indicating who sent the email? How could we adjust our regular expression if we just want the lines that contain \"From\" and a sender. \n",
    "\n",
    "*HINTs:* What should the line start with? What symbol is always present in email addresses? How do we handle the fact that the number of characters in email addresses vary?  For example, Humboldt's Math Department email is math@humboldt.edu and the Biology Deparment's email is biosci@humboldt.edu. "
   ]
  },
  {
   "cell_type": "code",
   "execution_count": null,
   "id": "5ecf6741",
   "metadata": {
    "scrolled": true,
    "tags": []
   },
   "outputs": [],
   "source": [
    "hand = open('emails.txt')\n",
    "from_lines2 = ...\n",
    "hand.close  \n",
    "from_lines2# BEGIN SOLUTION"
   ]
  },
  {
   "cell_type": "code",
   "execution_count": null,
   "id": "f0159a11",
   "metadata": {
    "deletable": false,
    "editable": false
   },
   "outputs": [],
   "source": [
    "grader.check(\"q2_2\")"
   ]
  },
  {
   "cell_type": "markdown",
   "id": "9f275463",
   "metadata": {},
   "source": [
    "### Extracting Data with Regular Expression\n",
    "The method `findall()` finds *all* the matches and returns them as a list of strings, with each string representing one match.\n",
    "If we would like to find all the email addresses, we can search `'\\S+@\\S+'`.  This works because\n",
    "- `\\S` matches a single character other than white space.  Adding the + means one or more characters other than white space, so `\\S+` matches as many nonwhite space characters as possible (greedy).\n",
    "- `@` looks for the sign in all email addresses\n",
    "- `\\S+` again looks for non white space characters\n",
    "\n",
    "The terms greedy and lazy in regular expression mean\n",
    "- greedy (default): keep searching until the condition is not satisfied\n",
    "- lazy (indicated with a ? at the end of the quantifier): stop searching once the condition is satisfied"
   ]
  },
  {
   "cell_type": "code",
   "execution_count": null,
   "id": "afe0aecc",
   "metadata": {
    "scrolled": true
   },
   "outputs": [],
   "source": [
    "hand = open('emails.txt')\n",
    "emails = [re.findall('\\S+@\\S+',line) for line in hand if re.search('\\S+@\\S+',line)]\n",
    "hand.close  \n",
    "emails"
   ]
  },
  {
   "cell_type": "markdown",
   "id": "65651ee1",
   "metadata": {},
   "source": [
    "**Question 2.3:** We see some of the email addresses returned have characters we might not want.  For example,we might want to remove the `<` and `>` in this address: `<postmaster@collab.sakaiproject.org>`. Write a regex to extract cleaner email addresses. \n",
    "\n",
    "*HINT*: Email addresses have a single lowercase character, uppercase character, or digit followed by zero or more non whitespace characters follwed by an `@` sign followed by zero or more non whitespace characters, and they end with a letter."
   ]
  },
  {
   "cell_type": "code",
   "execution_count": null,
   "id": "8f335335",
   "metadata": {
    "scrolled": true,
    "tags": []
   },
   "outputs": [],
   "source": [
    "hand = open('emails.txt')\n",
    "emails2 = ...\n",
    "hand.close  \n",
    "emails2"
   ]
  },
  {
   "cell_type": "code",
   "execution_count": null,
   "id": "9aa04565",
   "metadata": {
    "deletable": false,
    "editable": false
   },
   "outputs": [],
   "source": [
    "grader.check(\"q2_3\")"
   ]
  },
  {
   "cell_type": "markdown",
   "id": "7202dc1a",
   "metadata": {},
   "source": [
    "**Question 2.4:** Based on what you know about regular expressions, can you come up with a differnt expression that will accomplish the same goal as the previous cell? That is, can you create a list equivalent to `emails2` using a different regex?"
   ]
  },
  {
   "cell_type": "code",
   "execution_count": null,
   "id": "a4c2331a",
   "metadata": {
    "tags": []
   },
   "outputs": [],
   "source": [
    "hand = open('emails.txt')\n",
    "emails3 = ...\n",
    "hand.close  \n",
    "emails3"
   ]
  },
  {
   "cell_type": "code",
   "execution_count": null,
   "id": "5ede837c",
   "metadata": {
    "deletable": false,
    "editable": false
   },
   "outputs": [],
   "source": [
    "grader.check(\"q2_4\")"
   ]
  },
  {
   "cell_type": "markdown",
   "id": "06608900",
   "metadata": {},
   "source": [
    "## `re` vs string methods"
   ]
  },
  {
   "cell_type": "markdown",
   "id": "95bb0db6",
   "metadata": {},
   "source": [
    "**Question 3.1:** Let the following string be considered: `'X-DSPAM-Confidence: 0.8475'`. Use `find` and string slicing to extract the number and convert it to a float. *HINT:* Everything after the colon is the number.\n",
    "\n",
    "*NOTE:* You should not use regular expressions in your solution. The next question will ask you to do the same task with a regex."
   ]
  },
  {
   "cell_type": "code",
   "execution_count": null,
   "id": "41151cdc",
   "metadata": {
    "tags": []
   },
   "outputs": [],
   "source": [
    "phrase = 'X-DSPAM-Confidence: 0.8475'\n",
    "\n",
    "col_pos = ...\n",
    "number = ...\n",
    "number"
   ]
  },
  {
   "cell_type": "code",
   "execution_count": null,
   "id": "17a2943b",
   "metadata": {
    "deletable": false,
    "editable": false
   },
   "outputs": [],
   "source": [
    "grader.check(\"q3_1\")"
   ]
  },
  {
   "cell_type": "markdown",
   "id": "9870d372",
   "metadata": {},
   "source": [
    "**Question 3.2:** Consider the same string: `'X-DSPAM-Confidence: 0.8475'`. Complete the same task you did in question 3.1, but this time use a regular expression."
   ]
  },
  {
   "cell_type": "code",
   "execution_count": null,
   "id": "3f3f6372",
   "metadata": {
    "tags": []
   },
   "outputs": [],
   "source": [
    "number_with_re = ...\n",
    "number_with_re = ...\n",
    "number_with_re"
   ]
  },
  {
   "cell_type": "code",
   "execution_count": null,
   "id": "2a5147d1",
   "metadata": {
    "deletable": false,
    "editable": false
   },
   "outputs": [],
   "source": [
    "grader.check(\"q3_2\")"
   ]
  },
  {
   "cell_type": "markdown",
   "id": "9c98e5f9",
   "metadata": {},
   "source": [
    "**Question 4.1:** Using *emails.txt*, extract the hour of day that email messages were sent and put them into a list (e.g., `'09'` for 9am). Your final answer should be a list of strings. Reminder: the emails looked something like \n",
    "\n",
    "`From gsilver@umich.edu Wed Dec 19 09:35:37 2007`\n",
    "\n",
    "*HINT:* One way to do this is by splitting each line twice. What could we split by to isolate the hour?\n",
    "\n",
    "*NOTE:* You should not use regular expression in your solution. The next question will ask you to do the same task with a regex. As always, feel free to use comprehension if you prefer. "
   ]
  },
  {
   "cell_type": "code",
   "execution_count": null,
   "id": "eee1c57b",
   "metadata": {
    "tags": []
   },
   "outputs": [],
   "source": [
    "hand = open('emails.txt')\n",
    "hour_of_day = ... \n",
    "for ... in ...: \n",
    "    clean_line = line.rstrip() # remove trailing characters\n",
    "    if not clean_line.startswith('From '): \n",
    "        continue # do nothing if it is not a line we are interested in \n",
    "    x = ... # split once \n",
    "    y = ... # split again \n",
    "    ... # add hour to list \n",
    "hand.close()\n",
    "\n",
    "hour_of_day"
   ]
  },
  {
   "cell_type": "code",
   "execution_count": null,
   "id": "b01e5d42",
   "metadata": {
    "deletable": false,
    "editable": false
   },
   "outputs": [],
   "source": [
    "grader.check(\"q4_1\")"
   ]
  },
  {
   "cell_type": "markdown",
   "id": "cda00847",
   "metadata": {},
   "source": [
    "**Question 4.2:** Using *emails.txt*, extract the hour of day that email messages were sent and put them into a list like you did in question 4.1. This time, use regular expression.\n",
    "\n",
    "*HINT:* Look for lines that start with `From` then have a space, potentially some number of characters followed by a space and two digits followed by a colon.  Extract the two digits. Your final answer should be a list of strings. Use list comprehension if you want. "
   ]
  },
  {
   "cell_type": "code",
   "execution_count": null,
   "id": "acf76028",
   "metadata": {
    "tags": []
   },
   "outputs": [],
   "source": [
    "hand = open('emails.txt')\n",
    "hour_of_day_with_re = ...\n",
    "...\n",
    "    clean_line = ...\n",
    "    x = ...\n",
    "    ...\n",
    "        ...\n",
    "hand.close()\n",
    "hour_of_day"
   ]
  },
  {
   "cell_type": "code",
   "execution_count": null,
   "id": "b4def689",
   "metadata": {
    "deletable": false,
    "editable": false
   },
   "outputs": [],
   "source": [
    "grader.check(\"q4_2\")"
   ]
  },
  {
   "cell_type": "markdown",
   "id": "a61fcd74",
   "metadata": {},
   "source": [
    "<!-- BEGIN QUESTION -->\n",
    "\n",
    "**Question 4.3:** We see that there are numerous tasks that can be accomplished with either string methods or regular expressions. Describe at least one scenario in which regular expression would be our only (or at least a much easier) option. Be sure to include what the data would look like, and what the task would be."
   ]
  },
  {
   "cell_type": "markdown",
   "id": "a1b718df",
   "metadata": {},
   "source": [
    "_Type your answer here, replacing this text._"
   ]
  },
  {
   "cell_type": "markdown",
   "id": "1ada27b9",
   "metadata": {},
   "source": [
    "<!-- END QUESTION -->\n",
    "\n",
    "### 5. Main Course\n",
    "In this problem you will read through and parse a file with text and numbers. You will extract all the numbers in the file and compute the sum of the numbers.  \n",
    "\n",
    "The file contains text from a data science textbook introduction with random numbers inserted through the verbage.\n",
    "\n",
    "For example, the text might look like this:\n",
    "\n",
    "*Why should you learn to write programs? 7746 <br>\n",
    "12 1929 8827<br>\n",
    "Writing programs (or programming) is a very creative<br> \n",
    "7 and rewarding activity.  You can write programs for <br>\n",
    "many reasons, ranging from making your living to solving<br>\n",
    "8837 a difficult data analysis problem to having fun to helping 128<br>\n",
    "someone else solve a problem.  This book assumes that <br>\n",
    "everyone needs to know how to program ...*<br>\n",
    "\n",
    "\n",
    "The data can be found at this link: http://py4e-data.dr-chuck.net/regex_sum_1742785.txt. "
   ]
  },
  {
   "cell_type": "markdown",
   "id": "770925bf",
   "metadata": {},
   "source": [
    "**Question 5.1:** Open the `regex_sum_1742785.txt` file. Make a list of lists, where each sublist contains the numbers (str type) that appear in the cooresponding line of the file.  \n",
    "\n",
    "*NOTE:* Add an empty list the list when there are no numbers in a given line and consider groups of digits. i.e. For the example snippet above, `['7746']` would be the first element of the list. "
   ]
  },
  {
   "cell_type": "code",
   "execution_count": null,
   "id": "68dbc4e1",
   "metadata": {
    "tags": []
   },
   "outputs": [],
   "source": [
    "file = open('regex_sum_1742785.txt')\n",
    "\n",
    "numbers_in_line = ...\n",
    "...\n",
    "    ...\n",
    "    \n",
    "file.close()\n",
    "numbers_in_line"
   ]
  },
  {
   "cell_type": "code",
   "execution_count": null,
   "id": "662d28cd",
   "metadata": {
    "deletable": false,
    "editable": false
   },
   "outputs": [],
   "source": [
    "grader.check(\"q5_1\")"
   ]
  },
  {
   "cell_type": "markdown",
   "id": "8189c089",
   "metadata": {},
   "source": [
    "**Question 5.2:** Convert the strings from the previous question to integers.\n",
    "\n",
    "*NOTE:* By the end, you should have a list of ints. This new list should NOT contain elements corresponding to the empty lists from the previous question. "
   ]
  },
  {
   "cell_type": "code",
   "execution_count": null,
   "id": "3cd88147",
   "metadata": {
    "tags": []
   },
   "outputs": [],
   "source": [
    "strings_to_ints = ...\n",
    "...\n",
    "    ...\n",
    "        ...\n",
    "            ...\n",
    "strings_to_ints         "
   ]
  },
  {
   "cell_type": "code",
   "execution_count": null,
   "id": "446b4acc",
   "metadata": {
    "deletable": false,
    "editable": false
   },
   "outputs": [],
   "source": [
    "grader.check(\"q5_2\")"
   ]
  },
  {
   "cell_type": "markdown",
   "id": "19e594bf",
   "metadata": {},
   "source": [
    "**Question 5.3:** Add up all the integers from problem 5.2. "
   ]
  },
  {
   "cell_type": "code",
   "execution_count": null,
   "id": "3632900b",
   "metadata": {
    "tags": []
   },
   "outputs": [],
   "source": [
    "sum_all_nums = ...\n",
    "sum_all_nums"
   ]
  },
  {
   "cell_type": "code",
   "execution_count": null,
   "id": "ff5533a3",
   "metadata": {
    "deletable": false,
    "editable": false
   },
   "outputs": [],
   "source": [
    "grader.check(\"q5_3\")"
   ]
  },
  {
   "cell_type": "markdown",
   "id": "ccd24b39",
   "metadata": {},
   "source": [
    "**Question 5.4:** Create a list where each element is a string cooresponding to a line from the original `regex_sum_1742785.txt` file with all the numbers and trailing characters removed. "
   ]
  },
  {
   "cell_type": "code",
   "execution_count": null,
   "id": "3ed8f0a1",
   "metadata": {
    "tags": []
   },
   "outputs": [],
   "source": [
    "file = ...\n",
    "cleaned_lines = ...\n",
    "...\n",
    "cleaned_lines"
   ]
  },
  {
   "cell_type": "code",
   "execution_count": null,
   "id": "8a3e672f",
   "metadata": {
    "deletable": false,
    "editable": false
   },
   "outputs": [],
   "source": [
    "grader.check(\"q5_4\")"
   ]
  },
  {
   "cell_type": "markdown",
   "id": "762c7aa6",
   "metadata": {},
   "source": [
    "### 6. Dessert\n",
    "Huntington's Disease is a neurogenerative disorder and is linked to the anomalous expansion of the number of tribucleotide repeats in particular genes.  Human beings have 23 pairs of chromosomes in our cells and each of our parents contributes one chromosome to each pair. The gene that causes Huntington's Disease (HD) is found on chromosome 4.  Each of us gets one copy of the gene from our mother and one copy from our father.\n",
    "\n",
    "The gene responsible for HD contains a sequence with several CAG repeats (cytosine, adenine, guanine which are bases forming this specific codon). We all have these CAG repeats in the gene that codes for the huntingtin protein, but people with HD have a greater number than usual of CAG repeats in one of the genes they inherited.  (This protein is found in many of the body's tissues, with the highest levels of activity in the brain. Within cells, this protein may be involved in chemical signaling, transporting materials, binding to proteins and other structures, etc.)\n",
    "\n",
    "The actual number of repeats of a specific codon determines the risk of developing HD. More than 35 repeats virtually assures the disease.  In this task, we will use regular expression to find the number of repeats of the CAG codon in a specific mRNA sequence."
   ]
  },
  {
   "cell_type": "markdown",
   "id": "2c0156d2",
   "metadata": {},
   "source": [
    "**Question 6:** Using the *HTTmRNA.txt* file ([source](https://www.ncbi.nlm.nih.gov/nuccore/NM_002111.8?report=fasta)), use regular expression to determine how many times either CAG is repeated. *HINT:* You should play around with the `htt_pattern` to figure this out. Then manually enter your answer in `num_repeats`. If you think of another way to solve this, just put your answer in `num_repeats`. \n"
   ]
  },
  {
   "cell_type": "code",
   "execution_count": null,
   "id": "afc9363b",
   "metadata": {
    "tags": []
   },
   "outputs": [],
   "source": [
    "fhand = open('HTTmRNA.txt')\n",
    "htt_mRNA = fhand.read()\n",
    "htt_pattern = ...\n",
    "match = ...\n",
    "print(len(match))\n",
    "num_repeats = ...\n",
    "fhand.close()"
   ]
  },
  {
   "cell_type": "code",
   "execution_count": null,
   "id": "bb000264",
   "metadata": {
    "deletable": false,
    "editable": false
   },
   "outputs": [],
   "source": [
    "grader.check(\"q6_1\")"
   ]
  },
  {
   "cell_type": "markdown",
   "id": "93e6cf4e",
   "metadata": {},
   "source": [
    "### Submission\n",
    "Congratulations on finishing Lab 3! Gus is very proud of you. Run the cell below to download a zip and upload to Canvas. \n",
    "\n",
    "<img src=\"gus_spies_on_neighbors.JPG\" alt=\"drawing\" width=\"300\"/>\n",
    "\n",
    "### References\n",
    "- Python for Everybody: Exploring Data in Python 3 by Charles Severance.  https://www.py4e.com/book.php\n",
    "- Möncke‐Buchner, Elisabeth, et al. \"Counting CAG repeats in the Huntington’s disease gene by restriction endonuclease Eco P15I cleavage.\" Nucleic Acids Research 30.16 (2002): e83-e83.\n",
    "- A Primer for Computational Biology by Shawn T. ONeil https://open.oregonstate.education/computationalbiology/chapter/bioinformatics-knick-knacks-and-regular-expressions/\n",
    "- Using Regular Expression in Genetics with Python by Stephen Fordham.  https://towardsdatascience.com/using-regular-expression-in-genetics-with-python-175e2b9395c2"
   ]
  },
  {
   "cell_type": "markdown",
   "id": "29596618",
   "metadata": {
    "deletable": false,
    "editable": false
   },
   "source": [
    "## Submission\n",
    "\n",
    "Make sure you have run all cells in your notebook in order before running the cell below, so that all images/graphs appear in the output. The cell below will generate a zip file for you to submit. **Please save before exporting!**"
   ]
  },
  {
   "cell_type": "code",
   "execution_count": null,
   "id": "e68f608e",
   "metadata": {
    "deletable": false,
    "editable": false
   },
   "outputs": [],
   "source": [
    "# Save your notebook first, then run this cell to export your submission.\n",
    "grader.export(pdf=False, run_tests=True)"
   ]
  },
  {
   "cell_type": "markdown",
   "id": "98bc73e2",
   "metadata": {},
   "source": [
    " "
   ]
  }
 ],
 "metadata": {
  "kernelspec": {
   "display_name": "Python 3 (ipykernel)",
   "language": "python",
   "name": "python3"
  },
  "language_info": {
   "codemirror_mode": {
    "name": "ipython",
    "version": 3
   },
   "file_extension": ".py",
   "mimetype": "text/x-python",
   "name": "python",
   "nbconvert_exporter": "python",
   "pygments_lexer": "ipython3",
   "version": "3.11.4"
  },
  "otter": {
   "OK_FORMAT": true,
   "tests": {
    "q2_1": {
     "name": "q2_1",
     "points": null,
     "suites": [
      {
       "cases": [
        {
         "code": ">>> from_lines != []\nTrue",
         "hidden": false,
         "locked": false
        },
        {
         "code": ">>> from_lines[0]\n'From stephen.marquard@uct.ac.za Sat Jan  5 09:14:16 2008'",
         "hidden": false,
         "locked": false
        },
        {
         "code": ">>> from_lines[8]\n'From zqian@umich.edu Fri Jan  4 15:03:18 2008'",
         "hidden": false,
         "locked": false
        }
       ],
       "scored": true,
       "setup": "",
       "teardown": "",
       "type": "doctest"
      }
     ]
    },
    "q2_2": {
     "name": "q2_2",
     "points": null,
     "suites": [
      {
       "cases": [
        {
         "code": ">>> from_lines2 != []\nTrue",
         "hidden": false,
         "locked": false
        },
        {
         "code": ">>> len(from_lines2)\n528",
         "hidden": false,
         "locked": false
        },
        {
         "code": ">>> from_lines2[0]\n'From stephen.marquard@uct.ac.za Sat Jan  5 09:14:16 2008'",
         "hidden": false,
         "locked": false
        },
        {
         "code": ">>> from_lines2[8]\n'From zqian@umich.edu Fri Jan  4 15:03:18 2008'",
         "hidden": false,
         "locked": false
        }
       ],
       "scored": true,
       "setup": "",
       "teardown": "",
       "type": "doctest"
      }
     ]
    },
    "q2_3": {
     "name": "q2_3",
     "points": null,
     "suites": [
      {
       "cases": [
        {
         "code": ">>> emails2 != []\nTrue",
         "hidden": false,
         "locked": false
        },
        {
         "code": ">>> len(emails2)\n3234",
         "hidden": false,
         "locked": false
        },
        {
         "code": ">>> emails2[0]\n['stephen.marquard@uct.ac.za']",
         "hidden": false,
         "locked": false
        },
        {
         "code": ">>> emails2[13]\n['postmaster@collab.sakaiproject.org']",
         "hidden": false,
         "locked": false
        }
       ],
       "scored": true,
       "setup": "",
       "teardown": "",
       "type": "doctest"
      }
     ]
    },
    "q2_4": {
     "name": "q2_4",
     "points": null,
     "suites": [
      {
       "cases": [
        {
         "code": ">>> emails3 != ...\nTrue",
         "hidden": false,
         "locked": false
        },
        {
         "code": ">>> emails2==emails3\nTrue",
         "hidden": false,
         "locked": false
        }
       ],
       "scored": true,
       "setup": "",
       "teardown": "",
       "type": "doctest"
      }
     ]
    },
    "q3_1": {
     "name": "q3_1",
     "points": null,
     "suites": [
      {
       "cases": [
        {
         "code": ">>> number != ...\nTrue",
         "hidden": false,
         "locked": false
        },
        {
         "code": ">>> type(number) == float\nTrue",
         "hidden": false,
         "locked": false
        },
        {
         "code": ">>> number\n0.8475",
         "hidden": false,
         "locked": false
        }
       ],
       "scored": true,
       "setup": "",
       "teardown": "",
       "type": "doctest"
      }
     ]
    },
    "q3_2": {
     "name": "q3_2",
     "points": null,
     "suites": [
      {
       "cases": [
        {
         "code": ">>> number_with_re != ...\nTrue",
         "hidden": false,
         "locked": false
        },
        {
         "code": ">>> type(number_with_re) == float\nTrue",
         "hidden": false,
         "locked": false
        },
        {
         "code": ">>> number_with_re\n0.8475",
         "hidden": false,
         "locked": false
        }
       ],
       "scored": true,
       "setup": "",
       "teardown": "",
       "type": "doctest"
      }
     ]
    },
    "q4_1": {
     "name": "q4_1",
     "points": null,
     "suites": [
      {
       "cases": [
        {
         "code": ">>> hour_of_day != []\nTrue",
         "hidden": false,
         "locked": false
        },
        {
         "code": ">>> type(hour_of_day) == list\nTrue",
         "hidden": false,
         "locked": false
        },
        {
         "code": ">>> len(hour_of_day)\n264",
         "hidden": false,
         "locked": false
        },
        {
         "code": ">>> hour_of_day[0:5]\n['09', '18', '16', '15', '15']",
         "hidden": false,
         "locked": false
        }
       ],
       "scored": true,
       "setup": "",
       "teardown": "",
       "type": "doctest"
      }
     ]
    },
    "q4_2": {
     "name": "q4_2",
     "points": null,
     "suites": [
      {
       "cases": [
        {
         "code": ">>> hour_of_day_with_re != []\nTrue",
         "hidden": false,
         "locked": false
        },
        {
         "code": ">>> type(hour_of_day_with_re) == list\nTrue",
         "hidden": false,
         "locked": false
        },
        {
         "code": ">>> len(hour_of_day_with_re)\n264",
         "hidden": false,
         "locked": false
        },
        {
         "code": ">>> hour_of_day_with_re[0:5]\n['09', '18', '16', '15', '15']",
         "hidden": false,
         "locked": false
        }
       ],
       "scored": true,
       "setup": "",
       "teardown": "",
       "type": "doctest"
      }
     ]
    },
    "q5_1": {
     "name": "q5_1",
     "points": null,
     "suites": [
      {
       "cases": [
        {
         "code": ">>> numbers_in_line != []\nTrue",
         "hidden": false,
         "locked": false
        },
        {
         "code": ">>> type(numbers_in_line) == list\nTrue",
         "hidden": false,
         "locked": false
        },
        {
         "code": ">>> len(numbers_in_line)\n594",
         "hidden": false,
         "locked": false
        },
        {
         "code": ">>> numbers_in_line[15:25]\n[[], [], [], [], [], ['7650', '7987'], [], [], [], []]",
         "hidden": false,
         "locked": false
        }
       ],
       "scored": true,
       "setup": "",
       "teardown": "",
       "type": "doctest"
      }
     ]
    },
    "q5_2": {
     "name": "q5_2",
     "points": null,
     "suites": [
      {
       "cases": [
        {
         "code": ">>> strings_to_ints != []\nTrue",
         "hidden": false,
         "locked": false
        },
        {
         "code": ">>> type(strings_to_ints) == list\nTrue",
         "hidden": false,
         "locked": false
        },
        {
         "code": ">>> strings_to_ints[:5]\n[7650, 7987, 4248, 4952, 9763]",
         "hidden": false,
         "locked": false
        }
       ],
       "scored": true,
       "setup": "",
       "teardown": "",
       "type": "doctest"
      }
     ]
    },
    "q5_3": {
     "name": "q5_3",
     "points": null,
     "suites": [
      {
       "cases": [
        {
         "code": ">>> sum_all_nums != []\nTrue",
         "hidden": false,
         "locked": false
        },
        {
         "code": ">>> sum_all_nums\n406927",
         "hidden": false,
         "locked": false
        }
       ],
       "scored": true,
       "setup": "",
       "teardown": "",
       "type": "doctest"
      }
     ]
    },
    "q5_4": {
     "name": "q5_4",
     "points": null,
     "suites": [
      {
       "cases": [
        {
         "code": ">>> cleaned_lines != ...\nTrue",
         "hidden": false,
         "locked": false
        },
        {
         "code": ">>> len(cleaned_lines)\n594",
         "hidden": false,
         "locked": false
        },
        {
         "code": ">>> cleaned_lines[20]\n'  '",
         "hidden": false,
         "locked": false
        }
       ],
       "scored": true,
       "setup": "",
       "teardown": "",
       "type": "doctest"
      }
     ]
    },
    "q6_1": {
     "name": "q6_1",
     "points": null,
     "suites": [
      {
       "cases": [
        {
         "code": ">>> num_repeats\n16",
         "hidden": false,
         "locked": false
        }
       ],
       "scored": true,
       "setup": "",
       "teardown": "",
       "type": "doctest"
      }
     ]
    }
   }
  }
 },
 "nbformat": 4,
 "nbformat_minor": 5
}
