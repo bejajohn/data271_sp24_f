{
 "cells": [
  {
   "cell_type": "code",
   "execution_count": null,
   "id": "fa4c86e6",
   "metadata": {
    "deletable": false,
    "editable": false
   },
   "outputs": [],
   "source": [
    "# Initialize Otter\n",
    "import otter\n",
    "grader = otter.Notebook(\"lab03.ipynb\")"
   ]
  },
  {
   "cell_type": "markdown",
   "id": "e2268277",
   "metadata": {},
   "source": [
    "# Lab 3: Regular Expression with Python"
   ]
  },
  {
   "cell_type": "markdown",
   "id": "4432ff32",
   "metadata": {},
   "source": [
    "Welcome to Lab 3 of DATA 271! \n",
    "\n",
    "This document contains examples and small tasks (\"appetizers\") for you to make sure you understand the examples.  The culminating task (\"main course\") at the end of the document is more complex, and uses most of the topics you have will have worked through. You should rarely remain stuck for more than a few minutes on questions in labs, so feel free to ask for help. Collaborating on labs is more than okay -- it's encouraged! Explaining things is beneficial -- the best way to solidify your knowledge of a subject is to explain it. Please don't just share answers, though. \n",
    "\n",
    "For this lab and all future ones, please be sure to not re-assign variables throughout the notebook! For example, if you use `my_list` in your answer to one question, do not reassign it later on. Otherwise, you will fail tests that you passed previously!"
   ]
  },
  {
   "cell_type": "markdown",
   "id": "78cb1a37",
   "metadata": {},
   "source": [
    "### In today's lab, we will\n",
    "- Learn basic syntax for regular expression in Python and be able to write simple regular expressions using common operations in pattern matching.\n",
    "- Understand the flexibility regular expression affords in searching and articulate at least one real world example where this is useful\n",
    "- Become familiar with Python's `re` module and some of its functions such as `findall()`, `search()`, and `sub()`.\n",
    "- Become more familiar with using online resources such as documentation, \"cheat sheets\" and Stack Exchange to independently learn more about a technical topic."
   ]
  },
  {
   "cell_type": "markdown",
   "id": "504c3474",
   "metadata": {},
   "source": [
    "## Overview\n",
    "\n",
    "Regular expression (shortened as regex or regexp) can be used for pattern matching in a text editor.  For example, when you use the \"find and replace\" feature in Microsoft Word, you are asking the computer to find specific strings which match a pattern and replace them with another string. We might desire a more flexible way to search and replace. For example, we might wish to locate and replace a word spelled two different ways in a text: serialise and serialize (British and American spelling). The regular expression `seriali[sz]e` matches both \"serialise\" and \"serialize\". Wildcard characters also achieve this, but are more limited in what they can pattern.\n",
    "\n",
    "Other examples where this flexibilty is useful might be searching for and extracting email addresses from a file.  We know there will be an at sign (@), but don't know what the constraints are in front of it in terms of word length or characters used. It is possible to read through texts and look for patterns using string methods like `split()` and `find()`. However, searching and extracting is so common that there is a powerful library for these tasks (`re`).\n",
    "\n",
    "The `re` module provides a set of powerful regular expression facilities, which allows you to quickly check whether a given string matches a given pattern (using the match function), or contains such a pattern (using the search function). A regular expression is a string pattern written in a compact (and quite cryptic) syntax.  \n",
    "\n",
    "The module functions fall into three categories:\n",
    "- pattern matching\n",
    "- substitution\n",
    "- splitting\n",
    "\n",
    "The regex describes a pattern to locate in the text, and then we can use specific methods to accomplish tasks.  You can then ask questions such as “Does this string match the pattern?”, or “Is there a match for the pattern anywhere in this string?” You can also use regular expression to modify a string or to split it apart in various ways.\n",
    "\n",
    "The documentation provides more details: https://docs.python.org/3/library/re.html."
   ]
  },
  {
   "cell_type": "markdown",
   "id": "956de130",
   "metadata": {},
   "source": [
    "### Pattern matching\n"
   ]
  },
  {
   "cell_type": "code",
   "execution_count": null,
   "id": "0fa5bfdf",
   "metadata": {},
   "outputs": [],
   "source": [
    "import re # Imports the re module\n",
    "\n",
    "#Check if the string starts with \"The\" and ends with \"Spain\":\n",
    "\n",
    "txt = \"The rain in Spain\"\n",
    "x = re.search(\"^The.*Spain$\", txt)\n",
    "\n",
    "if x:\n",
    "  print(\"YES! We have a match!\")\n",
    "else:\n",
    "  print(\"No match\")"
   ]
  },
  {
   "cell_type": "code",
   "execution_count": null,
   "id": "27a9b549",
   "metadata": {},
   "outputs": [],
   "source": [
    "#Check if the string starts with \"The\" and ends with \"Spain\":\n",
    "txt = \"The Running of the Bulls occurs in Pamplona, Spain\"\n",
    "x = re.search(\"^The.*Spain$\", txt)\n",
    "\n",
    "if x:\n",
    "  print(\"YES! We have a match!\")\n",
    "else:\n",
    "  print(\"No match\")"
   ]
  },
  {
   "cell_type": "code",
   "execution_count": null,
   "id": "7a4bd307",
   "metadata": {},
   "outputs": [],
   "source": [
    "#Check if the string starts with \"The\" and ends with \"Spain\":\n",
    "\n",
    "txt = \"The Louvre is in Paris, France\"\n",
    "x = re.search(\"^The.*Spain$\", txt)\n",
    "\n",
    "if x:\n",
    "  print(\"YES! We have a match!\")\n",
    "else:\n",
    "  print(\"No match\")"
   ]
  },
  {
   "cell_type": "markdown",
   "id": "7a13c47c",
   "metadata": {},
   "source": [
    "### Print Matches\n",
    "You can print any matches found with the following."
   ]
  },
  {
   "cell_type": "code",
   "execution_count": null,
   "id": "edef7e88",
   "metadata": {},
   "outputs": [],
   "source": [
    "txt = \"The rain in Spain\"\n",
    "x = re.findall(\"ai\", txt)\n",
    "print(x)\n",
    "len(x) # how many matches are found"
   ]
  },
  {
   "cell_type": "code",
   "execution_count": null,
   "id": "51be3b96",
   "metadata": {},
   "outputs": [],
   "source": [
    "# returns an empty list if no matches are found\n",
    "txt = \"The rain in Spain\"\n",
    "x = re.findall(\"Portugal\", txt)\n",
    "print(x)"
   ]
  },
  {
   "cell_type": "markdown",
   "id": "0eb40072",
   "metadata": {},
   "source": [
    "### Search\n",
    "The `search()` function searches the string for a match and returns a match object if there is a match.  If there is more than one match, only the first occurence will be returned.  If there are no matches `None` is returned.  The match object returned has properties and methods which can provide more information about the search such as\n",
    "- `span()` which returns a tuple containing the start and end positions of the match\n",
    "- `group()` returns the part of the string where there was a match"
   ]
  },
  {
   "cell_type": "code",
   "execution_count": null,
   "id": "d187f036",
   "metadata": {},
   "outputs": [],
   "source": [
    "txt = \"The rain in Spain\"\n",
    "# search for first white space character \\s\n",
    "x = re.search(\"\\s\", txt)\n",
    "\n",
    "print(\"The first white-space character is located in position:\", x.start())"
   ]
  },
  {
   "cell_type": "code",
   "execution_count": null,
   "id": "a9ce3648",
   "metadata": {},
   "outputs": [],
   "source": [
    "x = re.search(\"Portugal\", txt)\n",
    "print(x)"
   ]
  },
  {
   "cell_type": "code",
   "execution_count": null,
   "id": "9f30e83e",
   "metadata": {},
   "outputs": [],
   "source": [
    "x = re.search(\"ai\", txt)\n",
    "print(x) #this will print an object"
   ]
  },
  {
   "cell_type": "code",
   "execution_count": null,
   "id": "07a4843a",
   "metadata": {},
   "outputs": [],
   "source": [
    "x = re.search(r\"\\bS\\w+\", txt)\n",
    "print(x)\n",
    "# span returns the start and end position of the first match occurrence.\n",
    "print(x.span())"
   ]
  },
  {
   "cell_type": "code",
   "execution_count": null,
   "id": "38bad1d9",
   "metadata": {},
   "outputs": [],
   "source": [
    "# look for upper case S\n",
    "x = re.search(r\"\\bS\\w+\", txt)\n",
    "# print the part of the string where there was a match\n",
    "print(x.group())"
   ]
  },
  {
   "cell_type": "markdown",
   "id": "1d134c12",
   "metadata": {},
   "source": [
    "### Split\n",
    "The `split()` function returns a list where the string has been split on each match.  Notice this can also be accomplished with the string method `split()`."
   ]
  },
  {
   "cell_type": "code",
   "execution_count": null,
   "id": "4909f3ba",
   "metadata": {},
   "outputs": [],
   "source": [
    "# split on white space\n",
    "x = re.split(\"\\s\", txt)\n",
    "print(x)"
   ]
  },
  {
   "cell_type": "code",
   "execution_count": null,
   "id": "a0334f8a",
   "metadata": {},
   "outputs": [],
   "source": [
    "txt = \"The rain in Spain\"\n",
    "x = txt.split()\n",
    "print(x)"
   ]
  },
  {
   "cell_type": "markdown",
   "id": "f0cecfc1",
   "metadata": {},
   "source": [
    "### Substitution\n",
    "The `sub()` function replaces the matches found with a string you indicate.  You can control how many replacements are done with the optional count parameter."
   ]
  },
  {
   "cell_type": "code",
   "execution_count": null,
   "id": "a97f19cd",
   "metadata": {},
   "outputs": [],
   "source": [
    "# replace spaces with the number nine as a string\n",
    "x = re.sub(\"\\s\", \"9\", txt)\n",
    "print(x)"
   ]
  },
  {
   "cell_type": "code",
   "execution_count": null,
   "id": "b9ed6637",
   "metadata": {},
   "outputs": [],
   "source": [
    "x = re.sub(\"\\s\", \"9\", txt, 2)\n",
    "print(x)"
   ]
  },
  {
   "cell_type": "markdown",
   "id": "be94e99f",
   "metadata": {},
   "source": [
    "### Example application: Bioinformatics\n",
    "The flexibility of regular expression is particularly useful in bioinformatics.  A codon is a DNA or RNA sequence of 3 nucleotides that encodes a particular amino acid or gives a stop signal.  For DNA, there are three stop codons: TAG, TAA, and TGA.  If we want to match any sequence of DNA terminated by a stop codon, we can use this syntax:\n",
    "`([ACTG])+(TAG|TAA|TGA)`.\n",
    "- `[ACTG]` indicates any of the nucleotide bases (A, C, T, G) \n",
    "- the parentheses group patterns\n",
    "- `+` modifies the previous group to match one or more times\n",
    "- `(TAG|TAA|TGA)` indicates followed by one of the stop codons (the | notation signifies or)\n",
    "\n",
    "Curly brackets allow flexibility in terms of how many repetitions we are searching for.  For example, `(AT){10,100}` matches an \"AT\" repeated 10 to 100 times.  `(AT){10,}` matches an \"AT\" repeated 10 or more times (no upper bound).\n",
    "\n",
    "Open the .txt file *grape.txt* provided.  This file contains information about the Vitis vinifera (common grape) genome.  \n",
    "\n",
    "The GATA protein is a transcription factor and is important for regulating transcription (the process where cells make an RNA copy of a piece of DNA which will later be used to make proteins). It binds to any short DNA sequence which matches the pattern GATA with either an A or a T before and either a G or an A after.  For example, in this sequence \n",
    "- `AAAAAAATGATAGAAAAAGATAAAAAA`\n",
    "there are two matches (find the substring GATA, and then check that before you see an A or a T and after you see a G or an A).\n",
    "\n",
    "Given a specific string, we can use regular expression to find out how many times this motif occurs."
   ]
  },
  {
   "cell_type": "code",
   "execution_count": null,
   "id": "705c958f",
   "metadata": {},
   "outputs": [],
   "source": [
    "def count_motifs(seq, motif):\n",
    "    pieces = re.split(motif, seq)\n",
    "    return len(pieces) - 1\n",
    "\n",
    "seq = 'AAAAAAATGATAGAAAAAGATAAAAAA'\n",
    "count_motifs(seq, '[AT]GATA[GA]')"
   ]
  },
  {
   "cell_type": "markdown",
   "id": "d2f5ff8e",
   "metadata": {},
   "source": [
    "## Appetizers\n",
    "Now it's time for you to get some practice."
   ]
  },
  {
   "cell_type": "markdown",
   "id": "2e9a2028",
   "metadata": {},
   "source": [
    "**Question 1:** We have seen now different syntaxes to flexibly control what we want to match or replace.  Google \"regular expression in Python cheat sheet\" and download one of your choosing. Or use [this one](https://canvas.humboldt.edu/courses/71553/files/5254145?wrap=1). Take a moment to read through it.\n",
    "Choose four different syntaxes on the cheat sheet and write a small example with a string of your choosing like \"The rain in Spain\" to test them.  \n",
    "Specifically experiment with\n",
    "- `[]` vs `()`\n",
    "- `+` vs `*`\n",
    "- `{}`\n",
    "- etc.\n",
    "\n",
    "Find one question on Stack Overflow related to regular expression in Python and read the answer and test it out with code. (If the first one you find doesn't make sense, look for another.)  Did you learn anything about syntax from the example you found? Be prepared to explain the problem and solution to a peer."
   ]
  },
  {
   "cell_type": "code",
   "execution_count": null,
   "id": "35f750ad",
   "metadata": {
    "tags": []
   },
   "outputs": [],
   "source": [
    "any_string = ...\n",
    "some_practice = ...\n",
    "some_practice"
   ]
  },
  {
   "cell_type": "code",
   "execution_count": null,
   "id": "31b9e775",
   "metadata": {
    "tags": []
   },
   "outputs": [],
   "source": [
    "any_string = ...\n",
    "some_practice = ...\n",
    "some_practice"
   ]
  },
  {
   "cell_type": "code",
   "execution_count": null,
   "id": "08b361a3",
   "metadata": {
    "tags": []
   },
   "outputs": [],
   "source": [
    "any_string = ...\n",
    "some_practice = ...\n",
    "some_practice"
   ]
  },
  {
   "cell_type": "code",
   "execution_count": null,
   "id": "21d52d8e",
   "metadata": {
    "tags": []
   },
   "outputs": [],
   "source": [
    "any_string = ...\n",
    "some_practice = ...\n",
    "some_practice"
   ]
  },
  {
   "cell_type": "code",
   "execution_count": null,
   "id": "d082acd6",
   "metadata": {
    "tags": []
   },
   "outputs": [],
   "source": [
    "any_string = ...\n",
    "some_practice = ...\n",
    "some_practice"
   ]
  },
  {
   "cell_type": "markdown",
   "id": "709ebdc2",
   "metadata": {},
   "source": [
    "**Question 2:** We will use the text file *emails.txt* for this exercise. If you are working from your local device, this file needs to be in the same directory as your Jupyter notebook. If you are using JupyterHub, this is already done for you. \n",
    "\n",
    "Here is a snippet of the file:\n",
    "\n",
    "From bkirschn@umich.edu Fri Dec 21 09:55:06 2007\n",
    "Return-Path: <postmaster@collab.sakaiproject.org>\n",
    "Received: from murder (mail.umich.edu [141.211.14.25])\n",
    "\t by frankenstein.mail.umich.edu (Cyrus v2.3.8) with LMTPA;\n",
    "\t Fri, 21 Dec 2007 09:55:06 -0500\n",
    "X-Sieve: CMU Sieve 2.3\n",
    "Received: from murder ([unix socket])\n",
    "\t by mail.umich.edu (Cyrus v2.2.12) with LMTPA;\n",
    "\t Fri, 21 Dec 2007 09:55:06 -0500\n",
    "Received: from dreamcatcher.mr.itd.umich.edu (dreamcatcher.mr.itd.umich.edu [141.211.14.43])\n",
    "\tby panther.mail.umich.edu () with ESMTP id lBLEt6x8006098;\n",
    "\tFri, 21 Dec 2007 09:55:06 -0500\n",
    "Received: FROM paploo.uhi.ac.uk (app1.prod.collab.uhi.ac.uk [194.35.219.184])\n",
    "\tBY dreamcatcher.mr.itd.umich.edu ID 476BD3C4.BFDC1.28307 ; \n",
    "\t21 Dec 2007 09:55:03 -0500\n",
    "Received: from paploo.uhi.ac.uk (localhost [127.0.0.1])\n",
    "\tby paploo.uhi.ac.uk (Postfix) with ESMTP id A4CC6A7DD7;\n",
    "\tFri, 21 Dec 2007 14:51:39 +0000 (GMT)\n",
    "Message-ID: <200712211454.lBLEs7d9009944@nakamura.uits.iupui.edu>\n",
    "Mime-Version: 1.0\n",
    "Content-Transfer-Encoding: 7bit\n",
    "\n",
    "\n",
    "Use the `search()` function to make a list of the lines in the .txt file which contain the word `\"From.\"` Be sure that the lines that end up in your list do not include any trailing characters. \n",
    "\n",
    "*HINT:* `rstrip()` method removes any trailing characters (characters at the end a string) with space as the default character to remove."
   ]
  },
  {
   "cell_type": "code",
   "execution_count": null,
   "id": "5373e094",
   "metadata": {
    "tags": []
   },
   "outputs": [],
   "source": [
    "hand = open('emails.txt')\n",
    "from_lines = []\n",
    "for ... in ...: \n",
    "    clean_line = ... # remove trailing characters\n",
    "    if ...: # search for the word \"From\"\n",
    "        ... # add to list\n",
    "hand.close  \n",
    "from_lines"
   ]
  },
  {
   "cell_type": "code",
   "execution_count": null,
   "id": "1282ab2a",
   "metadata": {
    "deletable": false,
    "editable": false
   },
   "outputs": [],
   "source": [
    "grader.check(\"q2\")"
   ]
  },
  {
   "cell_type": "markdown",
   "id": "4dcc875a",
   "metadata": {},
   "source": [
    "The real power of regular expression comes from adding special characters to the search string to more precisely control which lines match the string.  For example, we can search for lines that start with `From` and have an `@` sign.  \n",
    "- the `^` symbol indicates the start of the line\n",
    "- the `.+` means one or more characters.  Think of this as a wildcard expanding to match an unspecified number of characters.\n",
    "- the `@` looks for this sign\n",
    "- putting this together, we can search for `'^From:.+@'`\n",
    "\n",
    "Notice that we don't have to specify how many characters are before the @.  This is good because email addresses vary.  For example, Humboldt's Math Department email is math@humboldt.edu and the Biology Deparment's email is biosci@humboldt.edu.  They have a different number of characters before the @ sign.  Therefore we need flexibility in the searching.\n",
    "\n",
    "Here is code to accomplish this task."
   ]
  },
  {
   "cell_type": "code",
   "execution_count": null,
   "id": "5b7afdd6",
   "metadata": {},
   "outputs": [],
   "source": [
    "hand = open('emails.txt')\n",
    "from_lines2 = []\n",
    "for line in hand:\n",
    "    clean_line = line.rstrip()\n",
    "    if re.search('^From:.+@', clean_line): # search for lines starting with From: followed by one or more characters (.+) followed by an @ sign\n",
    "        from_lines2.append(clean_line)\n",
    "from_lines2"
   ]
  },
  {
   "cell_type": "markdown",
   "id": "c89d45af",
   "metadata": {},
   "source": [
    "### Extracting Data with Regular Expression\n",
    "The method `findall()` finds *all* the matches and returns them as a list of strings, with each string representing one match.\n",
    "If we would like to find all strings that look like email addresses, we can search `'\\S+@\\S+'`.  This works because\n",
    "- `\\S` matches a single character other than white space.  Adding the + means one or more characters other than white space, so `\\S+` matches as many nonwhite space characters as possible (greedy).\n",
    "- `@` looks for the sign in all email addresses\n",
    "- `\\S+` again looks for non white space characters\n",
    "\n",
    "The terms greedy and lazy in regular expression mean\n",
    "- greedy (default): keep searching until the condition is not satisfied\n",
    "- lazy (indicated with a ? at the end of the quantifier): stop searching once the condition is satisfied"
   ]
  },
  {
   "cell_type": "code",
   "execution_count": null,
   "id": "3b249e41",
   "metadata": {
    "scrolled": true
   },
   "outputs": [],
   "source": [
    "hand = open('emails.txt')\n",
    "for line in hand:\n",
    "    clean_line = line.rstrip()\n",
    "    x = re.findall('\\S+@\\S+', clean_line) # look for lines that match at least one non-white space character, the @ and at least one non-white space character\n",
    "    if len(x) > 0:\n",
    "        print(x)\n",
    "hand.close()"
   ]
  },
  {
   "cell_type": "markdown",
   "id": "959591db",
   "metadata": {},
   "source": [
    "We see some of the email addresses returned have characters we might not want.  For example,we might want to remove the `<` and `>` in this address: `<postmaster@collab.sakaiproject.org>`.  We can just keep the portion of the string that starts with a letter or a number.\n",
    "- square brackets are used to indicate a set of multiple acceptable characters we consider matching\n",
    "- `[a-zA-Z0-9]\\S*@\\S*[a-zA-Z]` tells us to look for substrings that\n",
    "    - start with a single lowercase character, uppercase character or digit (`[a-zA-Z0-9]`)\n",
    "    - followed by zero or more nonblank characters (`\\S*`)\n",
    "    - has an `@` sign\n",
    "    - is followed by zero or more nonblank characters which are letters (`*[a-zA-Z]`)\n",
    "    - note that `*` means zero or more and `+` means one or more, applied to the single character immediately to the left"
   ]
  },
  {
   "cell_type": "code",
   "execution_count": null,
   "id": "822c333e",
   "metadata": {
    "scrolled": true
   },
   "outputs": [],
   "source": [
    "hand = open('emails.txt')\n",
    "for line in hand:\n",
    "    clean_line = line.rstrip()\n",
    "    x = re.findall('[a-zA-Z0-9]\\S*@\\S*[a-zA-Z]', clean_line) \n",
    "    if len(x) > 0:\n",
    "        print(x)\n",
    "hand.close()"
   ]
  },
  {
   "cell_type": "markdown",
   "id": "642657ff",
   "metadata": {},
   "source": [
    "**Question 3.1:** Let the following string be considered: `'X-DSPAM-Confidence: 0.8475'`. Use `find` and string slicing to extract the number and convert it to a float. *HINT:* Everything after the colon is the number."
   ]
  },
  {
   "cell_type": "code",
   "execution_count": null,
   "id": "69d78ff1",
   "metadata": {
    "tags": []
   },
   "outputs": [],
   "source": [
    "phrase = 'X-DSPAM-Confidence: 0.8475'\n",
    "\n",
    "col_pos = ...\n",
    "number = ...\n",
    "number"
   ]
  },
  {
   "cell_type": "code",
   "execution_count": null,
   "id": "4d9614f6",
   "metadata": {
    "deletable": false,
    "editable": false
   },
   "outputs": [],
   "source": [
    "grader.check(\"q3_1\")"
   ]
  },
  {
   "cell_type": "markdown",
   "id": "60c2776f",
   "metadata": {},
   "source": [
    "**Question 3.2:** Consider the same string: `'X-DSPAM-Confidence: 0.8475'`. Complete the same task you did in question 3.1, but this time use regular expression."
   ]
  },
  {
   "cell_type": "code",
   "execution_count": null,
   "id": "ccc6e311",
   "metadata": {
    "tags": []
   },
   "outputs": [],
   "source": [
    "number_with_re = ...\n",
    "number_with_re = ...\n",
    "number_with_re"
   ]
  },
  {
   "cell_type": "code",
   "execution_count": null,
   "id": "608eca48",
   "metadata": {
    "deletable": false,
    "editable": false
   },
   "outputs": [],
   "source": [
    "grader.check(\"q3_2\")"
   ]
  },
  {
   "cell_type": "markdown",
   "id": "f9de41e2",
   "metadata": {},
   "source": [
    "**Question 4.1:** Using *emails.txt*, extract the hour of day that email messages were sent and put them into a list. Do this with two calls to split (splitting on the colon and then on spaces is one way to extract the hour (e.g., 09 for 9 am))."
   ]
  },
  {
   "cell_type": "code",
   "execution_count": null,
   "id": "61cb4750",
   "metadata": {
    "tags": []
   },
   "outputs": [],
   "source": [
    "hand = open('emails.txt')\n",
    "hour_of_day = ... \n",
    "for ... in ...: \n",
    "    clean_line = line.rstrip() # remove trailing characters\n",
    "    if not clean_line.startswith('From '): \n",
    "        continue # do nothing if it is not a line we are interested in \n",
    "    x = ... # split on colon \n",
    "    y = ... # split on space \n",
    "    ... # add hour to list \n",
    "hand.close()\n",
    "\n",
    "hour_of_day"
   ]
  },
  {
   "cell_type": "code",
   "execution_count": null,
   "id": "ad61fa59",
   "metadata": {
    "deletable": false,
    "editable": false
   },
   "outputs": [],
   "source": [
    "grader.check(\"q4_1\")"
   ]
  },
  {
   "cell_type": "markdown",
   "id": "882974f9",
   "metadata": {},
   "source": [
    "**Question 4.2:** Using *emails.txt*, extract the hour of day that email messages were sent and put them into a list like you did in question 4.1. This time, use regular expression.\n",
    "\n",
    "*HINT:* Look for lines that start with `From` then have a space, potentially some number of characters followed by a space and two digits followed by a colon.  Extract the two digits, indicated with the square brackets."
   ]
  },
  {
   "cell_type": "code",
   "execution_count": null,
   "id": "9cf2e220",
   "metadata": {
    "tags": []
   },
   "outputs": [],
   "source": [
    "hand = open('emails.txt')\n",
    "hour_of_day_with_re = []\n",
    "...\n",
    "    clean_line = ...\n",
    "    x = ...\n",
    "    ...\n",
    "        ...\n",
    "hand.close()\n",
    "hour_of_day"
   ]
  },
  {
   "cell_type": "code",
   "execution_count": null,
   "id": "d7b737e7",
   "metadata": {
    "deletable": false,
    "editable": false
   },
   "outputs": [],
   "source": [
    "grader.check(\"q4_2\")"
   ]
  },
  {
   "cell_type": "markdown",
   "id": "b5684ae9",
   "metadata": {},
   "source": [
    "### 5. Main Course\n",
    "In this proble you will read through and parse a file with text and numbers. You will extract all the numbers in the file and compute the sum of the numbers.  \n",
    "\n",
    "\n",
    "The file contains text from a data science textbook introduction with random numbers inserted through the verbage.\n",
    "\n",
    "For example, the text might look like this:\n",
    "\n",
    "Why should you learn to write programs? 7746\n",
    "12 1929 8827\n",
    "Writing programs (or programming) is a very creative \n",
    "7 and rewarding activity.  You can write programs for \n",
    "many reasons, ranging from making your living to solving\n",
    "8837 a difficult data analysis problem to having fun to helping 128\n",
    "someone else solve a problem.  This book assumes that \n",
    "everyone needs to know how to program ...\n",
    "\n",
    "\n",
    "The data can be found at this link: http://py4e-data.dr-chuck.net/regex_sum_1742785.txt. \n",
    "\n",
    "The basic outline of this problem is to \n",
    "- read the file\n",
    "- look for integers using the `re.findall()`\n",
    "- look for a regular expression of `'[0-9]+'` \n",
    "- convert the extracted strings to integers\n",
    "- sum up the integers.\n"
   ]
  },
  {
   "cell_type": "markdown",
   "id": "a1a0d991",
   "metadata": {},
   "source": [
    "**Question 5.1:** Download the file from the link above and read the file. Look for integers using `re.findall()`. Make a list of lists containing the numbers in each line of the file. "
   ]
  },
  {
   "cell_type": "code",
   "execution_count": null,
   "id": "75ce7e85",
   "metadata": {
    "tags": []
   },
   "outputs": [],
   "source": [
    "file = open('regex_sum_1742785.txt')\n",
    "\n",
    "numbers_in_line = ...\n",
    "...\n",
    "    ...\n",
    "    \n",
    "file.close()\n",
    "numbers_in_line"
   ]
  },
  {
   "cell_type": "code",
   "execution_count": null,
   "id": "05933bd5",
   "metadata": {
    "deletable": false,
    "editable": false
   },
   "outputs": [],
   "source": [
    "grader.check(\"q5_1\")"
   ]
  },
  {
   "cell_type": "markdown",
   "id": "5d28eca3",
   "metadata": {},
   "source": [
    "**Question 5.2:** Convert the strings from the previous question to integers."
   ]
  },
  {
   "cell_type": "code",
   "execution_count": null,
   "id": "b57d9ba5",
   "metadata": {
    "tags": []
   },
   "outputs": [],
   "source": [
    "strings_to_ints = ...\n",
    "...\n",
    "    ...\n",
    "        ...\n",
    "            ...\n",
    "strings_to_ints         "
   ]
  },
  {
   "cell_type": "code",
   "execution_count": null,
   "id": "99a63710",
   "metadata": {
    "deletable": false,
    "editable": false
   },
   "outputs": [],
   "source": [
    "grader.check(\"q5_2\")"
   ]
  },
  {
   "cell_type": "markdown",
   "id": "6aec13a4",
   "metadata": {},
   "source": [
    "**Question 5.3:** Add up all the integers from problem 5.2. "
   ]
  },
  {
   "cell_type": "code",
   "execution_count": null,
   "id": "eba9a292",
   "metadata": {
    "tags": []
   },
   "outputs": [],
   "source": [
    "sum_all_nums = ...\n",
    "sum_all_nums"
   ]
  },
  {
   "cell_type": "code",
   "execution_count": null,
   "id": "b6f0f95c",
   "metadata": {
    "deletable": false,
    "editable": false
   },
   "outputs": [],
   "source": [
    "grader.check(\"q5_3\")"
   ]
  },
  {
   "cell_type": "markdown",
   "id": "18536349",
   "metadata": {},
   "source": [
    "### 6. Dessert\n",
    "Huntington's Disease is a neurogenerative disorder and is linked to the anomalous expansion of the number of tribucleotide repeats in particular genes.  Human beings have 23 pairs of chromosomes in our cells and each of our parents contributes one chromosome to each pair. The gene that causes Huntington's Disease (HD) is found on chromosome 4.  Each of us gets one copy of the gene from our mother and one copy from our father.\n",
    "\n",
    "The gene responsible for HD contains a sequence with several CAG repeats (cytosine, adenine, guanine which are bases forming this specific codon). We all have these CAG repeats in the gene that codes for the huntingtin protein, but people with HD have a greater number than usual of CAG repeats in one of the genes they inherited.  (This protein is found in many of the body's tissues, with the highest levels of activity in the brain. Within cells, this protein may be involved in chemical signaling, transporting materials, binding to proteins and other structures, etc.)\n",
    "\n",
    "The actual number of repeats of a specific codon determines the risk of developing HD. More than 35 repeats virtually assures the disease.  In this task, we will use regular expression to find the number of repeats of the CAG codon in a specific mRNA sequence."
   ]
  },
  {
   "cell_type": "markdown",
   "id": "e2be4d87",
   "metadata": {},
   "source": [
    "**Question 6:** Using the *HTTmRNA.txt* file ([source](https://www.ncbi.nlm.nih.gov/nuccore/NM_002111.8?report=fasta)), use regular expression to determine how many times either CAG is repeated. *HINT:* You may have to play around with the pattern to figure this out. "
   ]
  },
  {
   "cell_type": "code",
   "execution_count": null,
   "id": "8f6dc07d",
   "metadata": {
    "tags": []
   },
   "outputs": [],
   "source": [
    "fhand = open('HTTmRNA.txt')\n",
    "htt_mRNA = ...\n",
    "htt_pattern = ...\n",
    "match = ...\n",
    "print(len(match))\n",
    "num_repeats = ...\n",
    "fhand.close()"
   ]
  },
  {
   "cell_type": "code",
   "execution_count": null,
   "id": "31bb758c",
   "metadata": {
    "deletable": false,
    "editable": false
   },
   "outputs": [],
   "source": [
    "grader.check(\"q6_1\")"
   ]
  },
  {
   "cell_type": "markdown",
   "id": "89d3c44e",
   "metadata": {},
   "source": [
    "### You're done!\n",
    "Congratulations on finishing Lab 3! Gus is very proud of you. Run the cell below to download a zip and upload to Canvas. \n",
    "\n",
    "<img src=\"gus_spies_on_neighbors.JPG\" alt=\"drawing\" width=\"300\"/>\n",
    "\n",
    "### References\n",
    "- Python for Everybody: Exploring Data in Python 3 by Charles Severance.  https://www.py4e.com/book.php\n",
    "- Möncke‐Buchner, Elisabeth, et al. \"Counting CAG repeats in the Huntington’s disease gene by restriction endonuclease Eco P15I cleavage.\" Nucleic Acids Research 30.16 (2002): e83-e83.\n",
    "- A Primer for Computational Biology by Shawn T. ONeil https://open.oregonstate.education/computationalbiology/chapter/bioinformatics-knick-knacks-and-regular-expressions/\n",
    "- Using Regular Expression in Genetics with Python by Stephen Fordham.  https://towardsdatascience.com/using-regular-expression-in-genetics-with-python-175e2b9395c2"
   ]
  },
  {
   "cell_type": "markdown",
   "id": "61cda0cf",
   "metadata": {
    "deletable": false,
    "editable": false
   },
   "source": [
    "## Submission\n",
    "\n",
    "Make sure you have run all cells in your notebook in order before running the cell below, so that all images/graphs appear in the output. The cell below will generate a zip file for you to submit. **Please save before exporting!**"
   ]
  },
  {
   "cell_type": "code",
   "execution_count": null,
   "id": "acbecc41",
   "metadata": {
    "deletable": false,
    "editable": false
   },
   "outputs": [],
   "source": [
    "# Save your notebook first, then run this cell to export your submission.\n",
    "grader.export(pdf=False, run_tests=True)"
   ]
  },
  {
   "cell_type": "markdown",
   "id": "e360e3b8",
   "metadata": {},
   "source": [
    " "
   ]
  }
 ],
 "metadata": {
  "kernelspec": {
   "display_name": "Python 3 (ipykernel)",
   "language": "python",
   "name": "python3"
  },
  "language_info": {
   "codemirror_mode": {
    "name": "ipython",
    "version": 3
   },
   "file_extension": ".py",
   "mimetype": "text/x-python",
   "name": "python",
   "nbconvert_exporter": "python",
   "pygments_lexer": "ipython3",
   "version": "3.11.4"
  },
  "otter": {
   "OK_FORMAT": true,
   "tests": {
    "q2": {
     "name": "q2",
     "points": null,
     "suites": [
      {
       "cases": [
        {
         "code": ">>> from_lines != []\nTrue",
         "hidden": false,
         "locked": false
        },
        {
         "code": ">>> from_lines[0]\n'From stephen.marquard@uct.ac.za Sat Jan  5 09:14:16 2008'",
         "hidden": false,
         "locked": false
        },
        {
         "code": ">>> from_lines[8]\n'From zqian@umich.edu Fri Jan  4 15:03:18 2008'",
         "hidden": false,
         "locked": false
        }
       ],
       "scored": true,
       "setup": "",
       "teardown": "",
       "type": "doctest"
      }
     ]
    },
    "q3_1": {
     "name": "q3_1",
     "points": null,
     "suites": [
      {
       "cases": [
        {
         "code": ">>> number != ...\nTrue",
         "hidden": false,
         "locked": false
        },
        {
         "code": ">>> type(number) == float\nTrue",
         "hidden": false,
         "locked": false
        },
        {
         "code": ">>> number\n0.8475",
         "hidden": false,
         "locked": false
        }
       ],
       "scored": true,
       "setup": "",
       "teardown": "",
       "type": "doctest"
      }
     ]
    },
    "q3_2": {
     "name": "q3_2",
     "points": null,
     "suites": [
      {
       "cases": [
        {
         "code": ">>> number_with_re != ...\nTrue",
         "hidden": false,
         "locked": false
        },
        {
         "code": ">>> type(number_with_re) == float\nTrue",
         "hidden": false,
         "locked": false
        },
        {
         "code": ">>> number_with_re\n0.8475",
         "hidden": false,
         "locked": false
        }
       ],
       "scored": true,
       "setup": "",
       "teardown": "",
       "type": "doctest"
      }
     ]
    },
    "q4_1": {
     "name": "q4_1",
     "points": null,
     "suites": [
      {
       "cases": [
        {
         "code": ">>> hour_of_day != []\nTrue",
         "hidden": false,
         "locked": false
        },
        {
         "code": ">>> type(hour_of_day) == list\nTrue",
         "hidden": false,
         "locked": false
        },
        {
         "code": ">>> hour_of_day[0:5]\n['09', '18', '16', '15', '15']",
         "hidden": false,
         "locked": false
        }
       ],
       "scored": true,
       "setup": "",
       "teardown": "",
       "type": "doctest"
      }
     ]
    },
    "q4_2": {
     "name": "q4_2",
     "points": null,
     "suites": [
      {
       "cases": [
        {
         "code": ">>> hour_of_day_with_re != []\nTrue",
         "hidden": false,
         "locked": false
        },
        {
         "code": ">>> type(hour_of_day_with_re) == list\nTrue",
         "hidden": false,
         "locked": false
        },
        {
         "code": ">>> hour_of_day_with_re[0:5]\n['09', '18', '16', '15', '15']",
         "hidden": false,
         "locked": false
        }
       ],
       "scored": true,
       "setup": "",
       "teardown": "",
       "type": "doctest"
      }
     ]
    },
    "q5_1": {
     "name": "q5_1",
     "points": null,
     "suites": [
      {
       "cases": [
        {
         "code": ">>> numbers_in_line != []\nTrue",
         "hidden": false,
         "locked": false
        },
        {
         "code": ">>> type(numbers_in_line) == list\nTrue",
         "hidden": false,
         "locked": false
        },
        {
         "code": ">>> numbers_in_line[15:25]\n[[], [], [], [], [], ['7650', '7987'], [], [], [], []]",
         "hidden": false,
         "locked": false
        }
       ],
       "scored": true,
       "setup": "",
       "teardown": "",
       "type": "doctest"
      }
     ]
    },
    "q5_2": {
     "name": "q5_2",
     "points": null,
     "suites": [
      {
       "cases": [
        {
         "code": ">>> strings_to_ints != []\nTrue",
         "hidden": false,
         "locked": false
        },
        {
         "code": ">>> type(strings_to_ints) == list\nTrue",
         "hidden": false,
         "locked": false
        },
        {
         "code": ">>> strings_to_ints[:5]\n[7650, 7987, 4248, 4952, 9763]",
         "hidden": false,
         "locked": false
        }
       ],
       "scored": true,
       "setup": "",
       "teardown": "",
       "type": "doctest"
      }
     ]
    },
    "q5_3": {
     "name": "q5_3",
     "points": null,
     "suites": [
      {
       "cases": [
        {
         "code": ">>> sum_all_nums != []\nTrue",
         "hidden": false,
         "locked": false
        },
        {
         "code": ">>> sum_all_nums\n406927",
         "hidden": false,
         "locked": false
        }
       ],
       "scored": true,
       "setup": "",
       "teardown": "",
       "type": "doctest"
      }
     ]
    },
    "q6_1": {
     "name": "q6_1",
     "points": null,
     "suites": [
      {
       "cases": [
        {
         "code": ">>> htt_pattern\n'(CAG){16,}'",
         "hidden": false,
         "locked": false
        },
        {
         "code": ">>> num_repeats\n16",
         "hidden": false,
         "locked": false
        }
       ],
       "scored": true,
       "setup": "",
       "teardown": "",
       "type": "doctest"
      }
     ]
    }
   }
  }
 },
 "nbformat": 4,
 "nbformat_minor": 5
}
