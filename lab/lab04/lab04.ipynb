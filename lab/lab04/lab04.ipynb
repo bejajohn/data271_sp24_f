{
 "cells": [
  {
   "cell_type": "code",
   "execution_count": null,
   "id": "789410e9",
   "metadata": {
    "deletable": false,
    "editable": false
   },
   "outputs": [],
   "source": [
    "# Initialize Otter\n",
    "import otter\n",
    "grader = otter.Notebook(\"lab04.ipynb\")"
   ]
  },
  {
   "cell_type": "markdown",
   "id": "b5295c53",
   "metadata": {},
   "source": [
    "# Intro to Numpy \n",
    "Welcome to Lab 4 of DATA 271! In this lab we will get practice with the Numpy module. \n",
    "\n",
    "\n",
    "## Overview\n",
    "Numpy (which stands for numerical Python) is one of Python's most vital libraries for data science.  Its key data format is the array (ndarray), which is useful for numerical and scientific computational tasks.  The ndarray is a multidimensional array which provides fast array-oriented arithmetic operations (without having to write loops).  Computations performed this way are called vectorized.  This results in concise code that is easy to read, as well as speed compared to element-by-element computation.\n",
    "\n",
    "\n",
    "Having familiarity with array-oriented semantics will help us use future tools (like Pandas) more effectively.  Numpy is the foundation for nearly all numerical libraries for Python. \n",
    "\n",
    "The main areas of functionality we will focus on are\n",
    "- fast vectorized array operations for data munging and cleaning, subsetting, filtering, and transforming\n",
    "- common array algorithms such as sorting, unique and set operations\n",
    "- using descriptive statistics and aggregating/summarizing data\n",
    "- group-wise data manipultions\n",
    "\n",
    "Numpy also has statistical functions, random number functions, a linear algebra library, and other functionality.\n",
    "\n",
    "### ndarray\n",
    "The N-dimensional array (ndarray) is the key object in Numpy, and the main data structure.  It is a fast, flexible \"container\" for large data numerical sets where all entries are of the same type (\"homogenous\" data).  The data structure also contains important metadata about the array (such as its shape, size, data type).\n",
    "\n",
    "Its beauty resides in the ability to perform mathematical operations on whole blocks of data using similar syntax to what we use for scalar operations.  Arrays are of fixed size (they cannot be resized without creating a new array).\n",
    "\n",
    "### Broadcasting\n",
    "Another trait which is extremely convenient in Numpy is **broadcasting**.  The term broadcasting describes how NumPy treats arrays with different shapes during arithmetic operations. Subject to certain constraints, the smaller array is “broadcast” across the larger array so that they have compatible shapes. Broadcasting provides a means of vectorizing array operations so that looping occurs in C instead of Python. It does this without making needless copies of data and usually leads to efficient algorithm implementations. \n",
    "\n"
   ]
  },
  {
   "cell_type": "code",
   "execution_count": null,
   "id": "8249a1ac",
   "metadata": {},
   "outputs": [],
   "source": [
    "import numpy as np"
   ]
  },
  {
   "cell_type": "markdown",
   "id": "ab395594",
   "metadata": {},
   "source": [
    "### Creating arrays explicitly\n",
    "We can explictily generate small arrays using the `np.array` function.  The function takes a nested list where each element in the outer list contains the entries for a row in the array.  For larger arrays, it would be tedious to enter data by hand."
   ]
  },
  {
   "cell_type": "code",
   "execution_count": null,
   "id": "1415cab0",
   "metadata": {},
   "outputs": [],
   "source": [
    "data = np.array([[1, 2], [3, 4], [5, 6]]) # create an array with 3 rows and 2 columns by using nested list\n",
    "data\n",
    "type(data) # numpy.ndarray\n",
    "data.ndim # number of dimensions/axes\n",
    "data.shape # number of rows, then number of columns\n",
    "data.size # number of elements-- always the product of number of rows * number of columns"
   ]
  },
  {
   "cell_type": "markdown",
   "id": "db70cc7b",
   "metadata": {},
   "source": [
    "**Question 1:** Create an array \\begin{bmatrix}\n",
    "1 & 6 & 3\\\\\n",
    "0 & 2 & 1\n",
    "\\end{bmatrix}\n",
    "and determine the number of dimensions, the shape, and the size."
   ]
  },
  {
   "cell_type": "code",
   "execution_count": null,
   "id": "53ff5a5c",
   "metadata": {
    "tags": []
   },
   "outputs": [],
   "source": [
    "my_array = ...\n",
    "\n",
    "number_of_dimensions = ...\n",
    "shape_of_my_array = ...\n",
    "size_of_my_array = ..."
   ]
  },
  {
   "cell_type": "code",
   "execution_count": null,
   "id": "a33241af",
   "metadata": {
    "deletable": false,
    "editable": false
   },
   "outputs": [],
   "source": [
    "grader.check(\"q1\")"
   ]
  },
  {
   "cell_type": "markdown",
   "id": "3240492b",
   "metadata": {},
   "source": [
    "### Creating arrays that follow specific rules\n",
    "Numpy has a number of built in functions to create arrays of a specific type\n",
    "- `np.zeros((3, 4))` creates an array of size 3 x 4 with all zeros\n",
    "- `np.ones((3, 4))` creates an array of size 3 x 4 with all ones (this could be multipled by a scalar to create an array of all constants)\n",
    "- `np.full((3, 4), 8)` creates a 3 x 4 array with 8 in each entry\n",
    "- `np.eye(5)` creates a 5 x 5 array with ones on the diagonal and zeros elsewhere (the identity matrix)\n",
    "- `np.linspace(0, 100, 6)` creates an array of 6 evenly divided values between 0 and 100\n",
    "- `np.arange(0, 10, 3)` creates an array of values from 0 up to but not including 10 with step size of 3\n",
    "\n",
    "Numpy also has a number of functions which create arrays of random numbers.  This is especially useful for simulation (e.g., Monte Carlo).  See the $\\pi$ estimation example below."
   ]
  },
  {
   "cell_type": "markdown",
   "id": "af131186",
   "metadata": {},
   "source": [
    "**Question 2:** Complete the following:\n",
    "- Assign `A` to a 2 x 3 matrix filled with the number 7\n",
    "- Assign `B` to a 4 x 4 identity matrix (ones on the diagonal and zeros everywhere else)\n",
    "- Assign `C` to a one-dimensional array with 5 numbers total which are evenly spaced and with first entry a 2 and last entry a 3\n",
    "- Assign `D` to a one-dimensional array with the numbers 0, 1, 2\n",
    "- Assign `E` to a 4 x 4 array with the numbers 0, 5, 10, 15 on the diagonal and zeros elsewhere. Make the elements of the array type int.  \n",
    "Feel free to use online documentation.  When possible, if there are multiple ways to create the same array, demonstrate several."
   ]
  },
  {
   "cell_type": "code",
   "execution_count": null,
   "id": "ffd98d83",
   "metadata": {
    "scrolled": true,
    "tags": []
   },
   "outputs": [],
   "source": [
    "# option 1\n",
    "A = ...\n",
    "A\n",
    "# option 2\n",
    "A = ...\n",
    "A"
   ]
  },
  {
   "cell_type": "code",
   "execution_count": null,
   "id": "14338746",
   "metadata": {
    "tags": []
   },
   "outputs": [],
   "source": [
    "B = ...\n",
    "B"
   ]
  },
  {
   "cell_type": "code",
   "execution_count": null,
   "id": "60ed3ba5",
   "metadata": {
    "tags": []
   },
   "outputs": [],
   "source": [
    "C = ...\n",
    "C"
   ]
  },
  {
   "cell_type": "code",
   "execution_count": null,
   "id": "c4d6bb41",
   "metadata": {
    "tags": []
   },
   "outputs": [],
   "source": [
    "# option 1\n",
    "D = ...\n",
    "D\n",
    "# option 2\n",
    "D = ...\n",
    "D"
   ]
  },
  {
   "cell_type": "code",
   "execution_count": null,
   "id": "7a81beca",
   "metadata": {
    "scrolled": true,
    "tags": []
   },
   "outputs": [],
   "source": [
    "# option 1\n",
    "E = ...\n",
    "E\n",
    "# option 2\n",
    "E = ...\n",
    "E"
   ]
  },
  {
   "cell_type": "code",
   "execution_count": null,
   "id": "1c6900a1",
   "metadata": {
    "deletable": false,
    "editable": false
   },
   "outputs": [],
   "source": [
    "grader.check(\"q2\")"
   ]
  },
  {
   "cell_type": "markdown",
   "id": "00145cef",
   "metadata": {},
   "source": [
    "### Indexing and Slicing\n",
    "Elements and subarrays of NumPy arrays are accessed using the standard square bracket notation that is also used with Python lists.  In general, the expression in the bracket is a tuple where each item in the tuple is a specifiction of which elements to access from each axis (dimension) of the array.\n",
    "\n",
    "Subarrays extracted from arrays using slicing and indexing are alternative views of the same underlying array data (they are arrays that refer to the same data in the memory as the original array).  If elements in views are assigned new values, the values of the original array are updated.  Be aware of this.\n",
    "\n",
    "If you would prefer to have a copy rather than a view (so you don't overwrite original data), you can use the copy() method.  Then changes to the copy do not affect the original array.\n"
   ]
  },
  {
   "cell_type": "code",
   "execution_count": null,
   "id": "818aeea1",
   "metadata": {},
   "outputs": [],
   "source": [
    "# 1 dimensional example\n",
    "a = np.arange(0, 11)\n",
    "a"
   ]
  },
  {
   "cell_type": "code",
   "execution_count": null,
   "id": "8b182b48",
   "metadata": {},
   "outputs": [],
   "source": [
    "# select the first element\n",
    "a[0]"
   ]
  },
  {
   "cell_type": "code",
   "execution_count": null,
   "id": "3c4e6574",
   "metadata": {},
   "outputs": [],
   "source": [
    "# select the last last\n",
    "a[-1]"
   ]
  },
  {
   "cell_type": "code",
   "execution_count": null,
   "id": "cc5efc96",
   "metadata": {},
   "outputs": [],
   "source": [
    "# select the 5th element, at index 4\n",
    "a[4]"
   ]
  },
  {
   "cell_type": "code",
   "execution_count": null,
   "id": "323616ba",
   "metadata": {},
   "outputs": [],
   "source": [
    "# select the second to the second to last elements\n",
    "a[1:-1]"
   ]
  },
  {
   "cell_type": "code",
   "execution_count": null,
   "id": "b724699f",
   "metadata": {},
   "outputs": [],
   "source": [
    "# select first 5 elements\n",
    "a[:5]"
   ]
  },
  {
   "cell_type": "code",
   "execution_count": null,
   "id": "4eb8d57c",
   "metadata": {},
   "outputs": [],
   "source": [
    "#select last 5 elements\n",
    "a[-5:]"
   ]
  },
  {
   "cell_type": "code",
   "execution_count": null,
   "id": "0d7fc8d7",
   "metadata": {},
   "outputs": [],
   "source": [
    "# reverse the array and select every second value\n",
    "a[:: -2]"
   ]
  },
  {
   "cell_type": "markdown",
   "id": "be5da588",
   "metadata": {},
   "source": [
    "**Question 3.1:** Create a one dimensional array `array1` with 5 evenly spaced entries starting at 2 and ending at 14. "
   ]
  },
  {
   "cell_type": "code",
   "execution_count": null,
   "id": "0d39435f",
   "metadata": {
    "tags": []
   },
   "outputs": [],
   "source": [
    "array1 = ...\n",
    "array1"
   ]
  },
  {
   "cell_type": "code",
   "execution_count": null,
   "id": "db51ad41",
   "metadata": {
    "deletable": false,
    "editable": false
   },
   "outputs": [],
   "source": [
    "grader.check(\"q3_1\")"
   ]
  },
  {
   "cell_type": "markdown",
   "id": "31faee19",
   "metadata": {},
   "source": [
    "**Question 3.2:** Select the third element of `array1`."
   ]
  },
  {
   "cell_type": "code",
   "execution_count": null,
   "id": "21cf942a",
   "metadata": {
    "tags": []
   },
   "outputs": [],
   "source": [
    "third_element = ...\n",
    "third_element"
   ]
  },
  {
   "cell_type": "code",
   "execution_count": null,
   "id": "9538e8d7",
   "metadata": {
    "deletable": false,
    "editable": false
   },
   "outputs": [],
   "source": [
    "grader.check(\"q3_2\")"
   ]
  },
  {
   "cell_type": "markdown",
   "id": "6fe14903",
   "metadata": {},
   "source": [
    "**Question 3.3:** Select the second to last element of `array1`."
   ]
  },
  {
   "cell_type": "code",
   "execution_count": null,
   "id": "fb576f29",
   "metadata": {
    "tags": []
   },
   "outputs": [],
   "source": [
    "second_to_last = ...\n",
    "second_to_last"
   ]
  },
  {
   "cell_type": "code",
   "execution_count": null,
   "id": "a77829de",
   "metadata": {
    "deletable": false,
    "editable": false
   },
   "outputs": [],
   "source": [
    "grader.check(\"q3_3\")"
   ]
  },
  {
   "cell_type": "markdown",
   "id": "de77e826",
   "metadata": {},
   "source": [
    "**Question 3.4:** Select from the second element to last element of `array1`."
   ]
  },
  {
   "cell_type": "code",
   "execution_count": null,
   "id": "967476c6",
   "metadata": {
    "tags": []
   },
   "outputs": [],
   "source": [
    "second_element_to_last = ...\n",
    "second_element_to_last"
   ]
  },
  {
   "cell_type": "code",
   "execution_count": null,
   "id": "dc1f21d5",
   "metadata": {
    "deletable": false,
    "editable": false
   },
   "outputs": [],
   "source": [
    "grader.check(\"q3_4\")"
   ]
  },
  {
   "cell_type": "markdown",
   "id": "942f9e8c",
   "metadata": {},
   "source": [
    "**Question 3.5:** Reverse the order of `array1`."
   ]
  },
  {
   "cell_type": "code",
   "execution_count": null,
   "id": "121e221a",
   "metadata": {
    "tags": []
   },
   "outputs": [],
   "source": [
    "reversed_array1 = ...\n",
    "reversed_array1"
   ]
  },
  {
   "cell_type": "code",
   "execution_count": null,
   "id": "90d1db28",
   "metadata": {
    "deletable": false,
    "editable": false
   },
   "outputs": [],
   "source": [
    "grader.check(\"q3_5\")"
   ]
  },
  {
   "cell_type": "markdown",
   "id": "b0b21afd",
   "metadata": {},
   "source": [
    "### Extracting Columns, Rows, and Subarrays"
   ]
  },
  {
   "cell_type": "markdown",
   "id": "af290d09",
   "metadata": {},
   "source": [
    "The cell below contains a NumPy function we have not covered. You might find [this documentation](https://numpy.org/doc/stable/reference/generated/numpy.fromfunction.html) helpful as a reference for understanding it, but it is not necessary to complete the exercise."
   ]
  },
  {
   "cell_type": "code",
   "execution_count": null,
   "id": "933d74ee",
   "metadata": {},
   "outputs": [],
   "source": [
    "# lambda function we will use to populate entries as column number + 10 times row number\n",
    "f = lambda m, n: n + 10 * m\n",
    "A = np.fromfunction(f, (6,6), dtype = int)\n",
    "A"
   ]
  },
  {
   "cell_type": "code",
   "execution_count": null,
   "id": "f47cee78",
   "metadata": {},
   "outputs": [],
   "source": [
    "# extract second column\n",
    "A[:, 1]"
   ]
  },
  {
   "cell_type": "code",
   "execution_count": null,
   "id": "0ff34bb6",
   "metadata": {},
   "outputs": [],
   "source": [
    "# extract 3rd row\n",
    "A[2, :]"
   ]
  },
  {
   "cell_type": "code",
   "execution_count": null,
   "id": "563a9787",
   "metadata": {},
   "outputs": [],
   "source": [
    "# extract upper diagonal left quadrant\n",
    "A[:3, :3] "
   ]
  },
  {
   "cell_type": "code",
   "execution_count": null,
   "id": "5f6e7fc4",
   "metadata": {},
   "outputs": [],
   "source": [
    "# extract subarray with every second element\n",
    "A[::2, ::2]"
   ]
  },
  {
   "cell_type": "markdown",
   "id": "297353fe",
   "metadata": {},
   "source": [
    "**Question 4.1:** Create an array `array2`, \\begin{bmatrix}\n",
    "1 & 2 & 3 & 4 & 5\\\\\n",
    "6 & 7 & 8 & 9 & 10\\\\\n",
    "11 & 12 & 13 & 14 & 15\n",
    "\\end{bmatrix}"
   ]
  },
  {
   "cell_type": "code",
   "execution_count": null,
   "id": "97ecc092",
   "metadata": {
    "tags": []
   },
   "outputs": [],
   "source": [
    "array2 = ...\n",
    "array2"
   ]
  },
  {
   "cell_type": "code",
   "execution_count": null,
   "id": "7a6870cb",
   "metadata": {
    "deletable": false,
    "editable": false
   },
   "outputs": [],
   "source": [
    "grader.check(\"q4_1\")"
   ]
  },
  {
   "cell_type": "markdown",
   "id": "1b76d641",
   "metadata": {},
   "source": [
    "**Question 4.2:** Make a copy of `array2` called `array2_copy`. "
   ]
  },
  {
   "cell_type": "code",
   "execution_count": null,
   "id": "6bb18b8b",
   "metadata": {
    "tags": []
   },
   "outputs": [],
   "source": []
  },
  {
   "cell_type": "code",
   "execution_count": null,
   "id": "664e26ae",
   "metadata": {
    "deletable": false,
    "editable": false
   },
   "outputs": [],
   "source": [
    "grader.check(\"q4_2\")"
   ]
  },
  {
   "cell_type": "markdown",
   "id": "aec5ae7a",
   "metadata": {},
   "source": [
    "**Question 4.3:** In `array2_copy`, replace the element in the first row and first column with the number $27$"
   ]
  },
  {
   "cell_type": "code",
   "execution_count": null,
   "id": "70755284",
   "metadata": {
    "tags": []
   },
   "outputs": [],
   "source": []
  },
  {
   "cell_type": "code",
   "execution_count": null,
   "id": "c6d156e7",
   "metadata": {
    "deletable": false,
    "editable": false
   },
   "outputs": [],
   "source": [
    "grader.check(\"q4_3\")"
   ]
  },
  {
   "cell_type": "markdown",
   "id": "ce899c1e",
   "metadata": {},
   "source": [
    "**Question 4.4:** In `array2_copy`, extract a subarray by taking every other element in the second and third rows."
   ]
  },
  {
   "cell_type": "code",
   "execution_count": null,
   "id": "80061245",
   "metadata": {
    "tags": []
   },
   "outputs": [],
   "source": [
    "subarray = ...\n",
    "subarray"
   ]
  },
  {
   "cell_type": "code",
   "execution_count": null,
   "id": "57882141",
   "metadata": {
    "deletable": false,
    "editable": false
   },
   "outputs": [],
   "source": [
    "grader.check(\"q4_4\")"
   ]
  },
  {
   "cell_type": "markdown",
   "id": "66cda4d4",
   "metadata": {},
   "source": [
    "**Question 4.5:** Verify that the original array has not been modified. "
   ]
  },
  {
   "cell_type": "code",
   "execution_count": null,
   "id": "0e92737f",
   "metadata": {
    "tags": []
   },
   "outputs": [],
   "source": []
  },
  {
   "cell_type": "code",
   "execution_count": null,
   "id": "5e0658c1",
   "metadata": {
    "deletable": false,
    "editable": false
   },
   "outputs": [],
   "source": [
    "grader.check(\"q4_5\")"
   ]
  },
  {
   "cell_type": "markdown",
   "id": "ba791048",
   "metadata": {},
   "source": [
    "### Fancy and Boolean Valued Indexing\n",
    "Fancy indexing allows us to index an array with another NumPy array or a Python list.  We can also index with boolean values.\n",
    "In these instances, the array returned is not a view but a new, independent array."
   ]
  },
  {
   "cell_type": "code",
   "execution_count": null,
   "id": "cdd42b87",
   "metadata": {},
   "outputs": [],
   "source": [
    "# create 1d array\n",
    "A = np.linspace(0, 1, 11) # array with 11 elements evenly spaced between 0 and 1, inclusive\n",
    "A[np.array([1, 3, 7])] # create a one dimensional array with elements 1, 3, 7 and use this to index values\n"
   ]
  },
  {
   "cell_type": "code",
   "execution_count": null,
   "id": "bfbca152",
   "metadata": {},
   "outputs": [],
   "source": [
    "# we can accomplish the same thing by indexing with a Python list\n",
    "A[[1, 3, 7]]"
   ]
  },
  {
   "cell_type": "code",
   "execution_count": null,
   "id": "a8d10f6d",
   "metadata": {},
   "outputs": [],
   "source": [
    "# we can also index using a Boolean-valued index array\n",
    "# extract all values in the original array which are > .5\n",
    "A[A > .5]\n",
    "# note: A > .5 returns an array with boolean values true and false"
   ]
  },
  {
   "cell_type": "markdown",
   "id": "47d7fb32",
   "metadata": {},
   "source": [
    "**Question 5.1:** Create the following one-dimenstional array `array3` containing $3,4,6,10,24,89,45,43,46,99,100$. Use Boolean masking to make an array containing all the numbers from `array3` that are not divisible by 3. "
   ]
  },
  {
   "cell_type": "code",
   "execution_count": null,
   "id": "2b4ba196",
   "metadata": {
    "tags": []
   },
   "outputs": [],
   "source": [
    "array3 = ...\n",
    "not_div_3 = ...\n",
    "not_div_3"
   ]
  },
  {
   "cell_type": "code",
   "execution_count": null,
   "id": "4a59adea",
   "metadata": {
    "deletable": false,
    "editable": false
   },
   "outputs": [],
   "source": [
    "grader.check(\"q5_1\")"
   ]
  },
  {
   "cell_type": "markdown",
   "id": "694062be",
   "metadata": {},
   "source": [
    "**Question 5.2:** Using `array3` and Boolean masking, make an array containing all the numbers from `array3` that are divisible by 5. "
   ]
  },
  {
   "cell_type": "code",
   "execution_count": null,
   "id": "f2a9359c",
   "metadata": {
    "tags": []
   },
   "outputs": [],
   "source": [
    "div5 = ...\n",
    "div5"
   ]
  },
  {
   "cell_type": "code",
   "execution_count": null,
   "id": "cf3a45bc",
   "metadata": {
    "deletable": false,
    "editable": false
   },
   "outputs": [],
   "source": [
    "grader.check(\"q5_2\")"
   ]
  },
  {
   "cell_type": "markdown",
   "id": "b7f7764d",
   "metadata": {},
   "source": [
    "**Question 5.3:** Using `array3` and Boolean masking, make an array containing all the numbers from `array3` that are divisible by 3 and by 5. "
   ]
  },
  {
   "cell_type": "code",
   "execution_count": null,
   "id": "5b8411ce",
   "metadata": {
    "tags": []
   },
   "outputs": [],
   "source": [
    "div3_and_5 = ...\n",
    "div3_and_5"
   ]
  },
  {
   "cell_type": "code",
   "execution_count": null,
   "id": "96c2fa38",
   "metadata": {
    "deletable": false,
    "editable": false
   },
   "outputs": [],
   "source": [
    "grader.check(\"q5_3\")"
   ]
  },
  {
   "cell_type": "markdown",
   "id": "db8bd40e",
   "metadata": {},
   "source": [
    "**Question 5.4:** Using `array3` and Boolean masking, reset these values that are divisible by 3 in the original array to 42."
   ]
  },
  {
   "cell_type": "code",
   "execution_count": null,
   "id": "f7829ad2",
   "metadata": {
    "tags": []
   },
   "outputs": [],
   "source": [
    "array3"
   ]
  },
  {
   "cell_type": "code",
   "execution_count": null,
   "id": "dfee0688",
   "metadata": {
    "deletable": false,
    "editable": false
   },
   "outputs": [],
   "source": [
    "grader.check(\"q5_4\")"
   ]
  },
  {
   "cell_type": "markdown",
   "id": "6af6a0ed",
   "metadata": {},
   "source": [
    "### Reshaping and Resizing Arrays\n",
    "When working with data in arrays, it can be useful to rearrange the arrays and alter the way they are interpreted.  For example, an $N \\times N$ array can be rearranged into a vector of length $N^2$ or several vectors can be concatenated into a longer vector or stacked into a matrix.  Reshaping an array does not modify the underlying array data, and produces a view of the array (if a copy is needed, use `np.copy()`).  It is necessary that the requested new shape match the number of elements in the original array.\n",
    "The `ravel()` function is a special case of reshape which returns a flattened one dimensional array.\n",
    "The functions `vstack()` and `hstack()` allows the joining of arrays either vertically or horizontally."
   ]
  },
  {
   "cell_type": "code",
   "execution_count": null,
   "id": "8989f13f",
   "metadata": {},
   "outputs": [],
   "source": [
    "# reshpaes with function reshape()\n",
    "data = np.array([[1, 2], [3, 4]]) # 2 x 2 array\n",
    "np.reshape(data, (1, 4)) # reshapes into a 1 x 4 vector"
   ]
  },
  {
   "cell_type": "code",
   "execution_count": null,
   "id": "a684b999",
   "metadata": {},
   "outputs": [],
   "source": [
    "# reshapes with method reshape()\n",
    "data = np.array([[1, 2], [3, 4]]) # 2 x 2 array\n",
    "data.reshape(4) # reshapes into a 1 x 4 vector"
   ]
  },
  {
   "cell_type": "code",
   "execution_count": null,
   "id": "92d1aae2",
   "metadata": {},
   "outputs": [],
   "source": [
    "# reshaping\n",
    "A = np.array([1, 2, 3, 4, 5, 6])\n",
    "B = np.reshape(A, (2,3)) # note, product of dimensions must equal # of entries\n",
    "print(B)"
   ]
  },
  {
   "cell_type": "code",
   "execution_count": null,
   "id": "698047e5",
   "metadata": {},
   "outputs": [],
   "source": [
    "x = np.array([[1, 2, 3], [4, 5, 6]])\n",
    "np.ravel(x)"
   ]
  },
  {
   "cell_type": "code",
   "execution_count": null,
   "id": "6a84f288",
   "metadata": {},
   "outputs": [],
   "source": [
    "data = np.arange(5)\n",
    "data\n",
    "np.vstack((data, data, data)) # stacks data as rows vertically"
   ]
  },
  {
   "cell_type": "code",
   "execution_count": null,
   "id": "cd0e15a6",
   "metadata": {},
   "outputs": [],
   "source": [
    "np.hstack((data, data, data)) # stacks data horizontally\n",
    "# equivalent to concatenating 1d array three times"
   ]
  },
  {
   "cell_type": "code",
   "execution_count": null,
   "id": "92e86fa0",
   "metadata": {},
   "outputs": [],
   "source": [
    "# ask hstack to treat input as columns to stack horizontally\n",
    "data = data[:, np.newaxis] # make input arrays 2d with dimensions (1, 5) rather than 1d array of shape (5,)\n",
    "np.hstack((data, data, data))"
   ]
  },
  {
   "cell_type": "markdown",
   "id": "be2d0cec",
   "metadata": {},
   "source": [
    "**Question 6.1:** Reshape the array  [1,2,3,4,5,6,7,8,9,10,11,12] into an array with 4 rows and 3 columns."
   ]
  },
  {
   "cell_type": "code",
   "execution_count": null,
   "id": "109ebf75",
   "metadata": {
    "tags": []
   },
   "outputs": [],
   "source": [
    "orig_array = np.array([1,2,3,4,5,6,7,8,9,10,11,12])\n",
    "reshaped_array = ...\n",
    "reshaped_array"
   ]
  },
  {
   "cell_type": "code",
   "execution_count": null,
   "id": "1c62579a",
   "metadata": {
    "deletable": false,
    "editable": false
   },
   "outputs": [],
   "source": [
    "grader.check(\"q6_1\")"
   ]
  },
  {
   "cell_type": "markdown",
   "id": "941e7234",
   "metadata": {},
   "source": [
    "<!-- BEGIN QUESTION -->\n",
    "\n",
    "**Question 6.2:** Is it possible to reshape the previous array into an array with 2 rows and 5 columns? Why or why not?"
   ]
  },
  {
   "cell_type": "markdown",
   "id": "71bed250",
   "metadata": {},
   "source": [
    "_Type your answer here, replacing this text._"
   ]
  },
  {
   "cell_type": "markdown",
   "id": "a1386b65",
   "metadata": {},
   "source": [
    "<!-- END QUESTION -->\n",
    "\n",
    "**Question 6.3:** Turn this array into a one dimensional array \\begin{bmatrix}\n",
    "1 & 2 & 3 & 4 & 5\\\\\n",
    "6 & 7 & 8 & 9 & 10\\\\\n",
    "11 & 12 & 13 & 14 & 15\n",
    "\\end{bmatrix}"
   ]
  },
  {
   "cell_type": "code",
   "execution_count": null,
   "id": "f0840128",
   "metadata": {
    "tags": []
   },
   "outputs": [],
   "source": [
    "big_ndarray = np.array([[1,2,3,4,5],[6,7,8,9,10],[11,12,13,14,15]])\n",
    "flattened_array = ...\n",
    "flattened_array"
   ]
  },
  {
   "cell_type": "code",
   "execution_count": null,
   "id": "ced905e3",
   "metadata": {
    "deletable": false,
    "editable": false
   },
   "outputs": [],
   "source": [
    "grader.check(\"q6_3\")"
   ]
  },
  {
   "cell_type": "markdown",
   "id": "9f557eb8",
   "metadata": {},
   "source": [
    "**Question 6.4:** Take the row $[1, 2, 3]$ and use array operations to build the following matrices `m1` and `m2`:\n",
    "    $\\begin{bmatrix}\n",
    "1 & 2 & 3\\\\\n",
    "1 & 2 & 3 \\\\\n",
    "1 & 2 & 3 \n",
    "\\end{bmatrix}$ and \n",
    "$\\begin{bmatrix}\n",
    "1 & 1 & 1\\\\\n",
    "2 & 2 & 2 \\\\\n",
    "3 & 3 & 3 \n",
    "\\end{bmatrix}$\n",
    "\n",
    "respectively."
   ]
  },
  {
   "cell_type": "code",
   "execution_count": null,
   "id": "42f27c65",
   "metadata": {
    "tags": []
   },
   "outputs": [],
   "source": [
    "base_array = np.array([1,2,3])\n",
    "m1 = ...\n",
    "print(m1)\n",
    "m2 = ...\n",
    "print(m2)"
   ]
  },
  {
   "cell_type": "code",
   "execution_count": null,
   "id": "82be9f3c",
   "metadata": {
    "deletable": false,
    "editable": false
   },
   "outputs": [],
   "source": [
    "grader.check(\"q6_4\")"
   ]
  },
  {
   "cell_type": "markdown",
   "id": "d484610a",
   "metadata": {},
   "source": [
    "\n",
    "### Broadcasting\n",
    "Numpy allows the user to perform element-wise operations on arrays of different shapes by broadcasting them to a common shape.  This lets us add a scalar value to each element of an array, or to add two arrays of different shapes by automatically expanding the dimension of the smaller array."
   ]
  },
  {
   "cell_type": "code",
   "execution_count": null,
   "id": "299626ce",
   "metadata": {},
   "outputs": [],
   "source": [
    "A = np.array([1, 2, 3, 0])\n",
    "B = 2\n",
    "print(A+B) # note that the scalar 2 was added to each element of the array A"
   ]
  },
  {
   "cell_type": "code",
   "execution_count": null,
   "id": "8af72780",
   "metadata": {},
   "outputs": [],
   "source": [
    "a = np.array([[ 0.0,  0.0,  0.0],\n",
    "              [10.0, 10.0, 10.0],\n",
    "              [20.0, 20.0, 20.0],\n",
    "              [30.0, 30.0, 30.0]])\n",
    "b = np.array([1.0, 2.0, 3.0])\n",
    "# b is added to each row of a\n",
    "a + b"
   ]
  },
  {
   "cell_type": "markdown",
   "id": "9d0f2791",
   "metadata": {},
   "source": [
    "**Question 7.1:** In the Fibonacci Series, each number in the sequence is the sum of the two numbers that precede it. So, the sequence goes: 0, 1, 1, 2, 3, 5, 8, 13, 21, 34,...  \n",
    "\n",
    "Binet's formula (derived by mathematician Jacques Philippe Marie Binet) is an explicit formula used to find the $n$th term of the Fibonacci sequence. It is given by:\n",
    "\n",
    "$$F_n=\\frac{1}{\\sqrt{5}}\\left(\\left(\\frac{1+\\sqrt{5}}{2}\\right)^n-\\left(\\frac{1-\\sqrt{5}}{2}\\right)^n\\right)$$\n",
    "\n",
    "Use NumPy and Binet's formula to make a 1d array containing the first 15 numbers (ints) in the Fibonacci Series. \n",
    "\n",
    "*HINT:* You may have to round your result from Binet's formula and then change the type. "
   ]
  },
  {
   "cell_type": "code",
   "execution_count": null,
   "id": "811d569e",
   "metadata": {
    "tags": []
   },
   "outputs": [],
   "source": [
    "n = ...\n",
    "Fn = ...\n",
    "Fn"
   ]
  },
  {
   "cell_type": "code",
   "execution_count": null,
   "id": "a88c0e8f",
   "metadata": {
    "deletable": false,
    "editable": false
   },
   "outputs": [],
   "source": [
    "grader.check(\"q7_1\")"
   ]
  },
  {
   "cell_type": "markdown",
   "id": "85342898",
   "metadata": {},
   "source": [
    "### Sorting"
   ]
  },
  {
   "cell_type": "code",
   "execution_count": null,
   "id": "ef2239c7",
   "metadata": {},
   "outputs": [],
   "source": [
    "# sort rows of array\n",
    "arr = np.array([[12, 15, 7], [13, 5,11], [8, 6, 10],[45,54,70]]) \n",
    "arr2 = np.sort(arr)  \n",
    "arr2"
   ]
  },
  {
   "cell_type": "code",
   "execution_count": null,
   "id": "f3bd4180",
   "metadata": {},
   "outputs": [],
   "source": [
    "# Sort all elements in a multi-dimensional array\n",
    "arr = np.array([[12, 15, 7], [13, 5,11], [8, 6, 10],[45,54,70]]) \n",
    "arr2 = np.sort(arr, axis= None) \n",
    "arr2"
   ]
  },
  {
   "cell_type": "code",
   "execution_count": null,
   "id": "ef2ea1e6",
   "metadata": {
    "scrolled": true
   },
   "outputs": [],
   "source": [
    "# sort columns of array/first (0th) axis\n",
    "arr2 = np.sort(arr, axis = 0)\n",
    "arr2"
   ]
  },
  {
   "cell_type": "code",
   "execution_count": null,
   "id": "3d19cd46",
   "metadata": {},
   "outputs": [],
   "source": [
    "# Sort the array alphabetically\n",
    "arr = np.array([['orange','mango','grapes'], ['banana','cherry','apple'], ['papaya','watermelon','jackfruit']]) \n",
    "arr2 = np.sort(arr)  \n",
    "arr2"
   ]
  },
  {
   "cell_type": "code",
   "execution_count": null,
   "id": "e6c25135",
   "metadata": {
    "scrolled": true
   },
   "outputs": [],
   "source": [
    "# sort in descending order\n",
    "array_a = np.array([5,8,6,12])\n",
    "array_a[::-1].sort() # descending order\n",
    "print(array_a)\n",
    "# or\n",
    "array_b = np.array([5,8,6,12])\n",
    "print(np.sort(array_b[::-1]))\n",
    "print(array_b) # The original array is not changed"
   ]
  },
  {
   "cell_type": "markdown",
   "id": "d05f309e",
   "metadata": {},
   "source": [
    "**Question 8.1:** Sort the columns of array\n",
    "\n",
    "$\\begin{bmatrix}\n",
    "4 & 2 & 3 & 4 & 5\\\\\n",
    "9 & 7 & 8 & 1 & 10\\\\\n",
    "11 & 12 & 13 & 15 & 14\n",
    "\\end{bmatrix}$\n",
    "\n"
   ]
  },
  {
   "cell_type": "code",
   "execution_count": null,
   "id": "a63cec77",
   "metadata": {
    "tags": []
   },
   "outputs": [],
   "source": [
    "given_array = ...\n",
    "sorted_by_columns = ...\n",
    "sorted_by_columns"
   ]
  },
  {
   "cell_type": "code",
   "execution_count": null,
   "id": "66a91484",
   "metadata": {
    "deletable": false,
    "editable": false
   },
   "outputs": [],
   "source": [
    "grader.check(\"q8_1\")"
   ]
  },
  {
   "cell_type": "markdown",
   "id": "daad3cec",
   "metadata": {},
   "source": [
    "**Question 8.2:** Sort the rows of array\n",
    "\n",
    "$\\begin{bmatrix}\n",
    "4 & 2 & 3 & 4 & 5\\\\\n",
    "9 & 7 & 8 & 1 & 10\\\\\n",
    "11 & 12 & 13 & 15 & 14\n",
    "\\end{bmatrix}$"
   ]
  },
  {
   "cell_type": "code",
   "execution_count": null,
   "id": "dd5276b5",
   "metadata": {
    "tags": []
   },
   "outputs": [],
   "source": [
    "sorted_by_rows = ...\n",
    "sorted_by_rows"
   ]
  },
  {
   "cell_type": "code",
   "execution_count": null,
   "id": "5db0532a",
   "metadata": {
    "deletable": false,
    "editable": false
   },
   "outputs": [],
   "source": [
    "grader.check(\"q8_2\")"
   ]
  },
  {
   "cell_type": "markdown",
   "id": "77e4a329",
   "metadata": {},
   "source": [
    "**Question 8.3:** Sort the array\n",
    "\n",
    "$\\begin{bmatrix}\n",
    "4 & 2 & 3 & 4 & 5\\\\\n",
    "9 & 7 & 8 & 1 & 10\\\\\n",
    "11 & 12 & 13 & 15 & 14\n",
    "\\end{bmatrix}$\n",
    "\n",
    "elementwise. (Return a 1d array)"
   ]
  },
  {
   "cell_type": "code",
   "execution_count": null,
   "id": "35eb0f59",
   "metadata": {
    "tags": []
   },
   "outputs": [],
   "source": [
    "sorted_elementwise = ...\n",
    "sorted_elementwise"
   ]
  },
  {
   "cell_type": "code",
   "execution_count": null,
   "id": "6f81510b",
   "metadata": {
    "deletable": false,
    "editable": false
   },
   "outputs": [],
   "source": [
    "grader.check(\"q8_3\")"
   ]
  },
  {
   "cell_type": "markdown",
   "id": "4c6003e3",
   "metadata": {},
   "source": [
    "**Question 8.4:** Sort the array\n",
    "\n",
    "$\\begin{bmatrix}\n",
    "4 & 2 & 3 & 4 & 5\\\\\n",
    "9 & 7 & 8 & 1 & 10\\\\\n",
    "11 & 12 & 13 & 15 & 14\n",
    "\\end{bmatrix}$\n",
    "\n",
    "elementwise in descending order. (Return a 1d array)"
   ]
  },
  {
   "cell_type": "code",
   "execution_count": null,
   "id": "dd5cb615",
   "metadata": {
    "tags": []
   },
   "outputs": [],
   "source": [
    "sorted_elementwise_descending = ...\n",
    "sorted_elementwise_descending"
   ]
  },
  {
   "cell_type": "code",
   "execution_count": null,
   "id": "c0dc1abb",
   "metadata": {
    "deletable": false,
    "editable": false
   },
   "outputs": [],
   "source": [
    "grader.check(\"q8_4\")"
   ]
  },
  {
   "cell_type": "markdown",
   "id": "cc10d851",
   "metadata": {},
   "source": [
    "### Random Numbers"
   ]
  },
  {
   "cell_type": "markdown",
   "id": "69e153e3",
   "metadata": {},
   "source": [
    "Numpy provides the random module to work with random numbers from various distributions (e.g., uniform, normal, etc.)."
   ]
  },
  {
   "cell_type": "code",
   "execution_count": null,
   "id": "b28aaa80",
   "metadata": {},
   "outputs": [],
   "source": [
    "from numpy import random\n",
    "# Create a 2 x 3 array of random data from a standard normal distribution\n",
    "data = np.random.randn(2,3) # n is for normal\n",
    "data"
   ]
  },
  {
   "cell_type": "code",
   "execution_count": null,
   "id": "ddd389b8",
   "metadata": {},
   "outputs": [],
   "source": [
    "# multiply each element in the array by 10\n",
    "data * 10"
   ]
  },
  {
   "cell_type": "code",
   "execution_count": null,
   "id": "3515f971",
   "metadata": {},
   "outputs": [],
   "source": [
    "# add two arrays together element-wise\n",
    "data + data"
   ]
  },
  {
   "cell_type": "code",
   "execution_count": null,
   "id": "c8544ce0",
   "metadata": {
    "scrolled": true
   },
   "outputs": [],
   "source": [
    "# note, the original array has not changed\n",
    "data"
   ]
  },
  {
   "cell_type": "code",
   "execution_count": null,
   "id": "126ca544",
   "metadata": {},
   "outputs": [],
   "source": [
    "random_normal = np.random.normal(0, 2, 30) # generates 30 random numbers from the normal distribution with mean 0 and standard deviation 2\n",
    "print(random_normal)\n",
    "random_normal2 = np.random.normal(0, 2, size = (2, 4)) # can control size of array with optional parameter\n",
    "print(random_normal2)"
   ]
  },
  {
   "cell_type": "markdown",
   "id": "e1e0688c",
   "metadata": {},
   "source": [
    "### Task (Main Course)\n",
    "In this task, we will practice simulating random events like flipping a coin."
   ]
  },
  {
   "cell_type": "markdown",
   "id": "4fb42ce4",
   "metadata": {},
   "source": [
    "**Question 9.1:** Write a simulation for flipping a fair coin 5000 times to estimate $P(tails)$. "
   ]
  },
  {
   "cell_type": "code",
   "execution_count": null,
   "id": "7398487e",
   "metadata": {
    "tags": []
   },
   "outputs": [],
   "source": [
    "def coin_flip(...):\n",
    "    results = ... # this will hold the total # of tails\n",
    "    for ... in ...:\n",
    "        flip_result = ... # flip the coin \n",
    "        results += ... \n",
    "    ...\n",
    "    \n",
    "prob_tail = ...\n",
    "\n",
    "        \n",
    "\n",
    "prob_tail"
   ]
  },
  {
   "cell_type": "code",
   "execution_count": null,
   "id": "ca64d968",
   "metadata": {
    "deletable": false,
    "editable": false
   },
   "outputs": [],
   "source": [
    "grader.check(\"q9_1\")"
   ]
  },
  {
   "cell_type": "markdown",
   "id": "e8445de9",
   "metadata": {},
   "source": [
    "<!-- BEGIN QUESTION -->\n",
    "\n",
    "**Question 9.2:** In the previous part, do you get the same answer every time? Explain. "
   ]
  },
  {
   "cell_type": "markdown",
   "id": "32402af1",
   "metadata": {},
   "source": [
    "_Type your answer here, replacing this text._"
   ]
  },
  {
   "cell_type": "markdown",
   "id": "7b280883",
   "metadata": {},
   "source": [
    "<!-- END QUESTION -->\n",
    "\n",
    "**Question 9.3:** Repeat the first part of this problem but include `np.random.seed(1)` at the beginning of your cell.  Run your code several times and revisit the question."
   ]
  },
  {
   "cell_type": "code",
   "execution_count": null,
   "id": "a8880653",
   "metadata": {
    "tags": []
   },
   "outputs": [],
   "source": [
    "        \n",
    "\n",
    "prob_tail_seed"
   ]
  },
  {
   "cell_type": "code",
   "execution_count": null,
   "id": "2a0db3ee",
   "metadata": {
    "deletable": false,
    "editable": false
   },
   "outputs": [],
   "source": [
    "grader.check(\"q9_3\")"
   ]
  },
  {
   "cell_type": "markdown",
   "id": "5480e855",
   "metadata": {},
   "source": [
    "<!-- BEGIN QUESTION -->\n",
    "\n",
    "**Question 9.4:** What happens if you increase the number of coin flips to 50000 or 500000? Explain what you see and why you think it happens. "
   ]
  },
  {
   "cell_type": "markdown",
   "id": "18735a00",
   "metadata": {},
   "source": [
    "_Type your answer here, replacing this text._"
   ]
  },
  {
   "cell_type": "markdown",
   "id": "17c24eb4",
   "metadata": {},
   "source": [
    "<!-- END QUESTION -->\n",
    "\n",
    "### Task (Optional Dessert)\n",
    "- choose an image for this task (a photo you took, a photo from the web, etc.).\n",
    "- display the image.\n",
    "- display its negative.\n",
    "- display the image rotated 90 degrees clockwise (different than example).\n",
    "- display the image as a grayscale image.\n",
    "- display the image in each of its color channels.\n",
    "- crop part of the image and display it.  (Choose a cropping that is visually interesting based on your image and experimentation.)\n",
    "- choose one other image and blend the two images.  Play with weights until you are happy with the results."
   ]
  },
  {
   "cell_type": "markdown",
   "id": "5e067edc",
   "metadata": {},
   "source": [
    "# You're done!\n",
    "\n",
    "Gus is so happy you made it to the end! Run the cell below to download the zip and submit to Canvas. \n",
    "\n",
    "<img src=\"gus_a_loaf_of_bread.JPG\" alt=\"drawing\" width=\"300\"/>\n",
    "\n",
    "### References\n",
    "- Numerical Python: Scientific Computation and Data Science Applications wtih Numpy, SciPy and Matplotlib by Robert Johansson\n",
    "- Data Science with Python: Probabilistic Modeling.  https://www.cdslab.org/python/notes/probabilistic-modeling/random-numbers/random-numbers.html"
   ]
  },
  {
   "cell_type": "markdown",
   "id": "d6265267",
   "metadata": {
    "deletable": false,
    "editable": false
   },
   "source": [
    "## Submission\n",
    "\n",
    "Make sure you have run all cells in your notebook in order before running the cell below, so that all images/graphs appear in the output. The cell below will generate a zip file for you to submit. **Please save before exporting!**"
   ]
  },
  {
   "cell_type": "code",
   "execution_count": null,
   "id": "72a768b4",
   "metadata": {
    "deletable": false,
    "editable": false
   },
   "outputs": [],
   "source": [
    "# Save your notebook first, then run this cell to export your submission.\n",
    "grader.export(pdf=False, run_tests=True)"
   ]
  },
  {
   "cell_type": "markdown",
   "id": "f47c87a3",
   "metadata": {},
   "source": [
    " "
   ]
  }
 ],
 "metadata": {
  "kernelspec": {
   "display_name": "Python 3 (ipykernel)",
   "language": "python",
   "name": "python3"
  },
  "language_info": {
   "codemirror_mode": {
    "name": "ipython",
    "version": 3
   },
   "file_extension": ".py",
   "mimetype": "text/x-python",
   "name": "python",
   "nbconvert_exporter": "python",
   "pygments_lexer": "ipython3",
   "version": "3.11.4"
  },
  "otter": {
   "OK_FORMAT": true,
   "tests": {
    "q1": {
     "name": "q1",
     "points": null,
     "suites": [
      {
       "cases": [
        {
         "code": ">>> number_of_dimensions\n2",
         "hidden": false,
         "locked": false
        },
        {
         "code": ">>> shape_of_my_array\n(2, 3)",
         "hidden": false,
         "locked": false
        },
        {
         "code": ">>> size_of_my_array\n6",
         "hidden": false,
         "locked": false
        }
       ],
       "scored": true,
       "setup": "",
       "teardown": "",
       "type": "doctest"
      }
     ]
    },
    "q2": {
     "name": "q2",
     "points": [
      1,
      1,
      1,
      1,
      1
     ],
     "suites": [
      {
       "cases": [
        {
         "code": ">>> A\narray([[7, 7, 7],\n       [7, 7, 7]])",
         "hidden": false,
         "locked": false
        },
        {
         "code": ">>> B\narray([[1., 0., 0., 0.],\n       [0., 1., 0., 0.],\n       [0., 0., 1., 0.],\n       [0., 0., 0., 1.]])",
         "hidden": false,
         "locked": false
        },
        {
         "code": ">>> C\narray([2.  , 2.25, 2.5 , 2.75, 3.  ])",
         "hidden": false,
         "locked": false
        },
        {
         "code": ">>> D\narray([0, 1, 2])",
         "hidden": false,
         "locked": false
        },
        {
         "code": ">>> E\narray([[ 0,  0,  0,  0],\n       [ 0,  5,  0,  0],\n       [ 0,  0, 10,  0],\n       [ 0,  0,  0, 15]])",
         "hidden": false,
         "locked": false
        }
       ],
       "scored": true,
       "setup": "",
       "teardown": "",
       "type": "doctest"
      }
     ]
    },
    "q3_1": {
     "name": "q3_1",
     "points": null,
     "suites": [
      {
       "cases": [
        {
         "code": ">>> array1\narray([ 2.,  5.,  8., 11., 14.])",
         "hidden": false,
         "locked": false
        }
       ],
       "scored": true,
       "setup": "",
       "teardown": "",
       "type": "doctest"
      }
     ]
    },
    "q3_2": {
     "name": "q3_2",
     "points": null,
     "suites": [
      {
       "cases": [
        {
         "code": ">>> third_element\n8.0",
         "hidden": false,
         "locked": false
        }
       ],
       "scored": true,
       "setup": "",
       "teardown": "",
       "type": "doctest"
      }
     ]
    },
    "q3_3": {
     "name": "q3_3",
     "points": null,
     "suites": [
      {
       "cases": [
        {
         "code": ">>> second_to_last\n11.0",
         "hidden": false,
         "locked": false
        }
       ],
       "scored": true,
       "setup": "",
       "teardown": "",
       "type": "doctest"
      }
     ]
    },
    "q3_4": {
     "name": "q3_4",
     "points": null,
     "suites": [
      {
       "cases": [
        {
         "code": ">>> second_element_to_last\narray([ 5.,  8., 11., 14.])",
         "hidden": false,
         "locked": false
        }
       ],
       "scored": true,
       "setup": "",
       "teardown": "",
       "type": "doctest"
      }
     ]
    },
    "q3_5": {
     "name": "q3_5",
     "points": null,
     "suites": [
      {
       "cases": [
        {
         "code": ">>> reversed_array1\narray([14., 11.,  8.,  5.,  2.])",
         "hidden": false,
         "locked": false
        }
       ],
       "scored": true,
       "setup": "",
       "teardown": "",
       "type": "doctest"
      }
     ]
    },
    "q4_1": {
     "name": "q4_1",
     "points": null,
     "suites": [
      {
       "cases": [
        {
         "code": ">>> array2\narray([[ 1,  2,  3,  4,  5],\n       [ 6,  7,  8,  9, 10],\n       [11, 12, 13, 14, 15]])",
         "hidden": false,
         "locked": false
        }
       ],
       "scored": true,
       "setup": "",
       "teardown": "",
       "type": "doctest"
      }
     ]
    },
    "q4_2": {
     "name": "q4_2",
     "points": null,
     "suites": [
      {
       "cases": [
        {
         "code": ">>> array2_copy\narray([[ 1,  2,  3,  4,  5],\n       [ 6,  7,  8,  9, 10],\n       [11, 12, 13, 14, 15]])",
         "hidden": false,
         "locked": false
        }
       ],
       "scored": true,
       "setup": "",
       "teardown": "",
       "type": "doctest"
      }
     ]
    },
    "q4_3": {
     "name": "q4_3",
     "points": null,
     "suites": [
      {
       "cases": [
        {
         "code": ">>> array2_copy\narray([[27,  2,  3,  4,  5],\n       [ 6,  7,  8,  9, 10],\n       [11, 12, 13, 14, 15]])",
         "hidden": false,
         "locked": false
        }
       ],
       "scored": true,
       "setup": "",
       "teardown": "",
       "type": "doctest"
      }
     ]
    },
    "q4_4": {
     "name": "q4_4",
     "points": null,
     "suites": [
      {
       "cases": [
        {
         "code": ">>> subarray\narray([[ 6,  8, 10],\n       [11, 13, 15]])",
         "hidden": false,
         "locked": false
        }
       ],
       "scored": true,
       "setup": "",
       "teardown": "",
       "type": "doctest"
      }
     ]
    },
    "q4_5": {
     "name": "q4_5",
     "points": null,
     "suites": [
      {
       "cases": [
        {
         "code": ">>> array2\narray([[ 1,  2,  3,  4,  5],\n       [ 6,  7,  8,  9, 10],\n       [11, 12, 13, 14, 15]])",
         "hidden": false,
         "locked": false
        }
       ],
       "scored": true,
       "setup": "",
       "teardown": "",
       "type": "doctest"
      }
     ]
    },
    "q5_1": {
     "name": "q5_1",
     "points": null,
     "suites": [
      {
       "cases": [
        {
         "code": ">>> not_div_3\narray([  4,  10,  89,  43,  46, 100])",
         "hidden": false,
         "locked": false
        }
       ],
       "scored": true,
       "setup": "",
       "teardown": "",
       "type": "doctest"
      }
     ]
    },
    "q5_2": {
     "name": "q5_2",
     "points": null,
     "suites": [
      {
       "cases": [
        {
         "code": ">>> div5\narray([ 10,  45, 100])",
         "hidden": false,
         "locked": false
        }
       ],
       "scored": true,
       "setup": "",
       "teardown": "",
       "type": "doctest"
      }
     ]
    },
    "q5_3": {
     "name": "q5_3",
     "points": null,
     "suites": [
      {
       "cases": [
        {
         "code": ">>> div3_and_5\narray([45])",
         "hidden": false,
         "locked": false
        }
       ],
       "scored": true,
       "setup": "",
       "teardown": "",
       "type": "doctest"
      }
     ]
    },
    "q5_4": {
     "name": "q5_4",
     "points": null,
     "suites": [
      {
       "cases": [
        {
         "code": ">>> array3\narray([ 42,   4,  42,  10,  42,  89,  42,  43,  46,  42, 100])",
         "hidden": false,
         "locked": false
        }
       ],
       "scored": true,
       "setup": "",
       "teardown": "",
       "type": "doctest"
      }
     ]
    },
    "q6_1": {
     "name": "q6_1",
     "points": null,
     "suites": [
      {
       "cases": [
        {
         "code": ">>> array3\narray([ 42,   4,  42,  10,  42,  89,  42,  43,  46,  42, 100])",
         "hidden": false,
         "locked": false
        }
       ],
       "scored": true,
       "setup": "",
       "teardown": "",
       "type": "doctest"
      }
     ]
    },
    "q6_3": {
     "name": "q6_3",
     "points": null,
     "suites": [
      {
       "cases": [
        {
         "code": ">>> flattened_array\narray([ 1,  2,  3,  4,  5,  6,  7,  8,  9, 10, 11, 12, 13, 14, 15])",
         "hidden": false,
         "locked": false
        }
       ],
       "scored": true,
       "setup": "",
       "teardown": "",
       "type": "doctest"
      }
     ]
    },
    "q6_4": {
     "name": "q6_4",
     "points": null,
     "suites": [
      {
       "cases": [
        {
         "code": ">>> m1\narray([[1, 2, 3],\n       [1, 2, 3],\n       [1, 2, 3]])",
         "hidden": false,
         "locked": false
        },
        {
         "code": ">>> m2\narray([[1, 1, 1],\n       [2, 2, 2],\n       [3, 3, 3]])",
         "hidden": false,
         "locked": false
        }
       ],
       "scored": true,
       "setup": "",
       "teardown": "",
       "type": "doctest"
      }
     ]
    },
    "q7_1": {
     "name": "q7_1",
     "points": null,
     "suites": [
      {
       "cases": [
        {
         "code": ">>> n\narray([ 1,  2,  3,  4,  5,  6,  7,  8,  9, 10, 11, 12, 13, 14, 15])",
         "hidden": false,
         "locked": false
        },
        {
         "code": ">>> Fn\narray([  1,   1,   2,   3,   5,   8,  13,  21,  34,  55,  89, 144, 233,\n       377, 610])",
         "hidden": false,
         "locked": false
        }
       ],
       "scored": true,
       "setup": "",
       "teardown": "",
       "type": "doctest"
      }
     ]
    },
    "q8_1": {
     "name": "q8_1",
     "points": null,
     "suites": [
      {
       "cases": [
        {
         "code": ">>> sorted_by_columns\narray([[ 4,  2,  3,  1,  5],\n       [ 9,  7,  8,  4, 10],\n       [11, 12, 13, 15, 14]])",
         "hidden": false,
         "locked": false
        }
       ],
       "scored": true,
       "setup": "",
       "teardown": "",
       "type": "doctest"
      }
     ]
    },
    "q8_2": {
     "name": "q8_2",
     "points": null,
     "suites": [
      {
       "cases": [
        {
         "code": ">>> sorted_by_rows\narray([[ 2,  3,  4,  4,  5],\n       [ 1,  7,  8,  9, 10],\n       [11, 12, 13, 14, 15]])",
         "hidden": false,
         "locked": false
        }
       ],
       "scored": true,
       "setup": "",
       "teardown": "",
       "type": "doctest"
      }
     ]
    },
    "q8_3": {
     "name": "q8_3",
     "points": null,
     "suites": [
      {
       "cases": [
        {
         "code": ">>> sorted_elementwise\narray([ 1,  2,  3,  4,  4,  5,  7,  8,  9, 10, 11, 12, 13, 14, 15])",
         "hidden": false,
         "locked": false
        }
       ],
       "scored": true,
       "setup": "",
       "teardown": "",
       "type": "doctest"
      }
     ]
    },
    "q8_4": {
     "name": "q8_4",
     "points": null,
     "suites": [
      {
       "cases": [
        {
         "code": ">>> sorted_elementwise_descending\narray([15, 14, 13, 12, 11, 10,  9,  8,  7,  5,  4,  4,  3,  2,  1])",
         "hidden": false,
         "locked": false
        }
       ],
       "scored": true,
       "setup": "",
       "teardown": "",
       "type": "doctest"
      }
     ]
    },
    "q9_1": {
     "name": "q9_1",
     "points": null,
     "suites": [
      {
       "cases": [
        {
         "code": ">>> 0.47 <= prob_tail <= 0.53\nTrue",
         "hidden": false,
         "locked": false
        }
       ],
       "scored": true,
       "setup": "",
       "teardown": "",
       "type": "doctest"
      }
     ]
    },
    "q9_3": {
     "name": "q9_3",
     "points": null,
     "suites": [
      {
       "cases": [
        {
         "code": ">>> 0.47 <= prob_tail_seed <= 0.53\nTrue",
         "hidden": false,
         "locked": false
        }
       ],
       "scored": true,
       "setup": "",
       "teardown": "",
       "type": "doctest"
      }
     ]
    }
   }
  }
 },
 "nbformat": 4,
 "nbformat_minor": 5
}
