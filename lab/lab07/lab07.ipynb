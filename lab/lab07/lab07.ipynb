{
 "cells": [
  {
   "cell_type": "code",
   "execution_count": null,
   "id": "a54c8c0a",
   "metadata": {
    "deletable": false,
    "editable": false
   },
   "outputs": [],
   "source": [
    "# Initialize Otter\n",
    "import otter\n",
    "grader = otter.Notebook(\"lab07.ipynb\")"
   ]
  },
  {
   "cell_type": "markdown",
   "id": "3d6740dc",
   "metadata": {},
   "source": [
    "# Lab 07: Exploratory Data Analysis of California Housing Prices"
   ]
  },
  {
   "cell_type": "markdown",
   "id": "7c764af6",
   "metadata": {},
   "source": [
    "Exploratory Data Analysis (EDA) in Python is a critical step in understanding and summarizing the characteristics of a dataset before diving into modeling. It involves techniques such as data visualization, statistical analysis, and summarization to gain insights into the data's underlying patterns and relationships. EDA is useful for identifying outliers, missing values, and understanding the distribution of variables, ultimately guiding preprocessing steps and informing subsequent modeling decisions. By exploring the data, we can uncover patterns, validate assumptions, and generate hypotheses, laying a solid foundation for further analysis and modeling. Many visualizations for EDA in Python are generated with the `seaborn` module.\n",
    "\n",
    "The `seaborn` documentation and tutorials can can be found [here](https://seaborn.pydata.org/examples/index.html).\n",
    "\n",
    "### In today's lab, we will...\n",
    "- Demonstrate mastery of methods for EDA\n",
    "- Use Pandas DataFrame\n",
    "- Use Seaborn to plot\n",
    "    - pair plots\n",
    "    - scatterplots\n",
    "    - heat map of correlation coefficients\n",
    "    - line of best fit and confidence interval\n",
    "    "
   ]
  },
  {
   "cell_type": "code",
   "execution_count": null,
   "id": "dd69f486",
   "metadata": {},
   "outputs": [],
   "source": [
    "# import packages we will use\n",
    "import numpy as np\n",
    "import pandas as pd\n",
    "import matplotlib.pyplot as plt\n",
    "import sklearn # to get the California data set"
   ]
  },
  {
   "cell_type": "markdown",
   "id": "4269c18d",
   "metadata": {},
   "source": [
    "### 1. Import the Data\n",
    "\n",
    "We will begin by importing the dataset from a Python module called `scikit-learn`. `scikit-learn` is a machine learning module for Python. We will not learn about the functions and capabilities of the module in great depth in this course (you will see a lot more of it in DATA 322 and DATA 422), but we will occasionally use it in this class to import datasets. Like `plotnine` and `seaborn`, `scikit-learn` has several stored datasets. Today, we will use one about California housing prices. Run the cells below to import the data. "
   ]
  },
  {
   "cell_type": "code",
   "execution_count": null,
   "id": "daf79558",
   "metadata": {},
   "outputs": [],
   "source": [
    "from sklearn.datasets import fetch_california_housing\n",
    "data = fetch_california_housing(as_frame=True)"
   ]
  },
  {
   "cell_type": "code",
   "execution_count": null,
   "id": "f4474381",
   "metadata": {},
   "outputs": [],
   "source": [
    "# check the type of data\n",
    "type(data)"
   ]
  },
  {
   "cell_type": "markdown",
   "id": "c3607a57",
   "metadata": {},
   "source": [
    "As we can see, when we import the data it is imported as a `sklearn` bunch object. "
   ]
  },
  {
   "cell_type": "code",
   "execution_count": null,
   "id": "62ef65ed",
   "metadata": {},
   "outputs": [],
   "source": [
    "# This is what the data look like\n",
    "data"
   ]
  },
  {
   "cell_type": "code",
   "execution_count": null,
   "id": "6e734da6",
   "metadata": {},
   "outputs": [],
   "source": [
    "# To get a general description of the dataset\n",
    "print(data.DESCR)"
   ]
  },
  {
   "cell_type": "markdown",
   "id": "a65092f8",
   "metadata": {},
   "source": [
    "<!-- BEGIN QUESTION -->\n",
    "\n",
    "**Question 1:** Based on the info shown above, the dataset contains attributes and a target. Make a bullet point list in Markdown of each attribute and target in the dataset and a description of what each one is. "
   ]
  },
  {
   "cell_type": "markdown",
   "id": "df03aeac",
   "metadata": {},
   "source": [
    "_Type your answer here, replacing this text._"
   ]
  },
  {
   "cell_type": "markdown",
   "id": "079410d6",
   "metadata": {},
   "source": [
    "<!-- END QUESTION -->\n",
    "\n",
    "Now that we have a general understanding of the data, let's put it into a Pandas DataFrame with the target variable as the last column."
   ]
  },
  {
   "cell_type": "code",
   "execution_count": null,
   "id": "d27c7415",
   "metadata": {},
   "outputs": [],
   "source": [
    "ca_houses = pd.DataFrame(data=data.data, columns=data.feature_names)\n",
    "ca_houses['MedHouseVal'] = data.target # add last column\n",
    "ca_houses.head()"
   ]
  },
  {
   "cell_type": "markdown",
   "id": "c5861ad7",
   "metadata": {},
   "source": [
    "### 2. EDA - statistics"
   ]
  },
  {
   "cell_type": "markdown",
   "id": "b88be62a",
   "metadata": {},
   "source": [
    "**Question 2.1:** How many rows and columns are in the `ca_houses` DataFrame?"
   ]
  },
  {
   "cell_type": "code",
   "execution_count": null,
   "id": "bcb6c0c3",
   "metadata": {
    "tags": []
   },
   "outputs": [],
   "source": [
    "num_rows = ...\n",
    "num_cols = ...\n",
    "\n",
    "num_rows,num_cols"
   ]
  },
  {
   "cell_type": "code",
   "execution_count": null,
   "id": "77649f94",
   "metadata": {
    "deletable": false,
    "editable": false
   },
   "outputs": [],
   "source": [
    "grader.check(\"q2_1\")"
   ]
  },
  {
   "cell_type": "markdown",
   "id": "0d3280eb",
   "metadata": {},
   "source": [
    "**Question 2.2:** Use Pandas method(s) to determine the minimum, maximum, mean, and median of the median house values in the data set."
   ]
  },
  {
   "cell_type": "code",
   "execution_count": null,
   "id": "21d7902c",
   "metadata": {
    "tags": []
   },
   "outputs": [],
   "source": [
    "describe_ca_houses = ..."
   ]
  },
  {
   "cell_type": "code",
   "execution_count": null,
   "id": "02785023",
   "metadata": {
    "tags": []
   },
   "outputs": [],
   "source": [
    "min_val = ...\n",
    "max_val = ...\n",
    "mean_val = ...\n",
    "median_val = ...\n",
    "\n",
    "min_val, max_val, mean_val, median_val"
   ]
  },
  {
   "cell_type": "code",
   "execution_count": null,
   "id": "3074e39c",
   "metadata": {
    "deletable": false,
    "editable": false
   },
   "outputs": [],
   "source": [
    "grader.check(\"q2_2\")"
   ]
  },
  {
   "cell_type": "markdown",
   "id": "7f7bc4c2",
   "metadata": {},
   "source": [
    "**Question 2.3:** In the data set, what feature has the largest mean? What feature has the smallest mean? Report your answers as strings. "
   ]
  },
  {
   "cell_type": "code",
   "execution_count": null,
   "id": "0111c274",
   "metadata": {
    "tags": []
   },
   "outputs": [],
   "source": [
    "largest_mean = ...\n",
    "smallest_mean = ...\n",
    "\n",
    "largest_mean, smallest_mean"
   ]
  },
  {
   "cell_type": "code",
   "execution_count": null,
   "id": "ea3eea5b",
   "metadata": {
    "deletable": false,
    "editable": false
   },
   "outputs": [],
   "source": [
    "grader.check(\"q2_3\")"
   ]
  },
  {
   "cell_type": "markdown",
   "id": "2ea4a580",
   "metadata": {},
   "source": [
    "<!-- BEGIN QUESTION -->\n",
    "\n",
    "**Question 2.4:** Do any variables take on negative values? Explain. "
   ]
  },
  {
   "cell_type": "markdown",
   "id": "d5d3cfb0",
   "metadata": {},
   "source": [
    "_Type your answer here, replacing this text._"
   ]
  },
  {
   "cell_type": "markdown",
   "id": "8fa9f96b",
   "metadata": {},
   "source": [
    "<!-- END QUESTION -->\n",
    "\n",
    "### 3. EDA - preprocessing"
   ]
  },
  {
   "cell_type": "markdown",
   "id": "29ecfb06",
   "metadata": {},
   "source": [
    "**Question 3.1:** Does the dataset contain any null values? Assign `has_nulls` to 0 if there are no null values and 1 if there are null values. Assign `columns_with_nulls` to a list containing the names of columns that contain null values. (Assign `columns_with_nulls` to an empty list if there are no null values)"
   ]
  },
  {
   "cell_type": "code",
   "execution_count": null,
   "id": "2f6f2044",
   "metadata": {
    "tags": []
   },
   "outputs": [],
   "source": [
    "..."
   ]
  },
  {
   "cell_type": "code",
   "execution_count": null,
   "id": "22b13302",
   "metadata": {
    "tags": []
   },
   "outputs": [],
   "source": [
    "has_nulls = ...\n",
    "columns_with_nulls = ..."
   ]
  },
  {
   "cell_type": "code",
   "execution_count": null,
   "id": "641aba14",
   "metadata": {
    "deletable": false,
    "editable": false
   },
   "outputs": [],
   "source": [
    "grader.check(\"q3_1\")"
   ]
  },
  {
   "cell_type": "markdown",
   "id": "108c07d3",
   "metadata": {},
   "source": [
    "**Question 3.2:** Does the dataset contain any duplicated rows? Assign `num_duplicates` to the number of duplicated rows in the dataset. If there are duplicates remove them from `ca_houses`. "
   ]
  },
  {
   "cell_type": "code",
   "execution_count": null,
   "id": "c23416a9",
   "metadata": {
    "tags": []
   },
   "outputs": [],
   "source": [
    "num_duplicates = ...\n",
    "num_duplicates"
   ]
  },
  {
   "cell_type": "code",
   "execution_count": null,
   "id": "7ab17313",
   "metadata": {
    "deletable": false,
    "editable": false
   },
   "outputs": [],
   "source": [
    "grader.check(\"q3_2\")"
   ]
  },
  {
   "cell_type": "markdown",
   "id": "8bb4fcd7",
   "metadata": {},
   "source": [
    "### 4. EDA - visualization"
   ]
  },
  {
   "cell_type": "markdown",
   "id": "7f45373d",
   "metadata": {},
   "source": [
    "**Question 4.1:** Import the `seaborn` module. "
   ]
  },
  {
   "cell_type": "code",
   "execution_count": null,
   "id": "2bc13a23",
   "metadata": {
    "tags": []
   },
   "outputs": [],
   "source": [
    "...\n",
    "..."
   ]
  },
  {
   "cell_type": "code",
   "execution_count": null,
   "id": "49426213",
   "metadata": {
    "deletable": false,
    "editable": false
   },
   "outputs": [],
   "source": [
    "grader.check(\"q4_1\")"
   ]
  },
  {
   "cell_type": "markdown",
   "id": "55098992",
   "metadata": {},
   "source": [
    "**Question 4.2:** Generate a Seaborn pairplot from the `ca_houses` data."
   ]
  },
  {
   "cell_type": "code",
   "execution_count": null,
   "id": "5f5917e0",
   "metadata": {
    "tags": []
   },
   "outputs": [],
   "source": [
    "houses_pairplot = ...\n",
    "houses_pairplot"
   ]
  },
  {
   "cell_type": "code",
   "execution_count": null,
   "id": "c54c9092",
   "metadata": {
    "deletable": false,
    "editable": false
   },
   "outputs": [],
   "source": [
    "grader.check(\"q4_2\")"
   ]
  },
  {
   "cell_type": "markdown",
   "id": "002a2857",
   "metadata": {},
   "source": [
    "**Question 4.3:** Based on your pairplot, identify two variables which appear to be positively correlated.\n",
    "\n",
    "1. `HouseAge` and `MedInc`\n",
    "2. `MedInc` and `MedHouseVal`\n",
    "3. `Population` and `MedHouseVal`\n",
    "4. `AveOccup` and `Longitude`\n",
    "\n",
    "Enter 1, 2, 3, or 4. "
   ]
  },
  {
   "cell_type": "code",
   "execution_count": null,
   "id": "d992e926",
   "metadata": {
    "tags": []
   },
   "outputs": [],
   "source": [
    "positive_corr = ...\n",
    "positive_corr"
   ]
  },
  {
   "cell_type": "code",
   "execution_count": null,
   "id": "3e0d27f6",
   "metadata": {
    "deletable": false,
    "editable": false
   },
   "outputs": [],
   "source": [
    "grader.check(\"q4_3\")"
   ]
  },
  {
   "cell_type": "markdown",
   "id": "c0e290ee",
   "metadata": {},
   "source": [
    "<!-- BEGIN QUESTION -->\n",
    "\n",
    "**Question 4.4:** Based on your pairplot, do any of the variables appear to be bimodal? If so, which? Any hypothesis as to why that might be? "
   ]
  },
  {
   "cell_type": "markdown",
   "id": "e9c67277",
   "metadata": {},
   "source": [
    "_Type your answer here, replacing this text._"
   ]
  },
  {
   "cell_type": "markdown",
   "id": "53acb27f",
   "metadata": {},
   "source": [
    "<!-- END QUESTION -->\n",
    "\n",
    "<!-- BEGIN QUESTION -->\n",
    "\n",
    "**Question 4.5:** List any other insights you gained from your pairplot."
   ]
  },
  {
   "cell_type": "markdown",
   "id": "c4cc8609",
   "metadata": {},
   "source": [
    "_Type your answer here, replacing this text._"
   ]
  },
  {
   "cell_type": "markdown",
   "id": "607fe0ee",
   "metadata": {},
   "source": [
    "<!-- END QUESTION -->\n",
    "\n",
    "**Question 4.6:** Generate a Seaborn countplot to determine how many rows of each `HouseAge` there are. Explain what you see. Does this reveal anyting about how the data were collected or recorded?"
   ]
  },
  {
   "cell_type": "markdown",
   "id": "42c034ed",
   "metadata": {},
   "source": [
    "_Type your answer here, replacing this text._"
   ]
  },
  {
   "cell_type": "code",
   "execution_count": null,
   "id": "ee3e6f0a",
   "metadata": {
    "tags": []
   },
   "outputs": [],
   "source": [
    "...\n",
    "countplot_houses = ..."
   ]
  },
  {
   "cell_type": "code",
   "execution_count": null,
   "id": "2f986d28",
   "metadata": {
    "deletable": false,
    "editable": false
   },
   "outputs": [],
   "source": [
    "grader.check(\"q4_6\")"
   ]
  },
  {
   "cell_type": "markdown",
   "id": "84dfb434",
   "metadata": {},
   "source": [
    "**Question 4.7:** Create a correlation matrix and a heatmap to observe the corrlation between each pair of variables in `ca_houses`."
   ]
  },
  {
   "cell_type": "code",
   "execution_count": null,
   "id": "a99682bb",
   "metadata": {
    "tags": []
   },
   "outputs": [],
   "source": [
    "...\n",
    "correlation_mat = ...\n",
    "houses_heatmap = ..."
   ]
  },
  {
   "cell_type": "code",
   "execution_count": null,
   "id": "1fae3ef9",
   "metadata": {
    "deletable": false,
    "editable": false
   },
   "outputs": [],
   "source": [
    "grader.check(\"q4_7\")"
   ]
  },
  {
   "cell_type": "markdown",
   "id": "317e042d",
   "metadata": {},
   "source": [
    "**Question 4.8:** Which variables are positively correlated with median house price?\n",
    "\n",
    "1. `MedInc`\n",
    "2. `HouseAge`\n",
    "3. `AveRooms`\n",
    "4. `AveBedrms`\n",
    "5. `Population`\n",
    "6. `AveOccup`\n",
    "7. `Latitude`\n",
    "8. `Longitude`\n",
    "\n",
    "Assign `pos_corr` to a list with the numbers associated with positive correlations. "
   ]
  },
  {
   "cell_type": "code",
   "execution_count": null,
   "id": "c1b36496",
   "metadata": {
    "tags": []
   },
   "outputs": [],
   "source": [
    "pos_corr = ..."
   ]
  },
  {
   "cell_type": "code",
   "execution_count": null,
   "id": "68a18744",
   "metadata": {
    "deletable": false,
    "editable": false
   },
   "outputs": [],
   "source": [
    "grader.check(\"q4_8\")"
   ]
  },
  {
   "cell_type": "markdown",
   "id": "f96e839f",
   "metadata": {},
   "source": [
    "**Question 4.9:**  One thing we might want to explore more is how housing prices relate to the median income (since those are strongly correlated according to the heatmap). Create a copy of the `ca_houses` dataframe called `ca_houses_with_income_status`."
   ]
  },
  {
   "cell_type": "code",
   "execution_count": null,
   "id": "a4ac24ef",
   "metadata": {
    "tags": []
   },
   "outputs": [],
   "source": []
  },
  {
   "cell_type": "code",
   "execution_count": null,
   "id": "6ccaf9e7",
   "metadata": {
    "deletable": false,
    "editable": false
   },
   "outputs": [],
   "source": [
    "grader.check(\"q4_9\")"
   ]
  },
  {
   "cell_type": "markdown",
   "id": "5791b746",
   "metadata": {},
   "source": [
    "**Question 4.10:**  Create a new column in the new dataframe called `IncStatus`. Set the value in the column to `below average` if the income is below the average `MedInc` value. Set it to `above average` otherwise. \n",
    "\n",
    "*HINT:* You may want to use list comprehension to create this new column. The structure should look like \n",
    "```python\n",
    "ca_houses_with_income_status['IncStatus'] = # your list comprehension here\n",
    "```"
   ]
  },
  {
   "cell_type": "code",
   "execution_count": null,
   "id": "01b0bbc9",
   "metadata": {
    "tags": []
   },
   "outputs": [],
   "source": [
    "ave_income = ...\n",
    "ca_houses_with_income_status['IncStatus'] = ...\n",
    "ca_houses_with_income_status"
   ]
  },
  {
   "cell_type": "code",
   "execution_count": null,
   "id": "fc62f1e0",
   "metadata": {
    "deletable": false,
    "editable": false
   },
   "outputs": [],
   "source": [
    "grader.check(\"q4_10\")"
   ]
  },
  {
   "cell_type": "markdown",
   "id": "fbdbedd7",
   "metadata": {},
   "source": [
    "**Question 4.11:**  Create a boxplot showing the distribution of median housing prices for each category of income status. Comment on what you see. "
   ]
  },
  {
   "cell_type": "markdown",
   "id": "10b965f0",
   "metadata": {},
   "source": [
    "_Type your answer here, replacing this text._"
   ]
  },
  {
   "cell_type": "code",
   "execution_count": null,
   "id": "f31a684f",
   "metadata": {
    "tags": []
   },
   "outputs": [],
   "source": [
    "...\n",
    "houses_boxplot = ..."
   ]
  },
  {
   "cell_type": "code",
   "execution_count": null,
   "id": "810af3d1",
   "metadata": {
    "deletable": false,
    "editable": false
   },
   "outputs": [],
   "source": [
    "grader.check(\"q4_11\")"
   ]
  },
  {
   "cell_type": "markdown",
   "id": "428ed172",
   "metadata": {},
   "source": [
    "**Question 4.12:**  Create a seaborn scatter plot with Longitude along the x-axis and Latitude along the y-axis. Map the medain house value to the color of points and map the population size to the size of the points. Be sure to give your plot a title.\n",
    "\n",
    "*NOTE:* You might find it helpful to change the transperency of the points using `alpha = 0.5` when you create the graph."
   ]
  },
  {
   "cell_type": "markdown",
   "id": "25b9a2fe",
   "metadata": {},
   "source": [
    "_Type your answer here, replacing this text._"
   ]
  },
  {
   "cell_type": "code",
   "execution_count": null,
   "id": "ef525eef",
   "metadata": {
    "tags": []
   },
   "outputs": [],
   "source": [
    "...\n",
    "cali_scatter = ...\n",
    "...\n",
    "..."
   ]
  },
  {
   "cell_type": "code",
   "execution_count": null,
   "id": "9bcb106d",
   "metadata": {
    "deletable": false,
    "editable": false
   },
   "outputs": [],
   "source": [
    "grader.check(\"q4_12\")"
   ]
  },
  {
   "cell_type": "markdown",
   "id": "5de68581",
   "metadata": {},
   "source": [
    "<!-- BEGIN QUESTION -->\n",
    "\n",
    "**Question 4.13:** What do you notice about the figure you made in the previous problem?  Describe your observations.  Does anything in this figure relate to bimodality you noticed in a few histograms?  Explain."
   ]
  },
  {
   "cell_type": "markdown",
   "id": "095e580d",
   "metadata": {},
   "source": [
    "_Type your answer here, replacing this text._"
   ]
  },
  {
   "cell_type": "markdown",
   "id": "b5af3c14",
   "metadata": {},
   "source": [
    "<!-- END QUESTION -->\n",
    "\n",
    "<!-- BEGIN QUESTION -->\n",
    "\n",
    "**Question 4.14:** In this 1990s data set, how do prices in Humboldt compare qualitatively to the rest of the state?"
   ]
  },
  {
   "cell_type": "markdown",
   "id": "da0ec2c4",
   "metadata": {},
   "source": [
    "_Type your answer here, replacing this text._"
   ]
  },
  {
   "cell_type": "markdown",
   "id": "9d01f32d",
   "metadata": {},
   "source": [
    "<!-- END QUESTION -->\n",
    "\n",
    "**Question 4.15:**  Use a Seaborn data visualization to determine at least one region of California that tends to have older homes in this dataset. Assign the visualization to `age_plot`, then answer the question in the text cell provided."
   ]
  },
  {
   "cell_type": "markdown",
   "id": "d8c6a38f",
   "metadata": {},
   "source": [
    "_Type your answer here, replacing this text._"
   ]
  },
  {
   "cell_type": "code",
   "execution_count": null,
   "id": "859fab04",
   "metadata": {
    "tags": []
   },
   "outputs": [],
   "source": [
    "...\n",
    "age_plot = ...\n",
    "...\n",
    "..."
   ]
  },
  {
   "cell_type": "code",
   "execution_count": null,
   "id": "456aff27",
   "metadata": {
    "deletable": false,
    "editable": false
   },
   "outputs": [],
   "source": [
    "grader.check(\"q4_15\")"
   ]
  },
  {
   "cell_type": "markdown",
   "id": "d53982f2",
   "metadata": {},
   "source": [
    "**Question 4.16:**  Use a Seaborn data visualization to determine at least one region of California that tends to have below average income. Assign the visualization to `income_plot`, then answer the question in the text cell provided."
   ]
  },
  {
   "cell_type": "markdown",
   "id": "ba2f5219",
   "metadata": {},
   "source": [
    "_Type your answer here, replacing this text._"
   ]
  },
  {
   "cell_type": "code",
   "execution_count": null,
   "id": "e21e3756",
   "metadata": {
    "tags": []
   },
   "outputs": [],
   "source": [
    "...\n",
    "income_plot = ...\n",
    "...\n",
    "..."
   ]
  },
  {
   "cell_type": "code",
   "execution_count": null,
   "id": "7996cc4e",
   "metadata": {
    "deletable": false,
    "editable": false
   },
   "outputs": [],
   "source": [
    "grader.check(\"q4_16\")"
   ]
  },
  {
   "cell_type": "markdown",
   "id": "31347adc",
   "metadata": {},
   "source": [
    "## You're done! \n",
    "\n",
    "Congratulations on finishing the lab! Gus wishes he could join you for spring break. Run the cell below and submit to Canvas. \n",
    "\n",
    "<img src=\"gus_trip.JPG\" alt=\"drawing\" width=\"500\"/>\n",
    "\n",
    "## References\n",
    "- Pace, R. Kelley, and Ronald Barry. \"Sparse spatial autoregressions.\" Statistics & Probability Letters 33.3 (1997): 291-297."
   ]
  },
  {
   "cell_type": "markdown",
   "id": "44f2a9e4",
   "metadata": {
    "deletable": false,
    "editable": false
   },
   "source": [
    "## Submission\n",
    "\n",
    "Make sure you have run all cells in your notebook in order before running the cell below, so that all images/graphs appear in the output. The cell below will generate a zip file for you to submit. **Please save before exporting!**"
   ]
  },
  {
   "cell_type": "code",
   "execution_count": null,
   "id": "391cab72",
   "metadata": {
    "deletable": false,
    "editable": false
   },
   "outputs": [],
   "source": [
    "# Save your notebook first, then run this cell to export your submission.\n",
    "grader.export(pdf=False, run_tests=True)"
   ]
  },
  {
   "cell_type": "markdown",
   "id": "873ea30e",
   "metadata": {},
   "source": [
    " "
   ]
  }
 ],
 "metadata": {
  "kernelspec": {
   "display_name": "Python 3 (ipykernel)",
   "language": "python",
   "name": "python3"
  },
  "language_info": {
   "codemirror_mode": {
    "name": "ipython",
    "version": 3
   },
   "file_extension": ".py",
   "mimetype": "text/x-python",
   "name": "python",
   "nbconvert_exporter": "python",
   "pygments_lexer": "ipython3",
   "version": "3.11.4"
  },
  "otter": {
   "OK_FORMAT": true,
   "tests": {
    "q2_1": {
     "name": "q2_1",
     "points": null,
     "suites": [
      {
       "cases": [
        {
         "code": ">>> num_rows\n20640",
         "hidden": false,
         "locked": false
        },
        {
         "code": ">>> num_cols\n9",
         "hidden": false,
         "locked": false
        }
       ],
       "scored": true,
       "setup": "",
       "teardown": "",
       "type": "doctest"
      }
     ]
    },
    "q2_2": {
     "name": "q2_2",
     "points": null,
     "suites": [
      {
       "cases": [
        {
         "code": ">>> min_val\n0.14999",
         "hidden": false,
         "locked": false
        },
        {
         "code": ">>> max_val\n5.00001",
         "hidden": false,
         "locked": false
        },
        {
         "code": ">>> mean_val\n2.068558169089147",
         "hidden": false,
         "locked": false
        },
        {
         "code": ">>> median_val\n1.797",
         "hidden": false,
         "locked": false
        }
       ],
       "scored": true,
       "setup": "",
       "teardown": "",
       "type": "doctest"
      }
     ]
    },
    "q2_3": {
     "name": "q2_3",
     "points": null,
     "suites": [
      {
       "cases": [
        {
         "code": ">>> largest_mean\n'Population'",
         "hidden": false,
         "locked": false
        },
        {
         "code": ">>> smallest_mean\n'Longitude'",
         "hidden": false,
         "locked": false
        }
       ],
       "scored": true,
       "setup": "",
       "teardown": "",
       "type": "doctest"
      }
     ]
    },
    "q3_1": {
     "name": "q3_1",
     "points": null,
     "suites": [
      {
       "cases": [
        {
         "code": ">>> has_nulls\n0",
         "hidden": false,
         "locked": false
        },
        {
         "code": ">>> len(columns_with_nulls)\n0",
         "hidden": false,
         "locked": false
        }
       ],
       "scored": true,
       "setup": "",
       "teardown": "",
       "type": "doctest"
      }
     ]
    },
    "q3_2": {
     "name": "q3_2",
     "points": null,
     "suites": [
      {
       "cases": [
        {
         "code": ">>> num_duplicates\n0",
         "hidden": false,
         "locked": false
        }
       ],
       "scored": true,
       "setup": "",
       "teardown": "",
       "type": "doctest"
      }
     ]
    },
    "q4_1": {
     "name": "q4_1",
     "points": null,
     "suites": [
      {
       "cases": [
        {
         "code": ">>> import sys\n>>> 'seaborn' in sys.modules\nTrue",
         "hidden": false,
         "locked": false
        }
       ],
       "scored": true,
       "setup": "",
       "teardown": "",
       "type": "doctest"
      }
     ]
    },
    "q4_10": {
     "name": "q4_10",
     "points": null,
     "suites": [
      {
       "cases": [
        {
         "code": ">>> ca_houses_with_income_status.shape\n(20640, 10)",
         "hidden": false,
         "locked": false
        },
        {
         "code": ">>> 'IncStatus' in ca_houses_with_income_status.columns\nTrue",
         "hidden": false,
         "locked": false
        }
       ],
       "scored": true,
       "setup": "",
       "teardown": "",
       "type": "doctest"
      }
     ]
    },
    "q4_11": {
     "name": "q4_11",
     "points": null,
     "suites": [
      {
       "cases": [
        {
         "code": ">>> houses_boxplot.get_ylabel()\n'MedHouseVal'",
         "hidden": false,
         "locked": false
        },
        {
         "code": ">>> houses_boxplot.get_xlabel()\n'IncStatus'",
         "hidden": false,
         "locked": false
        }
       ],
       "scored": true,
       "setup": "",
       "teardown": "",
       "type": "doctest"
      }
     ]
    },
    "q4_12": {
     "name": "q4_12",
     "points": null,
     "suites": [
      {
       "cases": [
        {
         "code": ">>> not len(cali_scatter.get_title()) == 0 \nTrue",
         "hidden": false,
         "locked": false
        },
        {
         "code": ">>> cali_scatter.get_xlabel()\n'Longitude'",
         "hidden": false,
         "locked": false
        },
        {
         "code": ">>> cali_scatter.get_ylabel()\n'Latitude'",
         "hidden": false,
         "locked": false
        }
       ],
       "scored": true,
       "setup": "",
       "teardown": "",
       "type": "doctest"
      }
     ]
    },
    "q4_15": {
     "name": "q4_15",
     "points": null,
     "suites": [
      {
       "cases": [
        {
         "code": ">>> not len(age_plot.get_title()) == 0 \nTrue",
         "hidden": false,
         "locked": false
        },
        {
         "code": ">>> len(age_plot.get_xlabel())==0\nFalse",
         "hidden": false,
         "locked": false
        },
        {
         "code": ">>> len(age_plot.get_ylabel())==0\nFalse",
         "hidden": false,
         "locked": false
        }
       ],
       "scored": true,
       "setup": "",
       "teardown": "",
       "type": "doctest"
      }
     ]
    },
    "q4_16": {
     "name": "q4_16",
     "points": null,
     "suites": [
      {
       "cases": [
        {
         "code": ">>> income_plot != ...\nTrue",
         "hidden": false,
         "locked": false
        }
       ],
       "scored": true,
       "setup": "",
       "teardown": "",
       "type": "doctest"
      }
     ]
    },
    "q4_2": {
     "name": "q4_2",
     "points": null,
     "suites": [
      {
       "cases": [
        {
         "code": ">>> houses_pairplot.axes.shape\n(9, 9)",
         "hidden": false,
         "locked": false
        },
        {
         "code": ">>> sum([i in ['MedInc','HouseAge','AveRooms','AveBedrms','Population','AveOccup','Latitude','Longitude','MedHouseVal'] for i in houses_pairplot.x_vars])\n9",
         "hidden": false,
         "locked": false
        },
        {
         "code": ">>> sum([i in ['MedInc','HouseAge','AveRooms','AveBedrms','Population','AveOccup','Latitude','Longitude','MedHouseVal'] for i in houses_pairplot.y_vars])\n9",
         "hidden": false,
         "locked": false
        }
       ],
       "scored": true,
       "setup": "",
       "teardown": "",
       "type": "doctest"
      }
     ]
    },
    "q4_3": {
     "name": "q4_3",
     "points": null,
     "suites": [
      {
       "cases": [
        {
         "code": ">>> positive_corr\n2",
         "hidden": false,
         "locked": false
        }
       ],
       "scored": true,
       "setup": "",
       "teardown": "",
       "type": "doctest"
      }
     ]
    },
    "q4_6": {
     "name": "q4_6",
     "points": null,
     "suites": [
      {
       "cases": [
        {
         "code": ">>> countplot_houses.get_xlabel()\n'HouseAge'",
         "hidden": false,
         "locked": false
        },
        {
         "code": ">>> countplot_houses.get_ylabel()\n'count'",
         "hidden": false,
         "locked": false
        }
       ],
       "scored": true,
       "setup": "",
       "teardown": "",
       "type": "doctest"
      }
     ]
    },
    "q4_7": {
     "name": "q4_7",
     "points": null,
     "suites": [
      {
       "cases": [
        {
         "code": ">>> correlation_mat.shape\n(9, 9)",
         "hidden": false,
         "locked": false
        },
        {
         "code": ">>> len(houses_heatmap.get_xticklabels())\n9",
         "hidden": false,
         "locked": false
        },
        {
         "code": ">>> houses_heatmap.get_yticks()\narray([0.5, 1.5, 2.5, 3.5, 4.5, 5.5, 6.5, 7.5, 8.5])",
         "hidden": false,
         "locked": false
        }
       ],
       "scored": true,
       "setup": "",
       "teardown": "",
       "type": "doctest"
      }
     ]
    },
    "q4_8": {
     "name": "q4_8",
     "points": null,
     "suites": [
      {
       "cases": [
        {
         "code": ">>> pos_corr\n[1, 2, 3]",
         "hidden": false,
         "locked": false
        }
       ],
       "scored": true,
       "setup": "",
       "teardown": "",
       "type": "doctest"
      }
     ]
    },
    "q4_9": {
     "name": "q4_9",
     "points": null,
     "suites": [
      {
       "cases": [
        {
         "code": ">>> ca_houses_with_income_status.empty\nFalse",
         "hidden": false,
         "locked": false
        }
       ],
       "scored": true,
       "setup": "",
       "teardown": "",
       "type": "doctest"
      }
     ]
    }
   }
  }
 },
 "nbformat": 4,
 "nbformat_minor": 5
}
