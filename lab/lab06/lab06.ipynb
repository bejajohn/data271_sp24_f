{
 "cells": [
  {
   "cell_type": "code",
   "execution_count": null,
   "id": "3e39d9bc",
   "metadata": {
    "deletable": false,
    "editable": false
   },
   "outputs": [],
   "source": [
    "# Initialize Otter\n",
    "import otter\n",
    "grader = otter.Notebook(\"lab06.ipynb\")"
   ]
  },
  {
   "cell_type": "markdown",
   "id": "1e180930",
   "metadata": {},
   "source": [
    "# Lab 06: The Grammar of Graphics\n",
    "Welcome to Lab 6 of DATA 271!"
   ]
  },
  {
   "cell_type": "markdown",
   "id": "8496545f",
   "metadata": {},
   "source": [
    "## Overview\n",
    "The phrase \"Grammar of Graphics\" was coined by statistician Leland Wilkinson who authored a book in the 1990s with a broad impact on statistics and data science.  The book codifies a consistent way to represent and think about statistical graphs.  The grammar laid out in this book is the foundation of the R graphics package ggplot2 written by Hadley Wickham in 2010. They key idea is that graphs are broken into semantic components such as scales and layers. Python has several packages that support a general grammar of graphics approach to visualization, but `plotnine` was specifically created to mimic the ggplot2 package in R. For this lab, we will use `plotnine`.\n",
    "\n",
    "The `plotnine` documentation can be found [here](https://plotnine.org/reference/). \n",
    "\n",
    "### In today's lab, we will...\n",
    "- Begin to understand what makes an effective graphic and how to represent multiple variables (potentially both numeric and categorical) on the same plot.\n",
    "- Refresh the rules of \"the grammar of graphics.\"\n",
    "- Create and modify a plotnine object.\n",
    "- Build complex plots using a step-by-step approach following the grammar of graphics.\n",
    "- Intelligently break plots into meaningful subplots to extract insights from data.\n",
    "- Create scatter plots, bubble plots and lineplots.\n"
   ]
  },
  {
   "cell_type": "markdown",
   "id": "c56e79dc",
   "metadata": {},
   "source": [
    "### Install and import required packages"
   ]
  },
  {
   "cell_type": "markdown",
   "id": "c5a46025",
   "metadata": {},
   "source": [
    "If you haven't done it in a while on your JupyterHub account, you may have to run reinstall `plotnine`. To do so, type \n",
    "```python\n",
    "pip install plotnine\n",
    "pip install matplotlib==3.8.3\n",
    "```\n",
    "in the terminal. Ask Dr. Johnson if you can't remember how to do this. "
   ]
  },
  {
   "cell_type": "code",
   "execution_count": null,
   "id": "77fb9fb6",
   "metadata": {},
   "outputs": [],
   "source": [
    "from plotnine import *\n",
    "from plotnine.data import *\n",
    "\n",
    "import numpy as np\n",
    "import pandas as pd\n",
    "import warnings \n",
    "warnings.filterwarnings('ignore') "
   ]
  },
  {
   "cell_type": "markdown",
   "id": "f67556bd",
   "metadata": {},
   "source": [
    "### 1. Introduction and recap of the Grammar of Graphics\n",
    "\n",
    "In the article [\"A Layered Grammar of Graphics\"](https://byrneslab.net/classes/biol607/readings/wickham_layered-grammar.pdf) by Hadley Wickham, the author highlights the main components of a statistical graphics:\n",
    "\n",
    "- data\n",
    "- aesthetic mapping\n",
    "- scales\n",
    "- geometric objects\n",
    "- statistical transformations\n",
    "- facets\n",
    "- coordinate system\n",
    "\n",
    "Review what each of these components mean and answer the following questions. "
   ]
  },
  {
   "cell_type": "markdown",
   "id": "0d3b17be",
   "metadata": {},
   "source": [
    "<!-- BEGIN QUESTION -->\n",
    "\n",
    "**Question 1.1:** What are examples of aesthetics? How are these related to scales?"
   ]
  },
  {
   "cell_type": "markdown",
   "id": "59be282a",
   "metadata": {},
   "source": [
    "_Type your answer here, replacing this text._"
   ]
  },
  {
   "cell_type": "markdown",
   "id": "5f1eb082",
   "metadata": {},
   "source": [
    "<!-- END QUESTION -->\n",
    "\n",
    "<!-- BEGIN QUESTION -->\n",
    "\n",
    "**Question 1.2:** What are examples of geometric objects?"
   ]
  },
  {
   "cell_type": "markdown",
   "id": "591bff51",
   "metadata": {},
   "source": [
    "_Type your answer here, replacing this text._"
   ]
  },
  {
   "cell_type": "markdown",
   "id": "c972ab03",
   "metadata": {},
   "source": [
    "<!-- END QUESTION -->\n",
    "\n",
    "<!-- BEGIN QUESTION -->\n",
    "\n",
    "**Question 1.3:** What is a coordinate system? Give an example of a coordinate system beyond Cartesian. "
   ]
  },
  {
   "cell_type": "markdown",
   "id": "8eb47e24",
   "metadata": {},
   "source": [
    "_Type your answer here, replacing this text._"
   ]
  },
  {
   "cell_type": "markdown",
   "id": "75f905a9",
   "metadata": {},
   "source": [
    "<!-- END QUESTION -->\n",
    "\n",
    "<!-- BEGIN QUESTION -->\n",
    "\n",
    "**Question 1.4:** Give two examples of a statistical transformation.  "
   ]
  },
  {
   "cell_type": "markdown",
   "id": "b23259e8",
   "metadata": {},
   "source": [
    "_Type your answer here, replacing this text._"
   ]
  },
  {
   "cell_type": "markdown",
   "id": "64bd8402",
   "metadata": {},
   "source": [
    "<!-- END QUESTION -->\n",
    "\n",
    "<!-- BEGIN QUESTION -->\n",
    "\n",
    "**Question 1.5:** What are facets? Explain why using facets can lead to clearer visualizations. "
   ]
  },
  {
   "cell_type": "markdown",
   "id": "6c012808",
   "metadata": {},
   "source": [
    "_Type your answer here, replacing this text._"
   ]
  },
  {
   "cell_type": "markdown",
   "id": "ad2491b9",
   "metadata": {},
   "source": [
    "<!-- END QUESTION -->\n",
    "\n",
    "### 2. Appetizers: ggplot basics with the mpg dataset\n",
    "`plotnine.data` contains a number of data sets.  One example was collected by the Environmental Protection Agency on different models of cars. "
   ]
  },
  {
   "cell_type": "code",
   "execution_count": null,
   "id": "f902b938",
   "metadata": {
    "scrolled": true
   },
   "outputs": [],
   "source": [
    "mpg.head()"
   ]
  },
  {
   "cell_type": "markdown",
   "id": "8de43835",
   "metadata": {},
   "source": [
    "**Question 2.1:** How many rows and columns are in the `mpg` DataFrame?"
   ]
  },
  {
   "cell_type": "code",
   "execution_count": null,
   "id": "f614add9",
   "metadata": {
    "tags": []
   },
   "outputs": [],
   "source": [
    "num_rows = ...\n",
    "num_cols = ...\n",
    "\n",
    "num_rows,num_cols"
   ]
  },
  {
   "cell_type": "code",
   "execution_count": null,
   "id": "e66fa200",
   "metadata": {
    "deletable": false,
    "editable": false
   },
   "outputs": [],
   "source": [
    "grader.check(\"q2_1\")"
   ]
  },
  {
   "cell_type": "markdown",
   "id": "6974f922",
   "metadata": {},
   "source": [
    "<!-- BEGIN QUESTION -->\n",
    "\n",
    "**Question 2.2:** What do the `cyl`, `hwy`, `displ`, and `drv` columns stand for?\n",
    "\n",
    "*HINT:* Check the plotnine documentation using the link above or type `mpg?` in a cell. "
   ]
  },
  {
   "cell_type": "markdown",
   "id": "30ad18ba",
   "metadata": {},
   "source": [
    "_Type your answer here, replacing this text._"
   ]
  },
  {
   "cell_type": "markdown",
   "id": "094b2ad5",
   "metadata": {},
   "source": [
    "<!-- END QUESTION -->\n",
    "\n",
    "**Question 2.3:** Use a plotnine ggplot to create a scatter plot of `hwy` mapped to the y-axis vs `cyl` mapped to the x-axis. Do you notice anything interesting about your plot? (How many data points do you expect to see?)"
   ]
  },
  {
   "cell_type": "markdown",
   "id": "1c144af9",
   "metadata": {},
   "source": [
    "_Type your answer here, replacing this text._"
   ]
  },
  {
   "cell_type": "code",
   "execution_count": null,
   "id": "27046ef1",
   "metadata": {
    "tags": []
   },
   "outputs": [],
   "source": [
    "cyl_hwy = ...\n",
    "cyl_hwy.draw()"
   ]
  },
  {
   "cell_type": "code",
   "execution_count": null,
   "id": "737822e1",
   "metadata": {
    "deletable": false,
    "editable": false
   },
   "outputs": [],
   "source": [
    "grader.check(\"q2_3\")"
   ]
  },
  {
   "cell_type": "markdown",
   "id": "09ba5100",
   "metadata": {},
   "source": [
    "**Question 2.4:** Use a plotnine ggplot to create a scatter plot of `class` mapped to the y-axis vs `drv` mapped to the x-axis. Is this a useful plot? Explain."
   ]
  },
  {
   "cell_type": "markdown",
   "id": "77bff047",
   "metadata": {},
   "source": [
    "_Type your answer here, replacing this text._"
   ]
  },
  {
   "cell_type": "code",
   "execution_count": null,
   "id": "e1fcba54",
   "metadata": {
    "tags": []
   },
   "outputs": [],
   "source": [
    "class_drv = ...\n",
    "class_drv.draw()"
   ]
  },
  {
   "cell_type": "code",
   "execution_count": null,
   "id": "b1c04630",
   "metadata": {
    "deletable": false,
    "editable": false
   },
   "outputs": [],
   "source": [
    "grader.check(\"q2_4\")"
   ]
  },
  {
   "cell_type": "markdown",
   "id": "c380c8e2",
   "metadata": {},
   "source": [
    "**Question 2.5:** Use a plotnine ggplot to create a scatter plot of `hwy` mapped to the y-axis vs `displ` mapped to the x-axis."
   ]
  },
  {
   "cell_type": "code",
   "execution_count": null,
   "id": "9c97cace",
   "metadata": {
    "tags": []
   },
   "outputs": [],
   "source": [
    "hwy_displ = ...\n",
    "hwy_displ.draw()"
   ]
  },
  {
   "cell_type": "code",
   "execution_count": null,
   "id": "5ab8fe73",
   "metadata": {
    "deletable": false,
    "editable": false
   },
   "outputs": [],
   "source": [
    "grader.check(\"q2_5\")"
   ]
  },
  {
   "cell_type": "markdown",
   "id": "f59b5de1",
   "metadata": {},
   "source": [
    "**Question 2.6:** Which variables in the `mpg` dataset are categorical, which are numeric? Assign `categorical` to a Python list of strings containing the names of the categorical columns in `mpg`. Assign `numeric` to a Python list of strings containing the names of the numeric columns in `mpg`.  \n",
    "\n",
    "*HINT* Although certian variables could go either way, assume the variables of type int or float are numeric for this problem. "
   ]
  },
  {
   "cell_type": "code",
   "execution_count": null,
   "id": "25b43746",
   "metadata": {
    "tags": []
   },
   "outputs": [],
   "source": [
    "categorical = ...\n",
    "numeric = ..."
   ]
  },
  {
   "cell_type": "code",
   "execution_count": null,
   "id": "90721eb8",
   "metadata": {
    "deletable": false,
    "editable": false
   },
   "outputs": [],
   "source": [
    "grader.check(\"q2_6\")"
   ]
  },
  {
   "cell_type": "markdown",
   "id": "157fa887",
   "metadata": {},
   "source": [
    "**Question 2.7:** If we inspect our scatterplot from problem 2.5, there are some points which fall between 20-30 on the `hwy` variable, and also have somewhat large engines (with `displ` between 5 and 7).  They seem to be outside of the linear trend we observed.  Is there something different about these variables?\n",
    "\n",
    "Aesthetic mappings (*aes*) allow us to add additional variables to our visualization. Add `class` to the scatterplot by mapping it to a shape aesthetic."
   ]
  },
  {
   "cell_type": "code",
   "execution_count": null,
   "id": "4dcfd619",
   "metadata": {
    "tags": []
   },
   "outputs": [],
   "source": [
    "hwy_displ_class = ...\n",
    "hwy_displ_class.draw()"
   ]
  },
  {
   "cell_type": "code",
   "execution_count": null,
   "id": "652fb7b7",
   "metadata": {
    "deletable": false,
    "editable": false
   },
   "outputs": [],
   "source": [
    "grader.check(\"q2_7\")"
   ]
  },
  {
   "cell_type": "markdown",
   "id": "a206f276",
   "metadata": {},
   "source": [
    "**Question 2.8:** Interestingly, the plot from the previous problem shows us that most of those vehicles with abnormally large engine sizes are 2-seaters. What kind of cars are those?\n",
    "\n",
    "Add `manufacturer` to the scatterplot by mapping it to a color aesthetic. \n",
    "\n",
    "*HINT:* To see everything in the legends, you might find it helpful to add to your ggplot object\n",
    "```python\n",
    "+ theme(figure_size=(8, 8))\n",
    "```"
   ]
  },
  {
   "cell_type": "code",
   "execution_count": null,
   "id": "e0eaf325",
   "metadata": {
    "tags": []
   },
   "outputs": [],
   "source": [
    "hwy_displ_class_manuf = ...\n",
    "                         ...\n",
    "                         ...\n",
    "hwy_displ_class_manuf.draw()"
   ]
  },
  {
   "cell_type": "code",
   "execution_count": null,
   "id": "6196e192",
   "metadata": {
    "deletable": false,
    "editable": false
   },
   "outputs": [],
   "source": [
    "grader.check(\"q2_8\")"
   ]
  },
  {
   "cell_type": "markdown",
   "id": "dab5d270",
   "metadata": {},
   "source": [
    "**Question 2.9:**  What happens if you map a numeric variable to the color aesthetic? Create the same plot as the one above, map `cty` to the color aesthetic instead of manufacturer. "
   ]
  },
  {
   "cell_type": "code",
   "execution_count": null,
   "id": "b4565e37",
   "metadata": {
    "tags": []
   },
   "outputs": [],
   "source": [
    "hwy_displ_class_cty = ...\n",
    "                         ...\n",
    "hwy_displ_class_cty.draw()"
   ]
  },
  {
   "cell_type": "code",
   "execution_count": null,
   "id": "7912a904",
   "metadata": {
    "deletable": false,
    "editable": false
   },
   "outputs": [],
   "source": [
    "grader.check(\"q2_9\")"
   ]
  },
  {
   "cell_type": "markdown",
   "id": "b45e7e8a",
   "metadata": {},
   "source": [
    "If you find those lighter colors in the plot above difficult to see, it is also possible to set different scales for your color mapping. `plotnine` supports the matplotlib [colormaps](https://matplotlib.org/stable/users/explain/colors/colormaps.html). For example, we could use the the `plasma` colormap.  "
   ]
  },
  {
   "cell_type": "code",
   "execution_count": null,
   "id": "747639b3",
   "metadata": {},
   "outputs": [],
   "source": [
    "(ggplot(mpg,aes(x='displ',y='hwy', shape = 'class',color = 'cty')) \n",
    "                + geom_point() \n",
    "                + scale_color_cmap(cmap_name=\"plasma\")      \n",
    ").draw()"
   ]
  },
  {
   "cell_type": "markdown",
   "id": "1991774d",
   "metadata": {},
   "source": [
    "<!-- BEGIN QUESTION -->\n",
    "\n",
    "**Question 2.10:** Play around with mapping different variables to different aesthetics. How do these aesthetics behave differently for categorical vs. numeric variables?"
   ]
  },
  {
   "cell_type": "markdown",
   "id": "add3d679",
   "metadata": {},
   "source": [
    "_Type your answer here, replacing this text._"
   ]
  },
  {
   "cell_type": "markdown",
   "id": "8bd5e3d2",
   "metadata": {},
   "source": [
    "<!-- END QUESTION -->\n",
    "\n",
    "**Question 2.11:** We've seen that a way to add an additional variable is with aesthetics.  Another option, particularly useful for categorical variables, is to split the plot into facets. `facet_wrap()` allows us to do this (as long as the variable we pass in is discrete). This will create subplots that each display one subset of the data. \n",
    "\n",
    "Create a plot with `displ` mapped to the x-axis, `hwy` mapped to the y-axis and facetted with the `class` variable. Use this to create a subplot structure with 2 rows. "
   ]
  },
  {
   "cell_type": "code",
   "execution_count": null,
   "id": "6875c3a2",
   "metadata": {
    "tags": []
   },
   "outputs": [],
   "source": [
    "hwy_displ_class_fac = ...\n",
    "                        ...\n",
    "                        ...\n",
    "hwy_displ_class_fac.draw()"
   ]
  },
  {
   "cell_type": "code",
   "execution_count": null,
   "id": "9be63ad8",
   "metadata": {
    "deletable": false,
    "editable": false
   },
   "outputs": [],
   "source": [
    "grader.check(\"q2_11\")"
   ]
  },
  {
   "cell_type": "markdown",
   "id": "b4cb975c",
   "metadata": {},
   "source": [
    "**Questin 2.12:** Geometrical objects (*geoms*) are used to represent data in different ways.  We often describe the type of plot by the geom used by the plot-- for example, bar charts use bar geoms (`geom_bar`), line charts use line geoms (`geom_line`), boxplots use boxplot geoms `geom_boxplot`, scatterplots use the point geom (`geom_point`), etc.\n",
    "\n",
    "Create a bar plot to show the number of vehicles in the dataset for each `class`. "
   ]
  },
  {
   "cell_type": "code",
   "execution_count": null,
   "id": "245c87e3",
   "metadata": {
    "scrolled": false,
    "tags": []
   },
   "outputs": [],
   "source": [
    "class_count = ...\n",
    "class_count.draw()"
   ]
  },
  {
   "cell_type": "code",
   "execution_count": null,
   "id": "1c348ad1",
   "metadata": {
    "deletable": false,
    "editable": false
   },
   "outputs": [],
   "source": [
    "grader.check(\"q2_12\")"
   ]
  },
  {
   "cell_type": "markdown",
   "id": "85e60091",
   "metadata": {},
   "source": [
    "Statistical transfromations (*stats*) allow us to summarize or smooth the data. For example, `stat_summary()` summarizes the $y$ value for each unique $x$ value by plotting a the median, the minimum, and the maximum values of $y$ for each $x$. See the example below. "
   ]
  },
  {
   "cell_type": "code",
   "execution_count": null,
   "id": "e996a2ca",
   "metadata": {
    "scrolled": true
   },
   "outputs": [],
   "source": [
    "( \n",
    "    ggplot(data=mpg, mapping=aes(x=\"displ\", y=\"hwy\")) \n",
    "    + stat_summary(\n",
    "    fun_ymin=np.min,\n",
    "    fun_ymax=np.max,\n",
    "    fun_y=np.median)\n",
    ").draw()"
   ]
  },
  {
   "cell_type": "markdown",
   "id": "f213a272",
   "metadata": {},
   "source": [
    "**Question 2.13:** Stats also allow us to smooth the data.\n",
    "\n",
    "Create a scatter plot with `displ` mapped to the x-axis, `hwy` mapped to the y-axis and a smooth stat. Try using different \"methods\" of smoothing. You can find the options [here](https://plotnine.org/reference/stat_smooth#plotnine.stat_smooth)."
   ]
  },
  {
   "cell_type": "code",
   "execution_count": null,
   "id": "94c438a7",
   "metadata": {
    "tags": []
   },
   "outputs": [],
   "source": [
    "hwy_displ_smooth = ...\n",
    "                        ...\n",
    "                        ...\n",
    "hwy_displ_smooth.draw()"
   ]
  },
  {
   "cell_type": "code",
   "execution_count": null,
   "id": "6fe4cedb",
   "metadata": {
    "deletable": false,
    "editable": false
   },
   "outputs": [],
   "source": [
    "grader.check(\"q2_13\")"
   ]
  },
  {
   "cell_type": "markdown",
   "id": "ff644d1a",
   "metadata": {},
   "source": [
    "**Question 2.14:** Create the same plot as above, but this time map `class` to the color aesthetic. What happens to your smoother lines?"
   ]
  },
  {
   "cell_type": "markdown",
   "id": "4df514fd",
   "metadata": {},
   "source": [
    "_Type your answer here, replacing this text._"
   ]
  },
  {
   "cell_type": "code",
   "execution_count": null,
   "id": "6855fd03",
   "metadata": {
    "tags": []
   },
   "outputs": [],
   "source": [
    "hwy_displ_smooth2 = ...\n",
    "                        ...\n",
    "                        ...\n",
    "hwy_displ_smooth2.draw()"
   ]
  },
  {
   "cell_type": "code",
   "execution_count": null,
   "id": "748d50e7",
   "metadata": {
    "deletable": false,
    "editable": false
   },
   "outputs": [],
   "source": [
    "grader.check(\"q2_14\")"
   ]
  },
  {
   "cell_type": "markdown",
   "id": "51172d71",
   "metadata": {},
   "source": [
    "### Other things that affect the style of your graphic\n",
    "There are several things you can do to adjust the style of your `plotnine` ggplot. Some of them are demonstrated below. "
   ]
  },
  {
   "cell_type": "code",
   "execution_count": null,
   "id": "0cf37e15",
   "metadata": {},
   "outputs": [],
   "source": [
    "# add a title to your plot\n",
    "(ggplot(mpg,aes('displ','hwy')) \n",
    " + geom_point()\n",
    " + ggtitle('Highway MPG vs Engine Size')).draw()"
   ]
  },
  {
   "cell_type": "code",
   "execution_count": null,
   "id": "7cf189b1",
   "metadata": {},
   "outputs": [],
   "source": [
    "# update axis labels\n",
    "(ggplot(mpg,aes('displ','hwy')) \n",
    " + geom_point()\n",
    " + ggtitle('Highway MPG vs Engine Size')\n",
    " + xlab('Engine Size')\n",
    " + ylab('Highway MPG')).draw()"
   ]
  },
  {
   "cell_type": "code",
   "execution_count": null,
   "id": "5d442beb",
   "metadata": {},
   "outputs": [],
   "source": [
    "# update axis scales\n",
    "(ggplot(mpg,aes('displ','hwy')) \n",
    " + geom_point()\n",
    " + ggtitle('Highway MPG vs Engine Size')\n",
    " + xlab('Engine Size')\n",
    " + ylab('Highway MPG')\n",
    " + xlim([0,8])\n",
    " + ylim([0,50])).draw()"
   ]
  },
  {
   "cell_type": "code",
   "execution_count": null,
   "id": "285cc433",
   "metadata": {},
   "outputs": [],
   "source": [
    "# adjust the theme (options can be found at https://plotnine.org/reference/#themes)\n",
    "(ggplot(mpg,aes('displ','hwy')) \n",
    " + geom_point()\n",
    " + ggtitle('Highway MPG vs Engine Size')\n",
    " + xlab('Engine Size')\n",
    " + ylab('Highway MPG')\n",
    " + xlim([0,8])\n",
    " + ylim([0,50])\n",
    " + theme_classic()).draw()"
   ]
  },
  {
   "cell_type": "markdown",
   "id": "e13a1966",
   "metadata": {},
   "source": [
    "### 3. Main Course: Analysis on Hans Rosling's TED Talk data  \n",
    "Hans Rosling's TED talk ends with data from 2003.  Two decades has passed, and new data is available.\n",
    "Gapminder is an independent Swedish foundation with no political, religious, or economic affiliations.  It was founded in 2005 by Hans Rosling and others.  In 2007, some of its software was acquired by Google, and the Gapminder team assisted Google in improving their search to return better results for global statistics from big data providers.  Rosling and coauthors also released the book Factfulness in 2018, which became an international best seller.\n",
    "Gapminder provides data curated from a number of reputable sources.  Data can be accessed on this website: https://www.gapminder.org/data/.\n",
    "A csv file called `gapminder_all.csv` has been placed in your local directory if you are working on JupyterHub. If you are working on your own device, download the data or read it in from online. Use that csv file to answer the following questions. "
   ]
  },
  {
   "cell_type": "markdown",
   "id": "6fa2eb5d",
   "metadata": {},
   "source": [
    "**Question 3.1:** Import the `gapminder_all.csv` data. "
   ]
  },
  {
   "cell_type": "code",
   "execution_count": null,
   "id": "d29a7660",
   "metadata": {
    "tags": []
   },
   "outputs": [],
   "source": [
    "df = ...\n",
    "df.head()"
   ]
  },
  {
   "cell_type": "code",
   "execution_count": null,
   "id": "d68d5484",
   "metadata": {
    "deletable": false,
    "editable": false
   },
   "outputs": [],
   "source": [
    "grader.check(\"q3_1\")"
   ]
  },
  {
   "cell_type": "markdown",
   "id": "bd226173",
   "metadata": {},
   "source": [
    "**Question 3.2:** Consider the data for GDP and life expectancy in 2007.  Make a scatterplot with life expectancy (`lifeExp_2007`) as a function of GDP (`gdpPercap_2007`).  Add the variable `continent` as a color.  What trends do you notice?  Discuss your observations in a few sentences."
   ]
  },
  {
   "cell_type": "markdown",
   "id": "57d4927a",
   "metadata": {},
   "source": [
    "_Type your answer here, replacing this text._"
   ]
  },
  {
   "cell_type": "code",
   "execution_count": null,
   "id": "93a861ba",
   "metadata": {
    "tags": []
   },
   "outputs": [],
   "source": [
    "scatter_2007 = ...\n",
    "            ...\n",
    "scatter_2007.draw()"
   ]
  },
  {
   "cell_type": "code",
   "execution_count": null,
   "id": "9f8e0613",
   "metadata": {
    "deletable": false,
    "editable": false
   },
   "outputs": [],
   "source": [
    "grader.check(\"q3_2\")"
   ]
  },
  {
   "cell_type": "markdown",
   "id": "b0c4e72b",
   "metadata": {},
   "source": [
    "**Question 3.3:** Create a new graph with the same information as above and with each country's 2007 population (`pop_2007`) mapped to a size aesthetic. Explain any trends you see. \n",
    "\n",
    "*NOTE:* This will create something called bubble plot. If you want the points to have a little transperency, you can use  `geom_point(alpha = 0.7)`."
   ]
  },
  {
   "cell_type": "markdown",
   "id": "173fd0a7",
   "metadata": {},
   "source": [
    "_Type your answer here, replacing this text._"
   ]
  },
  {
   "cell_type": "code",
   "execution_count": null,
   "id": "f4c1e486",
   "metadata": {
    "tags": []
   },
   "outputs": [],
   "source": [
    "bubble_2007 = ...\n",
    "            ...\n",
    "bubble_2007.draw()"
   ]
  },
  {
   "cell_type": "code",
   "execution_count": null,
   "id": "6a0bc4ff",
   "metadata": {
    "deletable": false,
    "editable": false
   },
   "outputs": [],
   "source": [
    "grader.check(\"q3_3\")"
   ]
  },
  {
   "cell_type": "markdown",
   "id": "f13bcf32",
   "metadata": {},
   "source": [
    "**Question 3.4:** Dr. Rosling warned us it can be problematic to use average data and that context is important.  Therefore, instead of grouping countries by continent, let's focus on a specific continent and look at differences between countries.  \n",
    "\n",
    "Make a similar graph for only the African countries in the year 2007.  Use size of dots to represent country population, color of dots to represent different countries, and rename axes, plot title and legend titles so they are clear.  Legend labels can be renamed with `labs(color = 'your name', size = 'your name')`. Note, you might have to adjust the figure size too. "
   ]
  },
  {
   "cell_type": "code",
   "execution_count": null,
   "id": "26bbe12c",
   "metadata": {
    "tags": []
   },
   "outputs": [],
   "source": [
    "africa_2007 = ...\n",
    "            ...\n",
    "            ...\n",
    "            ...\n",
    "            ...\n",
    "            ...\n",
    "            ...\n",
    "africa_2007.draw()"
   ]
  },
  {
   "cell_type": "code",
   "execution_count": null,
   "id": "e9914448",
   "metadata": {
    "deletable": false,
    "editable": false
   },
   "outputs": [],
   "source": [
    "grader.check(\"q3_4\")"
   ]
  },
  {
   "cell_type": "markdown",
   "id": "2d7183e8",
   "metadata": {},
   "source": [
    "**Question 3.5:** Repeat the task above, but this time, focus on the Americas.  \n",
    "\n",
    "Which two countries in the Americas had an extremely high GDP and an extremely high life expectancy in 2007?  Which country had a very low GDP and a very low life expectancy?"
   ]
  },
  {
   "cell_type": "markdown",
   "id": "e09246e9",
   "metadata": {},
   "source": [
    "_Type your answer here, replacing this text._"
   ]
  },
  {
   "cell_type": "code",
   "execution_count": null,
   "id": "b9724222",
   "metadata": {
    "tags": []
   },
   "outputs": [],
   "source": [
    "americas_2007 = ...\n",
    "            ...\n",
    "            ...\n",
    "            ...\n",
    "            ...\n",
    "            ...\n",
    "            ...\n",
    "americas_2007.draw()"
   ]
  },
  {
   "cell_type": "code",
   "execution_count": null,
   "id": "09e90589",
   "metadata": {
    "deletable": false,
    "editable": false
   },
   "outputs": [],
   "source": [
    "grader.check(\"q3_5\")"
   ]
  },
  {
   "cell_type": "markdown",
   "id": "56e756d3",
   "metadata": {},
   "source": [
    "<!-- BEGIN QUESTION -->\n",
    "\n",
    "**Question 3.6** Do you have a hypothesis about what factors impact the expected life expectancy in the countries with the two highest GDPs in 2007?  Why do you think they are ordered as they are?  (Feel free to use Google as you brainstorm.)  What about the country with the lowest GDP/life expectancy?"
   ]
  },
  {
   "cell_type": "markdown",
   "id": "3c477744",
   "metadata": {},
   "source": [
    "_Type your answer here, replacing this text._"
   ]
  },
  {
   "cell_type": "markdown",
   "id": "faf26991",
   "metadata": {},
   "source": [
    "<!-- END QUESTION -->\n",
    "\n",
    "## You're done! \n",
    "\n",
    "Gus says congratulations on finishing the lab this week, and he wants you to have these flowers. Run the cell below and submit to Canvas. \n",
    "\n",
    "<img src=\"gus_gives_flowers.JPG\" alt=\"drawing\" width=\"500\"/>\n",
    "\n",
    "### References\n",
    "- Wickham, Hadley. \"A layered grammar of graphics.\" Journal of Computational and Graphical Statistics 19.1 (2010): 3-28. https://byrneslab.net/classes/biol607/readings/wickham_layered-grammar.pdf\n",
    "- Wilkinson, Leland. The grammar of graphics. Springer Berlin Heidelberg, 2012.\n",
    "- Factfulness: Ten Reasons We're Wrong About the World and Why Things Are Better Than You Think by Hans Rosling and Anna Rosling Ronnlund\n",
    "- Elegant Graphics for Data Analysis, Springer 3rd edition by Hadley Wickham, Danielle Navarro, and Thomas Lin Pedersen.: https://ggplot2-book.org/index.html"
   ]
  },
  {
   "cell_type": "markdown",
   "id": "29dae88b",
   "metadata": {
    "deletable": false,
    "editable": false
   },
   "source": [
    "## Submission\n",
    "\n",
    "Make sure you have run all cells in your notebook in order before running the cell below, so that all images/graphs appear in the output. The cell below will generate a zip file for you to submit. **Please save before exporting!**"
   ]
  },
  {
   "cell_type": "code",
   "execution_count": null,
   "id": "fe6b5824",
   "metadata": {
    "deletable": false,
    "editable": false
   },
   "outputs": [],
   "source": [
    "# Save your notebook first, then run this cell to export your submission.\n",
    "grader.export(pdf=False, run_tests=True)"
   ]
  },
  {
   "cell_type": "markdown",
   "id": "b5233224",
   "metadata": {},
   "source": [
    " "
   ]
  }
 ],
 "metadata": {
  "kernelspec": {
   "display_name": "Python 3 (ipykernel)",
   "language": "python",
   "name": "python3"
  },
  "language_info": {
   "codemirror_mode": {
    "name": "ipython",
    "version": 3
   },
   "file_extension": ".py",
   "mimetype": "text/x-python",
   "name": "python",
   "nbconvert_exporter": "python",
   "pygments_lexer": "ipython3",
   "version": "3.11.4"
  },
  "otter": {
   "OK_FORMAT": true,
   "tests": {
    "q2_1": {
     "name": "q2_1",
     "points": null,
     "suites": [
      {
       "cases": [
        {
         "code": ">>> num_rows\n234",
         "hidden": false,
         "locked": false
        },
        {
         "code": ">>> num_cols\n11",
         "hidden": false,
         "locked": false
        }
       ],
       "scored": true,
       "setup": "",
       "teardown": "",
       "type": "doctest"
      }
     ]
    },
    "q2_11": {
     "name": "q2_11",
     "points": null,
     "suites": [
      {
       "cases": [
        {
         "code": ">>> type(hwy_displ_class_fac) == type(ggplot())\nTrue",
         "hidden": false,
         "locked": false
        },
        {
         "code": ">>> hwy_displ_class_cty.mapping['x']\n'displ'",
         "hidden": false,
         "locked": false
        },
        {
         "code": ">>> hwy_displ_class_cty.mapping['y']\n'hwy'",
         "hidden": false,
         "locked": false
        }
       ],
       "scored": true,
       "setup": "",
       "teardown": "",
       "type": "doctest"
      }
     ]
    },
    "q2_12": {
     "name": "q2_12",
     "points": null,
     "suites": [
      {
       "cases": [
        {
         "code": ">>> type(class_count) == type(ggplot())\nTrue",
         "hidden": false,
         "locked": false
        },
        {
         "code": ">>> class_count.mapping['x']\n'class'",
         "hidden": false,
         "locked": false
        }
       ],
       "scored": true,
       "setup": "",
       "teardown": "",
       "type": "doctest"
      }
     ]
    },
    "q2_13": {
     "name": "q2_13",
     "points": null,
     "suites": [
      {
       "cases": [
        {
         "code": ">>> type(hwy_displ_smooth) == type(ggplot())\nTrue",
         "hidden": false,
         "locked": false
        },
        {
         "code": ">>> hwy_displ_smooth.mapping['x']\n'displ'",
         "hidden": false,
         "locked": false
        },
        {
         "code": ">>> hwy_displ_smooth.mapping['y']\n'hwy'",
         "hidden": false,
         "locked": false
        }
       ],
       "scored": true,
       "setup": "",
       "teardown": "",
       "type": "doctest"
      }
     ]
    },
    "q2_14": {
     "name": "q2_14",
     "points": null,
     "suites": [
      {
       "cases": [
        {
         "code": ">>> type(hwy_displ_smooth2) == type(ggplot())\nTrue",
         "hidden": false,
         "locked": false
        },
        {
         "code": ">>> hwy_displ_smooth2.mapping['x']\n'displ'",
         "hidden": false,
         "locked": false
        },
        {
         "code": ">>> hwy_displ_smooth2.mapping['y']\n'hwy'",
         "hidden": false,
         "locked": false
        },
        {
         "code": ">>> hwy_displ_smooth2.mapping['color']\n'class'",
         "hidden": false,
         "locked": false
        }
       ],
       "scored": true,
       "setup": "",
       "teardown": "",
       "type": "doctest"
      }
     ]
    },
    "q2_3": {
     "name": "q2_3",
     "points": null,
     "suites": [
      {
       "cases": [
        {
         "code": ">>> type(cyl_hwy) == type(ggplot())\nTrue",
         "hidden": false,
         "locked": false
        },
        {
         "code": ">>> cyl_hwy.mapping['x']\n'cyl'",
         "hidden": false,
         "locked": false
        },
        {
         "code": ">>> cyl_hwy.mapping['y']\n'hwy'",
         "hidden": false,
         "locked": false
        }
       ],
       "scored": true,
       "setup": "",
       "teardown": "",
       "type": "doctest"
      }
     ]
    },
    "q2_4": {
     "name": "q2_4",
     "points": null,
     "suites": [
      {
       "cases": [
        {
         "code": ">>> type(class_drv) == type(ggplot())\nTrue",
         "hidden": false,
         "locked": false
        },
        {
         "code": ">>> class_drv.mapping['x']\n'drv'",
         "hidden": false,
         "locked": false
        },
        {
         "code": ">>> class_drv.mapping['y']\n'class'",
         "hidden": false,
         "locked": false
        }
       ],
       "scored": true,
       "setup": "",
       "teardown": "",
       "type": "doctest"
      }
     ]
    },
    "q2_5": {
     "name": "q2_5",
     "points": null,
     "suites": [
      {
       "cases": [
        {
         "code": ">>> type(hwy_displ) == type(ggplot())\nTrue",
         "hidden": false,
         "locked": false
        },
        {
         "code": ">>> hwy_displ.mapping['x']\n'displ'",
         "hidden": false,
         "locked": false
        },
        {
         "code": ">>> hwy_displ.mapping['y']\n'hwy'",
         "hidden": false,
         "locked": false
        }
       ],
       "scored": true,
       "setup": "",
       "teardown": "",
       "type": "doctest"
      }
     ]
    },
    "q2_6": {
     "name": "q2_6",
     "points": null,
     "suites": [
      {
       "cases": [
        {
         "code": ">>> all([i in ['manufacturer','model','trans','drv','fl','class'] for i in categorical])\nTrue",
         "hidden": false,
         "locked": false
        },
        {
         "code": ">>> all([i in ['displ','year','cyl','cty','hwy'] for i in numeric])\nTrue",
         "hidden": false,
         "locked": false
        }
       ],
       "scored": true,
       "setup": "",
       "teardown": "",
       "type": "doctest"
      }
     ]
    },
    "q2_7": {
     "name": "q2_7",
     "points": null,
     "suites": [
      {
       "cases": [
        {
         "code": ">>> type(hwy_displ_class) == type(ggplot())\nTrue",
         "hidden": false,
         "locked": false
        },
        {
         "code": ">>> hwy_displ_class.mapping['shape']\n'class'",
         "hidden": false,
         "locked": false
        },
        {
         "code": ">>> hwy_displ_class.mapping['x']\n'displ'",
         "hidden": false,
         "locked": false
        },
        {
         "code": ">>> hwy_displ_class.mapping['y']\n'hwy'",
         "hidden": false,
         "locked": false
        }
       ],
       "scored": true,
       "setup": "",
       "teardown": "",
       "type": "doctest"
      }
     ]
    },
    "q2_8": {
     "name": "q2_8",
     "points": null,
     "suites": [
      {
       "cases": [
        {
         "code": ">>> type(hwy_displ_class_manuf) == type(ggplot())\nTrue",
         "hidden": false,
         "locked": false
        },
        {
         "code": ">>> hwy_displ_class_manuf.mapping['color']\n'manufacturer'",
         "hidden": false,
         "locked": false
        },
        {
         "code": ">>> hwy_displ_class_manuf.mapping['x']\n'displ'",
         "hidden": false,
         "locked": false
        },
        {
         "code": ">>> hwy_displ_class_manuf.mapping['y']\n'hwy'",
         "hidden": false,
         "locked": false
        },
        {
         "code": ">>> hwy_displ_class_manuf.mapping['shape']\n'class'",
         "hidden": false,
         "locked": false
        }
       ],
       "scored": true,
       "setup": "",
       "teardown": "",
       "type": "doctest"
      }
     ]
    },
    "q2_9": {
     "name": "q2_9",
     "points": null,
     "suites": [
      {
       "cases": [
        {
         "code": ">>> type(hwy_displ_class_cty) == type(ggplot())\nTrue",
         "hidden": false,
         "locked": false
        },
        {
         "code": ">>> hwy_displ_class_cty.mapping['color']\n'cty'",
         "hidden": false,
         "locked": false
        },
        {
         "code": ">>> hwy_displ_class_cty.mapping['x']\n'displ'",
         "hidden": false,
         "locked": false
        },
        {
         "code": ">>> hwy_displ_class_cty.mapping['y']\n'hwy'",
         "hidden": false,
         "locked": false
        }
       ],
       "scored": true,
       "setup": "",
       "teardown": "",
       "type": "doctest"
      }
     ]
    },
    "q3_1": {
     "name": "q3_1",
     "points": null,
     "suites": [
      {
       "cases": [
        {
         "code": ">>> df.shape\n(142, 38)",
         "hidden": false,
         "locked": false
        },
        {
         "code": ">>> df.columns\nIndex(['continent', 'country', 'gdpPercap_1952', 'gdpPercap_1957',\n       'gdpPercap_1962', 'gdpPercap_1967', 'gdpPercap_1972', 'gdpPercap_1977',\n       'gdpPercap_1982', 'gdpPercap_1987', 'gdpPercap_1992', 'gdpPercap_1997',\n       'gdpPercap_2002', 'gdpPercap_2007', 'lifeExp_1952', 'lifeExp_1957',\n       'lifeExp_1962', 'lifeExp_1967', 'lifeExp_1972', 'lifeExp_1977',\n       'lifeExp_1982', 'lifeExp_1987', 'lifeExp_1992', 'lifeExp_1997',\n       'lifeExp_2002', 'lifeExp_2007', 'pop_1952', 'pop_1957', 'pop_1962',\n       'pop_1967', 'pop_1972', 'pop_1977', 'pop_1982', 'pop_1987', 'pop_1992',\n       'pop_1997', 'pop_2002', 'pop_2007'],\n      dtype='object')",
         "hidden": false,
         "locked": false
        }
       ],
       "scored": true,
       "setup": "",
       "teardown": "",
       "type": "doctest"
      }
     ]
    },
    "q3_2": {
     "name": "q3_2",
     "points": null,
     "suites": [
      {
       "cases": [
        {
         "code": ">>> scatter_2007.mapping['x']\n'gdpPercap_2007'",
         "hidden": false,
         "locked": false
        },
        {
         "code": ">>> scatter_2007.mapping['y']\n'lifeExp_2007'",
         "hidden": false,
         "locked": false
        },
        {
         "code": ">>> scatter_2007.mapping['color']\n'continent'",
         "hidden": false,
         "locked": false
        }
       ],
       "scored": true,
       "setup": "",
       "teardown": "",
       "type": "doctest"
      }
     ]
    },
    "q3_3": {
     "name": "q3_3",
     "points": null,
     "suites": [
      {
       "cases": [
        {
         "code": ">>> bubble_2007.mapping['x']\n'gdpPercap_2007'",
         "hidden": false,
         "locked": false
        },
        {
         "code": ">>> bubble_2007.mapping['y']\n'lifeExp_2007'",
         "hidden": false,
         "locked": false
        },
        {
         "code": ">>> bubble_2007.mapping['color']\n'continent'",
         "hidden": false,
         "locked": false
        },
        {
         "code": ">>> bubble_2007.mapping['size']\n'pop_2007'",
         "hidden": false,
         "locked": false
        }
       ],
       "scored": true,
       "setup": "",
       "teardown": "",
       "type": "doctest"
      }
     ]
    },
    "q3_4": {
     "name": "q3_4",
     "points": null,
     "suites": [
      {
       "cases": [
        {
         "code": ">>> africa_2007.mapping['x']\n'gdpPercap_2007'",
         "hidden": false,
         "locked": false
        },
        {
         "code": ">>> africa_2007.mapping['y']\n'lifeExp_2007'",
         "hidden": false,
         "locked": false
        },
        {
         "code": ">>> africa_2007.mapping['color']\n'country'",
         "hidden": false,
         "locked": false
        },
        {
         "code": ">>> africa_2007.mapping['size']\n'pop_2007'",
         "hidden": false,
         "locked": false
        }
       ],
       "scored": true,
       "setup": "",
       "teardown": "",
       "type": "doctest"
      }
     ]
    },
    "q3_5": {
     "name": "q3_5",
     "points": null,
     "suites": [
      {
       "cases": [
        {
         "code": ">>> americas_2007.mapping['x']\n'gdpPercap_2007'",
         "hidden": false,
         "locked": false
        },
        {
         "code": ">>> americas_2007.mapping['y']\n'lifeExp_2007'",
         "hidden": false,
         "locked": false
        },
        {
         "code": ">>> americas_2007.mapping['color']\n'country'",
         "hidden": false,
         "locked": false
        },
        {
         "code": ">>> americas_2007.mapping['size']\n'pop_2007'",
         "hidden": false,
         "locked": false
        }
       ],
       "scored": true,
       "setup": "",
       "teardown": "",
       "type": "doctest"
      }
     ]
    }
   }
  }
 },
 "nbformat": 4,
 "nbformat_minor": 5
}
