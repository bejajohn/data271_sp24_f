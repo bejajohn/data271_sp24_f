{
 "cells": [
  {
   "cell_type": "code",
   "execution_count": null,
   "id": "0e7d5e42",
   "metadata": {
    "deletable": false,
    "editable": false
   },
   "outputs": [],
   "source": [
    "# Initialize Otter\n",
    "import otter\n",
    "grader = otter.Notebook(\"hw04.ipynb\")"
   ]
  },
  {
   "cell_type": "markdown",
   "id": "f0e94162",
   "metadata": {},
   "source": [
    "# Homework 4: Exploring and Visualizing Data"
   ]
  },
  {
   "cell_type": "markdown",
   "id": "9a46ab99",
   "metadata": {},
   "source": [
    "Welcome to homework 4 of DATA 271: Data Wrangling and Visualization! In this assignment, we will practice exploring data with visualizations and summaries. As always, if you get stuck or have questions feel free to discuss problems with your peers and come to office hours. \n",
    "\n",
    "For this homework and all future ones, please be sure to not re-assign variables throughout the notebook! For example, if you use `my_list` in your answer to one question, do not reassign it later on. Otherwise, you will fail tests that you passed previously. **NOTE:** This homework assignment contains hidden tests. Passing all the auto-graded tests in the assignment does *NOT* mean you have answered everything correctly. So be careful and check your work!"
   ]
  },
  {
   "cell_type": "markdown",
   "id": "e372e625",
   "metadata": {},
   "source": [
    "**Question 0:** Import the appropriate modules for this assignment including NumPy, Pandas, Matplotlib, and Seaborn. **(5 Points)**"
   ]
  },
  {
   "cell_type": "code",
   "execution_count": null,
   "id": "0d56ec8a",
   "metadata": {
    "execution": {
     "iopub.execute_input": "2022-01-21T06:53:52.800261Z",
     "iopub.status.busy": "2022-01-21T06:53:52.799643Z",
     "iopub.status.idle": "2022-01-21T06:53:52.803489Z",
     "shell.execute_reply": "2022-01-21T06:53:52.802912Z"
    },
    "tags": []
   },
   "outputs": [],
   "source": []
  },
  {
   "cell_type": "markdown",
   "id": "2b9c450d",
   "metadata": {},
   "source": [
    "## 1. Grammar of Graphics"
   ]
  },
  {
   "cell_type": "markdown",
   "id": "18e2dc08",
   "metadata": {},
   "source": [
    "<!-- BEGIN QUESTION -->\n",
    "\n",
    "**Question 1.1.** What are the main components of a layered grammar of graphics? List them below and give a short description of each. **(5 Points)**"
   ]
  },
  {
   "cell_type": "markdown",
   "id": "cebb820a",
   "metadata": {},
   "source": [
    "_Type your answer here, replacing this text._"
   ]
  },
  {
   "cell_type": "markdown",
   "id": "3c2d443b",
   "metadata": {},
   "source": [
    "<!-- END QUESTION -->\n",
    "\n",
    "<!-- BEGIN QUESTION -->\n",
    "\n",
    "**Question 1.2.** Based on what you see in the figure below, deconstruct the visualization into it's grammar of graphics components. \n",
    "\n",
    "<img src=\"cars_graphic.PNG\" alt=\"drawing\" width=\"500\"/>\n",
    "\n",
    "**(5 Points)**"
   ]
  },
  {
   "cell_type": "markdown",
   "id": "12c88c6b",
   "metadata": {},
   "source": [
    "_Type your answer here, replacing this text._"
   ]
  },
  {
   "cell_type": "markdown",
   "id": "35a4e0c5",
   "metadata": {},
   "source": [
    "<!-- END QUESTION -->\n",
    "\n",
    "<!-- BEGIN QUESTION -->\n",
    "\n",
    "**Question 1.3.** Based on what you see in the figure below, deconstruct the visualization into it's grammar of graphics components. \n",
    "\n",
    "<img src=\"country_graphic.PNG\" alt=\"drawing\" width=\"500\"/>\n",
    "\n",
    "**(5 Points)**"
   ]
  },
  {
   "cell_type": "markdown",
   "id": "502315a4",
   "metadata": {},
   "source": [
    "_Type your answer here, replacing this text._"
   ]
  },
  {
   "cell_type": "markdown",
   "id": "faccbd2d",
   "metadata": {},
   "source": [
    "<!-- END QUESTION -->\n",
    "\n",
    "# 2. Exploritory Data Analysis on Penguins\n",
    "In the following problem we will be working with the `penguins.csv` file (already imported into your local repository if you are on JupyterHub). \n",
    "\n",
    "The data were collected and made available by Dr. Kristen Gorman and the Palmer Station, Antarctica LTER, a member of the Long Term Ecological Research Network. \n",
    "\n",
    "We will work through and exploritory data analysis on this dataset, and maybe learn a little about penguins along the way!"
   ]
  },
  {
   "cell_type": "markdown",
   "id": "c1bbc9b7",
   "metadata": {},
   "source": [
    "**Question 2.1:** Import the `penguins.csv` as a Pandas DataFrame. **(5 Points)**"
   ]
  },
  {
   "cell_type": "code",
   "execution_count": null,
   "id": "603de420",
   "metadata": {
    "execution": {
     "iopub.execute_input": "2022-01-21T06:53:52.800261Z",
     "iopub.status.busy": "2022-01-21T06:53:52.799643Z",
     "iopub.status.idle": "2022-01-21T06:53:52.803489Z",
     "shell.execute_reply": "2022-01-21T06:53:52.802912Z"
    },
    "tags": []
   },
   "outputs": [],
   "source": [
    "penguins = ...\n",
    "penguins.head()"
   ]
  },
  {
   "cell_type": "code",
   "execution_count": null,
   "id": "8bbd8849",
   "metadata": {
    "deletable": false,
    "editable": false
   },
   "outputs": [],
   "source": [
    "grader.check(\"q2_1\")"
   ]
  },
  {
   "cell_type": "markdown",
   "id": "5bc96ba4",
   "metadata": {},
   "source": [
    "**Question 2.2:** How many penguins are in the dataset? (i.e. How many rows are there?) **(5 Points)**"
   ]
  },
  {
   "cell_type": "code",
   "execution_count": null,
   "id": "62f6f0da",
   "metadata": {
    "execution": {
     "iopub.execute_input": "2022-01-21T06:53:52.800261Z",
     "iopub.status.busy": "2022-01-21T06:53:52.799643Z",
     "iopub.status.idle": "2022-01-21T06:53:52.803489Z",
     "shell.execute_reply": "2022-01-21T06:53:52.802912Z"
    },
    "tags": []
   },
   "outputs": [],
   "source": [
    "num_penguins = ...\n",
    "num_penguins"
   ]
  },
  {
   "cell_type": "code",
   "execution_count": null,
   "id": "3cf0b08f",
   "metadata": {
    "deletable": false,
    "editable": false
   },
   "outputs": [],
   "source": [
    "grader.check(\"q2_2\")"
   ]
  },
  {
   "cell_type": "markdown",
   "id": "9ce503ae",
   "metadata": {},
   "source": [
    "**Question 2.3:** Create a Python list of the column labels in your `penguins` DataFrame. **(5 Points)**"
   ]
  },
  {
   "cell_type": "code",
   "execution_count": null,
   "id": "7413da78",
   "metadata": {
    "execution": {
     "iopub.execute_input": "2022-01-21T06:53:52.800261Z",
     "iopub.status.busy": "2022-01-21T06:53:52.799643Z",
     "iopub.status.idle": "2022-01-21T06:53:52.803489Z",
     "shell.execute_reply": "2022-01-21T06:53:52.802912Z"
    },
    "tags": []
   },
   "outputs": [],
   "source": [
    "col_names = ...\n",
    "col_names"
   ]
  },
  {
   "cell_type": "code",
   "execution_count": null,
   "id": "9e3801d2",
   "metadata": {
    "deletable": false,
    "editable": false
   },
   "outputs": [],
   "source": [
    "grader.check(\"q2_3\")"
   ]
  },
  {
   "cell_type": "markdown",
   "id": "510c3fff",
   "metadata": {},
   "source": [
    "In case you aren't familiar with some of these terms, feel free to check out [this paper](https://doi.org/10.1371/journal.pone.0090081) where the data were originally published to learn more. Here is a diagram of the bill length and depth too.\n",
    "\n",
    "<img src=\"culmen_depth.PNG\" alt=\"drawing\" width=\"400\"/>\n",
    "\n",
    "Artwork by @allison_horst"
   ]
  },
  {
   "cell_type": "markdown",
   "id": "2cfa197e",
   "metadata": {},
   "source": [
    "**Question 2.4:** How many species of penguins are in the dataset? **(5 Points)**"
   ]
  },
  {
   "cell_type": "code",
   "execution_count": null,
   "id": "33ff793a",
   "metadata": {
    "execution": {
     "iopub.execute_input": "2022-01-21T06:53:52.800261Z",
     "iopub.status.busy": "2022-01-21T06:53:52.799643Z",
     "iopub.status.idle": "2022-01-21T06:53:52.803489Z",
     "shell.execute_reply": "2022-01-21T06:53:52.802912Z"
    },
    "tags": []
   },
   "outputs": [],
   "source": [
    "num_species = ...\n",
    "num_species"
   ]
  },
  {
   "cell_type": "code",
   "execution_count": null,
   "id": "3470d6a9",
   "metadata": {
    "deletable": false,
    "editable": false
   },
   "outputs": [],
   "source": [
    "grader.check(\"q2_4\")"
   ]
  },
  {
   "cell_type": "markdown",
   "id": "508c4b4c",
   "metadata": {},
   "source": [
    "**Question 2.5:** How many islands are in the dataset? **(5 Points)**"
   ]
  },
  {
   "cell_type": "code",
   "execution_count": null,
   "id": "4f211071",
   "metadata": {
    "execution": {
     "iopub.execute_input": "2022-01-21T06:53:52.800261Z",
     "iopub.status.busy": "2022-01-21T06:53:52.799643Z",
     "iopub.status.idle": "2022-01-21T06:53:52.803489Z",
     "shell.execute_reply": "2022-01-21T06:53:52.802912Z"
    },
    "tags": []
   },
   "outputs": [],
   "source": [
    "num_islands = ...\n",
    "num_islands"
   ]
  },
  {
   "cell_type": "code",
   "execution_count": null,
   "id": "37130bac",
   "metadata": {
    "deletable": false,
    "editable": false
   },
   "outputs": [],
   "source": [
    "grader.check(\"q2_5\")"
   ]
  },
  {
   "cell_type": "markdown",
   "id": "61f35cb7",
   "metadata": {},
   "source": [
    "**Question 2.6:** Are there any null values in the dataset? Assign `null_vals` to `True` if yes and `False` if no. **(5 Points)**"
   ]
  },
  {
   "cell_type": "code",
   "execution_count": null,
   "id": "b8f8f7ae",
   "metadata": {
    "execution": {
     "iopub.execute_input": "2022-01-21T06:53:52.800261Z",
     "iopub.status.busy": "2022-01-21T06:53:52.799643Z",
     "iopub.status.idle": "2022-01-21T06:53:52.803489Z",
     "shell.execute_reply": "2022-01-21T06:53:52.802912Z"
    },
    "tags": []
   },
   "outputs": [],
   "source": [
    "null_vals = ...\n",
    "null_vals"
   ]
  },
  {
   "cell_type": "code",
   "execution_count": null,
   "id": "e67f1864",
   "metadata": {
    "deletable": false,
    "editable": false
   },
   "outputs": [],
   "source": [
    "grader.check(\"q2_6\")"
   ]
  },
  {
   "cell_type": "markdown",
   "id": "3f849c44",
   "metadata": {},
   "source": [
    "**Question 2.7:** Which column in the dataset has the largest mean? Which one has the smallest mean?\n",
    "\n",
    "*NOTE:* Your answers should be strings of appropriate column names. **(5 Points)**"
   ]
  },
  {
   "cell_type": "code",
   "execution_count": null,
   "id": "fe3477cd",
   "metadata": {
    "execution": {
     "iopub.execute_input": "2022-01-21T06:53:52.800261Z",
     "iopub.status.busy": "2022-01-21T06:53:52.799643Z",
     "iopub.status.idle": "2022-01-21T06:53:52.803489Z",
     "shell.execute_reply": "2022-01-21T06:53:52.802912Z"
    },
    "tags": []
   },
   "outputs": [],
   "source": [
    "max_mean = ...\n",
    "min_mean = ...\n",
    "max_mean, min_mean"
   ]
  },
  {
   "cell_type": "code",
   "execution_count": null,
   "id": "5340c653",
   "metadata": {
    "deletable": false,
    "editable": false
   },
   "outputs": [],
   "source": [
    "grader.check(\"q2_7\")"
   ]
  },
  {
   "cell_type": "markdown",
   "id": "e7f6fefc",
   "metadata": {},
   "source": [
    "**Question 2.8:** Create a Pandas Series that shows how many total penguins there are on each island. Then make a barplot to visualize your results. (Be sure to label your axes!) \n",
    "\n",
    "*HINT:* If you are using Seaborn, try using `seaborn.countplot`.  \n",
    "**(5 Points)**"
   ]
  },
  {
   "cell_type": "code",
   "execution_count": null,
   "id": "57e33730",
   "metadata": {
    "execution": {
     "iopub.execute_input": "2022-01-21T06:53:52.800261Z",
     "iopub.status.busy": "2022-01-21T06:53:52.799643Z",
     "iopub.status.idle": "2022-01-21T06:53:52.803489Z",
     "shell.execute_reply": "2022-01-21T06:53:52.802912Z"
    },
    "tags": []
   },
   "outputs": [],
   "source": [
    "# Create your series here\n",
    "penguins_per_island = ...\n",
    "penguins_per_island"
   ]
  },
  {
   "cell_type": "code",
   "execution_count": null,
   "id": "c77cfe1a",
   "metadata": {
    "tags": []
   },
   "outputs": [],
   "source": [
    "# Create your plot here"
   ]
  },
  {
   "cell_type": "code",
   "execution_count": null,
   "id": "309c1ff3",
   "metadata": {
    "deletable": false,
    "editable": false
   },
   "outputs": [],
   "source": [
    "grader.check(\"q2_8\")"
   ]
  },
  {
   "cell_type": "markdown",
   "id": "f317d486",
   "metadata": {},
   "source": [
    "**Question 2.9:** Create a Pandas Series that shows how many total penguins there are of each species. Then make a barplot to visualize your results. (Be sure to label your axes!) \n",
    "\n",
    "*HINT:* If you are using Seaborn, try using `seaborn.countplot`.  \n",
    "**(5 Points)**"
   ]
  },
  {
   "cell_type": "code",
   "execution_count": null,
   "id": "7265c556",
   "metadata": {
    "execution": {
     "iopub.execute_input": "2022-01-21T06:53:52.800261Z",
     "iopub.status.busy": "2022-01-21T06:53:52.799643Z",
     "iopub.status.idle": "2022-01-21T06:53:52.803489Z",
     "shell.execute_reply": "2022-01-21T06:53:52.802912Z"
    },
    "tags": []
   },
   "outputs": [],
   "source": [
    "# Create your series here\n",
    "penguins_per_species = ...\n",
    "penguins_per_species"
   ]
  },
  {
   "cell_type": "code",
   "execution_count": null,
   "id": "4caa0f10",
   "metadata": {
    "tags": []
   },
   "outputs": [],
   "source": [
    "# Create your plot here"
   ]
  },
  {
   "cell_type": "code",
   "execution_count": null,
   "id": "9980fb9e",
   "metadata": {
    "deletable": false,
    "editable": false
   },
   "outputs": [],
   "source": [
    "grader.check(\"q2_9\")"
   ]
  },
  {
   "cell_type": "markdown",
   "id": "c1ce4426",
   "metadata": {},
   "source": [
    "**Question 2.10.1:** Create a Pandas Series that shows how many total penguins there are of each species on each island. Then make a barplot to visualize your results. (Be sure to label your axes!) \n",
    "\n",
    "*HINT:* If you are using Seaborn, try using `seaborn.countplot`.  \n",
    "**(5 Points)**"
   ]
  },
  {
   "cell_type": "code",
   "execution_count": null,
   "id": "d7bcabbe",
   "metadata": {
    "execution": {
     "iopub.execute_input": "2022-01-21T06:53:52.800261Z",
     "iopub.status.busy": "2022-01-21T06:53:52.799643Z",
     "iopub.status.idle": "2022-01-21T06:53:52.803489Z",
     "shell.execute_reply": "2022-01-21T06:53:52.802912Z"
    },
    "tags": []
   },
   "outputs": [],
   "source": [
    "species_per_island = ...\n",
    "species_per_island"
   ]
  },
  {
   "cell_type": "code",
   "execution_count": null,
   "id": "f19f8acf",
   "metadata": {
    "tags": []
   },
   "outputs": [],
   "source": []
  },
  {
   "cell_type": "code",
   "execution_count": null,
   "id": "a2ca8680",
   "metadata": {
    "deletable": false,
    "editable": false
   },
   "outputs": [],
   "source": [
    "grader.check(\"q2_10_1\")"
   ]
  },
  {
   "cell_type": "markdown",
   "id": "dae86cfd",
   "metadata": {},
   "source": [
    "**Question 2.10.2:** Use your solutions from the problem above to answer the following True or False questions. \n",
    "\n",
    "- **Statement 1:** Adelie penguins are on all the islands in the dataset. \n",
    "- **Statement 2:** Gentoo penguins are only on Biscoe island in the dataset.\n",
    "- **Statement 3:** All species are on Dream island in the dataset.\n",
    "- **Statement 4:** There are more Gentoo penguins than Adelie penguins on Biscoe island.\n",
    "- **Statement 5:** Chinstrap penguins are only on Torgenson island in the dataset.  \n",
    "\n",
    "Assign each statement to a bool indicating whether it is true or false. \n",
    "**(5 Points)**"
   ]
  },
  {
   "cell_type": "code",
   "execution_count": null,
   "id": "55bd0e07",
   "metadata": {
    "execution": {
     "iopub.execute_input": "2022-01-21T06:53:52.800261Z",
     "iopub.status.busy": "2022-01-21T06:53:52.799643Z",
     "iopub.status.idle": "2022-01-21T06:53:52.803489Z",
     "shell.execute_reply": "2022-01-21T06:53:52.802912Z"
    },
    "tags": []
   },
   "outputs": [],
   "source": [
    "statement1 = ...\n",
    "statement2 = ...\n",
    "statement3 = ...\n",
    "statement4 = ...\n",
    "statement5 = ..."
   ]
  },
  {
   "cell_type": "code",
   "execution_count": null,
   "id": "41ac48c2",
   "metadata": {
    "deletable": false,
    "editable": false
   },
   "outputs": [],
   "source": [
    "grader.check(\"q2_10_2\")"
   ]
  },
  {
   "cell_type": "markdown",
   "id": "8326c818",
   "metadata": {},
   "source": [
    "<!-- BEGIN QUESTION -->\n",
    "\n",
    "**Question 2.11:** Let's start exploring the numeric variables. Use seaborn to make a pairplot of all the numeric variables. Comment on anything interesting you find.\n",
    "**(2 Points)**"
   ]
  },
  {
   "cell_type": "markdown",
   "id": "21c3bec4",
   "metadata": {},
   "source": [
    "_Type your answer here, replacing this text._"
   ]
  },
  {
   "cell_type": "code",
   "execution_count": null,
   "id": "4acb7754",
   "metadata": {
    "execution": {
     "iopub.execute_input": "2022-01-21T06:53:52.800261Z",
     "iopub.status.busy": "2022-01-21T06:53:52.799643Z",
     "iopub.status.idle": "2022-01-21T06:53:52.803489Z",
     "shell.execute_reply": "2022-01-21T06:53:52.802912Z"
    },
    "tags": []
   },
   "outputs": [],
   "source": [
    "# Create your visulization here"
   ]
  },
  {
   "cell_type": "markdown",
   "id": "4565286f",
   "metadata": {},
   "source": [
    "<!-- END QUESTION -->\n",
    "\n",
    "<!-- BEGIN QUESTION -->\n",
    "\n",
    "**Question 2.12:** Some of the pairplots above have interesting gaps. Use seaborn to make a pairplot of all the numeric variables where each species is a different color. Comment on anything interesting you find.\n",
    "**(3 Points)**"
   ]
  },
  {
   "cell_type": "markdown",
   "id": "e3938db0",
   "metadata": {},
   "source": [
    "_Type your answer here, replacing this text._"
   ]
  },
  {
   "cell_type": "code",
   "execution_count": null,
   "id": "ed47a008",
   "metadata": {
    "execution": {
     "iopub.execute_input": "2022-01-21T06:53:52.800261Z",
     "iopub.status.busy": "2022-01-21T06:53:52.799643Z",
     "iopub.status.idle": "2022-01-21T06:53:52.803489Z",
     "shell.execute_reply": "2022-01-21T06:53:52.802912Z"
    },
    "tags": []
   },
   "outputs": [],
   "source": [
    "# Create your visulization here"
   ]
  },
  {
   "cell_type": "markdown",
   "id": "7ee0dd59",
   "metadata": {},
   "source": [
    "<!-- END QUESTION -->\n",
    "\n",
    "**Question 2.12:** How do the numeric variables correlate with one another? Use a heatmap to visualize the correlations and then answer the following true or false values. \n",
    "\n",
    "- **Statement A:** Bill length and Bill depth are positively correlated. \n",
    "- **Statement B:** Body mass and flipper length are positively correlated. \n",
    "- **Statement C:** Body mass and bill depth are negatively correlated. \n",
    "  \n",
    "Assign each statement to a bool indicating whether it is true or false.\n",
    "\n",
    "**(5 Points)**"
   ]
  },
  {
   "cell_type": "code",
   "execution_count": null,
   "id": "fed943f8",
   "metadata": {
    "execution": {
     "iopub.execute_input": "2022-01-21T06:53:52.800261Z",
     "iopub.status.busy": "2022-01-21T06:53:52.799643Z",
     "iopub.status.idle": "2022-01-21T06:53:52.803489Z",
     "shell.execute_reply": "2022-01-21T06:53:52.802912Z"
    },
    "tags": []
   },
   "outputs": [],
   "source": [
    "# Create your visulization here\n",
    "plt.show()"
   ]
  },
  {
   "cell_type": "code",
   "execution_count": null,
   "id": "28badd49",
   "metadata": {
    "tags": []
   },
   "outputs": [],
   "source": [
    "statement_a = ...\n",
    "statement_b = ...\n",
    "statement_c = ..."
   ]
  },
  {
   "cell_type": "code",
   "execution_count": null,
   "id": "2d9c06b0",
   "metadata": {
    "deletable": false,
    "editable": false
   },
   "outputs": [],
   "source": [
    "grader.check(\"q2_13\")"
   ]
  },
  {
   "cell_type": "markdown",
   "id": "dbc3f359",
   "metadata": {},
   "source": [
    "**Question 2.14:** \n",
    "\n",
    "**Scenario 1:** Suppose you found a penguin that had a flipper length of 240 mm and bill depth of 15 mm, what species would you guess the penguin is?\n",
    "**Scenario 2:** Suppose you found a penguin that had a bill depth of 18 mm and a body mass of 3500 g, what species would you guess the penguin is?\n",
    "**Scenario 3:** Suppose you found a penguin that had a flipper length of 190 mm and a bill length of 37, what species would you guess the penguin is?\n",
    "\n",
    "1. Adelie\n",
    "2. Chinstrap\n",
    "3. Gentoo\n",
    "4. Too difficult to determine\n",
    "\n",
    "Enter 1, 2, 3, 4 for the scenarios below. \n",
    "**(3 Points)**"
   ]
  },
  {
   "cell_type": "code",
   "execution_count": null,
   "id": "acbdeff7",
   "metadata": {
    "execution": {
     "iopub.execute_input": "2022-01-21T06:53:52.800261Z",
     "iopub.status.busy": "2022-01-21T06:53:52.799643Z",
     "iopub.status.idle": "2022-01-21T06:53:52.803489Z",
     "shell.execute_reply": "2022-01-21T06:53:52.802912Z"
    },
    "tags": []
   },
   "outputs": [],
   "source": [
    "scenario1 = ...\n",
    "scenario2 = ...\n",
    "scenario3 = ..."
   ]
  },
  {
   "cell_type": "code",
   "execution_count": null,
   "id": "53a9b5e4",
   "metadata": {
    "deletable": false,
    "editable": false
   },
   "outputs": [],
   "source": [
    "grader.check(\"q2_14\")"
   ]
  },
  {
   "cell_type": "markdown",
   "id": "8b510ba2",
   "metadata": {},
   "source": [
    "<!-- BEGIN QUESTION -->\n",
    "\n",
    "**Question 2.15:** Based on your answers above, what attributes (or combinations of attributes) of penguins might be helpful for predicting penguin species. Which attributes (or combinations of attributes) would not be very helpful?\n",
    "**(2 Points)**"
   ]
  },
  {
   "cell_type": "markdown",
   "id": "221c2631",
   "metadata": {},
   "source": [
    "_Type your answer here, replacing this text._"
   ]
  },
  {
   "cell_type": "markdown",
   "id": "94439620",
   "metadata": {},
   "source": [
    "<!-- END QUESTION -->\n",
    "\n",
    "<img src=\"lter_penguins.PNG\" alt=\"drawing\" width=\"400\"/>\n",
    "Artwork by @allison_horst"
   ]
  },
  {
   "cell_type": "markdown",
   "id": "c6b6b932",
   "metadata": {},
   "source": [
    "# 3. Exploritory Data Analysis on Diabetes"
   ]
  },
  {
   "cell_type": "markdown",
   "id": "385af464",
   "metadata": {},
   "source": [
    "<!-- BEGIN QUESTION -->\n",
    "\n",
    "**Question 3.1:** Import the `diabetes_prediction.csv` dataset and perform your own exploratory analysis on it similar to how you did with the penguins dataset. Explain what you find with markdown cells as you go. \n",
    "\n",
    "Decide if there are any columns in the dataset that could potentially help predict if a patient has diabetes. \n",
    "**(10 Points)**"
   ]
  },
  {
   "cell_type": "markdown",
   "id": "facf9efa",
   "metadata": {},
   "source": [
    "_Type your answer here, replacing this text._"
   ]
  },
  {
   "cell_type": "code",
   "execution_count": null,
   "id": "f7ffaf7f",
   "metadata": {
    "scrolled": true,
    "tags": []
   },
   "outputs": [],
   "source": [
    "df = ...\n",
    "df"
   ]
  },
  {
   "cell_type": "code",
   "execution_count": null,
   "id": "3926c063",
   "metadata": {
    "tags": []
   },
   "outputs": [],
   "source": []
  },
  {
   "cell_type": "code",
   "execution_count": null,
   "id": "7666bebf",
   "metadata": {
    "tags": []
   },
   "outputs": [],
   "source": []
  },
  {
   "cell_type": "code",
   "execution_count": null,
   "id": "4dcabfba",
   "metadata": {
    "tags": []
   },
   "outputs": [],
   "source": []
  },
  {
   "cell_type": "code",
   "execution_count": null,
   "id": "ab4d35ee",
   "metadata": {
    "tags": []
   },
   "outputs": [],
   "source": []
  },
  {
   "cell_type": "code",
   "execution_count": null,
   "id": "7cdf1a31",
   "metadata": {
    "tags": []
   },
   "outputs": [],
   "source": []
  },
  {
   "cell_type": "markdown",
   "id": "8e02ab49",
   "metadata": {},
   "source": [
    "<!-- END QUESTION -->\n",
    "\n",
    "## You're done! \n",
    "Congrats on finishing Homework 4! Run the following cell to download a zip and submit to Canvas. "
   ]
  },
  {
   "cell_type": "markdown",
   "id": "1d0ac10e",
   "metadata": {
    "deletable": false,
    "editable": false
   },
   "source": [
    "## Submission\n",
    "\n",
    "Make sure you have run all cells in your notebook in order before running the cell below, so that all images/graphs appear in the output. The cell below will generate a zip file for you to submit. **Please save before exporting!**"
   ]
  },
  {
   "cell_type": "code",
   "execution_count": null,
   "id": "e321cfbb",
   "metadata": {
    "deletable": false,
    "editable": false
   },
   "outputs": [],
   "source": [
    "# Save your notebook first, then run this cell to export your submission.\n",
    "grader.export(pdf=False, run_tests=True)"
   ]
  },
  {
   "cell_type": "markdown",
   "id": "9d67216b",
   "metadata": {},
   "source": [
    " "
   ]
  }
 ],
 "metadata": {
  "kernelspec": {
   "display_name": "Python 3 (ipykernel)",
   "language": "python",
   "name": "python3"
  },
  "language_info": {
   "codemirror_mode": {
    "name": "ipython",
    "version": 3
   },
   "file_extension": ".py",
   "mimetype": "text/x-python",
   "name": "python",
   "nbconvert_exporter": "python",
   "pygments_lexer": "ipython3",
   "version": "3.11.4"
  },
  "otter": {
   "OK_FORMAT": true,
   "tests": {
    "q0": {
     "name": "q0",
     "points": [],
     "suites": [
      {
       "cases": [],
       "scored": true,
       "setup": "",
       "teardown": "",
       "type": "doctest"
      }
     ]
    },
    "q2_1": {
     "name": "q2_1",
     "points": [
      0
     ],
     "suites": [
      {
       "cases": [
        {
         "code": ">>> not penguins.empty\nTrue",
         "hidden": false,
         "locked": false
        }
       ],
       "scored": true,
       "setup": "",
       "teardown": "",
       "type": "doctest"
      }
     ]
    },
    "q2_10_1": {
     "name": "q2_10_1",
     "points": [
      0
     ],
     "suites": [
      {
       "cases": [
        {
         "code": ">>> (species_per_island != ...).sum()\n5",
         "hidden": false,
         "locked": false
        }
       ],
       "scored": true,
       "setup": "",
       "teardown": "",
       "type": "doctest"
      }
     ]
    },
    "q2_10_2": {
     "name": "q2_10_2",
     "points": [
      0
     ],
     "suites": [
      {
       "cases": [
        {
         "code": ">>> statement1 != ... and statement2 != ... and statement3 != ... and statement4 != ... and statement5 != ... \nTrue",
         "hidden": false,
         "locked": false
        }
       ],
       "scored": true,
       "setup": "",
       "teardown": "",
       "type": "doctest"
      }
     ]
    },
    "q2_13": {
     "name": "q2_13",
     "points": [
      0
     ],
     "suites": [
      {
       "cases": [
        {
         "code": ">>> statement_a != ... and statement_b != ... and statement_c != ...\nTrue",
         "hidden": false,
         "locked": false
        }
       ],
       "scored": true,
       "setup": "",
       "teardown": "",
       "type": "doctest"
      }
     ]
    },
    "q2_14": {
     "name": "q2_14",
     "points": [
      0
     ],
     "suites": [
      {
       "cases": [
        {
         "code": ">>> scenario1 != ... and scenario2 != ... and scenario3 != ...\nTrue",
         "hidden": false,
         "locked": false
        }
       ],
       "scored": true,
       "setup": "",
       "teardown": "",
       "type": "doctest"
      }
     ]
    },
    "q2_2": {
     "name": "q2_2",
     "points": [
      0
     ],
     "suites": [
      {
       "cases": [
        {
         "code": ">>> num_penguins != ...\nTrue",
         "hidden": false,
         "locked": false
        }
       ],
       "scored": true,
       "setup": "",
       "teardown": "",
       "type": "doctest"
      }
     ]
    },
    "q2_3": {
     "name": "q2_3",
     "points": [
      0
     ],
     "suites": [
      {
       "cases": [
        {
         "code": ">>> col_names != ...\nTrue",
         "hidden": false,
         "locked": false
        }
       ],
       "scored": true,
       "setup": "",
       "teardown": "",
       "type": "doctest"
      }
     ]
    },
    "q2_4": {
     "name": "q2_4",
     "points": [
      0
     ],
     "suites": [
      {
       "cases": [
        {
         "code": ">>> num_species != ...\nTrue",
         "hidden": false,
         "locked": false
        }
       ],
       "scored": true,
       "setup": "",
       "teardown": "",
       "type": "doctest"
      }
     ]
    },
    "q2_5": {
     "name": "q2_5",
     "points": [
      0
     ],
     "suites": [
      {
       "cases": [
        {
         "code": ">>> num_islands != ...\nTrue",
         "hidden": false,
         "locked": false
        }
       ],
       "scored": true,
       "setup": "",
       "teardown": "",
       "type": "doctest"
      }
     ]
    },
    "q2_6": {
     "name": "q2_6",
     "points": [
      0
     ],
     "suites": [
      {
       "cases": [
        {
         "code": ">>> null_vals != ...\nTrue",
         "hidden": false,
         "locked": false
        }
       ],
       "scored": true,
       "setup": "",
       "teardown": "",
       "type": "doctest"
      }
     ]
    },
    "q2_7": {
     "name": "q2_7",
     "points": [
      0
     ],
     "suites": [
      {
       "cases": [
        {
         "code": ">>> max_mean != ... and min_mean != ...\nTrue",
         "hidden": false,
         "locked": false
        }
       ],
       "scored": true,
       "setup": "",
       "teardown": "",
       "type": "doctest"
      }
     ]
    },
    "q2_8": {
     "name": "q2_8",
     "points": [
      0
     ],
     "suites": [
      {
       "cases": [
        {
         "code": ">>> (penguins_per_island != ...).sum()\n3",
         "hidden": false,
         "locked": false
        }
       ],
       "scored": true,
       "setup": "",
       "teardown": "",
       "type": "doctest"
      }
     ]
    },
    "q2_9": {
     "name": "q2_9",
     "points": [
      0
     ],
     "suites": [
      {
       "cases": [
        {
         "code": ">>> (penguins_per_island != ...).sum()\n3",
         "hidden": false,
         "locked": false
        }
       ],
       "scored": true,
       "setup": "",
       "teardown": "",
       "type": "doctest"
      }
     ]
    }
   }
  }
 },
 "nbformat": 4,
 "nbformat_minor": 5
}
