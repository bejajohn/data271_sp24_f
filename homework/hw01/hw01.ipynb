{
 "cells": [
  {
   "cell_type": "code",
   "execution_count": null,
   "id": "e081f795",
   "metadata": {
    "deletable": false,
    "editable": false
   },
   "outputs": [],
   "source": [
    "# Initialize Otter\n",
    "import otter\n",
    "grader = otter.Notebook(\"hw01.ipynb\")"
   ]
  },
  {
   "cell_type": "markdown",
   "id": "059f2349",
   "metadata": {},
   "source": [
    "# Homework 1: Python Basics"
   ]
  },
  {
   "cell_type": "markdown",
   "id": "77b2dc7b",
   "metadata": {},
   "source": [
    "Welcome to DATA 271: Data Wrangling and Visualization! This is your first homework assignment of the semester. \n",
    "\n",
    "In this assignment, we will be practicing Python basics to prepare for the rest of the semester. Some of these concepts may be review from DATA 111, others have been covered for the first time in DATA 271. As always, if you get stuck or have questions feel free to discuss problems with your peers and come to office hours. \n",
    "\n",
    "For this homework and all future ones, please be sure to not re-assign variables throughout the notebook! For example, if you use `my_list` in your answer to one question, do not reassign it later on. Otherwise, you will fail tests that you passed previously. **NOTE:** This homework assignment contains hidden tests. Passing all the auto-graded tests in the assignment does *NOT* mean you have answered everything correctly. So be careful and check your work!"
   ]
  },
  {
   "cell_type": "code",
   "execution_count": null,
   "id": "6ea1548d",
   "metadata": {},
   "outputs": [],
   "source": [
    "import otter\n",
    "grader = otter.Notebook()"
   ]
  },
  {
   "cell_type": "markdown",
   "id": "18bbd304",
   "metadata": {},
   "source": [
    "## 1. Variable assignments, Data Types, and Built-in Functions & Methods"
   ]
  },
  {
   "cell_type": "markdown",
   "id": "dafd2ff5",
   "metadata": {},
   "source": [
    "**Question 1.** Assign three variables `a`, `b`, and `c`. Assign values `10`, `20.5`, and `'30'` respectively. Calculate the sum of `a` and `b`, then concatenate the result with `c`. Print the final result. **(5 Points)**"
   ]
  },
  {
   "cell_type": "code",
   "execution_count": null,
   "id": "9c2e065f",
   "metadata": {
    "execution": {
     "iopub.execute_input": "2022-01-21T06:53:52.800261Z",
     "iopub.status.busy": "2022-01-21T06:53:52.799643Z",
     "iopub.status.idle": "2022-01-21T06:53:52.803489Z",
     "shell.execute_reply": "2022-01-21T06:53:52.802912Z"
    },
    "tags": []
   },
   "outputs": [],
   "source": [
    "a = ...\n",
    "b = ...\n",
    "c = ...\n",
    "a_b_sum = ...\n",
    "final_result = ...\n",
    "..."
   ]
  },
  {
   "cell_type": "code",
   "execution_count": null,
   "id": "6ff95cb9",
   "metadata": {
    "deletable": false,
    "editable": false
   },
   "outputs": [],
   "source": [
    "grader.check(\"q1_1\")"
   ]
  },
  {
   "cell_type": "markdown",
   "id": "af785134",
   "metadata": {},
   "source": [
    "**Question 2.** Identify the error in the following variable assignment: \n",
    "\n",
    "`1st_variable = 10`\n",
    "\n",
    "1. There is no error\n",
    "\n",
    "2. Invalid variable name\n",
    "\n",
    "3. Missing a semicolon\n",
    "\n",
    "4. Incorrect indentation\n",
    "\n",
    "Assign `problem` to 1, 2, 3, or 4. \n",
    "**(5 Points)**"
   ]
  },
  {
   "cell_type": "code",
   "execution_count": null,
   "id": "0c402562",
   "metadata": {
    "execution": {
     "iopub.execute_input": "2022-01-21T06:53:52.800261Z",
     "iopub.status.busy": "2022-01-21T06:53:52.799643Z",
     "iopub.status.idle": "2022-01-21T06:53:52.803489Z",
     "shell.execute_reply": "2022-01-21T06:53:52.802912Z"
    },
    "tags": []
   },
   "outputs": [],
   "source": [
    "problem = ..."
   ]
  },
  {
   "cell_type": "code",
   "execution_count": null,
   "id": "0c9c751d",
   "metadata": {
    "deletable": false,
    "editable": false
   },
   "outputs": [],
   "source": [
    "grader.check(\"q1_2\")"
   ]
  },
  {
   "cell_type": "markdown",
   "id": "6b093f22",
   "metadata": {},
   "source": [
    "<!-- BEGIN QUESTION -->\n",
    "\n",
    "**Question 3.** Explain why the following code would result in an error\n",
    "\n",
    "```{python}\n",
    "statement = 'Harry is 23 years old.'\n",
    "age = statement[9:11]\n",
    "\n",
    "if age > 18:\n",
    "    print('They are an adult.')\n",
    "```\n",
    "**(5 Points)**"
   ]
  },
  {
   "cell_type": "markdown",
   "id": "385575f1",
   "metadata": {},
   "source": [
    "_Type your answer here, replacing this text._"
   ]
  },
  {
   "cell_type": "markdown",
   "id": "92784cc6",
   "metadata": {},
   "source": [
    "<!-- END QUESTION -->\n",
    "\n",
    "**Question 4.** Convert `pi_string` to an int.\n",
    "**(5 Points)**"
   ]
  },
  {
   "cell_type": "code",
   "execution_count": null,
   "id": "e80c6040",
   "metadata": {
    "execution": {
     "iopub.execute_input": "2022-01-21T06:53:52.800261Z",
     "iopub.status.busy": "2022-01-21T06:53:52.799643Z",
     "iopub.status.idle": "2022-01-21T06:53:52.803489Z",
     "shell.execute_reply": "2022-01-21T06:53:52.802912Z"
    },
    "tags": []
   },
   "outputs": [],
   "source": [
    "pi_string = '3.14159'\n",
    "pi_int = ...\n",
    "pi_int"
   ]
  },
  {
   "cell_type": "code",
   "execution_count": null,
   "id": "bf5ff497",
   "metadata": {
    "deletable": false,
    "editable": false
   },
   "outputs": [],
   "source": [
    "grader.check(\"q1_4\")"
   ]
  },
  {
   "cell_type": "markdown",
   "id": "7d190a90",
   "metadata": {},
   "source": [
    "**Question 5.** Given the sentence below. Use string (and/or list) methods to count the number of words, find the longest word, and print the sentence with words sorted alphabetically.\n",
    "**(5 Points)**"
   ]
  },
  {
   "cell_type": "code",
   "execution_count": null,
   "id": "fd65b6b6",
   "metadata": {
    "execution": {
     "iopub.execute_input": "2022-01-21T06:53:52.800261Z",
     "iopub.status.busy": "2022-01-21T06:53:52.799643Z",
     "iopub.status.idle": "2022-01-21T06:53:52.803489Z",
     "shell.execute_reply": "2022-01-21T06:53:52.802912Z"
    },
    "scrolled": true,
    "tags": []
   },
   "outputs": [],
   "source": [
    "sentence = 'data science is an exciting subject'\n",
    "\n",
    "word_count = ...\n",
    "print(word_count)\n",
    "\n",
    "longest_word = ...\n",
    "print(longest_word)\n",
    "\n",
    "sorted_alphabetically = ...\n",
    "print(sorted_alphabetically)"
   ]
  },
  {
   "cell_type": "code",
   "execution_count": null,
   "id": "226dcf6a",
   "metadata": {
    "deletable": false,
    "editable": false
   },
   "outputs": [],
   "source": [
    "grader.check(\"q1_5\")"
   ]
  },
  {
   "cell_type": "markdown",
   "id": "109979d5",
   "metadata": {},
   "source": [
    "**Question 6.** Assign the variable `state` to `'California'`, `city` to `'Arcata'`, `school` to `'Cal Poly Humboldt'`, and `data_class` to `271` in one line of code. \n",
    "**(5 Points)**"
   ]
  },
  {
   "cell_type": "code",
   "execution_count": null,
   "id": "2dc88af6",
   "metadata": {
    "execution": {
     "iopub.execute_input": "2022-01-21T06:53:52.800261Z",
     "iopub.status.busy": "2022-01-21T06:53:52.799643Z",
     "iopub.status.idle": "2022-01-21T06:53:52.803489Z",
     "shell.execute_reply": "2022-01-21T06:53:52.802912Z"
    },
    "scrolled": true,
    "tags": []
   },
   "outputs": [],
   "source": []
  },
  {
   "cell_type": "code",
   "execution_count": null,
   "id": "3d899c20",
   "metadata": {
    "deletable": false,
    "editable": false
   },
   "outputs": [],
   "source": [
    "grader.check(\"q1_6\")"
   ]
  },
  {
   "cell_type": "markdown",
   "id": "d8df972e",
   "metadata": {},
   "source": [
    "## 2. Functions"
   ]
  },
  {
   "cell_type": "markdown",
   "id": "69afec49",
   "metadata": {},
   "source": [
    "**Question 1.** Create a function called `power_sum` that takes two arguments, `x` and `n`, and returns the sum of the first `n` powers of `x`. *Note:* Don't include the zeroth power.\n",
    "**(5 Points)**"
   ]
  },
  {
   "cell_type": "code",
   "execution_count": null,
   "id": "2e68d923",
   "metadata": {
    "execution": {
     "iopub.execute_input": "2022-01-21T06:53:52.800261Z",
     "iopub.status.busy": "2022-01-21T06:53:52.799643Z",
     "iopub.status.idle": "2022-01-21T06:53:52.803489Z",
     "shell.execute_reply": "2022-01-21T06:53:52.802912Z"
    },
    "tags": []
   },
   "outputs": [],
   "source": [
    "...\n",
    "    current_sum = ...\n",
    "    ...\n",
    "        current_sum = ...\n",
    "    ..."
   ]
  },
  {
   "cell_type": "code",
   "execution_count": null,
   "id": "2ee8d28e",
   "metadata": {
    "deletable": false,
    "editable": false
   },
   "outputs": [],
   "source": [
    "grader.check(\"q2_1\")"
   ]
  },
  {
   "cell_type": "markdown",
   "id": "4318e35e",
   "metadata": {},
   "source": [
    "**Question 2.** Write a function called `is_palindrome` that takes a string as input and returns `True` if it is a palindrome, and `False` otherwise. Recall that a palindrome is a word, phrase, or sequence that reads the same backward as forward.\n",
    "**(5 Points)**"
   ]
  },
  {
   "cell_type": "code",
   "execution_count": null,
   "id": "71cbd5e7",
   "metadata": {
    "execution": {
     "iopub.execute_input": "2022-01-21T06:53:52.800261Z",
     "iopub.status.busy": "2022-01-21T06:53:52.799643Z",
     "iopub.status.idle": "2022-01-21T06:53:52.803489Z",
     "shell.execute_reply": "2022-01-21T06:53:52.802912Z"
    },
    "tags": []
   },
   "outputs": [],
   "source": [
    "...\n",
    "    ..."
   ]
  },
  {
   "cell_type": "code",
   "execution_count": null,
   "id": "9501abb4",
   "metadata": {
    "deletable": false,
    "editable": false
   },
   "outputs": [],
   "source": [
    "grader.check(\"q2_2\")"
   ]
  },
  {
   "cell_type": "markdown",
   "id": "f0302f6e",
   "metadata": {},
   "source": [
    "## 3. Conditional statements"
   ]
  },
  {
   "cell_type": "markdown",
   "id": "e667d574",
   "metadata": {},
   "source": [
    "**Question 1.** Identify the error in the following code: \n",
    "\n",
    "```{python}\n",
    "num = 15\n",
    "if num < 10:\n",
    "    print(\"Less than 10\")\n",
    "elif num < 20\n",
    "    print(\"Between 10 and 20\")\n",
    "```\n",
    "\n",
    "1. The elif statement is missing a colon.\n",
    "\n",
    "2. The elif condition is missing an operator.\n",
    "\n",
    "3. The if statement is not indented correctly.\n",
    "\n",
    "4. There is no error in the code.\n",
    "\n",
    "Assign `problem2` to 1, 2, 3, or 4. \n",
    "**(5 Points)**"
   ]
  },
  {
   "cell_type": "code",
   "execution_count": null,
   "id": "b6c5ad96",
   "metadata": {
    "execution": {
     "iopub.execute_input": "2022-01-21T06:53:52.800261Z",
     "iopub.status.busy": "2022-01-21T06:53:52.799643Z",
     "iopub.status.idle": "2022-01-21T06:53:52.803489Z",
     "shell.execute_reply": "2022-01-21T06:53:52.802912Z"
    },
    "tags": []
   },
   "outputs": [],
   "source": [
    "problem2 = ..."
   ]
  },
  {
   "cell_type": "code",
   "execution_count": null,
   "id": "b64e1a3c",
   "metadata": {
    "deletable": false,
    "editable": false
   },
   "outputs": [],
   "source": [
    "grader.check(\"q3_1\")"
   ]
  },
  {
   "cell_type": "markdown",
   "id": "f2095c09",
   "metadata": {},
   "source": [
    "**Question 2:** Write a function `analyze_numbers` that takes two numbers as arguments. If the first number is positive and the second number is negative, return \"First positive, second negative.\" If the first number is negative and the second number is positive, return \"First negative, second positive.\" If both are positive, return their product. If both are negative, return their sum. Return \"One or both numbers are zero\" if one or both numbers are zero. \n",
    "**(5 Points)**"
   ]
  },
  {
   "cell_type": "code",
   "execution_count": null,
   "id": "4fb9c6f7",
   "metadata": {
    "execution": {
     "iopub.execute_input": "2022-01-21T06:53:52.800261Z",
     "iopub.status.busy": "2022-01-21T06:53:52.799643Z",
     "iopub.status.idle": "2022-01-21T06:53:52.803489Z",
     "shell.execute_reply": "2022-01-21T06:53:52.802912Z"
    },
    "tags": []
   },
   "outputs": [],
   "source": [
    "...\n",
    "    ...\n",
    "        ...\n",
    "    ...\n",
    "        ...\n",
    "    ...\n",
    "        ...\n",
    "    ...\n",
    "        ...\n",
    "    ...\n",
    "        ..."
   ]
  },
  {
   "cell_type": "code",
   "execution_count": null,
   "id": "2f6a513a",
   "metadata": {
    "deletable": false,
    "editable": false
   },
   "outputs": [],
   "source": [
    "grader.check(\"q3_2\")"
   ]
  },
  {
   "cell_type": "markdown",
   "id": "fa06f63f",
   "metadata": {},
   "source": [
    "**Question 3:** Write a function `username(first, middle, last)` that returns an 8-character username based on a person’s first, middle, and last names.\n",
    "\n",
    "The format for the username is all lower case: first letter of first name; first letter of middle name, and then up to 6 letters of the last name. Longer last names should be truncated after 6 characters. For shorter last names, fill in with `1`s so that there are 8 characters in the username. \n",
    "**(5 Points)**"
   ]
  },
  {
   "cell_type": "code",
   "execution_count": null,
   "id": "a79c3711",
   "metadata": {
    "execution": {
     "iopub.execute_input": "2022-01-21T06:53:52.800261Z",
     "iopub.status.busy": "2022-01-21T06:53:52.799643Z",
     "iopub.status.idle": "2022-01-21T06:53:52.803489Z",
     "shell.execute_reply": "2022-01-21T06:53:52.802912Z"
    },
    "tags": []
   },
   "outputs": [],
   "source": [
    "...\n",
    "    ...\n",
    "        ...\n",
    "    ...\n",
    "        ..."
   ]
  },
  {
   "cell_type": "code",
   "execution_count": null,
   "id": "3aaf74e7",
   "metadata": {
    "deletable": false,
    "editable": false
   },
   "outputs": [],
   "source": [
    "grader.check(\"q3_3\")"
   ]
  },
  {
   "cell_type": "markdown",
   "id": "1366705e",
   "metadata": {},
   "source": [
    "## 4. Lists and Dictionaries"
   ]
  },
  {
   "cell_type": "markdown",
   "id": "d8377ed7",
   "metadata": {},
   "source": [
    "**Question 1:** Use list comprehension to create a list containing the cubes of even numbers from 1 to 10.\n",
    "**(5 Points)**"
   ]
  },
  {
   "cell_type": "code",
   "execution_count": null,
   "id": "b85c4a2b",
   "metadata": {
    "execution": {
     "iopub.execute_input": "2022-01-21T06:53:52.800261Z",
     "iopub.status.busy": "2022-01-21T06:53:52.799643Z",
     "iopub.status.idle": "2022-01-21T06:53:52.803489Z",
     "shell.execute_reply": "2022-01-21T06:53:52.802912Z"
    },
    "tags": []
   },
   "outputs": [],
   "source": [
    "list_of_even_cubes = ...\n",
    "list_of_even_cubes"
   ]
  },
  {
   "cell_type": "code",
   "execution_count": null,
   "id": "0bbc6885",
   "metadata": {
    "deletable": false,
    "editable": false
   },
   "outputs": [],
   "source": [
    "grader.check(\"q4_1\")"
   ]
  },
  {
   "cell_type": "markdown",
   "id": "bdb50ed6",
   "metadata": {},
   "source": [
    "**Question 2:** Create a list `orig_list` of integers from 1 to 10. Using list comprehension, create a new list `primes` containing only the prime numbers. Recall that a prime number is a whole number greater than 1 that cannot be exactly divided by any whole number other than itself and 1. \n",
    "\n",
    "*Hint:* You might find the `all()` function useful. It returns `True` if all items in an iterable are true, otherwise it returns False. See the example below\n",
    "**(5 Points)**"
   ]
  },
  {
   "cell_type": "code",
   "execution_count": null,
   "id": "a0baef66",
   "metadata": {},
   "outputs": [],
   "source": [
    "# Example of all() function\n",
    "print(all([2 < x for x in range(2,10)]))\n",
    "print(all([2 < x for x in range(3,10)]))"
   ]
  },
  {
   "cell_type": "code",
   "execution_count": null,
   "id": "6a3545c3",
   "metadata": {
    "execution": {
     "iopub.execute_input": "2022-01-21T06:53:52.800261Z",
     "iopub.status.busy": "2022-01-21T06:53:52.799643Z",
     "iopub.status.idle": "2022-01-21T06:53:52.803489Z",
     "shell.execute_reply": "2022-01-21T06:53:52.802912Z"
    },
    "tags": []
   },
   "outputs": [],
   "source": [
    "orig_list = ...\n",
    "primes = ...\n",
    "primes"
   ]
  },
  {
   "cell_type": "code",
   "execution_count": null,
   "id": "f028eed6",
   "metadata": {
    "deletable": false,
    "editable": false
   },
   "outputs": [],
   "source": [
    "grader.check(\"q4_2\")"
   ]
  },
  {
   "cell_type": "markdown",
   "id": "bb9b0e7b",
   "metadata": {},
   "source": [
    "**Question 3:** Consider the dictionary `MLB_teams` below that maps a location to the name of its corresponding Major League Baseball team. Add the Texas Rangers and the Kansas City Royals to the dictionary. \n",
    "**(5 Points)**"
   ]
  },
  {
   "cell_type": "code",
   "execution_count": null,
   "id": "9e30772a",
   "metadata": {},
   "outputs": [],
   "source": [
    "MLB_teams = {\n",
    "    'Colorado' : 'Rockies',\n",
    "    'Boston'   : 'Red Sox',\n",
    "    'Minnesota': 'Twins',\n",
    "    'Milwaukee': 'Brewers',\n",
    "    'Seattle'  : 'Mariners',\n",
    "    'St. Louis': 'Cardinals',\n",
    "    'Los Angeles': 'Dodgers',\n",
    "    'San Fransico': 'Giants',\n",
    "    'San Diego': 'Padres'\n",
    "}"
   ]
  },
  {
   "cell_type": "code",
   "execution_count": null,
   "id": "b41234fc",
   "metadata": {
    "execution": {
     "iopub.execute_input": "2022-01-21T06:53:52.800261Z",
     "iopub.status.busy": "2022-01-21T06:53:52.799643Z",
     "iopub.status.idle": "2022-01-21T06:53:52.803489Z",
     "shell.execute_reply": "2022-01-21T06:53:52.802912Z"
    },
    "tags": []
   },
   "outputs": [],
   "source": [
    "...\n",
    "MLB_teams"
   ]
  },
  {
   "cell_type": "code",
   "execution_count": null,
   "id": "c813dfe9",
   "metadata": {
    "deletable": false,
    "editable": false
   },
   "outputs": [],
   "source": [
    "grader.check(\"q4_3\")"
   ]
  },
  {
   "cell_type": "markdown",
   "id": "9494b2d2",
   "metadata": {},
   "source": [
    "**Question 4:** Continuing with the `MLB_teams` dictionary from the previous question, make a list of all of the locations sorted alphabetically by their team name. *NOTE:* Your final list should not have the team names in it, only locations.  \n",
    "**(5 Points)**"
   ]
  },
  {
   "cell_type": "code",
   "execution_count": null,
   "id": "b0802c58",
   "metadata": {
    "execution": {
     "iopub.execute_input": "2022-01-21T06:53:52.800261Z",
     "iopub.status.busy": "2022-01-21T06:53:52.799643Z",
     "iopub.status.idle": "2022-01-21T06:53:52.803489Z",
     "shell.execute_reply": "2022-01-21T06:53:52.802912Z"
    },
    "tags": []
   },
   "outputs": [],
   "source": [
    "locations_sorted_by_team = ...\n",
    "locations_sorted_by_team"
   ]
  },
  {
   "cell_type": "code",
   "execution_count": null,
   "id": "30fd5458",
   "metadata": {
    "deletable": false,
    "editable": false
   },
   "outputs": [],
   "source": [
    "grader.check(\"q4_4\")"
   ]
  },
  {
   "cell_type": "markdown",
   "id": "98b6b9a8",
   "metadata": {},
   "source": [
    "**Question 5:** Given two lists, `keys` and `values`, create a dictionary where each key-value pair comes from corresponding elements in the lists.  \n",
    "**(5 Points)**"
   ]
  },
  {
   "cell_type": "code",
   "execution_count": null,
   "id": "a5947d0e",
   "metadata": {
    "execution": {
     "iopub.execute_input": "2022-01-21T06:53:52.800261Z",
     "iopub.status.busy": "2022-01-21T06:53:52.799643Z",
     "iopub.status.idle": "2022-01-21T06:53:52.803489Z",
     "shell.execute_reply": "2022-01-21T06:53:52.802912Z"
    },
    "tags": []
   },
   "outputs": [],
   "source": [
    "keys = ['egg','peanuts','tofu']\n",
    "values = [6, 26, 36]\n",
    "\n",
    "grams_of_protein = ...\n",
    "grams_of_protein"
   ]
  },
  {
   "cell_type": "code",
   "execution_count": null,
   "id": "32789ceb",
   "metadata": {
    "deletable": false,
    "editable": false
   },
   "outputs": [],
   "source": [
    "grader.check(\"q4_5\")"
   ]
  },
  {
   "cell_type": "markdown",
   "id": "eae1add3",
   "metadata": {},
   "source": [
    "**Question 6:** Use dictionary comprehension to create a dictionary where keys are characters from a string, and values are the count of occurrences in the string given. *NOTE:* Assume we want the counts to not be case sensitive. \n",
    "**(5 Points)**"
   ]
  },
  {
   "cell_type": "code",
   "execution_count": null,
   "id": "100d000a",
   "metadata": {
    "execution": {
     "iopub.execute_input": "2022-01-21T06:53:52.800261Z",
     "iopub.status.busy": "2022-01-21T06:53:52.799643Z",
     "iopub.status.idle": "2022-01-21T06:53:52.803489Z",
     "shell.execute_reply": "2022-01-21T06:53:52.802912Z"
    },
    "tags": []
   },
   "outputs": [],
   "source": [
    "given_string = 'Fuzzy Wuzzy was a bear. Fuzzy Wuzzy had no hair. \\\n",
    "If Fuzzy Wuzzy had no hair, then Fuzzy Wuzzy wasn’t very fuzzy, was he?'\n",
    "\n",
    "character_counts = ...\n",
    "character_counts"
   ]
  },
  {
   "cell_type": "code",
   "execution_count": null,
   "id": "a9ea7a39",
   "metadata": {
    "deletable": false,
    "editable": false
   },
   "outputs": [],
   "source": [
    "grader.check(\"q4_6\")"
   ]
  },
  {
   "cell_type": "markdown",
   "id": "cb54c090",
   "metadata": {},
   "source": [
    "**Question 7:** You have a dictionary representing presidential candidate statistics [source](https://www.brookings.edu/articles/the-2024-presidential-primary-tracker/). Use dictionary methods to find the candidate with the highest average number of media mentions.\n",
    "**(5 Points)**"
   ]
  },
  {
   "cell_type": "code",
   "execution_count": null,
   "id": "c57c1032",
   "metadata": {
    "execution": {
     "iopub.execute_input": "2022-01-21T06:53:52.800261Z",
     "iopub.status.busy": "2022-01-21T06:53:52.799643Z",
     "iopub.status.idle": "2022-01-21T06:53:52.803489Z",
     "shell.execute_reply": "2022-01-21T06:53:52.802912Z"
    },
    "tags": []
   },
   "outputs": [],
   "source": [
    "candidates = {\n",
    "    \"Ron DeSantis\": {\"party\": 'republican', \"media mentions\": 39.48},\n",
    "    \"Joe Biden\": {\"party\": 'democrat', \"media mentions\": 87.80},\n",
    "    \"Donald Trump\": {\"party\": 'republican', \"media mentions\": 113.20},\n",
    "    \"Nikki Haley\": {\"party\": 'republican', \"media mentions\": 24.78},\n",
    "    \"Dean Phillips\": {\"party\": 'democrat', \"media mentions\": 5.24}\n",
    "}\n",
    "\n",
    "most_mentioned_candidate = ...\n",
    "most_mentioned_candidate"
   ]
  },
  {
   "cell_type": "code",
   "execution_count": null,
   "id": "083a1201",
   "metadata": {
    "deletable": false,
    "editable": false
   },
   "outputs": [],
   "source": [
    "grader.check(\"q4_7\")"
   ]
  },
  {
   "cell_type": "markdown",
   "id": "81dd91b6",
   "metadata": {},
   "source": [
    "## 5. Reminders from DATA 111"
   ]
  },
  {
   "cell_type": "markdown",
   "id": "bed3f4ce",
   "metadata": {},
   "source": [
    "**Question 1:** In Python, what is the purpose of the for loop?\n",
    "\n",
    "1. To define a function\n",
    "\n",
    "2. To make decisions based on conditions\n",
    "\n",
    "3. To create an infinite loop\n",
    "\n",
    "4. To iterate over elements in a sequence\n",
    "\n",
    "Assign `for_purpose` to 1,2,3, or 4.\n",
    "**(5 Points)**"
   ]
  },
  {
   "cell_type": "code",
   "execution_count": null,
   "id": "0b8b245d",
   "metadata": {
    "execution": {
     "iopub.execute_input": "2022-01-21T06:53:52.800261Z",
     "iopub.status.busy": "2022-01-21T06:53:52.799643Z",
     "iopub.status.idle": "2022-01-21T06:53:52.803489Z",
     "shell.execute_reply": "2022-01-21T06:53:52.802912Z"
    },
    "tags": []
   },
   "outputs": [],
   "source": [
    "for_purpose = ..."
   ]
  },
  {
   "cell_type": "code",
   "execution_count": null,
   "id": "39c350c4",
   "metadata": {
    "deletable": false,
    "editable": false
   },
   "outputs": [],
   "source": [
    "grader.check(\"q5_1\")"
   ]
  },
  {
   "cell_type": "markdown",
   "id": "5f341d38",
   "metadata": {},
   "source": [
    "**Question 2:** In Python, what is the purpose of the elif statement?\n",
    "\n",
    "1. To catch exceptions\n",
    "\n",
    "2. To define a new function\n",
    "\n",
    "3. To execute a block of code if the previous conditions are False\n",
    "\n",
    "4. To create an infinite loop\n",
    "\n",
    "Assign `elif_purpose` to 1,2,3, or 4.\n",
    "**(5 Points)**"
   ]
  },
  {
   "cell_type": "code",
   "execution_count": null,
   "id": "d33d63d9",
   "metadata": {
    "execution": {
     "iopub.execute_input": "2022-01-21T06:53:52.800261Z",
     "iopub.status.busy": "2022-01-21T06:53:52.799643Z",
     "iopub.status.idle": "2022-01-21T06:53:52.803489Z",
     "shell.execute_reply": "2022-01-21T06:53:52.802912Z"
    },
    "tags": []
   },
   "outputs": [],
   "source": [
    "elif_purpose = ..."
   ]
  },
  {
   "cell_type": "code",
   "execution_count": null,
   "id": "7637f585",
   "metadata": {
    "deletable": false,
    "editable": false
   },
   "outputs": [],
   "source": [
    "grader.check(\"q5_2\")"
   ]
  },
  {
   "cell_type": "markdown",
   "id": "75f50959",
   "metadata": {
    "deletable": false,
    "editable": false
   },
   "source": [
    "## Submission\n",
    "\n",
    "Make sure you have run all cells in your notebook in order before running the cell below, so that all images/graphs appear in the output. The cell below will generate a zip file for you to submit. **Please save before exporting!**"
   ]
  },
  {
   "cell_type": "code",
   "execution_count": null,
   "id": "82e078ed",
   "metadata": {
    "deletable": false,
    "editable": false
   },
   "outputs": [],
   "source": [
    "# Save your notebook first, then run this cell to export your submission.\n",
    "grader.export(pdf=False, run_tests=True)"
   ]
  },
  {
   "cell_type": "markdown",
   "id": "3b70f8cb",
   "metadata": {},
   "source": [
    " "
   ]
  }
 ],
 "metadata": {
  "kernelspec": {
   "display_name": "Python 3 (ipykernel)",
   "language": "python",
   "name": "python3"
  },
  "language_info": {
   "codemirror_mode": {
    "name": "ipython",
    "version": 3
   },
   "file_extension": ".py",
   "mimetype": "text/x-python",
   "name": "python",
   "nbconvert_exporter": "python",
   "pygments_lexer": "ipython3",
   "version": "3.11.4"
  },
  "otter": {
   "OK_FORMAT": true,
   "tests": {
    "q1_1": {
     "name": "q1_1",
     "points": [
      0
     ],
     "suites": [
      {
       "cases": [
        {
         "code": ">>> a != ... and b != ... and c != ... and a_b_sum != ... and final_result != ...\nTrue",
         "hidden": false,
         "locked": false
        }
       ],
       "scored": true,
       "setup": "",
       "teardown": "",
       "type": "doctest"
      }
     ]
    },
    "q1_2": {
     "name": "q1_2",
     "points": [
      0
     ],
     "suites": [
      {
       "cases": [
        {
         "code": ">>> 1 <= problem <=4\nTrue",
         "hidden": false,
         "locked": false
        }
       ],
       "scored": true,
       "setup": "",
       "teardown": "",
       "type": "doctest"
      }
     ]
    },
    "q1_4": {
     "name": "q1_4",
     "points": [
      0
     ],
     "suites": [
      {
       "cases": [
        {
         "code": ">>> pi_int != ... \nTrue",
         "hidden": false,
         "locked": false
        }
       ],
       "scored": true,
       "setup": "",
       "teardown": "",
       "type": "doctest"
      }
     ]
    },
    "q1_5": {
     "name": "q1_5",
     "points": [
      0
     ],
     "suites": [
      {
       "cases": [
        {
         "code": ">>> word_count != ... and longest_word != ... and sorted_alphabetically != ...\nTrue",
         "hidden": false,
         "locked": false
        }
       ],
       "scored": true,
       "setup": "",
       "teardown": "",
       "type": "doctest"
      }
     ]
    },
    "q1_6": {
     "name": "q1_6",
     "points": [
      0
     ],
     "suites": [
      {
       "cases": [
        {
         "code": ">>> type(state) == str and type(city) == str and type(school) == str and type(data_class) == int\nTrue",
         "hidden": false,
         "locked": false
        }
       ],
       "scored": true,
       "setup": "",
       "teardown": "",
       "type": "doctest"
      }
     ]
    },
    "q2_1": {
     "name": "q2_1",
     "points": [
      0
     ],
     "suites": [
      {
       "cases": [
        {
         "code": ">>> type(power_sum(2,3)) == int or type(power_sum(2,3)) == float\nTrue",
         "hidden": false,
         "locked": false
        }
       ],
       "scored": true,
       "setup": "",
       "teardown": "",
       "type": "doctest"
      }
     ]
    },
    "q2_2": {
     "name": "q2_2",
     "points": [
      0
     ],
     "suites": [
      {
       "cases": [
        {
         "code": ">>> type(is_palindrome('radar')) == bool \nTrue",
         "hidden": false,
         "locked": false
        }
       ],
       "scored": true,
       "setup": "",
       "teardown": "",
       "type": "doctest"
      }
     ]
    },
    "q3_1": {
     "name": "q3_1",
     "points": [
      0
     ],
     "suites": [
      {
       "cases": [
        {
         "code": ">>> problem2 != ... \nTrue",
         "hidden": false,
         "locked": false
        }
       ],
       "scored": true,
       "setup": "",
       "teardown": "",
       "type": "doctest"
      }
     ]
    },
    "q3_2": {
     "name": "q3_2",
     "points": [
      0
     ],
     "suites": [
      {
       "cases": [
        {
         "code": ">>> analyze_numbers(2,3) != None\nTrue",
         "hidden": false,
         "locked": false
        }
       ],
       "scored": true,
       "setup": "",
       "teardown": "",
       "type": "doctest"
      }
     ]
    },
    "q3_3": {
     "name": "q3_3",
     "points": [
      0,
      0,
      0,
      0
     ],
     "suites": [
      {
       "cases": [
        {
         "code": ">>> len(username('Michael', 'Gary', 'Scott')) == 8\nTrue",
         "hidden": false,
         "locked": false
        },
        {
         "code": ">>> len(username('Pamela', 'Morgan', 'Beesly')) == 8\nTrue",
         "hidden": false,
         "locked": false
        },
        {
         "code": ">>> len(username('Holly', 'Partridge', 'Flax')) == 8\nTrue",
         "hidden": false,
         "locked": false
        },
        {
         "code": ">>> len(username('Dwight', 'Kurt', 'Schrute')) == 8\nTrue",
         "hidden": false,
         "locked": false
        }
       ],
       "scored": true,
       "setup": "",
       "teardown": "",
       "type": "doctest"
      }
     ]
    },
    "q4_1": {
     "name": "q4_1",
     "points": [
      0
     ],
     "suites": [
      {
       "cases": [
        {
         "code": ">>> list_of_even_cubes != ...\nTrue",
         "hidden": false,
         "locked": false
        }
       ],
       "scored": true,
       "setup": "",
       "teardown": "",
       "type": "doctest"
      }
     ]
    },
    "q4_2": {
     "name": "q4_2",
     "points": [
      0
     ],
     "suites": [
      {
       "cases": [
        {
         "code": ">>> primes != ...\nTrue",
         "hidden": false,
         "locked": false
        }
       ],
       "scored": true,
       "setup": "",
       "teardown": "",
       "type": "doctest"
      }
     ]
    },
    "q4_3": {
     "name": "q4_3",
     "points": [
      0
     ],
     "suites": [
      {
       "cases": [
        {
         "code": ">>> len(MLB_teams) == 11\nTrue",
         "hidden": false,
         "locked": false
        }
       ],
       "scored": true,
       "setup": "",
       "teardown": "",
       "type": "doctest"
      }
     ]
    },
    "q4_4": {
     "name": "q4_4",
     "points": [
      0
     ],
     "suites": [
      {
       "cases": [
        {
         "code": ">>> type(locations_sorted_by_team) == list\nTrue",
         "hidden": false,
         "locked": false
        }
       ],
       "scored": true,
       "setup": "",
       "teardown": "",
       "type": "doctest"
      }
     ]
    },
    "q4_5": {
     "name": "q4_5",
     "points": [
      0
     ],
     "suites": [
      {
       "cases": [
        {
         "code": ">>> type(grams_of_protein) == dict\nTrue",
         "hidden": false,
         "locked": false
        }
       ],
       "scored": true,
       "setup": "",
       "teardown": "",
       "type": "doctest"
      }
     ]
    },
    "q4_6": {
     "name": "q4_6",
     "points": [
      0
     ],
     "suites": [
      {
       "cases": [
        {
         "code": ">>> type(character_counts) == dict\nTrue",
         "hidden": false,
         "locked": false
        }
       ],
       "scored": true,
       "setup": "",
       "teardown": "",
       "type": "doctest"
      }
     ]
    },
    "q4_7": {
     "name": "q4_7",
     "points": [
      0
     ],
     "suites": [
      {
       "cases": [
        {
         "code": ">>> most_mentioned_candidate != ...\nTrue",
         "hidden": false,
         "locked": false
        }
       ],
       "scored": true,
       "setup": "",
       "teardown": "",
       "type": "doctest"
      }
     ]
    },
    "q5_1": {
     "name": "q5_1",
     "points": [
      0
     ],
     "suites": [
      {
       "cases": [
        {
         "code": ">>> 1 <= for_purpose <= 4\nTrue",
         "hidden": false,
         "locked": false
        }
       ],
       "scored": true,
       "setup": "",
       "teardown": "",
       "type": "doctest"
      }
     ]
    },
    "q5_2": {
     "name": "q5_2",
     "points": [
      0
     ],
     "suites": [
      {
       "cases": [
        {
         "code": ">>> 1 <= elif_purpose <= 4\nTrue",
         "hidden": false,
         "locked": false
        }
       ],
       "scored": true,
       "setup": "",
       "teardown": "",
       "type": "doctest"
      }
     ]
    }
   }
  }
 },
 "nbformat": 4,
 "nbformat_minor": 5
}
