{
 "cells": [
  {
   "cell_type": "code",
   "execution_count": null,
   "id": "da1b20e4",
   "metadata": {
    "deletable": false,
    "editable": false
   },
   "outputs": [],
   "source": [
    "# Initialize Otter\n",
    "import otter\n",
    "grader = otter.Notebook(\"hw02.ipynb\")"
   ]
  },
  {
   "cell_type": "markdown",
   "id": "cc71206d",
   "metadata": {},
   "source": [
    "# Homework 2: Python Modules `re` and `numpy`"
   ]
  },
  {
   "cell_type": "markdown",
   "id": "66b37dbe",
   "metadata": {},
   "source": [
    "Welcome to DATA 271: Data Wrangling and Visualization! This is your second homework assignment of the semester. \n",
    "\n",
    "In this assignment, we will be practice using some common and powerful Python modules, the `re` module and the `numpy` module. These will help you prepare for the rest of the semester. As always, if you get stuck or have questions feel free to discuss problems with your peers and come to office hours. \n",
    "\n",
    "For this homework and all future ones, please be sure to not re-assign variables throughout the notebook! For example, if you use `my_list` in your answer to one question, do not reassign it later on. Otherwise, you will fail tests that you passed previously. **NOTE:** This homework assignment contains hidden tests. Passing all the auto-graded tests in the assignment does *NOT* mean you have answered everything correctly. So be careful and check your work!"
   ]
  },
  {
   "cell_type": "code",
   "execution_count": null,
   "id": "774bd668",
   "metadata": {},
   "outputs": [],
   "source": [
    "import otter\n",
    "import re\n",
    "import numpy as np\n",
    "import matplotlib.pyplot as plt\n",
    "grader = otter.Notebook()"
   ]
  },
  {
   "cell_type": "markdown",
   "id": "76da77f8",
   "metadata": {},
   "source": [
    "## 1. Regex on Tweets"
   ]
  },
  {
   "cell_type": "markdown",
   "id": "6cd0b4ba",
   "metadata": {},
   "source": [
    "**Question 1.1.** The company that you are working for asked you to perform an analysis using a dataset with tweets. First of all, you need to do some cleaning and extract information.\n",
    "While printing out some text, you realize that some tweets contain user mentions, and occasionally these mentions follow a very strange pattern. A few examples that you notice: `@robot3!`, `@robot5&` and `@robot7#`\n",
    "\n",
    "To analyze if those users are bots, you will do a proof of concept with one tweet and extract them using the `.findall()` method.\n",
    "\n",
    "The text of one tweet was saved in the variable `tweet`. Find all the matches in the `tweet` variable where the mentions start with `@`, followed by `robot` and have a number and a special character. e.g. `@robot3!`  **(5 Points)**"
   ]
  },
  {
   "cell_type": "code",
   "execution_count": null,
   "id": "c916afd4",
   "metadata": {
    "execution": {
     "iopub.execute_input": "2022-01-21T06:53:52.800261Z",
     "iopub.status.busy": "2022-01-21T06:53:52.799643Z",
     "iopub.status.idle": "2022-01-21T06:53:52.803489Z",
     "shell.execute_reply": "2022-01-21T06:53:52.802912Z"
    },
    "tags": []
   },
   "outputs": [],
   "source": [
    "tweet = \"@robot9! @robot4& I have a good feeling that the show isgoing to be amazing! @robot9$ @robot7%\"\n",
    "bot_match = ...\n",
    "bot_match"
   ]
  },
  {
   "cell_type": "code",
   "execution_count": null,
   "id": "62c8993e",
   "metadata": {
    "deletable": false,
    "editable": false
   },
   "outputs": [],
   "source": [
    "grader.check(\"q1_1\")"
   ]
  },
  {
   "cell_type": "markdown",
   "id": "a00a9406",
   "metadata": {},
   "source": [
    "**Question 1.2.** While examining the tweet text in your dataset, you detect that some tweets carry more information. The text contains the number of retweets, user mentions, and likes. You decide to extract this important information that is given as in this example:\n",
    "\n",
    "`this is what happens when you don't recycle your pizza boxes User_mentions:9, likes: 5, number of retweets: 4`\n",
    "\n",
    "Write a regular expression that finds all user mentions info given as, for example, `User_mentions:9` in `tweet2` below.\n",
    "**(5 Points)**"
   ]
  },
  {
   "cell_type": "code",
   "execution_count": null,
   "id": "99eb7149",
   "metadata": {
    "execution": {
     "iopub.execute_input": "2022-01-21T06:53:52.800261Z",
     "iopub.status.busy": "2022-01-21T06:53:52.799643Z",
     "iopub.status.idle": "2022-01-21T06:53:52.803489Z",
     "shell.execute_reply": "2022-01-21T06:53:52.802912Z"
    },
    "tags": []
   },
   "outputs": [],
   "source": [
    "tweet2 = \"I pronounce tuple too-pull on Mon/Wed/Fri and tub-pull on Tue/Thu/Sat. On Sunday I don't talk about them. User_mentions:12, likes: 128, number of retweets: 75\"\n",
    "mentions = ...\n",
    "mentions"
   ]
  },
  {
   "cell_type": "code",
   "execution_count": null,
   "id": "7d9242ac",
   "metadata": {
    "deletable": false,
    "editable": false
   },
   "outputs": [],
   "source": [
    "grader.check(\"q1_2\")"
   ]
  },
  {
   "cell_type": "markdown",
   "id": "c1567c4f",
   "metadata": {},
   "source": [
    "**Question 1.3.** Write a regex that finds the number of likes in `tweet2` above. **(5 Points)**"
   ]
  },
  {
   "cell_type": "code",
   "execution_count": null,
   "id": "b352c469",
   "metadata": {
    "execution": {
     "iopub.execute_input": "2022-01-21T06:53:52.800261Z",
     "iopub.status.busy": "2022-01-21T06:53:52.799643Z",
     "iopub.status.idle": "2022-01-21T06:53:52.803489Z",
     "shell.execute_reply": "2022-01-21T06:53:52.802912Z"
    },
    "tags": []
   },
   "outputs": [],
   "source": [
    "likes = re.findall(r\"likes:\\s\\d+\",tweet2)\n",
    "likes"
   ]
  },
  {
   "cell_type": "code",
   "execution_count": null,
   "id": "47f77bd5",
   "metadata": {
    "deletable": false,
    "editable": false
   },
   "outputs": [],
   "source": [
    "grader.check(\"q1_3\")"
   ]
  },
  {
   "cell_type": "markdown",
   "id": "1a26604b",
   "metadata": {},
   "source": [
    "**Question 1.4.** Write a regex that finds the number of retweets in `tweet2` above.\n",
    "**(5 Points)**"
   ]
  },
  {
   "cell_type": "code",
   "execution_count": null,
   "id": "f598bc53",
   "metadata": {
    "execution": {
     "iopub.execute_input": "2022-01-21T06:53:52.800261Z",
     "iopub.status.busy": "2022-01-21T06:53:52.799643Z",
     "iopub.status.idle": "2022-01-21T06:53:52.803489Z",
     "shell.execute_reply": "2022-01-21T06:53:52.802912Z"
    },
    "tags": []
   },
   "outputs": [],
   "source": [
    "num_tweets = ...\n",
    "num_tweets"
   ]
  },
  {
   "cell_type": "code",
   "execution_count": null,
   "id": "8b055c6c",
   "metadata": {
    "deletable": false,
    "editable": false
   },
   "outputs": [],
   "source": [
    "grader.check(\"q1_4\")"
   ]
  },
  {
   "cell_type": "markdown",
   "id": "7a274bd4",
   "metadata": {},
   "source": [
    "**Question 1.5.** Some of the tweets in your dataset were downloaded incorrectly. Instead of having spaces to separate words, they have strange characters. You decide to use regular expressions to handle this situation. You print some of these tweets to understand which pattern you need to match.\n",
    "\n",
    "You notice that the sentences are always separated by a special character, followed by a number, the word \"break\", and after that, another special character, e.g `&4break!`. The words are always separated by a special character, the word \"new\", and a normal random character, e.g `#newH`.\n",
    "\n",
    "Write regular expressions to clean this data. First remove the strange sentence breaks in `clean_sentence_breaks`. Then replace the strange word breaks with a space in `clean_tweet`.\n",
    "**(10 Points)**"
   ]
  },
  {
   "cell_type": "code",
   "execution_count": null,
   "id": "2df3b889",
   "metadata": {
    "execution": {
     "iopub.execute_input": "2022-01-21T06:53:52.800261Z",
     "iopub.status.busy": "2022-01-21T06:53:52.799643Z",
     "iopub.status.idle": "2022-01-21T06:53:52.803489Z",
     "shell.execute_reply": "2022-01-21T06:53:52.802912Z"
    },
    "scrolled": true,
    "tags": []
   },
   "outputs": [],
   "source": [
    "tweet3 = \"He#newHis%newTdoing great in$newPscience. #8break%I am&newYvery impressed@newLalready.\"\n",
    "\n",
    "clean_sentence_breaks = ...\n",
    "print(clean_sentence_breaks)\n",
    "\n",
    "clean_tweet = ...\n",
    "print(clean_tweet)"
   ]
  },
  {
   "cell_type": "code",
   "execution_count": null,
   "id": "7da538ad",
   "metadata": {
    "deletable": false,
    "editable": false
   },
   "outputs": [],
   "source": [
    "grader.check(\"q1_5\")"
   ]
  },
  {
   "cell_type": "markdown",
   "id": "13582b75",
   "metadata": {},
   "source": [
    "**Question 6.** Sometimes there are sections of tweets that add complexity and messiness without adding useful information. For example, links and user mentions clutter up the tweets but aren't important for your company's analysis.\n",
    "\n",
    "In order to clean the tweets, you want to extract some examples first. You know that most of the times links start with `http` and do not contain any whitespace, e.g. https://www.humboldt.edu. User mentions start with `@` and can have letters and numbers only, e.g. `@janedoe44`. Run the cell below to get import a list of tweets, which is a subset of the dataset you need to analyze. Then write regular expressions to create two lists of lists:\n",
    "- `links` should be a list containing 10 lists. Each sublist cooresponds to a tweet in `list_of_tweets` and should contains the all links that appear in the tweet (if any).  \n",
    "- `mentions_in_tweets` should be a list containing 10 lists. Each sublist cooresponds to a tweet in `list_of_tweets` and should contains the all mentions that appear in the tweet (if any).  \n",
    "\n",
    "*NOTE:* Feel free to solve this with either a for loop or with list comprehension.\n",
    "**(10 Points)**"
   ]
  },
  {
   "cell_type": "code",
   "execution_count": null,
   "id": "56b44913",
   "metadata": {},
   "outputs": [],
   "source": [
    "from csv import reader #Python's built-in csv module\n",
    "# Open and read the datasett\n",
    "tweets = open('tweets.csv')\n",
    "tweets = reader(tweets) # type is csv.reader\n",
    "list_of_tweets = [tweet[0] for tweet in list(tweets)]\n",
    "list_of_tweets"
   ]
  },
  {
   "cell_type": "code",
   "execution_count": null,
   "id": "88426a66",
   "metadata": {
    "execution": {
     "iopub.execute_input": "2022-01-21T06:53:52.800261Z",
     "iopub.status.busy": "2022-01-21T06:53:52.799643Z",
     "iopub.status.idle": "2022-01-21T06:53:52.803489Z",
     "shell.execute_reply": "2022-01-21T06:53:52.802912Z"
    },
    "scrolled": true,
    "tags": []
   },
   "outputs": [],
   "source": [
    "links = ...\n",
    "print(links)\n",
    "\n",
    "mentions_in_tweets = ...\n",
    "print(mentions_in_tweets)"
   ]
  },
  {
   "cell_type": "code",
   "execution_count": null,
   "id": "a181f212",
   "metadata": {
    "deletable": false,
    "editable": false
   },
   "outputs": [],
   "source": [
    "grader.check(\"q1_6\")"
   ]
  },
  {
   "cell_type": "markdown",
   "id": "b85a3f4f",
   "metadata": {},
   "source": [
    "## 2. Regex on dates\n",
    "\n",
    "Pretend you are working with an environmental organization monitoring water quality off the coast of California. Your ultimate goal is to observe how water quality changes through time. The data you've been given are collected by voluteer citizens who go out and take samples of the water occasionally, but unfortunately all of the volunteers record dates in different styles. This makes it difficult to analyze the data through time, so you must first clean the data. \n",
    "\n",
    "Run the following cell to import the data. (These data were fabricated for the purpose of this exercise). "
   ]
  },
  {
   "cell_type": "code",
   "execution_count": null,
   "id": "eea40a82",
   "metadata": {},
   "outputs": [],
   "source": [
    "# Open and read the datasett\n",
    "water = open('water_data_dates.csv')\n",
    "water = reader(water) # type is csv.reader\n",
    "water = [i[0] for i in list(water)]\n",
    "water[0]=re.sub(\"\\ufeff\",\"\",water[0])\n",
    "water"
   ]
  },
  {
   "cell_type": "markdown",
   "id": "c3d8bc47",
   "metadata": {},
   "source": [
    "**Question 2.1.** Fill in the regular expression to find all the long-style dates in `water`. For example, find all the dates in the form `January 2 2023` or `January 02 2023` or `Jan 2 2023` or `Jan 02 2023.` or `Jan 2nd 2023.` (The specific month, day, and year do not have to match these examples, just the form). \n",
    "**(5 Points)**"
   ]
  },
  {
   "cell_type": "code",
   "execution_count": null,
   "id": "3d40d81f",
   "metadata": {
    "execution": {
     "iopub.execute_input": "2022-01-21T06:53:52.800261Z",
     "iopub.status.busy": "2022-01-21T06:53:52.799643Z",
     "iopub.status.idle": "2022-01-21T06:53:52.803489Z",
     "shell.execute_reply": "2022-01-21T06:53:52.802912Z"
    },
    "tags": []
   },
   "outputs": [],
   "source": [
    "regex = ...\n",
    "long_dates = [re.findall(regex,date)[0] for date in water if re.findall(regex,date) !=[]]\n",
    "long_dates"
   ]
  },
  {
   "cell_type": "code",
   "execution_count": null,
   "id": "3f0a53b0",
   "metadata": {
    "deletable": false,
    "editable": false
   },
   "outputs": [],
   "source": [
    "grader.check(\"q2_1\")"
   ]
  },
  {
   "cell_type": "markdown",
   "id": "f6f8e0ba",
   "metadata": {},
   "source": [
    "**Question 2.2.** Fill in the regular expression to find all the short-style dates in `water`. For example, find all the dates in the form `1/2/23` or `01/02/2023` or `01/02/23` or `1/2/2023` or `1-1-2023` or `01-01-2023` or `01-01-23`  or `1-1-23`. (The specific month, day, and year do not have to match these examples, just the form). \n",
    "**(5 Points)**"
   ]
  },
  {
   "cell_type": "code",
   "execution_count": null,
   "id": "347ded26",
   "metadata": {
    "execution": {
     "iopub.execute_input": "2022-01-21T06:53:52.800261Z",
     "iopub.status.busy": "2022-01-21T06:53:52.799643Z",
     "iopub.status.idle": "2022-01-21T06:53:52.803489Z",
     "shell.execute_reply": "2022-01-21T06:53:52.802912Z"
    },
    "scrolled": true,
    "tags": []
   },
   "outputs": [],
   "source": [
    "regex2 = ...\n",
    "short_dates = [re.findall(regex2,date)[0] for date in water if re.findall(regex2,date) !=[]] \n",
    "short_dates"
   ]
  },
  {
   "cell_type": "code",
   "execution_count": null,
   "id": "9c6bcb2e",
   "metadata": {
    "deletable": false,
    "editable": false
   },
   "outputs": [],
   "source": [
    "grader.check(\"q2_2\")"
   ]
  },
  {
   "cell_type": "markdown",
   "id": "2ec8fafb",
   "metadata": {},
   "source": [
    "**Question 2.3.** Start cleaning the dates in `long_dates` to put them all in the form of `MON D YEAR`. For example `January 2 2023`, `January 2nd 2023` should become `Jan 2 2023`. (Again, the specific month, day, and year do not have to match this example, just the form). Your final answer should be a list which is the same length as `long_dates`.\n",
    "**(5 Points)**"
   ]
  },
  {
   "cell_type": "code",
   "execution_count": null,
   "id": "4bb79558",
   "metadata": {
    "execution": {
     "iopub.execute_input": "2022-01-21T06:53:52.800261Z",
     "iopub.status.busy": "2022-01-21T06:53:52.799643Z",
     "iopub.status.idle": "2022-01-21T06:53:52.803489Z",
     "shell.execute_reply": "2022-01-21T06:53:52.802912Z"
    },
    "scrolled": false,
    "tags": []
   },
   "outputs": [],
   "source": [
    "clean_long_dates = ...\n",
    "clean_long_dates"
   ]
  },
  {
   "cell_type": "code",
   "execution_count": null,
   "id": "03a4dcd2",
   "metadata": {
    "deletable": false,
    "editable": false
   },
   "outputs": [],
   "source": [
    "grader.check(\"q2_3\")"
   ]
  },
  {
   "cell_type": "markdown",
   "id": "21cb84c4",
   "metadata": {},
   "source": [
    "## 3. Numpy for Financial Analysis\n",
    "Below is the daily stock prices of the S&P 500 for the 3 weeks."
   ]
  },
  {
   "cell_type": "code",
   "execution_count": null,
   "id": "6d562bc0",
   "metadata": {},
   "outputs": [],
   "source": [
    "# Stock prices\n",
    "stock_prices = np.array([4888.91,4886.66,4888.56,4856.8,4853.42,4796.28,4760.1,4739.13,4772.35,\n",
    "4791.18,4792.13,4759.94,4741.93,4703.7,4690.57,4697.42,4725.07,4745.2,4782.88,4786.44,4773.45])"
   ]
  },
  {
   "cell_type": "markdown",
   "id": "83c38140",
   "metadata": {},
   "source": [
    "**Question 3.1.** Calculate the daily percent change in stock prices and find the standard deviation ofthe percent change. Recall that percent change is \n",
    "\n",
    "$$\\frac{\\text{new_value-old_value}}{\\text{old_value}}\\times100$$\n",
    "\n",
    "*HINT:* You might find `np.diff` helpful. \n",
    "**(5 Points)**"
   ]
  },
  {
   "cell_type": "code",
   "execution_count": null,
   "id": "9886f3d2",
   "metadata": {
    "scrolled": true,
    "tags": []
   },
   "outputs": [],
   "source": [
    "# Calculate daily percentage change\n",
    "percent_change = ...\n",
    "\n",
    "# Find maximum change\n",
    "sd_change = ...\n",
    "sd_change"
   ]
  },
  {
   "cell_type": "code",
   "execution_count": null,
   "id": "3fa3cc1f",
   "metadata": {
    "deletable": false,
    "editable": false
   },
   "outputs": [],
   "source": [
    "grader.check(\"q3_1\")"
   ]
  },
  {
   "cell_type": "markdown",
   "id": "9c602484",
   "metadata": {},
   "source": [
    "**Question 3.2:** *Trend analysis:* A moving average is a statistical technique used to smooth out fluctuations or noise in a dataset, making it easier to identify trends or patterns over time. It calculates the average of a subset of consecutive data points within a specified window or interval, and then moves the window forward one data point at a time, recalculating the average each time.\n",
    "\n",
    "Compute the 5-day moving average of stock prices to identify long-term trends in stock prices. Put your results in a numpy array called `moving_average`.\n",
    "\n",
    "*Hint:* To compute a moving average:\n",
    "\n",
    "- Set the window size: 5 in this case\n",
    "- Calculate the average: Take the average of the data points within the window at each step. This average becomes the value of the moving average at that position.\n",
    "- Move the window: Slide the window forward by one data point and recalculate the average. Repeat this process until the window reaches the end of the dataset.\n",
    " \n",
    "**(5 Points)**"
   ]
  },
  {
   "cell_type": "code",
   "execution_count": null,
   "id": "f4df72a9",
   "metadata": {
    "execution": {
     "iopub.execute_input": "2022-01-21T06:53:52.800261Z",
     "iopub.status.busy": "2022-01-21T06:53:52.799643Z",
     "iopub.status.idle": "2022-01-21T06:53:52.803489Z",
     "shell.execute_reply": "2022-01-21T06:53:52.802912Z"
    },
    "tags": []
   },
   "outputs": [],
   "source": [
    "window_size = ...\n",
    "moving_average = ...\n",
    "\n",
    "...\n",
    "    moving_average = ...\n",
    "\n",
    "moving_average"
   ]
  },
  {
   "cell_type": "code",
   "execution_count": null,
   "id": "0ce5930b",
   "metadata": {
    "deletable": false,
    "editable": false
   },
   "outputs": [],
   "source": [
    "grader.check(\"q3_2\")"
   ]
  },
  {
   "cell_type": "markdown",
   "id": "715d29d3",
   "metadata": {},
   "source": [
    "**Question 3.3:** Now recompute the percent change from your moving average and find the standard deviation. What do you observe? **(5 Points)**"
   ]
  },
  {
   "cell_type": "code",
   "execution_count": null,
   "id": "e9e16f6a",
   "metadata": {
    "execution": {
     "iopub.execute_input": "2022-01-21T06:53:52.800261Z",
     "iopub.status.busy": "2022-01-21T06:53:52.799643Z",
     "iopub.status.idle": "2022-01-21T06:53:52.803489Z",
     "shell.execute_reply": "2022-01-21T06:53:52.802912Z"
    },
    "tags": []
   },
   "outputs": [],
   "source": [
    "# Calculate percentage change\n",
    "percent_change_ma = ...\n",
    "\n",
    "# Find maximum change\n",
    "sd_change_ma = ...\n",
    "sd_change_ma"
   ]
  },
  {
   "cell_type": "code",
   "execution_count": null,
   "id": "8821caf5",
   "metadata": {
    "deletable": false,
    "editable": false
   },
   "outputs": [],
   "source": [
    "grader.check(\"q3_3\")"
   ]
  },
  {
   "cell_type": "markdown",
   "id": "132152b2",
   "metadata": {},
   "source": [
    "## 4. Numpy for Student Performance\n",
    "Suppose you have scores for students across multiple exams in a class. Each row represents a student, and each column represents an exam. (These data are fabricated for the purpose of this exercise)."
   ]
  },
  {
   "cell_type": "code",
   "execution_count": null,
   "id": "68d609b3",
   "metadata": {},
   "outputs": [],
   "source": [
    "num_students = 50\n",
    "num_exams = 4\n",
    "exam_scores = np.random.normal(82, 7, size=(num_students, num_exams))"
   ]
  },
  {
   "cell_type": "markdown",
   "id": "8e5587f0",
   "metadata": {},
   "source": [
    "**Question 4.1:** Compute the average score for each exams. Your answer should be an array with each entry being the average score of each exam. \n",
    "**(5 Points)**"
   ]
  },
  {
   "cell_type": "code",
   "execution_count": null,
   "id": "f70171e0",
   "metadata": {
    "execution": {
     "iopub.execute_input": "2022-01-21T06:53:52.800261Z",
     "iopub.status.busy": "2022-01-21T06:53:52.799643Z",
     "iopub.status.idle": "2022-01-21T06:53:52.803489Z",
     "shell.execute_reply": "2022-01-21T06:53:52.802912Z"
    },
    "tags": []
   },
   "outputs": [],
   "source": [
    "average_scores = ...\n",
    "average_scores"
   ]
  },
  {
   "cell_type": "code",
   "execution_count": null,
   "id": "85d2fab4",
   "metadata": {
    "deletable": false,
    "editable": false
   },
   "outputs": [],
   "source": [
    "grader.check(\"q4_1\")"
   ]
  },
  {
   "cell_type": "markdown",
   "id": "12c75cd4",
   "metadata": {},
   "source": [
    "**Question 4.2:** The first three columns are midterms worth 20% each, and the last column is the final worth 40% of the overall grade. Compute each student's overall grade in the class. \n",
    "**(5 Points)**"
   ]
  },
  {
   "cell_type": "code",
   "execution_count": null,
   "id": "93234eae",
   "metadata": {
    "execution": {
     "iopub.execute_input": "2022-01-21T06:53:52.800261Z",
     "iopub.status.busy": "2022-01-21T06:53:52.799643Z",
     "iopub.status.idle": "2022-01-21T06:53:52.803489Z",
     "shell.execute_reply": "2022-01-21T06:53:52.802912Z"
    },
    "tags": []
   },
   "outputs": [],
   "source": [
    "student_grades = ...\n",
    "student_grades"
   ]
  },
  {
   "cell_type": "code",
   "execution_count": null,
   "id": "9edd1d8b",
   "metadata": {
    "deletable": false,
    "editable": false
   },
   "outputs": [],
   "source": [
    "grader.check(\"q4_2\")"
   ]
  },
  {
   "cell_type": "markdown",
   "id": "62e938e5",
   "metadata": {},
   "source": [
    "**Question 4.3:** How did the student who got the highest grade overall do on exam 2?\n",
    "**(5 Points)**"
   ]
  },
  {
   "cell_type": "code",
   "execution_count": null,
   "id": "610fcf65",
   "metadata": {
    "execution": {
     "iopub.execute_input": "2022-01-21T06:53:52.800261Z",
     "iopub.status.busy": "2022-01-21T06:53:52.799643Z",
     "iopub.status.idle": "2022-01-21T06:53:52.803489Z",
     "shell.execute_reply": "2022-01-21T06:53:52.802912Z"
    },
    "tags": []
   },
   "outputs": [],
   "source": [
    "exam_2_grade = ...\n",
    "exam_2_grade"
   ]
  },
  {
   "cell_type": "code",
   "execution_count": null,
   "id": "1313d8fc",
   "metadata": {
    "deletable": false,
    "editable": false
   },
   "outputs": [],
   "source": [
    "grader.check(\"q4_3\")"
   ]
  },
  {
   "cell_type": "markdown",
   "id": "0a963f46",
   "metadata": {},
   "source": [
    "## 5. Random Functions in Numpy for Simulation: Estimating $\\pi$\n",
    "\n",
    "In this problem we will use Numpy's random number generation to estimate $\\pi$.\n",
    "\n",
    "Consider the unit circle inscribed in a square. The circle, with radius $1$ has an area of $A = \\pi$.  The square with sides of length $2$ has an area of $4$. The ratio of the area of the circle to the area of the square is therefore $\\frac{\\pi}{4}$.  If we throw darts randomly, the number of darts that land  in the circle divided by the total number of darts thrown will be described by the ratio of $\\frac{\\pi}{4}$.\n",
    "\n",
    "It is enough to just consider the quarter circle and quarter square in the first quadrant, because the ratio in one quadrant should be the same as the ratio for the whole inscribed circle. Because the equation of the unit circle is $x^2+y^2 = 1$ we know a point is within the quarter circle if $\\sqrt{x^2 + y^2} <1 $. Otherwise, it falls outside of the circle."
   ]
  },
  {
   "cell_type": "markdown",
   "id": "d08338d2",
   "metadata": {},
   "source": [
    "**Question 5.1:** Generate an array of size $1000 \\times 2$ with random numbers between 0 and 1. The first column will represent the x-coordinates of 1000 randomly thrown darts, and the second column will be the y-coordinates. **(5 Points)**"
   ]
  },
  {
   "cell_type": "code",
   "execution_count": null,
   "id": "450beb6c",
   "metadata": {
    "execution": {
     "iopub.execute_input": "2022-01-21T06:53:52.800261Z",
     "iopub.status.busy": "2022-01-21T06:53:52.799643Z",
     "iopub.status.idle": "2022-01-21T06:53:52.803489Z",
     "shell.execute_reply": "2022-01-21T06:53:52.802912Z"
    },
    "tags": []
   },
   "outputs": [],
   "source": [
    "random_darts = ..."
   ]
  },
  {
   "cell_type": "code",
   "execution_count": null,
   "id": "0ffbfa18",
   "metadata": {
    "deletable": false,
    "editable": false
   },
   "outputs": [],
   "source": [
    "grader.check(\"q5_1\")"
   ]
  },
  {
   "cell_type": "markdown",
   "id": "769e88f0",
   "metadata": {},
   "source": [
    "**Question 5.2:** Create an array with all the points from `random_darts` that fall inside the first quadrant of the unit circle. **(5 Points)**"
   ]
  },
  {
   "cell_type": "code",
   "execution_count": null,
   "id": "ac8e8f07",
   "metadata": {
    "execution": {
     "iopub.execute_input": "2022-01-21T06:53:52.800261Z",
     "iopub.status.busy": "2022-01-21T06:53:52.799643Z",
     "iopub.status.idle": "2022-01-21T06:53:52.803489Z",
     "shell.execute_reply": "2022-01-21T06:53:52.802912Z"
    },
    "tags": []
   },
   "outputs": [],
   "source": [
    "inside = ...\n",
    "inside"
   ]
  },
  {
   "cell_type": "code",
   "execution_count": null,
   "id": "98a148d0",
   "metadata": {
    "deletable": false,
    "editable": false
   },
   "outputs": [],
   "source": [
    "grader.check(\"q5_2\")"
   ]
  },
  {
   "cell_type": "markdown",
   "id": "fd6c9e54",
   "metadata": {},
   "source": [
    "**Question 5.3:** Use your previous two answers to get an approximation of $\\pi$. **(5 Points)**"
   ]
  },
  {
   "cell_type": "code",
   "execution_count": null,
   "id": "1a755a29",
   "metadata": {
    "execution": {
     "iopub.execute_input": "2022-01-21T06:53:52.800261Z",
     "iopub.status.busy": "2022-01-21T06:53:52.799643Z",
     "iopub.status.idle": "2022-01-21T06:53:52.803489Z",
     "shell.execute_reply": "2022-01-21T06:53:52.802912Z"
    },
    "tags": []
   },
   "outputs": [],
   "source": [
    "pi_approx = ...\n",
    "pi_approx"
   ]
  },
  {
   "cell_type": "code",
   "execution_count": null,
   "id": "64c81d30",
   "metadata": {
    "deletable": false,
    "editable": false
   },
   "outputs": [],
   "source": [
    "grader.check(\"q5_3\")"
   ]
  },
  {
   "cell_type": "markdown",
   "id": "1c6c890e",
   "metadata": {},
   "source": [
    "Run the following cell to visualize where your random darts landed. The blue ones are inside the unit circle, the red ones are outside. "
   ]
  },
  {
   "cell_type": "code",
   "execution_count": null,
   "id": "f1297e8b",
   "metadata": {},
   "outputs": [],
   "source": [
    "# To visualize\n",
    "plt.figure(figsize = (8, 8))\n",
    "plt.scatter(random_darts[:, 0], random_darts[:, 1], s= 1, c = 'red') \n",
    "plt.scatter(inside[:, 0], inside[:, 1], s = 1, c = 'blue')\n",
    "plt.show()"
   ]
  },
  {
   "cell_type": "markdown",
   "id": "6a7f95b9",
   "metadata": {},
   "source": [
    "## You're done!\n",
    "\n",
    "Congratulations! You finished Homework 2! Download the zip file and upload to Canvas. "
   ]
  },
  {
   "cell_type": "markdown",
   "id": "ca3a2955",
   "metadata": {
    "deletable": false,
    "editable": false
   },
   "source": [
    "## Submission\n",
    "\n",
    "Make sure you have run all cells in your notebook in order before running the cell below, so that all images/graphs appear in the output. The cell below will generate a zip file for you to submit. **Please save before exporting!**"
   ]
  },
  {
   "cell_type": "code",
   "execution_count": null,
   "id": "82193723",
   "metadata": {
    "deletable": false,
    "editable": false
   },
   "outputs": [],
   "source": [
    "# Save your notebook first, then run this cell to export your submission.\n",
    "grader.export(pdf=False, run_tests=True)"
   ]
  },
  {
   "cell_type": "markdown",
   "id": "a665e5f3",
   "metadata": {},
   "source": [
    " "
   ]
  }
 ],
 "metadata": {
  "kernelspec": {
   "display_name": "Python 3 (ipykernel)",
   "language": "python",
   "name": "python3"
  },
  "language_info": {
   "codemirror_mode": {
    "name": "ipython",
    "version": 3
   },
   "file_extension": ".py",
   "mimetype": "text/x-python",
   "name": "python",
   "nbconvert_exporter": "python",
   "pygments_lexer": "ipython3",
   "version": "3.11.4"
  },
  "otter": {
   "OK_FORMAT": true,
   "tests": {
    "q1_1": {
     "name": "q1_1",
     "points": [
      0
     ],
     "suites": [
      {
       "cases": [
        {
         "code": ">>> bot_match != ...\nTrue",
         "hidden": false,
         "locked": false
        }
       ],
       "scored": true,
       "setup": "",
       "teardown": "",
       "type": "doctest"
      }
     ]
    },
    "q1_2": {
     "name": "q1_2",
     "points": [
      0
     ],
     "suites": [
      {
       "cases": [
        {
         "code": ">>> mentions != ...\nTrue",
         "hidden": false,
         "locked": false
        }
       ],
       "scored": true,
       "setup": "",
       "teardown": "",
       "type": "doctest"
      }
     ]
    },
    "q1_3": {
     "name": "q1_3",
     "points": [
      0
     ],
     "suites": [
      {
       "cases": [
        {
         "code": ">>> likes != ...\nTrue",
         "hidden": false,
         "locked": false
        }
       ],
       "scored": true,
       "setup": "",
       "teardown": "",
       "type": "doctest"
      }
     ]
    },
    "q1_4": {
     "name": "q1_4",
     "points": [
      0
     ],
     "suites": [
      {
       "cases": [
        {
         "code": ">>> num_tweets != ...\nTrue",
         "hidden": false,
         "locked": false
        }
       ],
       "scored": true,
       "setup": "",
       "teardown": "",
       "type": "doctest"
      }
     ]
    },
    "q1_5": {
     "name": "q1_5",
     "points": [
      0
     ],
     "suites": [
      {
       "cases": [
        {
         "code": ">>> clean_sentence_breaks != ... and clean_tweet != ... \nTrue",
         "hidden": false,
         "locked": false
        }
       ],
       "scored": true,
       "setup": "",
       "teardown": "",
       "type": "doctest"
      }
     ]
    },
    "q1_6": {
     "name": "q1_6",
     "points": [
      0,
      5
     ],
     "suites": [
      {
       "cases": [
        {
         "code": ">>> links != ... and mentions_in_tweets != ...\nTrue",
         "hidden": false,
         "locked": false
        },
        {
         "code": ">>> mentions_in_tweets\n[[],\n ['@TechTrends'],\n [],\n ['@HealthyLivingMag'],\n ['@JamesClear'],\n ['@EcoFashionBlog'],\n [],\n ['@MusicArtist'],\n ['@MasterChef'],\n ['@TEDTalks']]",
         "hidden": false,
         "locked": false
        }
       ],
       "scored": true,
       "setup": "",
       "teardown": "",
       "type": "doctest"
      }
     ]
    },
    "q2_1": {
     "name": "q2_1",
     "points": [
      0
     ],
     "suites": [
      {
       "cases": [
        {
         "code": ">>> regex != ...\nTrue",
         "hidden": false,
         "locked": false
        }
       ],
       "scored": true,
       "setup": "",
       "teardown": "",
       "type": "doctest"
      }
     ]
    },
    "q2_2": {
     "name": "q2_2",
     "points": [
      0
     ],
     "suites": [
      {
       "cases": [
        {
         "code": ">>> regex2 != ...\nTrue",
         "hidden": false,
         "locked": false
        }
       ],
       "scored": true,
       "setup": "",
       "teardown": "",
       "type": "doctest"
      }
     ]
    },
    "q2_3": {
     "name": "q2_3",
     "points": [
      0
     ],
     "suites": [
      {
       "cases": [
        {
         "code": ">>> clean_long_dates != ...\nTrue",
         "hidden": false,
         "locked": false
        }
       ],
       "scored": true,
       "setup": "",
       "teardown": "",
       "type": "doctest"
      }
     ]
    },
    "q3_1": {
     "name": "q3_1",
     "points": [
      0
     ],
     "suites": [
      {
       "cases": [
        {
         "code": ">>> len(percent_change) == 20\nTrue",
         "hidden": false,
         "locked": false
        }
       ],
       "scored": true,
       "setup": "",
       "teardown": "",
       "type": "doctest"
      }
     ]
    },
    "q3_2": {
     "name": "q3_2",
     "points": [
      0,
      0
     ],
     "suites": [
      {
       "cases": [
        {
         "code": ">>> window_size != ...\nTrue",
         "hidden": false,
         "locked": false
        },
        {
         "code": ">>> len(moving_average)\n17",
         "hidden": false,
         "locked": false
        }
       ],
       "scored": true,
       "setup": "",
       "teardown": "",
       "type": "doctest"
      }
     ]
    },
    "q3_3": {
     "name": "q3_3",
     "points": [
      0
     ],
     "suites": [
      {
       "cases": [
        {
         "code": ">>> len(percent_change_ma)\n16",
         "hidden": false,
         "locked": false
        }
       ],
       "scored": true,
       "setup": "",
       "teardown": "",
       "type": "doctest"
      }
     ]
    },
    "q4_1": {
     "name": "q4_1",
     "points": [
      0
     ],
     "suites": [
      {
       "cases": [
        {
         "code": ">>> len(average_scores)\n4",
         "hidden": false,
         "locked": false
        }
       ],
       "scored": true,
       "setup": "",
       "teardown": "",
       "type": "doctest"
      }
     ]
    },
    "q4_2": {
     "name": "q4_2",
     "points": [
      0
     ],
     "suites": [
      {
       "cases": [
        {
         "code": ">>> len(student_grades)\n50",
         "hidden": false,
         "locked": false
        }
       ],
       "scored": true,
       "setup": "",
       "teardown": "",
       "type": "doctest"
      }
     ]
    },
    "q4_3": {
     "name": "q4_3",
     "points": [
      0
     ],
     "suites": [
      {
       "cases": [
        {
         "code": ">>> exam_2_grade != ...\nTrue",
         "hidden": false,
         "locked": false
        }
       ],
       "scored": true,
       "setup": "",
       "teardown": "",
       "type": "doctest"
      }
     ]
    },
    "q5_1": {
     "name": "q5_1",
     "points": [
      0
     ],
     "suites": [
      {
       "cases": [
        {
         "code": ">>> random_darts.dtype == np.array([0.1]).dtype\nTrue",
         "hidden": false,
         "locked": false
        }
       ],
       "scored": true,
       "setup": "",
       "teardown": "",
       "type": "doctest"
      }
     ]
    },
    "q5_2": {
     "name": "q5_2",
     "points": [
      0
     ],
     "suites": [
      {
       "cases": [
        {
         "code": ">>> 750<= len(inside) <=790\nTrue",
         "hidden": false,
         "locked": false
        }
       ],
       "scored": true,
       "setup": "",
       "teardown": "",
       "type": "doctest"
      }
     ]
    },
    "q5_3": {
     "name": "q5_3",
     "points": [
      0
     ],
     "suites": [
      {
       "cases": [
        {
         "code": ">>> 3 < pi_approx < 3.3\nTrue",
         "hidden": false,
         "locked": false
        }
       ],
       "scored": true,
       "setup": "",
       "teardown": "",
       "type": "doctest"
      }
     ]
    }
   }
  }
 },
 "nbformat": 4,
 "nbformat_minor": 5
}
