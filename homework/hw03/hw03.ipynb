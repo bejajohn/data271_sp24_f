{
 "cells": [
  {
   "cell_type": "code",
   "execution_count": null,
   "id": "7478d29a",
   "metadata": {
    "deletable": false,
    "editable": false
   },
   "outputs": [],
   "source": [
    "# Initialize Otter\n",
    "import otter\n",
    "grader = otter.Notebook(\"hw03.ipynb\")"
   ]
  },
  {
   "cell_type": "markdown",
   "id": "9dd4437a",
   "metadata": {},
   "source": [
    "# Homework 3: Pandas and MatplotLib"
   ]
  },
  {
   "cell_type": "markdown",
   "id": "e46eb77f",
   "metadata": {},
   "source": [
    "Welcome to homework 3 of DATA 271: Data Wrangling and Visualization! \n",
    "\n",
    "In this assignment, we will practice using the `Pandas` module and dip our toes in the `MatplotLib` module toward the end. As always, if you get stuck or have questions feel free to discuss problems with your peers and come to office hours. \n",
    "\n",
    "For this homework and all future ones, please be sure to not re-assign variables throughout the notebook! For example, if you use `my_list` in your answer to one question, do not reassign it later on. Otherwise, you will fail tests that you passed previously. **NOTE:** This homework assignment contains hidden tests. Passing all the auto-graded tests in the assignment does *NOT* mean you have answered everything correctly. So be careful and check your work!"
   ]
  },
  {
   "cell_type": "code",
   "execution_count": null,
   "id": "23399b84",
   "metadata": {},
   "outputs": [],
   "source": [
    "import otter\n",
    "import sys\n",
    "import numpy as np\n",
    "grader = otter.Notebook()"
   ]
  },
  {
   "cell_type": "markdown",
   "id": "bc000c21",
   "metadata": {},
   "source": [
    "## 1. Preparing to use Pandas"
   ]
  },
  {
   "cell_type": "markdown",
   "id": "8733005b",
   "metadata": {},
   "source": [
    "**Question 1.** Import the Pandas module. **(2 Points)**"
   ]
  },
  {
   "cell_type": "code",
   "execution_count": null,
   "id": "e3207394",
   "metadata": {
    "execution": {
     "iopub.execute_input": "2022-01-21T06:53:52.800261Z",
     "iopub.status.busy": "2022-01-21T06:53:52.799643Z",
     "iopub.status.idle": "2022-01-21T06:53:52.803489Z",
     "shell.execute_reply": "2022-01-21T06:53:52.802912Z"
    },
    "tags": []
   },
   "outputs": [],
   "source": []
  },
  {
   "cell_type": "code",
   "execution_count": null,
   "id": "814ca807",
   "metadata": {
    "deletable": false,
    "editable": false
   },
   "outputs": [],
   "source": [
    "grader.check(\"q1\")"
   ]
  },
  {
   "cell_type": "markdown",
   "id": "228bcad7",
   "metadata": {},
   "source": [
    "# 2. Creating Series and DataFrames"
   ]
  },
  {
   "cell_type": "markdown",
   "id": "6eb63ff1",
   "metadata": {},
   "source": [
    "**Question 2.1:** Create a Pandas Series with indices `a`-`j`, and values `1`-`10` (inclusive). **(5 Points)**"
   ]
  },
  {
   "cell_type": "code",
   "execution_count": null,
   "id": "1a1c196f",
   "metadata": {
    "execution": {
     "iopub.execute_input": "2022-01-21T06:53:52.800261Z",
     "iopub.status.busy": "2022-01-21T06:53:52.799643Z",
     "iopub.status.idle": "2022-01-21T06:53:52.803489Z",
     "shell.execute_reply": "2022-01-21T06:53:52.802912Z"
    },
    "tags": []
   },
   "outputs": [],
   "source": [
    "indices = ...\n",
    "my_series = ...\n",
    "my_series"
   ]
  },
  {
   "cell_type": "code",
   "execution_count": null,
   "id": "077f1e52",
   "metadata": {
    "deletable": false,
    "editable": false
   },
   "outputs": [],
   "source": [
    "grader.check(\"q2_1\")"
   ]
  },
  {
   "cell_type": "markdown",
   "id": "e547f6e8",
   "metadata": {},
   "source": [
    "**Question 2.2:** Create a Pandas DataFrame with integers 1-10 in the first column, bools indicating whether the number is even in the next column, and bools indicating whether then number is divisible by 3 in the next column. Name the columns `n`, `even`, and `div 3`. Here's what the first few columns should look like:\n",
    "\n",
    "<img src=\"sample_df.PNG\" alt=\"df\" width=\"150\"/>\n",
    "\n",
    "**(5 Points)**"
   ]
  },
  {
   "cell_type": "code",
   "execution_count": null,
   "id": "e8c15f30",
   "metadata": {
    "execution": {
     "iopub.execute_input": "2022-01-21T06:53:52.800261Z",
     "iopub.status.busy": "2022-01-21T06:53:52.799643Z",
     "iopub.status.idle": "2022-01-21T06:53:52.803489Z",
     "shell.execute_reply": "2022-01-21T06:53:52.802912Z"
    },
    "tags": []
   },
   "outputs": [],
   "source": [
    "my_df = ...\n",
    "my_df"
   ]
  },
  {
   "cell_type": "code",
   "execution_count": null,
   "id": "245484b3",
   "metadata": {
    "deletable": false,
    "editable": false
   },
   "outputs": [],
   "source": [
    "grader.check(\"q2_2\")"
   ]
  },
  {
   "cell_type": "markdown",
   "id": "17e3cc5c",
   "metadata": {},
   "source": [
    "# 3. Vehicle Emissions\n",
    "\n",
    "In the following problems, we will be working with a dataset related to CO2 emissions of various types of vehicles.\n",
    "\n",
    "CO2 emissions have significant environmental impacts. The accumulation of CO2 in the atmosphere contributes to the greenhouse effect, trapping heat. This leads to various adverse effects, including rising global temperatures, sea-level rise, changes in weather patterns, and ecosystem disruptions. The long-term consequences of climate change can negatively impact human health, agriculture, biodiversity, and socio-economic systems. [(source)](https://www.kaggle.com/datasets/bhuviranga/co2-emissions?resource=download)\n",
    "\n",
    "NOTE: The dataset we will use in this set of problems contains some duplicate rows. In this analysis, do not remove rows. Later in this class, we will learn more about cleaning data and how to handle/remove duplicates. "
   ]
  },
  {
   "cell_type": "markdown",
   "id": "605f5278",
   "metadata": {},
   "source": [
    "**Question 3.1:** Read in [this CSV](https://github.com/bethanyj0/data271_sp24/blob/main/homework/data/vehicle_co2_emissions.csv) file. *NOTE*: You can either put the CSV into your current working directory and read it in from there or read it in from the URL. **(5 Points)**"
   ]
  },
  {
   "cell_type": "code",
   "execution_count": null,
   "id": "951c8a0b",
   "metadata": {
    "execution": {
     "iopub.execute_input": "2022-01-21T06:53:52.800261Z",
     "iopub.status.busy": "2022-01-21T06:53:52.799643Z",
     "iopub.status.idle": "2022-01-21T06:53:52.803489Z",
     "shell.execute_reply": "2022-01-21T06:53:52.802912Z"
    },
    "tags": []
   },
   "outputs": [],
   "source": [
    "co2_data = ...\n",
    "co2_data"
   ]
  },
  {
   "cell_type": "code",
   "execution_count": null,
   "id": "990b7d91",
   "metadata": {
    "deletable": false,
    "editable": false
   },
   "outputs": [],
   "source": [
    "grader.check(\"q3_1\")"
   ]
  },
  {
   "cell_type": "markdown",
   "id": "38c494eb",
   "metadata": {},
   "source": [
    "**Question 3.2:** How many rows and columns does the dataset have? **(5 Points)**"
   ]
  },
  {
   "cell_type": "code",
   "execution_count": null,
   "id": "8e20c22e",
   "metadata": {
    "execution": {
     "iopub.execute_input": "2022-01-21T06:53:52.800261Z",
     "iopub.status.busy": "2022-01-21T06:53:52.799643Z",
     "iopub.status.idle": "2022-01-21T06:53:52.803489Z",
     "shell.execute_reply": "2022-01-21T06:53:52.802912Z"
    },
    "tags": []
   },
   "outputs": [],
   "source": [
    "num_rows = ...\n",
    "num_cols = ...\n",
    "\n",
    "num_rows,num_cols"
   ]
  },
  {
   "cell_type": "code",
   "execution_count": null,
   "id": "8f63e495",
   "metadata": {
    "deletable": false,
    "editable": false
   },
   "outputs": [],
   "source": [
    "grader.check(\"q3_2\")"
   ]
  },
  {
   "cell_type": "markdown",
   "id": "be24cc98",
   "metadata": {},
   "source": [
    "**Question 3.3:** Which data types are present in `co2_data`? Enter 1, 2, 3, or 4. \n",
    "\n",
    "1. `str`, `float64`\n",
    "2. `float64`, `int64`, and `object`\n",
    "3. `object`\n",
    "4. `int64`, `float64`\n",
    "\n",
    "**(5 Points)**"
   ]
  },
  {
   "cell_type": "code",
   "execution_count": null,
   "id": "a02aff93",
   "metadata": {
    "execution": {
     "iopub.execute_input": "2022-01-21T06:53:52.800261Z",
     "iopub.status.busy": "2022-01-21T06:53:52.799643Z",
     "iopub.status.idle": "2022-01-21T06:53:52.803489Z",
     "shell.execute_reply": "2022-01-21T06:53:52.802912Z"
    },
    "tags": []
   },
   "outputs": [],
   "source": [
    "data_types = ..."
   ]
  },
  {
   "cell_type": "code",
   "execution_count": null,
   "id": "92230dd5",
   "metadata": {
    "deletable": false,
    "editable": false
   },
   "outputs": [],
   "source": [
    "grader.check(\"q3_3\")"
   ]
  },
  {
   "cell_type": "markdown",
   "id": "4b8ca490",
   "metadata": {},
   "source": [
    "**Question 3.4:** Which columns in the `co2_data` DataFrame are type `float64`? Enter 1, 2, 3, or 4. \n",
    "\n",
    "1. `Engine Size (L)`, `Fuel Consumption Comb (L/100 km)`, and `Fuel Consumption Comb (mpg)`\n",
    "2. `Fuel Consumption City (L/100 km)`, `Fuel Consumption Hwy (L/100 km)`, and `Fuel Consumption Comb (mpg)`\n",
    "3. `CO2 Emissions(g/km)`, `Fuel Consumption Comb (mpg)`, `Engine Size(L)` and `Cylinders`\n",
    "4. `Engine Size (L)`, `Fuel Consumption Comb (L/100 km)`, `Fuel Consumption City (L/100 km)` and `Fuel Consumption Hwy (L/100 km)`\n",
    "\n",
    "**(5 Points)**"
   ]
  },
  {
   "cell_type": "code",
   "execution_count": null,
   "id": "13d35843",
   "metadata": {
    "execution": {
     "iopub.execute_input": "2022-01-21T06:53:52.800261Z",
     "iopub.status.busy": "2022-01-21T06:53:52.799643Z",
     "iopub.status.idle": "2022-01-21T06:53:52.803489Z",
     "shell.execute_reply": "2022-01-21T06:53:52.802912Z"
    },
    "tags": []
   },
   "outputs": [],
   "source": [
    "floats = ..."
   ]
  },
  {
   "cell_type": "code",
   "execution_count": null,
   "id": "96fa4c5c",
   "metadata": {
    "deletable": false,
    "editable": false
   },
   "outputs": [],
   "source": [
    "grader.check(\"q3_4\")"
   ]
  },
  {
   "cell_type": "markdown",
   "id": "0a6f5036",
   "metadata": {},
   "source": [
    "**Question 3.5:** What is the minimum, maximum, mean, and interquartile range of the `CO2 Emissions (g/km)` column? **(5 Points)**"
   ]
  },
  {
   "cell_type": "code",
   "execution_count": null,
   "id": "f2268262",
   "metadata": {
    "execution": {
     "iopub.execute_input": "2022-01-21T06:53:52.800261Z",
     "iopub.status.busy": "2022-01-21T06:53:52.799643Z",
     "iopub.status.idle": "2022-01-21T06:53:52.803489Z",
     "shell.execute_reply": "2022-01-21T06:53:52.802912Z"
    },
    "tags": []
   },
   "outputs": [],
   "source": [
    "co2_max = ...\n",
    "co2_min = ...\n",
    "co2_mean = ...\n",
    "co2_iqr = ...\n",
    "co2_max,co2_min,co2_mean, co2_iqr"
   ]
  },
  {
   "cell_type": "code",
   "execution_count": null,
   "id": "bdbcb14d",
   "metadata": {
    "deletable": false,
    "editable": false
   },
   "outputs": [],
   "source": [
    "grader.check(\"q3_5\")"
   ]
  },
  {
   "cell_type": "markdown",
   "id": "c665cde8",
   "metadata": {},
   "source": [
    "**Question 3.6:** Sort `co2_data` by the CO2 Emissions (g/km), from smallest to largest, and save this as `co2_sorted`. \n",
    "\n",
    "Use your sorted dataframe to determine which vehicle (make and model) has the lowest CO2 emission rate and what the rate is. Save this as a Pandas Series called `min_emissions_vehicle` (with indices `Make`, `Model`, and `CO2 Emissions(g/km)`).\n",
    "\n",
    "Similarly, use your sorted dataframe to determine which vehicle (make and model) has the highest CO2 emission rate. Save this as a Pandas Series called `max_emissions_vehicle` (with indices `Make`, `Model`, and `CO2 Emissions(g/km)`).\n",
    "\n",
    "**(10 Points)**"
   ]
  },
  {
   "cell_type": "code",
   "execution_count": null,
   "id": "36d37b89",
   "metadata": {
    "execution": {
     "iopub.execute_input": "2022-01-21T06:53:52.800261Z",
     "iopub.status.busy": "2022-01-21T06:53:52.799643Z",
     "iopub.status.idle": "2022-01-21T06:53:52.803489Z",
     "shell.execute_reply": "2022-01-21T06:53:52.802912Z"
    },
    "tags": []
   },
   "outputs": [],
   "source": [
    "co2_sorted = ...\n",
    "min_emissions_vehicle = ...\n",
    "max_emissions_vehicle = ...\n",
    "\n",
    "print(min_emissions_vehicle)\n",
    "print(max_emissions_vehicle)"
   ]
  },
  {
   "cell_type": "code",
   "execution_count": null,
   "id": "49847b0e",
   "metadata": {
    "deletable": false,
    "editable": false
   },
   "outputs": [],
   "source": [
    "grader.check(\"q3_6\")"
   ]
  },
  {
   "cell_type": "markdown",
   "id": "38aa8e57",
   "metadata": {},
   "source": [
    "**Question 3.7:** Sort `co2_data` first by Fuel Consumption Comb (mpg) in ascending order, then by the CO2 Emissions (g/km) in descending order. Save this as `co2_sorted_size_em`. Do you notice anything interesting? **(5 Points)**"
   ]
  },
  {
   "cell_type": "code",
   "execution_count": null,
   "id": "5f3eee0b",
   "metadata": {
    "execution": {
     "iopub.execute_input": "2022-01-21T06:53:52.800261Z",
     "iopub.status.busy": "2022-01-21T06:53:52.799643Z",
     "iopub.status.idle": "2022-01-21T06:53:52.803489Z",
     "shell.execute_reply": "2022-01-21T06:53:52.802912Z"
    },
    "tags": []
   },
   "outputs": [],
   "source": [
    "co2_sorted_size_em = ...\n",
    "co2_sorted_size_em"
   ]
  },
  {
   "cell_type": "code",
   "execution_count": null,
   "id": "479424c8",
   "metadata": {
    "deletable": false,
    "editable": false
   },
   "outputs": [],
   "source": [
    "grader.check(\"q3_7\")"
   ]
  },
  {
   "cell_type": "markdown",
   "id": "47c33c38",
   "metadata": {},
   "source": [
    "**Question 3.8:** Create a DataFrame called `vehicle_info` that contains only the `Make`, `Model`, `Vehicle Class`, `Fuel Consumption Comb (mpg)` and `CO2 Emissions(g/km)` from `co2_data`, in that order. **(5 Points)**"
   ]
  },
  {
   "cell_type": "code",
   "execution_count": null,
   "id": "96d0f6c2",
   "metadata": {
    "execution": {
     "iopub.execute_input": "2022-01-21T06:53:52.800261Z",
     "iopub.status.busy": "2022-01-21T06:53:52.799643Z",
     "iopub.status.idle": "2022-01-21T06:53:52.803489Z",
     "shell.execute_reply": "2022-01-21T06:53:52.802912Z"
    },
    "tags": []
   },
   "outputs": [],
   "source": [
    "vehicle_info = ...\n",
    "vehicle_info"
   ]
  },
  {
   "cell_type": "code",
   "execution_count": null,
   "id": "a305fdff",
   "metadata": {
    "deletable": false,
    "editable": false
   },
   "outputs": [],
   "source": [
    "grader.check(\"q3_8\")"
   ]
  },
  {
   "cell_type": "markdown",
   "id": "9b669c45",
   "metadata": {},
   "source": [
    "**Question 3.9:** Using `vehicle_info`, create two new dataframes:\n",
    "\n",
    "- `efficient_vehicles`: This DataFrame should consist of a subset of `vehicle_info` containing vehicles with MPG (miles per gallon) in the top 1% of the dataset (MPG higher than at least 99% of the vehicles) and CO2 emission rate in the bottom 1% (emission rate lower than at least 99% of the vehicles in the dataset).\n",
    "\n",
    "- `inefficient_vehicles`: This DataFrame should consist of a subset of vehicle_info containing vehicles with MPG in the bottom 1% (MPG lower than at least 99% of the vehicles) and CO2 emission rate in the top 1% (emission rate higher than at least 99% of the vehicles in the dataset).  \n",
    "**(10 Points)**"
   ]
  },
  {
   "cell_type": "code",
   "execution_count": null,
   "id": "f4986504",
   "metadata": {
    "execution": {
     "iopub.execute_input": "2022-01-21T06:53:52.800261Z",
     "iopub.status.busy": "2022-01-21T06:53:52.799643Z",
     "iopub.status.idle": "2022-01-21T06:53:52.803489Z",
     "shell.execute_reply": "2022-01-21T06:53:52.802912Z"
    },
    "tags": []
   },
   "outputs": [],
   "source": [
    "efficient_vehicles = ...\n",
    "                                  ...\n",
    "inefficient_vehicles = ...\n",
    "                                    ..."
   ]
  },
  {
   "cell_type": "code",
   "execution_count": null,
   "id": "10638ba2",
   "metadata": {
    "deletable": false,
    "editable": false
   },
   "outputs": [],
   "source": [
    "grader.check(\"q3_9\")"
   ]
  },
  {
   "cell_type": "markdown",
   "id": "1cbe094b",
   "metadata": {},
   "source": [
    "**Question 3.10:** Which vehicle class is most common in `efficient_vehicles`? Which vehicle class is most common in `inefficient_vehicles`?  **(5 Points)**"
   ]
  },
  {
   "cell_type": "code",
   "execution_count": null,
   "id": "11264a1a",
   "metadata": {
    "execution": {
     "iopub.execute_input": "2022-01-21T06:53:52.800261Z",
     "iopub.status.busy": "2022-01-21T06:53:52.799643Z",
     "iopub.status.idle": "2022-01-21T06:53:52.803489Z",
     "shell.execute_reply": "2022-01-21T06:53:52.802912Z"
    },
    "tags": []
   },
   "outputs": [],
   "source": [
    "most_common_class_efficient = ...\n",
    "most_common_class_inefficient = ...\n",
    "\n",
    "most_common_class_efficient, most_common_class_inefficient"
   ]
  },
  {
   "cell_type": "code",
   "execution_count": null,
   "id": "abf3d921",
   "metadata": {
    "deletable": false,
    "editable": false
   },
   "outputs": [],
   "source": [
    "grader.check(\"q3_10\")"
   ]
  },
  {
   "cell_type": "markdown",
   "id": "14234c0c",
   "metadata": {},
   "source": [
    "**Question 3.11:** Which car manufacturers (`Make`) make at least one efficient vehicle *and* at least one inefficient vehicle? Create a set `inefficient_and_efficient` containing these manufacturers. **(5 Points)**"
   ]
  },
  {
   "cell_type": "code",
   "execution_count": null,
   "id": "7082064e",
   "metadata": {
    "execution": {
     "iopub.execute_input": "2022-01-21T06:53:52.800261Z",
     "iopub.status.busy": "2022-01-21T06:53:52.799643Z",
     "iopub.status.idle": "2022-01-21T06:53:52.803489Z",
     "shell.execute_reply": "2022-01-21T06:53:52.802912Z"
    },
    "tags": []
   },
   "outputs": [],
   "source": [
    "inefficient_and_efficient = ...\n",
    "inefficient_and_efficient"
   ]
  },
  {
   "cell_type": "code",
   "execution_count": null,
   "id": "ccb31837",
   "metadata": {
    "deletable": false,
    "editable": false
   },
   "outputs": [],
   "source": [
    "grader.check(\"q3_11\")"
   ]
  },
  {
   "cell_type": "markdown",
   "id": "24857aba",
   "metadata": {},
   "source": [
    "**Question 3.12:** Create a list with the following car manufacturers ranked in order from lowest average CO2 emissions rate to highest average CO2 emissions rate. \n",
    "\n",
    "`SUBARU`, `HONDA`, `KIA`, `LAND ROVER`, `FORD`\n",
    "\n",
    "*HINT*: First filter the dataset to only include the manufacturers listed above. Then get the average CO2 Emissions(g/km) for each of the manufacturers. Then sort to rank your list. **(5 Points)**"
   ]
  },
  {
   "cell_type": "code",
   "execution_count": null,
   "id": "3361b62b",
   "metadata": {
    "execution": {
     "iopub.execute_input": "2022-01-21T06:53:52.800261Z",
     "iopub.status.busy": "2022-01-21T06:53:52.799643Z",
     "iopub.status.idle": "2022-01-21T06:53:52.803489Z",
     "shell.execute_reply": "2022-01-21T06:53:52.802912Z"
    },
    "tags": []
   },
   "outputs": [],
   "source": [
    "manufacturers = ...\n",
    "condition_for_filtering = ...\n",
    "sorted_manufacturers = ...\n",
    "sorted_manufacturers"
   ]
  },
  {
   "cell_type": "code",
   "execution_count": null,
   "id": "f93d9ad0",
   "metadata": {
    "deletable": false,
    "editable": false
   },
   "outputs": [],
   "source": [
    "grader.check(\"q3_12\")"
   ]
  },
  {
   "cell_type": "markdown",
   "id": "41edcacc",
   "metadata": {},
   "source": [
    "**Question 3.13:** Import the MatplotLib Pyplot submodule. **(3 Points)**"
   ]
  },
  {
   "cell_type": "code",
   "execution_count": null,
   "id": "a67e2bd5",
   "metadata": {
    "execution": {
     "iopub.execute_input": "2022-01-21T06:53:52.800261Z",
     "iopub.status.busy": "2022-01-21T06:53:52.799643Z",
     "iopub.status.idle": "2022-01-21T06:53:52.803489Z",
     "shell.execute_reply": "2022-01-21T06:53:52.802912Z"
    },
    "tags": []
   },
   "outputs": [],
   "source": []
  },
  {
   "cell_type": "code",
   "execution_count": null,
   "id": "fb41c9f7",
   "metadata": {
    "deletable": false,
    "editable": false
   },
   "outputs": [],
   "source": [
    "grader.check(\"q3_13\")"
   ]
  },
  {
   "cell_type": "markdown",
   "id": "c4cf98f7",
   "metadata": {},
   "source": [
    "<!-- BEGIN QUESTION -->\n",
    "\n",
    "**Question 3.14:** Use MatplotLib to visualize the relationship between Fuel Consumption Comb (mpg) and the CO2 emissions of vehicles in the `co2_data` dataframe. (Remember to label your axes!) **(5 Points)**"
   ]
  },
  {
   "cell_type": "code",
   "execution_count": null,
   "id": "cade6290",
   "metadata": {
    "execution": {
     "iopub.execute_input": "2022-01-21T06:53:52.800261Z",
     "iopub.status.busy": "2022-01-21T06:53:52.799643Z",
     "iopub.status.idle": "2022-01-21T06:53:52.803489Z",
     "shell.execute_reply": "2022-01-21T06:53:52.802912Z"
    },
    "tags": []
   },
   "outputs": [],
   "source": []
  },
  {
   "cell_type": "markdown",
   "id": "50d7ce6d",
   "metadata": {},
   "source": [
    "<!-- END QUESTION -->\n",
    "\n",
    "<!-- BEGIN QUESTION -->\n",
    "\n",
    "**Question 3.15:** Use MatplotLib to visualize the relationship between the engine size and the CO2 emissions of vehicles in the `co2_data` dataframe. (Remember to label your axes!) **(5 Points)**"
   ]
  },
  {
   "cell_type": "code",
   "execution_count": null,
   "id": "ed1d7089",
   "metadata": {
    "execution": {
     "iopub.execute_input": "2022-01-21T06:53:52.800261Z",
     "iopub.status.busy": "2022-01-21T06:53:52.799643Z",
     "iopub.status.idle": "2022-01-21T06:53:52.803489Z",
     "shell.execute_reply": "2022-01-21T06:53:52.802912Z"
    },
    "tags": []
   },
   "outputs": [],
   "source": []
  },
  {
   "cell_type": "markdown",
   "id": "e23571fe",
   "metadata": {},
   "source": [
    "<!-- END QUESTION -->\n",
    "\n",
    "<!-- BEGIN QUESTION -->\n",
    "\n",
    "**Question 3.16:** Use MatplotLib (or Pandas) to visualize the average CO2 emission rate for each manufacturer (`Make`)in the `co2_data` dataframe. (Remember to label your axes!) **(5 Points)**"
   ]
  },
  {
   "cell_type": "code",
   "execution_count": null,
   "id": "350465a7",
   "metadata": {
    "execution": {
     "iopub.execute_input": "2022-01-21T06:53:52.800261Z",
     "iopub.status.busy": "2022-01-21T06:53:52.799643Z",
     "iopub.status.idle": "2022-01-21T06:53:52.803489Z",
     "shell.execute_reply": "2022-01-21T06:53:52.802912Z"
    },
    "tags": []
   },
   "outputs": [],
   "source": [
    "avg_values = ...\n",
    "\n"
   ]
  },
  {
   "cell_type": "markdown",
   "id": "0f113ec6",
   "metadata": {},
   "source": [
    "<!-- END QUESTION -->\n",
    "\n",
    "## You're done! \n",
    "Congrats on finishing Homework 3! Run the following cell to download a zip and submit to Canvas. "
   ]
  },
  {
   "cell_type": "markdown",
   "id": "f9563fd1",
   "metadata": {
    "deletable": false,
    "editable": false
   },
   "source": [
    "## Submission\n",
    "\n",
    "Make sure you have run all cells in your notebook in order before running the cell below, so that all images/graphs appear in the output. The cell below will generate a zip file for you to submit. **Please save before exporting!**"
   ]
  },
  {
   "cell_type": "code",
   "execution_count": null,
   "id": "9b265274",
   "metadata": {
    "deletable": false,
    "editable": false
   },
   "outputs": [],
   "source": [
    "# Save your notebook first, then run this cell to export your submission.\n",
    "grader.export(pdf=False, run_tests=True)"
   ]
  },
  {
   "cell_type": "markdown",
   "id": "3bdd9e8c",
   "metadata": {},
   "source": [
    " "
   ]
  }
 ],
 "metadata": {
  "kernelspec": {
   "display_name": "Python 3 (ipykernel)",
   "language": "python",
   "name": "python3"
  },
  "language_info": {
   "codemirror_mode": {
    "name": "ipython",
    "version": 3
   },
   "file_extension": ".py",
   "mimetype": "text/x-python",
   "name": "python",
   "nbconvert_exporter": "python",
   "pygments_lexer": "ipython3",
   "version": "3.11.4"
  },
  "otter": {
   "OK_FORMAT": true,
   "tests": {
    "q1": {
     "name": "q1",
     "points": [
      0
     ],
     "suites": [
      {
       "cases": [
        {
         "code": ">>> 'pandas' in sys.modules\nTrue",
         "hidden": false,
         "locked": false
        }
       ],
       "scored": true,
       "setup": "",
       "teardown": "",
       "type": "doctest"
      }
     ]
    },
    "q2_1": {
     "name": "q2_1",
     "points": [
      0
     ],
     "suites": [
      {
       "cases": [
        {
         "code": ">>> len(my_series)\n10",
         "hidden": false,
         "locked": false
        }
       ],
       "scored": true,
       "setup": "",
       "teardown": "",
       "type": "doctest"
      }
     ]
    },
    "q2_2": {
     "name": "q2_2",
     "points": [
      0
     ],
     "suites": [
      {
       "cases": [
        {
         "code": ">>> len(my_df)\n10",
         "hidden": false,
         "locked": false
        }
       ],
       "scored": true,
       "setup": "",
       "teardown": "",
       "type": "doctest"
      }
     ]
    },
    "q3_1": {
     "name": "q3_1",
     "points": [
      0
     ],
     "suites": [
      {
       "cases": [
        {
         "code": ">>> not co2_data.empty\nTrue",
         "hidden": false,
         "locked": false
        }
       ],
       "scored": true,
       "setup": "",
       "teardown": "",
       "type": "doctest"
      }
     ]
    },
    "q3_10": {
     "name": "q3_10",
     "points": [
      0
     ],
     "suites": [
      {
       "cases": [
        {
         "code": ">>> most_common_class_inefficient != ... and most_common_class_efficient != ...\nTrue",
         "hidden": false,
         "locked": false
        }
       ],
       "scored": true,
       "setup": "",
       "teardown": "",
       "type": "doctest"
      }
     ]
    },
    "q3_11": {
     "name": "q3_11",
     "points": [
      0
     ],
     "suites": [
      {
       "cases": [
        {
         "code": ">>> inefficient_and_efficient != ...\nTrue",
         "hidden": false,
         "locked": false
        }
       ],
       "scored": true,
       "setup": "",
       "teardown": "",
       "type": "doctest"
      }
     ]
    },
    "q3_12": {
     "name": "q3_12",
     "points": [
      0
     ],
     "suites": [
      {
       "cases": [
        {
         "code": ">>> sorted_manufacturers != ...\nTrue",
         "hidden": false,
         "locked": false
        }
       ],
       "scored": true,
       "setup": "",
       "teardown": "",
       "type": "doctest"
      }
     ]
    },
    "q3_13": {
     "name": "q3_13",
     "points": [
      0
     ],
     "suites": [
      {
       "cases": [
        {
         "code": ">>> 'matplotlib' in sys.modules\nTrue",
         "hidden": false,
         "locked": false
        }
       ],
       "scored": true,
       "setup": "",
       "teardown": "",
       "type": "doctest"
      }
     ]
    },
    "q3_2": {
     "name": "q3_2",
     "points": [
      0
     ],
     "suites": [
      {
       "cases": [
        {
         "code": ">>> num_rows != ... and num_cols != ...\nTrue",
         "hidden": false,
         "locked": false
        }
       ],
       "scored": true,
       "setup": "",
       "teardown": "",
       "type": "doctest"
      }
     ]
    },
    "q3_3": {
     "name": "q3_3",
     "points": [
      0
     ],
     "suites": [
      {
       "cases": [
        {
         "code": ">>> data_types != ...\nTrue",
         "hidden": false,
         "locked": false
        }
       ],
       "scored": true,
       "setup": "",
       "teardown": "",
       "type": "doctest"
      }
     ]
    },
    "q3_4": {
     "name": "q3_4",
     "points": [
      0
     ],
     "suites": [
      {
       "cases": [
        {
         "code": ">>> floats != ...\nTrue",
         "hidden": false,
         "locked": false
        }
       ],
       "scored": true,
       "setup": "",
       "teardown": "",
       "type": "doctest"
      }
     ]
    },
    "q3_5": {
     "name": "q3_5",
     "points": [
      0
     ],
     "suites": [
      {
       "cases": [
        {
         "code": ">>> co2_max != ... and co2_min != ... and co2_mean != ... and co2_iqr != ...\nTrue",
         "hidden": false,
         "locked": false
        }
       ],
       "scored": true,
       "setup": "",
       "teardown": "",
       "type": "doctest"
      }
     ]
    },
    "q3_6": {
     "name": "q3_6",
     "points": [
      0
     ],
     "suites": [
      {
       "cases": [
        {
         "code": ">>> not co2_sorted.empty and not min_emissions_vehicle.empty and not max_emissions_vehicle.empty\nTrue",
         "hidden": false,
         "locked": false
        }
       ],
       "scored": true,
       "setup": "",
       "teardown": "",
       "type": "doctest"
      }
     ]
    },
    "q3_7": {
     "name": "q3_7",
     "points": [
      0
     ],
     "suites": [
      {
       "cases": [
        {
         "code": ">>> not co2_sorted_size_em.empty\nTrue",
         "hidden": false,
         "locked": false
        }
       ],
       "scored": true,
       "setup": "",
       "teardown": "",
       "type": "doctest"
      }
     ]
    },
    "q3_8": {
     "name": "q3_8",
     "points": [
      0
     ],
     "suites": [
      {
       "cases": [
        {
         "code": ">>> not vehicle_info.empty\nTrue",
         "hidden": false,
         "locked": false
        }
       ],
       "scored": true,
       "setup": "",
       "teardown": "",
       "type": "doctest"
      }
     ]
    },
    "q3_9": {
     "name": "q3_9",
     "points": [
      0
     ],
     "suites": [
      {
       "cases": [
        {
         "code": ">>> not efficient_vehicles.empty and not inefficient_vehicles.empty\nTrue",
         "hidden": false,
         "locked": false
        }
       ],
       "scored": true,
       "setup": "",
       "teardown": "",
       "type": "doctest"
      }
     ]
    }
   }
  }
 },
 "nbformat": 4,
 "nbformat_minor": 5
}
