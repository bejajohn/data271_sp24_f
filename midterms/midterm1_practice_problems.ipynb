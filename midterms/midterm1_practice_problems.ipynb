{
 "cells": [
  {
   "cell_type": "markdown",
   "id": "87c3d8c8",
   "metadata": {},
   "source": [
    "# Midterm 1 Practice Problems\n",
    "\n",
    "The following problems are similar to what you'll see on the coding portion of first exam. This set of problems is longer than what you'll see on the actual exam. "
   ]
  },
  {
   "cell_type": "markdown",
   "id": "cab3c21e",
   "metadata": {},
   "source": [
    "## Python Basics"
   ]
  },
  {
   "cell_type": "markdown",
   "id": "3214b684",
   "metadata": {},
   "source": [
    "**Problem:** Write a function to remove duplicates from a list. Test out your function on the list\n",
    "```python\n",
    "['I','love','love','love','data','science']\n",
    "```"
   ]
  },
  {
   "cell_type": "code",
   "execution_count": null,
   "id": "97add7ec",
   "metadata": {},
   "outputs": [],
   "source": []
  },
  {
   "cell_type": "markdown",
   "id": "2a6ec5bd",
   "metadata": {},
   "source": [
    "**Problem:** Write a function to count the occurrences of each character in a string and return a dictionary where the keys are the unique characters and values are their counts.\n",
    "Test out your function on the string\n",
    "```python\n",
    "'If a dog chews shoes, whose shoes does he choose?'\n",
    "```"
   ]
  },
  {
   "cell_type": "code",
   "execution_count": null,
   "id": "67d37f42",
   "metadata": {},
   "outputs": [],
   "source": []
  },
  {
   "cell_type": "markdown",
   "id": "c3177f0a",
   "metadata": {},
   "source": [
    "**Problem:** Write a function to merge two lists into one sorted list in descending order. Test out your function on the lists \n",
    "```python\n",
    "lst1 = [8,3,5,8,4,9]\n",
    "lst2 = [6,9,0,2,7,2]\n",
    "```"
   ]
  },
  {
   "cell_type": "code",
   "execution_count": null,
   "id": "0c7e77b4",
   "metadata": {},
   "outputs": [],
   "source": []
  },
  {
   "cell_type": "markdown",
   "id": "00769261",
   "metadata": {},
   "source": [
    "**Problem:** The number $\\pi$ can be computed by the following formula:\n",
    "$$\n",
    "\\pi=4 \\sum_{k=0}^{\\infty} \\frac{(-1)^k}{2 k+1}=4\\left(\\frac{1}{1}-\\frac{1}{3}+\\frac{1}{5}-\\frac{1}{7}+\\frac{1}{9}-\\ldots\\right)\n",
    "$$\n",
    "\n",
    "Write a function to *approximate* $\\pi$ using the formula defined above (the approximation means that instead of infinity $\\infty$, the sequence considers only a certain amount of elements $n$).\n",
    "\n",
    "Here are examples of $\\pi$ approximations for some of the values of $n$ :\n",
    "$$\n",
    "\\begin{aligned}\n",
    "& n=0 \\rightarrow \\pi=4 \\\\\n",
    "& n=1 \\rightarrow \\pi \\approx 2.67 \\\\\n",
    "& n=2 \\rightarrow \\pi \\approx 3.47\n",
    "\\end{aligned}\n",
    "$$\n",
    "\n",
    "Use those $n$ values as inputs to make sure your function is working properly, then get the $pi$ approximation for $n=10000$."
   ]
  },
  {
   "cell_type": "code",
   "execution_count": null,
   "id": "b1848365",
   "metadata": {},
   "outputs": [],
   "source": []
  },
  {
   "cell_type": "markdown",
   "id": "be730604",
   "metadata": {},
   "source": [
    "**Problem:** You went to the market with your roommate and you both filled your own baskets (`basket1` and `basket2`) with fruits. You wanted to have one of each kind but realized that some fruits were put in both baskets. Remove everything from `basket2` that is present in `basket1`."
   ]
  },
  {
   "cell_type": "code",
   "execution_count": null,
   "id": "6a5b068c",
   "metadata": {},
   "outputs": [],
   "source": [
    "# The following structure might help\n",
    "for ... in ...:\n",
    "    if ... in ...:\n",
    "        ..."
   ]
  },
  {
   "cell_type": "markdown",
   "id": "b5dc1806",
   "metadata": {},
   "source": [
    "**Problem:** You are given five lists below. Use them to answer the following questions"
   ]
  },
  {
   "cell_type": "code",
   "execution_count": null,
   "id": "0e1c62c6",
   "metadata": {},
   "outputs": [],
   "source": [
    "A = [1, 2, 3, 5, 6, 7]\n",
    "B = [5, 7, 9, 11, 13, 15, 15]\n",
    "C = [1, 2, 5, 7, 10, 8, 11, 12, 13, 14, 15, 16, 17, 16]\n",
    "D = [1, 3, 5, 7, 9, 11, 12, 13, 14, 15, 16, 17, 18, 19, 20]\n",
    "E = [9, 10, 11, 12, 13, 14, 15]"
   ]
  },
  {
   "cell_type": "markdown",
   "id": "84939305",
   "metadata": {},
   "source": [
    "**Subproblem:** Determine which numbers are in `A`, `B`, and `C`."
   ]
  },
  {
   "cell_type": "code",
   "execution_count": null,
   "id": "a8da8b07",
   "metadata": {},
   "outputs": [],
   "source": []
  },
  {
   "cell_type": "markdown",
   "id": "30220453",
   "metadata": {},
   "source": [
    "**Subproblem:** Find all unique numbers across all the lists."
   ]
  },
  {
   "cell_type": "code",
   "execution_count": null,
   "id": "d230a799",
   "metadata": {},
   "outputs": [],
   "source": []
  },
  {
   "cell_type": "markdown",
   "id": "4e8676e1",
   "metadata": {},
   "source": [
    "**Subproblem:** Determine which numbers are either in `A` or in the intersection of `D` and `E`."
   ]
  },
  {
   "cell_type": "code",
   "execution_count": null,
   "id": "c84d4217",
   "metadata": {},
   "outputs": [],
   "source": []
  },
  {
   "cell_type": "markdown",
   "id": "c3ffd554",
   "metadata": {},
   "source": [
    "**Problem**: The Caesar cipher (shift cipher) one of the most famous encryption systems. It is based on a simple shift of each letter in a message by a certain number of positions down the given `alphabet`. For example, given the English alphabet, a shift of 1 for `'xyz'` would imply `'yza'` and vice versa in case of decryption. Notice that `'z'` becomes `'a'` in this case.\n",
    "\n",
    "Thus, encryption/decryption requires two arguments: \n",
    "- text to encrypt/decrypt\n",
    "- an integer denoting the shift (key = 1 for the example above).\n",
    "\n",
    "Create an encryption function given the English alphabet stored in the `alphabet` string."
   ]
  },
  {
   "cell_type": "code",
   "execution_count": null,
   "id": "0fe202c4",
   "metadata": {},
   "outputs": [],
   "source": [
    "alphabet = 'abcdefghijklmnopqrstuvwxyz'\n"
   ]
  },
  {
   "cell_type": "markdown",
   "id": "339841ec",
   "metadata": {},
   "source": [
    "## List and Dictionary Comprehension"
   ]
  },
  {
   "cell_type": "markdown",
   "id": "3287f7d9",
   "metadata": {},
   "source": [
    "**Problem:** Write a function that takes a string as an argument and returns a dictionary, where each key represents a unique character from the string and the corresponding value is a list containing the indices/positions of this letter in the string.\n",
    "\n",
    "For example, passing the string `'ukulele'` to the function should result in the following output: \n",
    "```python\n",
    "{'u': [0, 2], 'k': [1], 'l': [3, 5], 'e': [4, 6]}\n",
    "```"
   ]
  },
  {
   "cell_type": "code",
   "execution_count": null,
   "id": "89624e13",
   "metadata": {},
   "outputs": [],
   "source": []
  },
  {
   "cell_type": "markdown",
   "id": "779edbb9",
   "metadata": {},
   "source": [
    "**Problem:** Use dictionary comprehension to create a dictionary where the keys are words from the given string below. If the word contains only lowercase characters, its value should be the length of the word. If the word contains any uppercase characters, the value should be 0. "
   ]
  },
  {
   "cell_type": "code",
   "execution_count": null,
   "id": "6271bede",
   "metadata": {},
   "outputs": [],
   "source": [
    "string='No Luke I am your father'\n"
   ]
  },
  {
   "cell_type": "markdown",
   "id": "4f2eee70",
   "metadata": {},
   "source": [
    "**Problem:** Use list comprehension to concatenate two lists of strings given below, keeping only the strings with lengths greater than 3."
   ]
  },
  {
   "cell_type": "code",
   "execution_count": null,
   "id": "710a045a",
   "metadata": {},
   "outputs": [],
   "source": [
    "list1 = ['aardvark','bear', 'cat', 'dog','elephant']\n",
    "list2 = ['apple','burger', 'cantalope', 'dragonfruit','egg']\n",
    "\n"
   ]
  },
  {
   "cell_type": "markdown",
   "id": "27a2a57f",
   "metadata": {},
   "source": [
    "**Problem:** The transpose of a matrix is found by interchanging its rows into columns or columns into rows. Using list comprehension, transpose a given matrix represented as a list of lists. We will use the matrix\n",
    "\n",
    "\\begin{bmatrix}\n",
    "1&2\\\\\n",
    "3&4\n",
    "\\end{bmatrix}\n",
    "\n",
    "which has transpose\n",
    "\\begin{bmatrix}\n",
    "1&3\\\\\n",
    "2&4\n",
    "\\end{bmatrix}\n",
    "\n",
    "So turn the list \n",
    "```python\n",
    "[[1,2],[3,4]]\n",
    "```\n",
    "should be transformed to\n",
    "```python\n",
    "[[1,3],[2,4]]\n",
    "```"
   ]
  },
  {
   "cell_type": "code",
   "execution_count": null,
   "id": "390ee67f",
   "metadata": {
    "scrolled": true
   },
   "outputs": [],
   "source": [
    "matrix = [[1,2],[3,4]]"
   ]
  },
  {
   "cell_type": "markdown",
   "id": "c1417edd",
   "metadata": {},
   "source": [
    "## Regular expression"
   ]
  },
  {
   "cell_type": "markdown",
   "id": "7501aac2",
   "metadata": {},
   "source": [
    "**Problem** Use regular expression to make a list of tuples. The first element of the tuple should be a math professor's last name and the second element should be their extension (last 4 digits of their office numbers). "
   ]
  },
  {
   "cell_type": "code",
   "execution_count": null,
   "id": "75bf7afe",
   "metadata": {},
   "outputs": [],
   "source": [
    "data = \"\"\"Dr. Rizzardi's office number is (707) 826-4951.\\n\n",
    "Dr. Ballinger's office number (707) 826-5344.\\n\n",
    "Dr. Dugaw's office number is (707) 826-4251.\\n\n",
    "Dr. Evans's office number is (707) 826-3217.\\n\n",
    "Dr. Freedman's office number is (707) 826-4763.\\n\n",
    "Dr. Haag's office number is (707) 826-5345.\\n\n",
    "Dr. Johnson's office number is (707) 826-4952.\"\"\""
   ]
  },
  {
   "cell_type": "markdown",
   "id": "baec350b",
   "metadata": {},
   "source": [
    "**Problem:** Create a regular expression matching a valid temperature represented either in Celsius or Fahrenheit scale (e.g. `+23.5 C`, `-4 F`, `0.0 C`, `73.45 F`) and to extract all the appearances from the given string text. Positive temperatures can be with or without the `+` prefix (e.g. `5 F`, `+5 F`). Negative temperatures must be prefixed with `-`. Zero temperature can be used with a prefix or without. Test out your regex on the string provided."
   ]
  },
  {
   "cell_type": "code",
   "execution_count": null,
   "id": "599c2ba3",
   "metadata": {},
   "outputs": [],
   "source": [
    "string = \"Let's consider the following temperatures using the Celsius scale: +23 C, 0 C, -20.0 C, -2.2 C, -5.65 C, 0.0001 C. To convert them to the Fahrenheit scale you have to multiply the number by 9/5 and add 32 to the result. Therefore, the corresponding temperatures in the Fahrenheit scale will be: +73.4 F, 32 F, -4.0 F, +28.04 F, 21.83 F, +32.00018 F.\"\n"
   ]
  },
  {
   "cell_type": "markdown",
   "id": "b0366fb0",
   "metadata": {},
   "source": [
    "**Problem:** You visit a website and it asks you to fill in a registration form. The username section requires you to choose a name between 3 and 16 characters long. It can only include hyphens, underscores, and alphanumeric characters (but no capital letters). Write a regex to match valid usernames. "
   ]
  },
  {
   "cell_type": "code",
   "execution_count": null,
   "id": "0ea0b010",
   "metadata": {},
   "outputs": [],
   "source": []
  },
  {
   "cell_type": "markdown",
   "id": "7107fc59",
   "metadata": {},
   "source": [
    "**Problem:** You are given a list where each element stores a movie name, its release date, and the director (e.g. \"The Godfather, 1972, Francis Ford Coppola\") below.\n",
    "\n",
    "Get the movie title and the director of each element in `movies` and put them in a new list. For example, if the element `movies` is \n",
    "```python\n",
    "\"The Godfather, 1972, Francis Ford Coppola\"\n",
    "```\n",
    "the result should be:\n",
    "\n",
    "```python\n",
    "\"The Godfather, Francis Ford Coppola\"\n",
    "```"
   ]
  },
  {
   "cell_type": "code",
   "execution_count": null,
   "id": "56b0bd8b",
   "metadata": {},
   "outputs": [],
   "source": [
    "movies = ['1984, 1984, Michael Radford',\n",
    "\"The Good the Bad, and the Ugly, 1966, Sergio Leone\",\n",
    "\"Terminator 2: Judgment Day, 1991, James Cameron\",\n",
    "\"Harry Potter and the Philosopher's Stone, 2001, Chris Columbus\",\n",
    "\"Back to the Future, 1985, Robert Zemeckis\",\n",
    "\"No Country for Old Men, 2007, Joel Coen, Ethan Coen\"]"
   ]
  },
  {
   "cell_type": "code",
   "execution_count": null,
   "id": "9a40a5b2",
   "metadata": {},
   "outputs": [],
   "source": []
  },
  {
   "cell_type": "markdown",
   "id": "b268d90b",
   "metadata": {},
   "source": [
    "## NumPy"
   ]
  },
  {
   "cell_type": "markdown",
   "id": "ba88f363",
   "metadata": {},
   "source": [
    "**Problem:** Create a Numpy array of length 10 with values evenly distributed between 5 and 50."
   ]
  },
  {
   "cell_type": "code",
   "execution_count": null,
   "id": "12e53b59",
   "metadata": {},
   "outputs": [],
   "source": []
  },
  {
   "cell_type": "markdown",
   "id": "10a3ce44",
   "metadata": {},
   "source": [
    "**Problem:** Create NumPy array of length 5 filled with random integers from 0 to 10."
   ]
  },
  {
   "cell_type": "code",
   "execution_count": null,
   "id": "4d244664",
   "metadata": {},
   "outputs": [],
   "source": []
  },
  {
   "cell_type": "markdown",
   "id": "da38cdbc",
   "metadata": {},
   "source": [
    "**Problem:** In the following array, replace all the numbers that are less than 5 with 0. "
   ]
  },
  {
   "cell_type": "code",
   "execution_count": null,
   "id": "924c2344",
   "metadata": {},
   "outputs": [],
   "source": [
    "import numpy as np \n",
    "array1= np.array([[7,3,1,6],[7,21,5,8],[-1,0,83,3]])\n"
   ]
  },
  {
   "cell_type": "markdown",
   "id": "750c9a60",
   "metadata": {},
   "source": [
    "**Problem:** Create the following array:\n",
    "\\begin{bmatrix}\n",
    "1&2&...&49&50\\\\\n",
    "50&49&...&2&1\n",
    "\\end{bmatrix}\n",
    "\n",
    "(the ellipses should be filled in with numbers stepping by 1."
   ]
  },
  {
   "cell_type": "code",
   "execution_count": null,
   "id": "4e89e8f2",
   "metadata": {},
   "outputs": [],
   "source": []
  },
  {
   "cell_type": "markdown",
   "id": "e9acd0c6",
   "metadata": {},
   "source": [
    "**Problem:** You are at the grocery store to buy cookies, and you notice that each brand sells boxes of cookies with different amounts and prices. The data for the brand, price per box, and number of ounces per box are given to you in three NumPy arrays below. You want to get most bang for your buck, so use the NumPy arrays to determine which brand you should buy to get the cheapest price per oz."
   ]
  },
  {
   "cell_type": "code",
   "execution_count": null,
   "id": "5c7ff951",
   "metadata": {},
   "outputs": [],
   "source": [
    "cookie_brands = np.array(['Brand A', 'Brand B', 'Brand C', 'Brand D', 'Brand E', 'Brand F', 'Brand G', 'Brand H', 'Brand I', 'Brand J'])\n",
    "prices_per_box = np.array([5.99, 4.99, 6.99, 3.49, 7.99, 2.99, 5.49, 4.29, 6.79, 3.99])\n",
    "ounces_per_box = np.array([12, 10, 16, 8, 14, 6, 11, 9, 15, 7])"
   ]
  },
  {
   "cell_type": "code",
   "execution_count": null,
   "id": "a6faf47c",
   "metadata": {},
   "outputs": [],
   "source": []
  },
  {
   "cell_type": "markdown",
   "id": "225a3391",
   "metadata": {},
   "source": [
    "## Pandas"
   ]
  },
  {
   "cell_type": "markdown",
   "id": "147c6e7b",
   "metadata": {},
   "source": [
    "**Problem:** Go to [this link](https://www.kaggle.com/datasets/krishd123/olympics-legacy-1896-2020) and download the `all_athlete_games.csv` olympics dataset and import the data as a Pandas DataFrame. "
   ]
  },
  {
   "cell_type": "code",
   "execution_count": null,
   "id": "3ba0a000",
   "metadata": {},
   "outputs": [],
   "source": []
  },
  {
   "cell_type": "markdown",
   "id": "bc94f21b",
   "metadata": {},
   "source": [
    "**Problem:** Create a Pandas Series displaying how many gold medals were won by each team in the dataset. "
   ]
  },
  {
   "cell_type": "code",
   "execution_count": null,
   "id": "dcf664f9",
   "metadata": {},
   "outputs": [],
   "source": []
  },
  {
   "cell_type": "markdown",
   "id": "80ba9846",
   "metadata": {},
   "source": [
    "**Problem:** How many athletes won gold medals in the dataset?"
   ]
  },
  {
   "cell_type": "code",
   "execution_count": null,
   "id": "df4acfc0",
   "metadata": {},
   "outputs": [],
   "source": []
  },
  {
   "cell_type": "markdown",
   "id": "5086da4e",
   "metadata": {},
   "source": [
    "**Problem:** Who earned the most gold medals in the dataset and in what events did they earn golds? "
   ]
  },
  {
   "cell_type": "code",
   "execution_count": null,
   "id": "fae08815",
   "metadata": {},
   "outputs": [],
   "source": []
  },
  {
   "cell_type": "markdown",
   "id": "23ec5b4a",
   "metadata": {},
   "source": [
    "**Problem:** Create a Pandas Series containing the average age of athlete for each sport in the summer Olympics."
   ]
  },
  {
   "cell_type": "code",
   "execution_count": null,
   "id": "11330343",
   "metadata": {},
   "outputs": [],
   "source": []
  },
  {
   "cell_type": "markdown",
   "id": "c67a0acf",
   "metadata": {},
   "source": [
    "**Problem:** In what year did the oldest olympic athlete compete. How old where they?"
   ]
  },
  {
   "cell_type": "code",
   "execution_count": null,
   "id": "652dada3",
   "metadata": {},
   "outputs": [],
   "source": []
  },
  {
   "cell_type": "markdown",
   "id": "232ab690",
   "metadata": {},
   "source": [
    "## Student problems"
   ]
  },
  {
   "cell_type": "markdown",
   "id": "18e722af",
   "metadata": {},
   "source": [
    "**Question 1.1:** Write the function `passing_students` to find and return a list of names of students who have passed both subjects. A student is considered to have passed a subject if their score is 60 or higher."
   ]
  },
  {
   "cell_type": "code",
   "execution_count": null,
   "id": "3b402e23",
   "metadata": {},
   "outputs": [],
   "source": [
    "scores = [(\"Maltilda\", 85, 70), (\"Claudius\", 90, 55), (\"Karl\", 75, 80), (\"Clementine\", 55, 65)]"
   ]
  },
  {
   "cell_type": "code",
   "execution_count": null,
   "id": "10d9abd4",
   "metadata": {},
   "outputs": [],
   "source": [
    "def passing_students(scores):\n",
    "    ...\n",
    "    for ... in ...:\n",
    "        name = ...\n",
    "        math_score = ...\n",
    "        english_score = ...\n",
    "        if ...\n",
    "           ...\n",
    "    return ...\n",
    "    \n",
    "passing_students(scores)"
   ]
  },
  {
   "cell_type": "markdown",
   "id": "1a684127",
   "metadata": {},
   "source": [
    "**Question 1.2** Now do it with list comprehension."
   ]
  },
  {
   "cell_type": "code",
   "execution_count": null,
   "id": "8d849e74",
   "metadata": {},
   "outputs": [],
   "source": [
    "def passing_students(scores):\n",
    "    return [...]\n",
    "passing_students(scores)"
   ]
  },
  {
   "cell_type": "markdown",
   "id": "4069ae0d",
   "metadata": {},
   "source": [
    "**Question 2:** Write a function `extract_domain` to extract the domain names from the email addresses using regular expressions and return them as a list."
   ]
  },
  {
   "cell_type": "code",
   "execution_count": null,
   "id": "14f392a3",
   "metadata": {},
   "outputs": [],
   "source": [
    "emails = \"shrek@meswamp.com, alice@wonderland.com, b.beltcher@burger.net\""
   ]
  },
  {
   "cell_type": "code",
   "execution_count": null,
   "id": "07d236c9",
   "metadata": {},
   "outputs": [],
   "source": [
    "def extract_domain(emails):\n",
    "    pattern = ...\n",
    "    domains = ...\n",
    "    return domains\n",
    "extract_domain(emails)"
   ]
  },
  {
   "cell_type": "markdown",
   "id": "6da7b578",
   "metadata": {},
   "source": [
    "**Question 3:** Use regex to print \"The cat danced under moonlight\""
   ]
  },
  {
   "cell_type": "code",
   "execution_count": null,
   "id": "70e3c159",
   "metadata": {},
   "outputs": [],
   "source": [
    "sentence = 'The purple cat danced gracefully under the moonlight.'\n",
    "new_sentence = ..."
   ]
  },
  {
   "cell_type": "markdown",
   "id": "41f330c8",
   "metadata": {},
   "source": [
    "**Question 4:** Create a regex expression to identify all words that start with a capital letter in a sentence."
   ]
  },
  {
   "cell_type": "code",
   "execution_count": null,
   "id": "def03a78",
   "metadata": {},
   "outputs": [],
   "source": [
    "text_pokemon = \"Pikachu, Bulbasaur, Charmander, Squirtle, and Jigglypuff are some of the original Pokémon introduced in the first generation.\""
   ]
  },
  {
   "cell_type": "code",
   "execution_count": null,
   "id": "71228acd",
   "metadata": {},
   "outputs": [],
   "source": []
  },
  {
   "cell_type": "markdown",
   "id": "37d0a776",
   "metadata": {},
   "source": [
    "**Question 5:** Write the regex expression to find all occurrences of a date in the format `MM/DD/YYYY` within a text."
   ]
  },
  {
   "cell_type": "code",
   "execution_count": null,
   "id": "3c67cc41",
   "metadata": {},
   "outputs": [],
   "source": [
    "text_date = \"The meeting is scheduled for 12/31/2024. Please confirm your availability by 12-25-2024. (Sent: 11/07/2024)\""
   ]
  },
  {
   "cell_type": "markdown",
   "id": "e3fa2f53",
   "metadata": {},
   "source": [
    "**Question 6.1:** Use regex to select all the words that end with a lowercase t."
   ]
  },
  {
   "cell_type": "code",
   "execution_count": null,
   "id": "8b1ae0cc",
   "metadata": {},
   "outputs": [],
   "source": [
    "stri = 'You\\'ve got to be very careful if you don\\'t know where you are going, because you might not get there.'"
   ]
  },
  {
   "cell_type": "markdown",
   "id": "fcf48a54",
   "metadata": {},
   "source": [
    "**Question 6.2:** Select the word 'where' from the string in the previous problem and only the word 'where' without using the word in your regex. Only use regex functions to do this."
   ]
  },
  {
   "cell_type": "code",
   "execution_count": null,
   "id": "9e29d9a0",
   "metadata": {},
   "outputs": [],
   "source": []
  },
  {
   "cell_type": "markdown",
   "id": "9aea3cb8",
   "metadata": {},
   "source": [
    "**Question 7.1:** Make an 3 by 4 matrix, first row contaning 4,16,20,11, second row contaning 7,27,4,16, and third row containing 10,5,17,9.  "
   ]
  },
  {
   "cell_type": "code",
   "execution_count": null,
   "id": "2b3bc130",
   "metadata": {},
   "outputs": [],
   "source": [
    "arr_2d = ...\n",
    "arr_2d"
   ]
  },
  {
   "cell_type": "markdown",
   "id": "6785842e",
   "metadata": {},
   "source": [
    "**Question 7.2:** Figure out which numbers in `arr2d` are divisible by 2 and 3."
   ]
  },
  {
   "cell_type": "code",
   "execution_count": null,
   "id": "02811988",
   "metadata": {},
   "outputs": [],
   "source": []
  },
  {
   "cell_type": "markdown",
   "id": "fe302cb0",
   "metadata": {},
   "source": [
    "**Question 7.3** In the `arr_2d` select the third and fourth column in the second row."
   ]
  },
  {
   "cell_type": "code",
   "execution_count": null,
   "id": "45334036",
   "metadata": {},
   "outputs": [],
   "source": []
  },
  {
   "cell_type": "markdown",
   "id": "08ca35e9-e6d8-41c5-bd36-1d26ca45555b",
   "metadata": {},
   "source": [
    "**Question 8.1** Write a regular expression to find all words that start with the letter \"b\" in the sentence   \n",
    "\"The quick brown fox jumped over the lazy dog.\""
   ]
  },
  {
   "cell_type": "code",
   "execution_count": null,
   "id": "38ebdf51-e968-4435-ba0c-3fb420ec5fe6",
   "metadata": {
    "tags": []
   },
   "outputs": [],
   "source": [
    "sentence = \"The quick brown fox jumped over the lazy dog.\"\n",
    "pattern = ...\n",
    "matches = ...\n",
    "matches"
   ]
  },
  {
   "cell_type": "markdown",
   "id": "19f7b965-85b7-43e4-adeb-1ddf44187a4c",
   "metadata": {
    "tags": []
   },
   "source": [
    "**Question 8.2** Write a regular expression to find all words that end with the letter \"g\" in the sentence \"The quick brown fox jumped over the lazy dog.\""
   ]
  },
  {
   "cell_type": "code",
   "execution_count": null,
   "id": "05dabb81-42a2-4d94-a51b-75418a9bc742",
   "metadata": {
    "tags": []
   },
   "outputs": [],
   "source": [
    "pattern_b = ...\n",
    "matches_b = ...\n",
    "print(matches_b)"
   ]
  },
  {
   "cell_type": "markdown",
   "id": "3a10bfd4-7034-4cac-bc7d-6bc3a9401e83",
   "metadata": {},
   "source": [
    "**Question 8.3:** Create a regular expression to match the phrase \"lazy dog\" in the sentence \"The quick brown fox jumped over the lazy dog.\""
   ]
  },
  {
   "cell_type": "code",
   "execution_count": null,
   "id": "df42b4dd-f3c1-4b85-aaa9-c6b118a115e2",
   "metadata": {
    "tags": []
   },
   "outputs": [],
   "source": [
    "pattern_c = ...\n",
    "matches_c = ...\n",
    "print(matches_c)"
   ]
  },
  {
   "cell_type": "markdown",
   "id": "8a21cebb-fb5e-4ede-9673-6d1823748bcd",
   "metadata": {},
   "source": [
    "**Question 8.4** Write a regular expression to find all words that start with the letter \"t\" in the sentence \"The quick brown fox jumped over the lazy dog.\""
   ]
  },
  {
   "cell_type": "code",
   "execution_count": null,
   "id": "70f73079-9489-4303-87b5-c47edbf46f0d",
   "metadata": {
    "tags": []
   },
   "outputs": [],
   "source": [
    "pattern_d = ...\n",
    "matches_d = ...\n",
    "print(matches_d)"
   ]
  },
  {
   "cell_type": "markdown",
   "id": "38eb28ec-77c4-427d-9c6c-40be4e2059f0",
   "metadata": {},
   "source": [
    "**Question 8.5:** Write a regular expression to find all words that end with the letter \"n\" in the sentence \"The quick brown fox jumped over the lazy dog.\""
   ]
  },
  {
   "cell_type": "code",
   "execution_count": null,
   "id": "55ff5cc6-3e4e-46e1-829f-76628ec8a634",
   "metadata": {
    "tags": []
   },
   "outputs": [],
   "source": [
    "pattern_e = \n",
    "matches_e = ...\n",
    "print(matches_e)"
   ]
  },
  {
   "cell_type": "markdown",
   "id": "f344c19b",
   "metadata": {},
   "source": [
    "**Question 9.1:** Make an array \n",
    "\\begin{bmatrix}\n",
    "4&8&12\\\\\n",
    "5&10&15\n",
    "\\end{bmatrix}\n",
    "\n",
    "Then find the number of dimensions, shape and size of the array."
   ]
  },
  {
   "cell_type": "code",
   "execution_count": null,
   "id": "215f4e45",
   "metadata": {},
   "outputs": [],
   "source": [
    "array = ...\n",
    "dimensions = ...\n",
    "shape = ...\n",
    "size = ..."
   ]
  },
  {
   "cell_type": "markdown",
   "id": "feb32f55",
   "metadata": {},
   "source": [
    "**Question 9.2:** Extract the 2nd column from `array`."
   ]
  },
  {
   "cell_type": "code",
   "execution_count": null,
   "id": "6233b9a8",
   "metadata": {},
   "outputs": [],
   "source": []
  },
  {
   "cell_type": "markdown",
   "id": "33c5833a",
   "metadata": {},
   "source": [
    "**Question 9.3:** Extract the largest number in `array`. "
   ]
  },
  {
   "cell_type": "code",
   "execution_count": null,
   "id": "35e58aeb",
   "metadata": {},
   "outputs": [],
   "source": []
  }
 ],
 "metadata": {
  "kernelspec": {
   "display_name": "Python 3 (ipykernel)",
   "language": "python",
   "name": "python3"
  },
  "language_info": {
   "codemirror_mode": {
    "name": "ipython",
    "version": 3
   },
   "file_extension": ".py",
   "mimetype": "text/x-python",
   "name": "python",
   "nbconvert_exporter": "python",
   "pygments_lexer": "ipython3",
   "version": "3.11.4"
  }
 },
 "nbformat": 4,
 "nbformat_minor": 5
}
