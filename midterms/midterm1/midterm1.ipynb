{
 "cells": [
  {
   "cell_type": "markdown",
   "id": "87c3d8c8",
   "metadata": {},
   "source": [
    "# DATA 271 Midterm 1\n",
    "*Instructor: Bethany Johnson*\n",
    "\n",
    "Please answer the following questions to the best of your ability. You are welcome to use your reference sheet and the help function in Python, but please do not use the internet, books, or demos from class.\n",
    "\n",
    "When you have finished, click File $\\rightarrow$ Download as $\\rightarrow$ Notebook (.ipynb). Submit the notebook file and any csv datasets you used to Canvas in the Midterm 1 assignment. "
   ]
  },
  {
   "cell_type": "markdown",
   "id": "9b771bd7",
   "metadata": {},
   "source": [
    "### Problem 1"
   ]
  },
  {
   "cell_type": "markdown",
   "id": "b6598e55",
   "metadata": {},
   "source": [
    "**Question 1.1:** Suppose you want to study classic books. So far you are considering the following books:\n",
    "- Little Women\n",
    "- The Great Gatsby\n",
    "- Pride and Prejudice\n",
    "- Moby-Dick\n",
    "- Jane Eyre\n",
    "- Frankenstein\n",
    "\n",
    "Create a list of these books in `books_list`. After that, find the length of the list and store it in `length_of_list`. "
   ]
  },
  {
   "cell_type": "code",
   "execution_count": null,
   "id": "d15eafa3",
   "metadata": {},
   "outputs": [],
   "source": [
    "books_list = ...\n",
    "length_of_list = ...\n",
    "\n",
    "print(books_list) # use this line to look at your result\n",
    "print(length_of_list) # use this line to look at your result"
   ]
  },
  {
   "cell_type": "markdown",
   "id": "431130c9",
   "metadata": {},
   "source": [
    "**Question 1.2:** You've decided to also consider the following two books. \n",
    "- Great Expectations\n",
    "- The Pearl\n",
    "\n",
    "Add these to your `books_list`."
   ]
  },
  {
   "cell_type": "code",
   "execution_count": null,
   "id": "e295355a",
   "metadata": {},
   "outputs": [],
   "source": [
    "# type your solution here\n",
    "books_list # use this line to look at your result"
   ]
  },
  {
   "cell_type": "markdown",
   "id": "69ec8353",
   "metadata": {},
   "source": [
    "**Question 1.3:** Sort the books list alphabetical order."
   ]
  },
  {
   "cell_type": "code",
   "execution_count": null,
   "id": "33aa6d92",
   "metadata": {},
   "outputs": [],
   "source": [
    "# type your solution here\n",
    "books_list # use this line to look at your result"
   ]
  },
  {
   "cell_type": "markdown",
   "id": "7272c7ad",
   "metadata": {},
   "source": [
    "**Question 1.4** Your local library has 3 copies of Little Women, 8 copies of Jane Eyre, and 4 copies of Frankenstein available. The other books in your list are not available. Create a dictionary `books_dct` containing only the books that are available at the library. The keys should be the name of the book, the values are the number of copies available. "
   ]
  },
  {
   "cell_type": "code",
   "execution_count": null,
   "id": "49cefcfa",
   "metadata": {},
   "outputs": [],
   "source": [
    "books_dct = ...\n",
    "books_dct"
   ]
  },
  {
   "cell_type": "markdown",
   "id": "aa59fff1",
   "metadata": {},
   "source": [
    "### Problem 2"
   ]
  },
  {
   "cell_type": "markdown",
   "id": "18e722af",
   "metadata": {},
   "source": [
    "**Question 2.1:** You are given the `scores` list below containing tuples with the name of a student, their score in math, and their score in english. Create a list called `passing_students` containing the names of students who have passed both english and math. A student is considered to have passed a subject if their score is 60 or higher. \n",
    "\n",
    "*NOTE:* Do not use list comprehension in your solution to this problem. The next problem will ask you to do the same task with list comprehension. "
   ]
  },
  {
   "cell_type": "code",
   "execution_count": null,
   "id": "3b402e23",
   "metadata": {},
   "outputs": [],
   "source": [
    "scores = [(\"Maltilda\", 85, 70), (\"Claudius\", 90, 55), (\"Karl\", 75, 80), (\"Clementine\", 55, 65)]"
   ]
  },
  {
   "cell_type": "code",
   "execution_count": null,
   "id": "10d9abd4",
   "metadata": {},
   "outputs": [],
   "source": [
    "passing_students = []\n",
    "for ... in ...:\n",
    "    name = ...\n",
    "    math_score = ...\n",
    "    english_score = ...\n",
    "    if ...\n",
    "        ...\n",
    "    \n",
    "passing_students"
   ]
  },
  {
   "cell_type": "markdown",
   "id": "1a684127",
   "metadata": {},
   "source": [
    "**Question 2.2:** Now do the same task as the one in the previous problem, but this time with list comprehension. Your result should be stored in the list `passing_students2`."
   ]
  },
  {
   "cell_type": "code",
   "execution_count": null,
   "id": "8d849e74",
   "metadata": {},
   "outputs": [],
   "source": [
    "passing_students2 = ...\n",
    "passing_students2"
   ]
  },
  {
   "cell_type": "markdown",
   "id": "51934b03",
   "metadata": {},
   "source": [
    "### Problem 3"
   ]
  },
  {
   "cell_type": "markdown",
   "id": "e020702e",
   "metadata": {},
   "source": [
    "**Question 3.1:** You are given the list of tuples `spotify_artists` below, where each tuple contains the name of a Spotify artist and the number of monthly listeners. Use dictionary comprehension to create a dictionary `artist_categories` where the keys are the artist names and the values are *categories* based on their number of monthly listeners:\n",
    "\n",
    "If the number of monthly listeners is less than or equal to 100,000,000, categorize the artist as \"Popular\".\n",
    "If the number of monthly listeners is greater than 100,000,000, categorize the artist as \"Top\"."
   ]
  },
  {
   "cell_type": "code",
   "execution_count": null,
   "id": "615af0ee",
   "metadata": {},
   "outputs": [],
   "source": [
    "spotify_artists = [('The Weeknd', 117000000), \n",
    "                   ('Taylor Swift', 105000000), \n",
    "                   ('Post Malone', 60000000), \n",
    "                   ('Lana Del Ray', 58000000)]\n",
    "\n",
    "artist_categories = ...\n",
    "artist_categories"
   ]
  },
  {
   "cell_type": "markdown",
   "id": "1c6562d1",
   "metadata": {},
   "source": [
    "**Question 3.2** Someone let you know that Dua Lipa is an artist who falls into the \"Popular\" category with 73,000,000 monthly listeners. Add Dua Lipa to your `artist_categories` dictionary."
   ]
  },
  {
   "cell_type": "code",
   "execution_count": null,
   "id": "cb1ea9f8",
   "metadata": {},
   "outputs": [],
   "source": [
    "# type your solution here\n",
    "artist_categories # use this line to look at your result"
   ]
  },
  {
   "cell_type": "markdown",
   "id": "c1417edd",
   "metadata": {},
   "source": [
    "### Problem 4"
   ]
  },
  {
   "cell_type": "markdown",
   "id": "e1281e24",
   "metadata": {},
   "source": [
    "**Question 4.1:** Import the `re` module. "
   ]
  },
  {
   "cell_type": "code",
   "execution_count": null,
   "id": "b84c15b8",
   "metadata": {},
   "outputs": [],
   "source": []
  },
  {
   "cell_type": "markdown",
   "id": "ccef6c6a",
   "metadata": {},
   "source": [
    "**Question 4.2:** A poem is given to you below. Use regular expression to create a list of colors that appear in the poem. \n",
    "\n",
    "*HINT:* Notice that the colors in the poem always come after phrases like \"Color of\" or \"colors of\", but the author of the poem sometimes used the British spelling \"colour\" and other times used the American spelling \"color\"."
   ]
  },
  {
   "cell_type": "code",
   "execution_count": null,
   "id": "c64c5616",
   "metadata": {},
   "outputs": [],
   "source": [
    "poem = \"\"\"\n",
    "The sky was the color of blue and the colour of gray, \n",
    "Resembling a stormy sea.\n",
    "Amidst the clouds, a rainbow appeared,\n",
    "Its vibrant hues stretching across the sky.\n",
    "\n",
    "As the day faded into twilight,\n",
    "The horizon glowed with colours of gold.\n",
    "A stunning exhibitor of nature's beauty,\n",
    "Painting the evening sky with vivid colours.\n",
    "\n",
    "In the distance, a lone figure admired the view,\n",
    "Marveling at the colors of pink in the sunset.\n",
    "Lost in the moment, surrounded by nature's palette,\n",
    "Content in the kaleidoscope of colors before them.\n",
    "\n",
    "Colours of red sprinkled the leaves on the trees,\n",
    "As autumn arrived with its brilliant palette.\n",
    "The landscape transformed into a sea of colours,\n",
    "A breathtaking display of nature's artistry.\n",
    "\n",
    "The flowers in the meadow bloomed in colors of pink,\n",
    "Their petals kissed by the morning dew.\n",
    "A symphony of colours danced in the breeze,\n",
    "Creating a canvas of beauty for all to behold.\n",
    "\"\"\""
   ]
  },
  {
   "cell_type": "code",
   "execution_count": null,
   "id": "a76223a0",
   "metadata": {},
   "outputs": [],
   "source": [
    "colors_in_poem = ...\n",
    "colors_in_poem"
   ]
  },
  {
   "cell_type": "markdown",
   "id": "72714683",
   "metadata": {},
   "source": [
    "### Problem 5"
   ]
  },
  {
   "cell_type": "markdown",
   "id": "37d0a776",
   "metadata": {},
   "source": [
    "**Question 5.1:** Use regular expression to find all occurrences of a date in the format `MM/DD/YYYY` within the text `text_date`. Put your result in a list called `dates`."
   ]
  },
  {
   "cell_type": "code",
   "execution_count": null,
   "id": "3c67cc41",
   "metadata": {},
   "outputs": [],
   "source": [
    "text_date = \"The meeting is scheduled for 12/31/2024. Please confirm your availability by 12-25-2024. (Sent: 11/07/2024)\""
   ]
  },
  {
   "cell_type": "code",
   "execution_count": null,
   "id": "ae29f0f1",
   "metadata": {},
   "outputs": [],
   "source": [
    "dates = ...\n",
    "dates "
   ]
  },
  {
   "cell_type": "markdown",
   "id": "b268d90b",
   "metadata": {},
   "source": [
    "### Problem 6"
   ]
  },
  {
   "cell_type": "markdown",
   "id": "7bd7fd47",
   "metadata": {},
   "source": [
    "**Question 6.1** Import the `numpy` module."
   ]
  },
  {
   "cell_type": "code",
   "execution_count": null,
   "id": "42c089a3",
   "metadata": {},
   "outputs": [],
   "source": []
  },
  {
   "cell_type": "markdown",
   "id": "ba88f363",
   "metadata": {},
   "source": [
    "**Question 6.2:** Create a Numpy array `array1` containing 50 evenly spaced numbers between -3 and 3 (inclusive)."
   ]
  },
  {
   "cell_type": "code",
   "execution_count": null,
   "id": "d131ba44",
   "metadata": {},
   "outputs": [],
   "source": [
    "array1 = ...\n",
    "array1 "
   ]
  },
  {
   "cell_type": "markdown",
   "id": "f4dc2c48",
   "metadata": {},
   "source": [
    "**Question 6.3** Make a copy of `array1` called `array2`."
   ]
  },
  {
   "cell_type": "code",
   "execution_count": null,
   "id": "1a0f7ae8",
   "metadata": {},
   "outputs": [],
   "source": [
    "array2 = ...\n",
    "array2 "
   ]
  },
  {
   "cell_type": "markdown",
   "id": "abf82581",
   "metadata": {},
   "source": [
    "**Question 6.4:** Modify `array2` so that it has 10 rows and 5 columns.  "
   ]
  },
  {
   "cell_type": "code",
   "execution_count": null,
   "id": "12e53b59",
   "metadata": {},
   "outputs": [],
   "source": [
    "array2 = ...\n",
    "array2"
   ]
  },
  {
   "cell_type": "markdown",
   "id": "f5f90fe7",
   "metadata": {},
   "source": [
    "**Question 6.5:** Select every other element of third row in `array2`."
   ]
  },
  {
   "cell_type": "code",
   "execution_count": null,
   "id": "8ea3b6a0",
   "metadata": {},
   "outputs": [],
   "source": []
  },
  {
   "cell_type": "markdown",
   "id": "33d325e7",
   "metadata": {},
   "source": [
    "### Problem 7"
   ]
  },
  {
   "cell_type": "markdown",
   "id": "c3b4d235",
   "metadata": {},
   "source": [
    "**Question 7.1:** You are working on a project where you want to assess the impact of various policies on marginalized communities. You have the data for the name of the policy, the number of people affected by the policy, and the budget allocated per policy in three NumPy arrays below. Use NumPy operations to find the name of the policy that has the highest budget allocation per person affected. Store your result in `max_budget_policy`."
   ]
  },
  {
   "cell_type": "code",
   "execution_count": null,
   "id": "f1038000",
   "metadata": {},
   "outputs": [],
   "source": [
    "policies = np.array(['Affordable Housing', 'Food Assistance Program', 'Education Subsidies', 'Healthcare Expansion'])\n",
    "people_affected_per_policy = np.array([1000, 5000, 2000, 3000]) \n",
    "budget_allocated_per_policy = np.array([1000000, 2000000, 1500000, 1800000]) "
   ]
  },
  {
   "cell_type": "code",
   "execution_count": null,
   "id": "56d6197e",
   "metadata": {},
   "outputs": [],
   "source": [
    "max_budget_policy = ...\n",
    "max_budget_policy "
   ]
  },
  {
   "cell_type": "markdown",
   "id": "225a3391",
   "metadata": {},
   "source": [
    "### Problem 8"
   ]
  },
  {
   "cell_type": "markdown",
   "id": "9348e34d",
   "metadata": {},
   "source": [
    "**Question 8.1:** Import the `pandas` module."
   ]
  },
  {
   "cell_type": "code",
   "execution_count": null,
   "id": "a688e848",
   "metadata": {},
   "outputs": [],
   "source": []
  },
  {
   "cell_type": "markdown",
   "id": "147c6e7b",
   "metadata": {},
   "source": [
    "**Question 8.2:** Go to [this link](https://github.com/bethanyj0/data271_sp24/blob/main/midterms/property_price.csv) to find the `property_price.csv` dataset containing information about property prices in the United States. Import the data as a Pandas DataFrame. "
   ]
  },
  {
   "cell_type": "code",
   "execution_count": null,
   "id": "3ba0a000",
   "metadata": {},
   "outputs": [],
   "source": [
    "df = ...\n",
    "df.head() # use this line to look at the first few lines of the dataframe"
   ]
  },
  {
   "cell_type": "markdown",
   "id": "e37ffe15",
   "metadata": {},
   "source": [
    "**Question 8.3:** Create a subset of the data called `cali_df` containing only the cities in California. How many cities in California are in the dataset? Put your result in `num_cali_cities`.\n",
    "\n",
    "*HINT:* We know a city is in California if the string \"CA\" is in its `City` column. "
   ]
  },
  {
   "cell_type": "code",
   "execution_count": null,
   "id": "2ea6eeac",
   "metadata": {},
   "outputs": [],
   "source": [
    "cali_df = ...\n",
    "cali_df "
   ]
  },
  {
   "cell_type": "code",
   "execution_count": null,
   "id": "6bc1bdb2",
   "metadata": {},
   "outputs": [],
   "source": [
    "num_cali_cities = ...\n",
    "num_cali_cities "
   ]
  },
  {
   "cell_type": "markdown",
   "id": "91ce056d",
   "metadata": {},
   "source": [
    "**Question 8.4:** Use Pandas indexing and methods on your `cali_df` DataFrame to determine the average affordability index in California."
   ]
  },
  {
   "cell_type": "code",
   "execution_count": null,
   "id": "5fec0901",
   "metadata": {},
   "outputs": [],
   "source": [
    "average_cali_affordability = ...\n",
    "average_cali_affordability "
   ]
  },
  {
   "cell_type": "markdown",
   "id": "78b2d1da",
   "metadata": {},
   "source": [
    "**Question 8.5**: Index your `cali_df` DataFrame to determine which city in California has the highest affordability index."
   ]
  },
  {
   "cell_type": "code",
   "execution_count": null,
   "id": "c520f6be",
   "metadata": {},
   "outputs": [],
   "source": [
    "most_affordable_cali_city = ...\n",
    "most_affordable_cali_city "
   ]
  },
  {
   "cell_type": "markdown",
   "id": "b6a962dd",
   "metadata": {},
   "source": [
    "## Congratulations! \n",
    "\n",
    "You finished midterm 1! Don't forget to download your file as a notebook and submit it to Canvas. \n",
    "\n",
    "<img src=\"gus_gonna_jump.JPG\" alt=\"drawing\" width=\"300\"/>"
   ]
  },
  {
   "cell_type": "code",
   "execution_count": null,
   "id": "fa604926",
   "metadata": {},
   "outputs": [],
   "source": []
  }
 ],
 "metadata": {
  "kernelspec": {
   "display_name": "Python 3 (ipykernel)",
   "language": "python",
   "name": "python3"
  },
  "language_info": {
   "codemirror_mode": {
    "name": "ipython",
    "version": 3
   },
   "file_extension": ".py",
   "mimetype": "text/x-python",
   "name": "python",
   "nbconvert_exporter": "python",
   "pygments_lexer": "ipython3",
   "version": "3.11.4"
  }
 },
 "nbformat": 4,
 "nbformat_minor": 5
}
