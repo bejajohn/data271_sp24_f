{
 "cells": [
  {
   "cell_type": "markdown",
   "id": "9264180b",
   "metadata": {},
   "source": [
    "# Activity: Analyzing Compensation data in the CSU system\n",
    "\n",
    "The following dataset includes compensation data for all employees who worked in the California State University System in 2022 [source](https://publicpay.ca.gov/Reports/RawExport.aspx#2022_5). \n",
    "\n",
    "Take some time to play around with this data. See if you find any interesting insights. For example, what did lecturers at Cal Poly Humboldt earn on average in 2022? What about faculty? How about administrators and presidents? Do compensations vary by university? I will walk you through the process of answering some of these questions. Once you have finshed those, come up with your own things to explore.\n",
    "\n",
    "Does anything in your analysis impact your thoughts about the strike?\n",
    "\n",
    "**NOTE:** To get more practice on the topic of this week, we will import the data as a list of lists and work through it with dictionary and list comprehensions (like you did with the data in Lab 2). Once you answer some questions with dictionary and list comprehensions feel free to try other methods. For example, if you prefer to work with this in a table, feel free to use the datascience library that we used in DATA 111. Another option is to use this as an opportunity to get a head start in learning how to work with data in Pandas dataframes. We will be learning Pandas later in this class."
   ]
  },
  {
   "cell_type": "code",
   "execution_count": null,
   "id": "1a415e1e",
   "metadata": {},
   "outputs": [],
   "source": [
    "# Use this cell to import the data\n",
    "\n",
    "from csv import reader #Python's built-in csv module\n",
    "# Open and read the dataset\n",
    "csu_compensation = open('2022_csu.csv')\n",
    "csu_compensation = reader(csu_compensation) # type is csv.reader\n",
    "csu_compensation = list(csu_compensation)\n",
    "csu_compensation"
   ]
  },
  {
   "cell_type": "markdown",
   "id": "83d27911",
   "metadata": {},
   "source": [
    "Take a look at the first element of the `csu_compensation` list. These are the column names."
   ]
  },
  {
   "cell_type": "code",
   "execution_count": null,
   "id": "212b7692",
   "metadata": {},
   "outputs": [],
   "source": []
  },
  {
   "cell_type": "markdown",
   "id": "32bcfa99",
   "metadata": {},
   "source": [
    "Use dictionary comprehension to create a lookup key where they keys are the column names and the values are the index of the column name. "
   ]
  },
  {
   "cell_type": "code",
   "execution_count": null,
   "id": "897e4c3e",
   "metadata": {},
   "outputs": [],
   "source": []
  },
  {
   "cell_type": "markdown",
   "id": "b3c2f9c6",
   "metadata": {},
   "source": [
    "With list comprehension, create a list containing only the lists associated with Cal Poly Humboldt. *Hint:* This is when `EmployerName` is `State Polytech University, Humboldt`."
   ]
  },
  {
   "cell_type": "code",
   "execution_count": null,
   "id": "0bb178f4",
   "metadata": {},
   "outputs": [],
   "source": []
  },
  {
   "cell_type": "markdown",
   "id": "99f826de",
   "metadata": {},
   "source": [
    "With list comprhension, create a list containing only the lists associated with Cal Poly Humboldt lecturers. *Hint*: This is when `Position` includes the word `Lecturer`."
   ]
  },
  {
   "cell_type": "code",
   "execution_count": null,
   "id": "c02ccdee",
   "metadata": {},
   "outputs": [],
   "source": []
  },
  {
   "cell_type": "markdown",
   "id": "3c3b981a",
   "metadata": {},
   "source": [
    "With list comprehension, make a list containing the regular pay for Cal Poly Humboldt lecturers. "
   ]
  },
  {
   "cell_type": "code",
   "execution_count": null,
   "id": "d2112b89",
   "metadata": {},
   "outputs": [],
   "source": []
  },
  {
   "cell_type": "markdown",
   "id": "8b9fe6fe",
   "metadata": {},
   "source": [
    "Compute the average regular pay of Cal Poly Humboldt lecturers. "
   ]
  },
  {
   "cell_type": "code",
   "execution_count": null,
   "id": "f164bd9a",
   "metadata": {},
   "outputs": [],
   "source": []
  },
  {
   "cell_type": "markdown",
   "id": "4535ef38",
   "metadata": {},
   "source": [
    "Repeat similar steps to compute the average regular pay for Cal Poly Humboldt faculty. *Hint*: This is when `Position` includes the word `Faculty`."
   ]
  },
  {
   "cell_type": "code",
   "execution_count": null,
   "id": "4ce40181",
   "metadata": {},
   "outputs": [],
   "source": []
  },
  {
   "cell_type": "markdown",
   "id": "703a3c35",
   "metadata": {},
   "source": [
    "Repeat similar steps to compute the average regular pay for administrators who work in the chancellor's office. *Hint*: This is when `EmployerName` is `Chancellor's Office` and `Position` includes the word `Administrator`."
   ]
  },
  {
   "cell_type": "code",
   "execution_count": null,
   "id": "d7676dcc",
   "metadata": {},
   "outputs": [],
   "source": []
  },
  {
   "cell_type": "markdown",
   "id": "2c5c8912",
   "metadata": {},
   "source": [
    "Repeat similar steps to compute the average regular pay for presidents in the CSU system. *Hint*: This is when `Position` is `President, Range 0`."
   ]
  },
  {
   "cell_type": "code",
   "execution_count": null,
   "id": "d2dfd429",
   "metadata": {},
   "outputs": [],
   "source": []
  },
  {
   "cell_type": "markdown",
   "id": "5ab36e39",
   "metadata": {},
   "source": [
    "Continue exploring the data"
   ]
  },
  {
   "cell_type": "code",
   "execution_count": null,
   "id": "62c140af",
   "metadata": {},
   "outputs": [],
   "source": []
  },
  {
   "cell_type": "markdown",
   "id": "f9300c65",
   "metadata": {},
   "source": [
    "**Bonus:** Try doing the same analysis with a `datascience.Table()` or a `pandas.DataFrame()`."
   ]
  },
  {
   "cell_type": "code",
   "execution_count": null,
   "id": "8df56e25",
   "metadata": {},
   "outputs": [],
   "source": [
    "# If you go for the datascience Table() option, use this cell to import the data\n",
    "\n",
    "from datascience import *\n",
    "\n",
    "csu_compensation_table = Table.read_table(\"2022_csu.csv\")\n",
    "csu_compensation_table.show(10)"
   ]
  },
  {
   "cell_type": "code",
   "execution_count": null,
   "id": "043bfea4",
   "metadata": {},
   "outputs": [],
   "source": [
    "# If you go for the Pandas dataframe option, use this cell to import the data\n",
    "\n",
    "import pandas as pd\n",
    "\n",
    "csu_compensation_df = pd.read_csv('2022_csu.csv')\n",
    "csu_compensation_df"
   ]
  },
  {
   "cell_type": "code",
   "execution_count": null,
   "id": "b3f77579",
   "metadata": {},
   "outputs": [],
   "source": []
  }
 ],
 "metadata": {
  "kernelspec": {
   "display_name": "Python 3 (ipykernel)",
   "language": "python",
   "name": "python3"
  },
  "language_info": {
   "codemirror_mode": {
    "name": "ipython",
    "version": 3
   },
   "file_extension": ".py",
   "mimetype": "text/x-python",
   "name": "python",
   "nbconvert_exporter": "python",
   "pygments_lexer": "ipython3",
   "version": "3.11.4"
  }
 },
 "nbformat": 4,
 "nbformat_minor": 5
}
