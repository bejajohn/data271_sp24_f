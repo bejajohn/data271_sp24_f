{
 "cells": [
  {
   "cell_type": "markdown",
   "id": "9264180b",
   "metadata": {},
   "source": [
    "# Analyzing compensation data in the CSU system\n",
    "\n",
    "The following dataset includes compensation data for all employees who worked in the California State University System in 2022 [source](https://publicpay.ca.gov/Reports/RawExport.aspx#2022_5). \n",
    "\n",
    "Take some time to play around with this data. See if you find any interesting insights. For example, what did lecturers in the csu system earn on average in 2022? What about professors? How about presidents and administrators? How do compensations vary by university? Answer any or all of these questions and come up with your own things to explore as well.\n",
    "\n",
    "Does anything in your analysis impact your thoughts about the faculty strike? We may spend some time discussing your findings when we all return to class. \n",
    "\n",
    "**NOTE:** Feel free to use any method you'd like to explore this data. For example, you can get more practice on the topic of this week by keeping the data stored as a list of lists and working through it with dictionary and list comprehensions (like you did with the data in Lab 2). If you prefer to work with this in a table, feel free to use the datascience library that we used in DATA 111. Another option is to use this as an opportunity to get a head start in learning how to work with data in Pandas dataframes. We will be learning Pandas later in this class."
   ]
  },
  {
   "cell_type": "code",
   "execution_count": null,
   "id": "1a415e1e",
   "metadata": {},
   "outputs": [],
   "source": [
    "# If you go for the list of lists option, use this cell to import the data\n",
    "\n",
    "from csv import reader #Python's built-in csv module\n",
    "# Open and read the dataset\n",
    "csu_compensation = open('2022_csu.csv')\n",
    "csu_compensation = reader(csu_compensation) # type is csv.reader\n",
    "csu_compensation = list(csu_compensation) # SOLUTION\n",
    "csu_compensation"
   ]
  },
  {
   "cell_type": "code",
   "execution_count": null,
   "id": "8df56e25",
   "metadata": {},
   "outputs": [],
   "source": [
    "# If you go for the datascience Table() option, use this cell to import the data\n",
    "\n",
    "from datascience import *\n",
    "\n",
    "csu_compensation_table = Table.read_table(\"2022_csu.csv\")\n",
    "csu_compensation_table.show(10)"
   ]
  },
  {
   "cell_type": "code",
   "execution_count": null,
   "id": "043bfea4",
   "metadata": {},
   "outputs": [],
   "source": [
    "# If you go for the Pandas dataframe option, use this cell to import the data\n",
    "\n",
    "import pandas as pd\n",
    "\n",
    "csu_compensation_df = pd.read_csv('2022_csu.csv')\n",
    "csu_compensation_df"
   ]
  },
  {
   "cell_type": "code",
   "execution_count": null,
   "id": "b3f77579",
   "metadata": {},
   "outputs": [],
   "source": []
  }
 ],
 "metadata": {
  "kernelspec": {
   "display_name": "Python 3 (ipykernel)",
   "language": "python",
   "name": "python3"
  },
  "language_info": {
   "codemirror_mode": {
    "name": "ipython",
    "version": 3
   },
   "file_extension": ".py",
   "mimetype": "text/x-python",
   "name": "python",
   "nbconvert_exporter": "python",
   "pygments_lexer": "ipython3",
   "version": "3.11.4"
  }
 },
 "nbformat": 4,
 "nbformat_minor": 5
}
