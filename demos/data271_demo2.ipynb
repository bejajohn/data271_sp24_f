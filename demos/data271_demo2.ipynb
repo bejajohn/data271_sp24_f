{
 "cells": [
  {
   "cell_type": "markdown",
   "id": "a81f7539",
   "metadata": {},
   "source": [
    "# Data Structures"
   ]
  },
  {
   "cell_type": "markdown",
   "id": "c4170fa4",
   "metadata": {},
   "source": [
    "## Lists"
   ]
  },
  {
   "cell_type": "code",
   "execution_count": null,
   "id": "67b42fde",
   "metadata": {},
   "outputs": [],
   "source": [
    "empty_list = []\n",
    "type(empty_list)"
   ]
  },
  {
   "cell_type": "markdown",
   "id": "e74de163",
   "metadata": {},
   "source": [
    "Lists can store different data types and are ordered (so indexing is possible)."
   ]
  },
  {
   "cell_type": "code",
   "execution_count": null,
   "id": "a47177bf",
   "metadata": {},
   "outputs": [],
   "source": [
    "my_list = [1,'banana', 3]\n",
    "my_list[0]"
   ]
  },
  {
   "cell_type": "markdown",
   "id": "6c4d76cb",
   "metadata": {},
   "source": [
    "Lists are mutable"
   ]
  },
  {
   "cell_type": "code",
   "execution_count": null,
   "id": "93f50d26",
   "metadata": {},
   "outputs": [],
   "source": [
    "# update an element\n",
    "my_list[1] = 'orange'\n",
    "my_list"
   ]
  },
  {
   "cell_type": "markdown",
   "id": "35364b42",
   "metadata": {},
   "source": [
    "**Some useful list methods:** `append` adds an element to the list, `extend()` adds a few elements list, and `remove()` removes the first occurence"
   ]
  },
  {
   "cell_type": "code",
   "execution_count": null,
   "id": "0f49865e",
   "metadata": {},
   "outputs": [],
   "source": [
    "my_list.append('dragon fruit')\n",
    "print(my_list)\n",
    "my_list.extend([3,4])\n",
    "print(my_list)\n",
    "my_list.remove(3)\n",
    "print(my_list)"
   ]
  },
  {
   "cell_type": "markdown",
   "id": "15c27566",
   "metadata": {},
   "source": [
    "**Some useful functions**:"
   ]
  },
  {
   "cell_type": "code",
   "execution_count": null,
   "id": "9a5fdaff",
   "metadata": {},
   "outputs": [],
   "source": [
    "len(my_list)"
   ]
  },
  {
   "cell_type": "code",
   "execution_count": null,
   "id": "0e8e0d2c",
   "metadata": {},
   "outputs": [],
   "source": [
    "max([1,5,2,3,4])"
   ]
  },
  {
   "cell_type": "code",
   "execution_count": null,
   "id": "c4143569",
   "metadata": {},
   "outputs": [],
   "source": [
    "sorted([1,5,2,3,4])"
   ]
  },
  {
   "cell_type": "markdown",
   "id": "ded65d17",
   "metadata": {},
   "source": [
    "**Indexing and slicing**"
   ]
  },
  {
   "cell_type": "code",
   "execution_count": null,
   "id": "7438f584",
   "metadata": {},
   "outputs": [],
   "source": [
    "# Indexing: accessing one element with it's position\n",
    "my_list[0]"
   ]
  },
  {
   "cell_type": "code",
   "execution_count": null,
   "id": "7a4040df",
   "metadata": {},
   "outputs": [],
   "source": [
    "# Indexing: accessing one element with it's position\n",
    "my_list[-1]"
   ]
  },
  {
   "cell_type": "code",
   "execution_count": null,
   "id": "ea574615",
   "metadata": {},
   "outputs": [],
   "source": [
    "# Indexing: accessing one element with it's position\n",
    "my_list[2]"
   ]
  },
  {
   "cell_type": "code",
   "execution_count": null,
   "id": "4c289d9f",
   "metadata": {},
   "outputs": [],
   "source": [
    "# Slicing: accessing more than one element with their positions\n",
    "my_list[0:2]"
   ]
  },
  {
   "cell_type": "code",
   "execution_count": null,
   "id": "5da859ca",
   "metadata": {},
   "outputs": [],
   "source": [
    "# Slicing\n",
    "my_list[:2]"
   ]
  },
  {
   "cell_type": "code",
   "execution_count": null,
   "id": "7b31543f",
   "metadata": {},
   "outputs": [],
   "source": [
    "# Slicing\n",
    "my_list[-3:]"
   ]
  },
  {
   "cell_type": "code",
   "execution_count": null,
   "id": "06d00bee",
   "metadata": {},
   "outputs": [],
   "source": [
    "# Every other\n",
    "my_list[0:5:2]"
   ]
  },
  {
   "cell_type": "code",
   "execution_count": null,
   "id": "f2462f99",
   "metadata": {},
   "outputs": [],
   "source": [
    "# Another way for every other\n",
    "my_list[::2]"
   ]
  },
  {
   "cell_type": "code",
   "execution_count": null,
   "id": "9b35328e",
   "metadata": {},
   "outputs": [],
   "source": [
    "# Reverse order\n",
    "my_list[::-1]"
   ]
  },
  {
   "cell_type": "markdown",
   "id": "7b6cbc42",
   "metadata": {},
   "source": [
    "## Dictionaries"
   ]
  },
  {
   "cell_type": "code",
   "execution_count": null,
   "id": "17e54422",
   "metadata": {},
   "outputs": [],
   "source": [
    "my_dict = {'Edward':1, 'Mike':2, 'Sarah':3, 'Joe':4}\n",
    "type(my_dict)"
   ]
  },
  {
   "cell_type": "markdown",
   "id": "79ca8b77",
   "metadata": {},
   "source": [
    "Dictionaries are unordered"
   ]
  },
  {
   "cell_type": "code",
   "execution_count": null,
   "id": "c0a103dc",
   "metadata": {},
   "outputs": [],
   "source": [
    "# Can't access elements based on their position\n",
    "my_dict[1]"
   ]
  },
  {
   "cell_type": "code",
   "execution_count": null,
   "id": "543e21a6",
   "metadata": {},
   "outputs": [],
   "source": [
    "# Access by key\n",
    "my_dict['Mike']"
   ]
  },
  {
   "cell_type": "markdown",
   "id": "3a6ac0b6",
   "metadata": {},
   "source": [
    "Dictionaries are mutable"
   ]
  },
  {
   "cell_type": "code",
   "execution_count": null,
   "id": "f769696b",
   "metadata": {},
   "outputs": [],
   "source": [
    "del my_dict['Edward']\n",
    "my_dict"
   ]
  },
  {
   "cell_type": "code",
   "execution_count": null,
   "id": "0c85b878",
   "metadata": {},
   "outputs": [],
   "source": [
    "my_dict['Sam'] = 5\n",
    "my_dict"
   ]
  },
  {
   "cell_type": "markdown",
   "id": "f18aee6c",
   "metadata": {},
   "source": [
    "Looking at the keys and values"
   ]
  },
  {
   "cell_type": "code",
   "execution_count": null,
   "id": "dbc4bab6",
   "metadata": {},
   "outputs": [],
   "source": [
    "my_dict.keys()"
   ]
  },
  {
   "cell_type": "code",
   "execution_count": null,
   "id": "66d13499",
   "metadata": {},
   "outputs": [],
   "source": [
    "my_dict.values()"
   ]
  },
  {
   "cell_type": "markdown",
   "id": "149cf1c3",
   "metadata": {},
   "source": [
    "Functions"
   ]
  },
  {
   "cell_type": "code",
   "execution_count": null,
   "id": "09cae71d",
   "metadata": {},
   "outputs": [],
   "source": [
    "len(my_dict)"
   ]
  },
  {
   "cell_type": "code",
   "execution_count": null,
   "id": "ce5a52c2",
   "metadata": {},
   "outputs": [],
   "source": [
    "min(my_dict)"
   ]
  },
  {
   "cell_type": "markdown",
   "id": "f325274b",
   "metadata": {},
   "source": [
    "## Tuples"
   ]
  },
  {
   "cell_type": "code",
   "execution_count": null,
   "id": "fa1f8a88",
   "metadata": {},
   "outputs": [],
   "source": [
    "my_tup = ('c','a','k','e')\n",
    "type(my_tup)"
   ]
  },
  {
   "cell_type": "markdown",
   "id": "fdc58dfa",
   "metadata": {},
   "source": [
    "Tuples are ordered"
   ]
  },
  {
   "cell_type": "code",
   "execution_count": null,
   "id": "ae1b703e",
   "metadata": {},
   "outputs": [],
   "source": [
    "my_tup[0]"
   ]
  },
  {
   "cell_type": "markdown",
   "id": "b5632e9b",
   "metadata": {},
   "source": [
    "Tuples are immutable"
   ]
  },
  {
   "cell_type": "code",
   "execution_count": null,
   "id": "5c9ae2e7",
   "metadata": {
    "scrolled": true
   },
   "outputs": [],
   "source": [
    "# Can't update elements\n",
    "my_tup[2] = 'n'"
   ]
  },
  {
   "cell_type": "markdown",
   "id": "fd8224ba",
   "metadata": {},
   "source": [
    "## Sets"
   ]
  },
  {
   "cell_type": "code",
   "execution_count": null,
   "id": "183e4616",
   "metadata": {},
   "outputs": [],
   "source": [
    "my_set = {1,2,3,4,4}\n",
    "type(my_set)"
   ]
  },
  {
   "cell_type": "markdown",
   "id": "c067a93b",
   "metadata": {},
   "source": [
    "Sets only store unique values"
   ]
  },
  {
   "cell_type": "code",
   "execution_count": null,
   "id": "d7cb76a3",
   "metadata": {},
   "outputs": [],
   "source": [
    "my_set"
   ]
  },
  {
   "cell_type": "code",
   "execution_count": null,
   "id": "85395d0e",
   "metadata": {},
   "outputs": [],
   "source": [
    "# This helps us get unique characters in strings etc.\n",
    "cookie = set('cookie')\n",
    "cookie"
   ]
  },
  {
   "cell_type": "markdown",
   "id": "5fba67f5",
   "metadata": {},
   "source": [
    "Sets are unordered"
   ]
  },
  {
   "cell_type": "code",
   "execution_count": null,
   "id": "9e728db4",
   "metadata": {
    "scrolled": true
   },
   "outputs": [],
   "source": [
    "# Can't access based on position\n",
    "cookie[1]"
   ]
  },
  {
   "cell_type": "markdown",
   "id": "8c0fb9c2",
   "metadata": {},
   "source": [
    "Sets are mutable"
   ]
  },
  {
   "cell_type": "code",
   "execution_count": null,
   "id": "c47ded78",
   "metadata": {},
   "outputs": [],
   "source": [
    "cookie.add(1)\n",
    "cookie"
   ]
  },
  {
   "cell_type": "markdown",
   "id": "67fd4a39",
   "metadata": {},
   "source": [
    "Some useful features about sets"
   ]
  },
  {
   "cell_type": "code",
   "execution_count": null,
   "id": "4ead6fd9",
   "metadata": {},
   "outputs": [],
   "source": [
    "# All values in two sets\n",
    "my_set | cookie"
   ]
  },
  {
   "cell_type": "code",
   "execution_count": null,
   "id": "c0c3cfd5",
   "metadata": {},
   "outputs": [],
   "source": [
    "# or\n",
    "my_set.union(cookie)"
   ]
  },
  {
   "cell_type": "code",
   "execution_count": null,
   "id": "64c95288",
   "metadata": {},
   "outputs": [],
   "source": [
    "# All values that occur in both sets\n",
    "my_set & cookie"
   ]
  },
  {
   "cell_type": "code",
   "execution_count": null,
   "id": "27a2ab43",
   "metadata": {},
   "outputs": [],
   "source": [
    "# or\n",
    "my_set.intersection(cookie)"
   ]
  },
  {
   "cell_type": "markdown",
   "id": "b0480492",
   "metadata": {},
   "source": [
    "## Converting data structures"
   ]
  },
  {
   "cell_type": "code",
   "execution_count": null,
   "id": "3aa90a18",
   "metadata": {},
   "outputs": [],
   "source": [
    "my_list.append(5)\n",
    "my_list"
   ]
  },
  {
   "cell_type": "markdown",
   "id": "45d5b37e",
   "metadata": {},
   "source": [
    "**Lists to other structures:**"
   ]
  },
  {
   "cell_type": "code",
   "execution_count": null,
   "id": "05312a25",
   "metadata": {},
   "outputs": [],
   "source": [
    "list_to_dict = dict(zip(my_list[::2],my_list[1::2]))\n",
    "type(list_to_dict)"
   ]
  },
  {
   "cell_type": "code",
   "execution_count": null,
   "id": "81262c01",
   "metadata": {},
   "outputs": [],
   "source": [
    "list_to_dict"
   ]
  },
  {
   "cell_type": "code",
   "execution_count": null,
   "id": "9d2c9493",
   "metadata": {},
   "outputs": [],
   "source": [
    "list_to_tup = tuple(my_list)\n",
    "type(list_to_tup)"
   ]
  },
  {
   "cell_type": "code",
   "execution_count": null,
   "id": "699c8559",
   "metadata": {},
   "outputs": [],
   "source": [
    "list_to_tup"
   ]
  },
  {
   "cell_type": "code",
   "execution_count": null,
   "id": "329248f4",
   "metadata": {},
   "outputs": [],
   "source": [
    "list_to_set = set(my_list)\n",
    "type(list_to_set)"
   ]
  },
  {
   "cell_type": "code",
   "execution_count": null,
   "id": "5abadbec",
   "metadata": {},
   "outputs": [],
   "source": [
    "list_to_set"
   ]
  },
  {
   "cell_type": "markdown",
   "id": "ccab9881",
   "metadata": {},
   "source": [
    "**Dictionaries to other structures**"
   ]
  },
  {
   "cell_type": "code",
   "execution_count": null,
   "id": "c4256e56",
   "metadata": {},
   "outputs": [],
   "source": [
    "# If you just call list, it only takes the keys\n",
    "dict_to_list = list(my_dict)\n",
    "dict_to_list"
   ]
  },
  {
   "cell_type": "code",
   "execution_count": null,
   "id": "9a0fd6ed",
   "metadata": {},
   "outputs": [],
   "source": [
    "dict_to_list = list(my_dict.items())\n",
    "type(dict_to_list)"
   ]
  },
  {
   "cell_type": "code",
   "execution_count": null,
   "id": "c81670ed",
   "metadata": {},
   "outputs": [],
   "source": [
    "dict_to_list"
   ]
  },
  {
   "cell_type": "code",
   "execution_count": null,
   "id": "ee3a4998",
   "metadata": {},
   "outputs": [],
   "source": [
    "dict_to_tup = tuple(my_dict.items())\n",
    "type(dict_to_tup)"
   ]
  },
  {
   "cell_type": "code",
   "execution_count": null,
   "id": "bfd6adc6",
   "metadata": {},
   "outputs": [],
   "source": [
    "dict_to_tup"
   ]
  },
  {
   "cell_type": "code",
   "execution_count": null,
   "id": "79d65571",
   "metadata": {},
   "outputs": [],
   "source": [
    "dict_to_set = set(my_dict.items())\n",
    "type(dict_to_set)"
   ]
  },
  {
   "cell_type": "code",
   "execution_count": null,
   "id": "7a73b9c5",
   "metadata": {},
   "outputs": [],
   "source": [
    "dict_to_set"
   ]
  },
  {
   "cell_type": "markdown",
   "id": "4229ceee",
   "metadata": {},
   "source": [
    "**Tuples to other structures:**"
   ]
  },
  {
   "cell_type": "code",
   "execution_count": null,
   "id": "b7531adc",
   "metadata": {},
   "outputs": [],
   "source": [
    "tup_to_list = list(my_tup)\n",
    "type(tup_to_list)"
   ]
  },
  {
   "cell_type": "code",
   "execution_count": null,
   "id": "36ecd269",
   "metadata": {},
   "outputs": [],
   "source": [
    "tup_to_list"
   ]
  },
  {
   "cell_type": "code",
   "execution_count": null,
   "id": "dfd5c24a",
   "metadata": {},
   "outputs": [],
   "source": [
    "tup_to_dict = dict(zip(my_tup[::2],my_tup[1::2]))\n",
    "type(tup_to_dict)"
   ]
  },
  {
   "cell_type": "code",
   "execution_count": null,
   "id": "415790ee",
   "metadata": {},
   "outputs": [],
   "source": [
    "tup_to_dict"
   ]
  },
  {
   "cell_type": "code",
   "execution_count": null,
   "id": "b073e781",
   "metadata": {},
   "outputs": [],
   "source": [
    "tup_to_set = set(my_tup)\n",
    "type(tup_to_set)"
   ]
  },
  {
   "cell_type": "code",
   "execution_count": null,
   "id": "3f2f6b3f",
   "metadata": {},
   "outputs": [],
   "source": [
    "tup_to_set"
   ]
  },
  {
   "cell_type": "markdown",
   "id": "8059bdb0",
   "metadata": {},
   "source": [
    "**Sets to other structures:**"
   ]
  },
  {
   "cell_type": "code",
   "execution_count": null,
   "id": "cbeee8eb",
   "metadata": {},
   "outputs": [],
   "source": [
    "set_to_list = list(my_set)\n",
    "type(set_to_list)"
   ]
  },
  {
   "cell_type": "code",
   "execution_count": null,
   "id": "4fff6b09",
   "metadata": {},
   "outputs": [],
   "source": [
    "set_to_list"
   ]
  },
  {
   "cell_type": "code",
   "execution_count": null,
   "id": "ae57f7ba",
   "metadata": {},
   "outputs": [],
   "source": [
    "set_to_dict = dict.fromkeys(my_set)\n",
    "type(set_to_dict)"
   ]
  },
  {
   "cell_type": "code",
   "execution_count": null,
   "id": "11e5f45f",
   "metadata": {},
   "outputs": [],
   "source": [
    "set_to_dict"
   ]
  },
  {
   "cell_type": "code",
   "execution_count": null,
   "id": "a354d5da",
   "metadata": {},
   "outputs": [],
   "source": [
    "set_to_tup = tuple(my_set)\n",
    "type(set_to_tup)"
   ]
  },
  {
   "cell_type": "code",
   "execution_count": null,
   "id": "9fdee6ec",
   "metadata": {},
   "outputs": [],
   "source": [
    "set_to_tup"
   ]
  }
 ],
 "metadata": {
  "kernelspec": {
   "display_name": "Python 3 (ipykernel)",
   "language": "python",
   "name": "python3"
  },
  "language_info": {
   "codemirror_mode": {
    "name": "ipython",
    "version": 3
   },
   "file_extension": ".py",
   "mimetype": "text/x-python",
   "name": "python",
   "nbconvert_exporter": "python",
   "pygments_lexer": "ipython3",
   "version": "3.11.4"
  }
 },
 "nbformat": 4,
 "nbformat_minor": 5
}
