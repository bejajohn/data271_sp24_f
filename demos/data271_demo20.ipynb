{
 "cells": [
  {
   "cell_type": "markdown",
   "id": "bd035d4a",
   "metadata": {},
   "source": [
    "# EDA and Intro to Seaborn\n",
    "If you want to type along with me, use [this notebook](https://humboldt.cloudbank.2i2c.cloud/hub/user-redirect/git-pull?repo=https%3A%2F%2Fgithub.com%2Fbethanyj0%2Fdata271_sp24&branch=main&urlpath=tree%2Fdata271_sp24%2Fdemos%2Fdata271_demo20_live.ipynb) instead. \n",
    "If you don't want to type and want to follow along just by executing the cells, stay in this notebook. "
   ]
  },
  {
   "cell_type": "code",
   "execution_count": null,
   "id": "26e99e3b",
   "metadata": {},
   "outputs": [],
   "source": [
    "import numpy as np\n",
    "import pandas as pd\n",
    "import matplotlib.pyplot as plt\n",
    "import warnings \n",
    "warnings.filterwarnings('ignore') "
   ]
  },
  {
   "cell_type": "markdown",
   "id": "90cf1a94",
   "metadata": {},
   "source": [
    "## Seaborn basics"
   ]
  },
  {
   "cell_type": "code",
   "execution_count": null,
   "id": "c3ecf521",
   "metadata": {},
   "outputs": [],
   "source": [
    "# Whenever we want to use seaborn for visualization\n",
    "import seaborn as sns\n",
    "sns.set_style(\"darkgrid\")"
   ]
  },
  {
   "cell_type": "code",
   "execution_count": null,
   "id": "fde0e8c9",
   "metadata": {},
   "outputs": [],
   "source": [
    "iris = sns.load_dataset('iris')\n",
    "iris"
   ]
  },
  {
   "cell_type": "code",
   "execution_count": null,
   "id": "b6738408",
   "metadata": {},
   "outputs": [],
   "source": [
    "# To make a scatter plot\n",
    "sns.scatterplot(data = iris, x = 'petal_length', y = 'petal_width'); "
   ]
  },
  {
   "cell_type": "code",
   "execution_count": null,
   "id": "4dc780cf",
   "metadata": {},
   "outputs": [],
   "source": [
    "# Customizing your scatter plot: change the color of all the points to another color\n",
    "sns.scatterplot(data = iris, x = 'petal_length', y = 'petal_width', color = 'r'); "
   ]
  },
  {
   "cell_type": "code",
   "execution_count": null,
   "id": "e2961f09",
   "metadata": {},
   "outputs": [],
   "source": [
    "# Customizing your scatter plot: change the color of points to map to another variable (like an aesthetic map)\n",
    "sns.scatterplot(data = iris, x = 'petal_length', y = 'petal_width', hue = 'species'); "
   ]
  },
  {
   "cell_type": "code",
   "execution_count": null,
   "id": "6b42be46",
   "metadata": {},
   "outputs": [],
   "source": [
    "# Customizing your scatter plot: change the shape of points to map to another variable (like an aesthetic map)\n",
    "sns.scatterplot(data = iris, x = 'petal_length', y = 'petal_width', style = 'species'); "
   ]
  },
  {
   "cell_type": "code",
   "execution_count": null,
   "id": "010a6b91",
   "metadata": {},
   "outputs": [],
   "source": [
    "# adjusting axis scales\n",
    "fig = sns.scatterplot(data = iris, x = 'petal_length', y = 'petal_width', hue = 'species')\n",
    "fig.set_xlim(0,8);"
   ]
  },
  {
   "cell_type": "code",
   "execution_count": null,
   "id": "29de8451",
   "metadata": {},
   "outputs": [],
   "source": [
    "# adjusting color scales\n",
    "sns.scatterplot(data = iris, x = 'petal_length', y = 'petal_width', hue = 'species', palette = 'colorblind');"
   ]
  },
  {
   "cell_type": "code",
   "execution_count": null,
   "id": "3f2a4c67",
   "metadata": {},
   "outputs": [],
   "source": [
    "# Facetting\n",
    "# Create a facet grid\n",
    "fig = sns.FacetGrid(iris, col=\"species\", hue = 'species')\n",
    "# map your scatter plots to the grid\n",
    "fig.map(sns.scatterplot, \"petal_length\", \"petal_width\");"
   ]
  },
  {
   "cell_type": "code",
   "execution_count": null,
   "id": "5ebbfd0d",
   "metadata": {},
   "outputs": [],
   "source": [
    "# line plots (NOTE: THIS IS NOT A CASE WHERE YOU SHOULD USE A LINE PLOT)\n",
    "sns.lineplot(data = iris, x = 'petal_length', y = 'petal_width', hue = 'species'); "
   ]
  },
  {
   "cell_type": "code",
   "execution_count": null,
   "id": "94f71b2e",
   "metadata": {},
   "outputs": [],
   "source": [
    "# barplots to look at averages of a numeric variable vs a categorical variable\n",
    "sns.barplot(data = iris, x = 'species', y='petal_length', errorbar = None); "
   ]
  },
  {
   "cell_type": "code",
   "execution_count": null,
   "id": "a2f76d61",
   "metadata": {},
   "outputs": [],
   "source": [
    "# barplots to just look at counts\n",
    "sns.countplot(data = iris, x = 'species'); "
   ]
  },
  {
   "cell_type": "code",
   "execution_count": null,
   "id": "82f9e0e7",
   "metadata": {},
   "outputs": [],
   "source": [
    "# Histograms\n",
    "sns.histplot(data = iris, x = 'petal_length');"
   ]
  },
  {
   "cell_type": "markdown",
   "id": "19c88bd4",
   "metadata": {},
   "source": [
    "## Visualizations for EDA"
   ]
  },
  {
   "cell_type": "code",
   "execution_count": null,
   "id": "31e96673",
   "metadata": {},
   "outputs": [],
   "source": [
    "# Pairplots show the relationship between numeric variables\n",
    "sns.pairplot(data = iris);"
   ]
  },
  {
   "cell_type": "code",
   "execution_count": null,
   "id": "279f5840",
   "metadata": {
    "scrolled": false
   },
   "outputs": [],
   "source": [
    "# Can map other variables to aesthetic properties\n",
    "sns.pairplot(data = iris, hue='species');"
   ]
  },
  {
   "cell_type": "code",
   "execution_count": null,
   "id": "494b22db",
   "metadata": {},
   "outputs": [],
   "source": [
    "# boxplots can be used to look at he distribution of data in different categories\n",
    "sns.boxplot(data = iris);"
   ]
  },
  {
   "cell_type": "code",
   "execution_count": null,
   "id": "a3801f5a",
   "metadata": {},
   "outputs": [],
   "source": [
    "# boxplots can also be used with a categorical x and a numerical y\n",
    "sns.boxplot(data = iris, x = 'species',y='sepal_width');"
   ]
  },
  {
   "cell_type": "code",
   "execution_count": null,
   "id": "aef7136c",
   "metadata": {},
   "outputs": [],
   "source": [
    "# heatmaps can be used to study correlations\n",
    "corrmat = iris.corr() # make correlation matrix\n",
    "sns.heatmap(data = corrmat, annot = True);"
   ]
  },
  {
   "cell_type": "markdown",
   "id": "05183b24",
   "metadata": {},
   "source": [
    "## Practice: Exploratory Data Analysis on Covid Data"
   ]
  },
  {
   "cell_type": "code",
   "execution_count": null,
   "id": "dc42048d",
   "metadata": {},
   "outputs": [],
   "source": [
    "# import covid data\n",
    "covid = pd.read_csv('https://raw.githubusercontent.com/PacktPublishing/Python-Data-Cleaning-Cookbook/master/Chapter05/data/covidtotals.csv')\n",
    "covid.head()"
   ]
  },
  {
   "cell_type": "code",
   "execution_count": null,
   "id": "9efbd303",
   "metadata": {},
   "outputs": [],
   "source": [
    "# begin exploring the dataset\n",
    "covid_desc = covid.describe()\n",
    "covid_desc"
   ]
  },
  {
   "cell_type": "code",
   "execution_count": null,
   "id": "2d6606fa",
   "metadata": {},
   "outputs": [],
   "source": [
    "covid.info()"
   ]
  },
  {
   "cell_type": "code",
   "execution_count": null,
   "id": "9d7307ad",
   "metadata": {
    "scrolled": false
   },
   "outputs": [],
   "source": [
    "# Check for na values\n",
    "covid.isna()"
   ]
  },
  {
   "cell_type": "code",
   "execution_count": null,
   "id": "f4627f8b",
   "metadata": {},
   "outputs": [],
   "source": [
    "# Summarize number of na's by column\n",
    "nas = covid.isna().sum()\n",
    "nas"
   ]
  },
  {
   "cell_type": "code",
   "execution_count": null,
   "id": "2ece6915",
   "metadata": {},
   "outputs": [],
   "source": [
    "# drop columns with na values\n",
    "covid = covid.dropna(axis=1)\n",
    "covid"
   ]
  },
  {
   "cell_type": "code",
   "execution_count": null,
   "id": "4d50e303",
   "metadata": {},
   "outputs": [],
   "source": [
    "# check if there are any duplicate rows\n",
    "covid.duplicated().sum()"
   ]
  },
  {
   "cell_type": "code",
   "execution_count": null,
   "id": "e2280712",
   "metadata": {},
   "outputs": [],
   "source": [
    "# begin visualizing for insights\n",
    "sns.pairplot(data = covid);"
   ]
  },
  {
   "cell_type": "code",
   "execution_count": null,
   "id": "dc3f7ce8",
   "metadata": {
    "scrolled": true
   },
   "outputs": [],
   "source": [
    "# boxplots to look at distributions\n",
    "plt.figure(figsize=(12,4))\n",
    "sns.boxplot(x = covid.region,y=covid.total_deaths_pm)\n",
    "plt.xticks(rotation=45)\n",
    "plt.show()"
   ]
  },
  {
   "cell_type": "code",
   "execution_count": null,
   "id": "ed11baa6",
   "metadata": {},
   "outputs": [],
   "source": [
    "# heatmaps to look at correlations\n",
    "corrmatc = covid.corr() # make correlation matrix\n",
    "sns.heatmap(data = corrmatc, annot = True);"
   ]
  },
  {
   "cell_type": "markdown",
   "id": "f334ac7e",
   "metadata": {},
   "source": [
    "## Activity"
   ]
  },
  {
   "cell_type": "markdown",
   "id": "e8c88216",
   "metadata": {},
   "source": [
    "1. What did the inital visualizations above reveal that was surprising or interesting? Create additional Seaborn visualizations to explore this more. "
   ]
  },
  {
   "cell_type": "code",
   "execution_count": null,
   "id": "285a1c22",
   "metadata": {},
   "outputs": [],
   "source": []
  }
 ],
 "metadata": {
  "kernelspec": {
   "display_name": "Python 3 (ipykernel)",
   "language": "python",
   "name": "python3"
  },
  "language_info": {
   "codemirror_mode": {
    "name": "ipython",
    "version": 3
   },
   "file_extension": ".py",
   "mimetype": "text/x-python",
   "name": "python",
   "nbconvert_exporter": "python",
   "pygments_lexer": "ipython3",
   "version": "3.11.4"
  }
 },
 "nbformat": 4,
 "nbformat_minor": 5
}
