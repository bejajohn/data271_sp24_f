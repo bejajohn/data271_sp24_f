{
 "cells": [
  {
   "cell_type": "markdown",
   "id": "5791e92f",
   "metadata": {},
   "source": [
    "# Method Chaining with NumPy and Intro to Pandas\n",
    "If you want to type along with me, use [this notebook](https://humboldt.cloudbank.2i2c.cloud/hub/user-redirect/git-pull?repo=https%3A%2F%2Fgithub.com%2Fbethanyj0%2Fdata271_sp24&branch=main&urlpath=tree%2Fdata271_sp24%2Fdemos%2Fdata271_demo11_live.ipynb) instead. \n",
    "If you don't want to type and want to follow along just by executing the cells, stay in this notebook. "
   ]
  },
  {
   "cell_type": "code",
   "execution_count": 1,
   "id": "1fb3a498",
   "metadata": {},
   "outputs": [],
   "source": [
    "# Whenever you want to use numpy import it with the following code\n",
    "import numpy as np"
   ]
  },
  {
   "cell_type": "markdown",
   "id": "5a0747e9",
   "metadata": {},
   "source": [
    "### NumPy Methods"
   ]
  },
  {
   "cell_type": "code",
   "execution_count": 23,
   "id": "8d7c6c92",
   "metadata": {},
   "outputs": [
    {
     "data": {
      "text/plain": [
       "array([ 8,  7, 13, 13,  4,  5, 13, 20, 11,  5,  4, 13, 19,  9, 17])"
      ]
     },
     "execution_count": 23,
     "metadata": {},
     "output_type": "execute_result"
    }
   ],
   "source": [
    "arr = np.random.randint(1,21,15)\n",
    "arr"
   ]
  },
  {
   "cell_type": "code",
   "execution_count": 146,
   "id": "207b8bad",
   "metadata": {},
   "outputs": [
    {
     "data": {
      "text/plain": [
       "20"
      ]
     },
     "execution_count": 146,
     "metadata": {},
     "output_type": "execute_result"
    }
   ],
   "source": [
    "# find the max\n",
    "arr.max()"
   ]
  },
  {
   "cell_type": "code",
   "execution_count": 147,
   "id": "4b1dd193",
   "metadata": {},
   "outputs": [
    {
     "data": {
      "text/plain": [
       "4"
      ]
     },
     "execution_count": 147,
     "metadata": {},
     "output_type": "execute_result"
    }
   ],
   "source": [
    "# find the min\n",
    "arr.min()"
   ]
  },
  {
   "cell_type": "code",
   "execution_count": 148,
   "id": "3f1bb53a",
   "metadata": {},
   "outputs": [
    {
     "data": {
      "text/plain": [
       "7"
      ]
     },
     "execution_count": 148,
     "metadata": {},
     "output_type": "execute_result"
    }
   ],
   "source": [
    "# find the index of the maximum\n",
    "arr.argmax()"
   ]
  },
  {
   "cell_type": "code",
   "execution_count": 149,
   "id": "77aa47e9",
   "metadata": {},
   "outputs": [
    {
     "data": {
      "text/plain": [
       "4"
      ]
     },
     "execution_count": 149,
     "metadata": {},
     "output_type": "execute_result"
    }
   ],
   "source": [
    "# find the index of the maximum\n",
    "arr.argmin()"
   ]
  },
  {
   "cell_type": "code",
   "execution_count": 150,
   "id": "12140f47",
   "metadata": {},
   "outputs": [
    {
     "data": {
      "text/plain": [
       "10.733333333333333"
      ]
     },
     "execution_count": 150,
     "metadata": {},
     "output_type": "execute_result"
    }
   ],
   "source": [
    "# find the mean\n",
    "arr.mean()"
   ]
  },
  {
   "cell_type": "code",
   "execution_count": 151,
   "id": "fd28813d",
   "metadata": {},
   "outputs": [
    {
     "data": {
      "text/plain": [
       "5.131168374638362"
      ]
     },
     "execution_count": 151,
     "metadata": {},
     "output_type": "execute_result"
    }
   ],
   "source": [
    "# find the standard deviation\n",
    "arr.std()"
   ]
  },
  {
   "cell_type": "code",
   "execution_count": 152,
   "id": "dc6f13c3",
   "metadata": {},
   "outputs": [
    {
     "data": {
      "text/plain": [
       "161"
      ]
     },
     "execution_count": 152,
     "metadata": {},
     "output_type": "execute_result"
    }
   ],
   "source": [
    "# add everything up\n",
    "arr.sum()"
   ]
  },
  {
   "cell_type": "code",
   "execution_count": 153,
   "id": "be941739",
   "metadata": {},
   "outputs": [
    {
     "data": {
      "text/plain": [
       "array([  8,  15,  28,  41,  45,  50,  63,  83,  94,  99, 103, 116, 135,\n",
       "       144, 161])"
      ]
     },
     "execution_count": 153,
     "metadata": {},
     "output_type": "execute_result"
    }
   ],
   "source": [
    "# get cumulative sum element by element\n",
    "arr.cumsum()"
   ]
  },
  {
   "cell_type": "markdown",
   "id": "8313abc5",
   "metadata": {},
   "source": [
    "### NumPy Methods on 2d arrays"
   ]
  },
  {
   "cell_type": "code",
   "execution_count": 154,
   "id": "f24b0f97",
   "metadata": {},
   "outputs": [
    {
     "data": {
      "text/plain": [
       "array([[ 8, 11,  1, 16,  9],\n",
       "       [17,  5, 13, 18, 17],\n",
       "       [12,  6,  8, 12, 17],\n",
       "       [12, 12,  6, 16,  7]])"
      ]
     },
     "execution_count": 154,
     "metadata": {},
     "output_type": "execute_result"
    }
   ],
   "source": [
    "arr2d = np.random.randint(1,20,(4,5))\n",
    "arr2d"
   ]
  },
  {
   "cell_type": "code",
   "execution_count": 155,
   "id": "4da262cf",
   "metadata": {},
   "outputs": [
    {
     "data": {
      "text/plain": [
       "18"
      ]
     },
     "execution_count": 155,
     "metadata": {},
     "output_type": "execute_result"
    }
   ],
   "source": [
    "# get max\n",
    "arr2d.max()"
   ]
  },
  {
   "cell_type": "code",
   "execution_count": 156,
   "id": "711cc27e",
   "metadata": {},
   "outputs": [
    {
     "data": {
      "text/plain": [
       "array([17, 12, 13, 18, 17])"
      ]
     },
     "execution_count": 156,
     "metadata": {},
     "output_type": "execute_result"
    }
   ],
   "source": [
    "# get max along axis of each column\n",
    "arr2d.max(axis=0)"
   ]
  },
  {
   "cell_type": "code",
   "execution_count": 157,
   "id": "33a3bf2a",
   "metadata": {},
   "outputs": [
    {
     "data": {
      "text/plain": [
       "array([16, 18, 17, 16])"
      ]
     },
     "execution_count": 157,
     "metadata": {},
     "output_type": "execute_result"
    }
   ],
   "source": [
    "# get max of each row\n",
    "arr2d.max(axis=1)"
   ]
  },
  {
   "cell_type": "code",
   "execution_count": 158,
   "id": "c688b718",
   "metadata": {},
   "outputs": [
    {
     "data": {
      "text/plain": [
       "8"
      ]
     },
     "execution_count": 158,
     "metadata": {},
     "output_type": "execute_result"
    }
   ],
   "source": [
    "# get the index of the maximum element\n",
    "arr2d.argmax()"
   ]
  },
  {
   "cell_type": "code",
   "execution_count": 159,
   "id": "6c63c4b5",
   "metadata": {},
   "outputs": [
    {
     "data": {
      "text/plain": [
       "array([1, 3, 1, 1, 1])"
      ]
     },
     "execution_count": 159,
     "metadata": {},
     "output_type": "execute_result"
    }
   ],
   "source": [
    "# get the index of the maximum element in each column\n",
    "arr2d.argmax(axis=0)"
   ]
  },
  {
   "cell_type": "code",
   "execution_count": 46,
   "id": "56c10986",
   "metadata": {},
   "outputs": [
    {
     "data": {
      "text/plain": [
       "array([2, 0, 2, 4])"
      ]
     },
     "execution_count": 46,
     "metadata": {},
     "output_type": "execute_result"
    }
   ],
   "source": [
    "# get the index of the maximum element in each row\n",
    "arr2d.argmax(axis=1)"
   ]
  },
  {
   "cell_type": "markdown",
   "id": "38dd2b53",
   "metadata": {},
   "source": [
    "### Method chaining"
   ]
  },
  {
   "cell_type": "code",
   "execution_count": 53,
   "id": "6339c772",
   "metadata": {},
   "outputs": [
    {
     "data": {
      "text/plain": [
       "array([[ 6, 11, 13, 10, 13, 19,  6, 18, 11,  4],\n",
       "       [ 4,  3, 16,  7, 11,  3, 14,  4,  3, 19]])"
      ]
     },
     "execution_count": 53,
     "metadata": {},
     "output_type": "execute_result"
    }
   ],
   "source": [
    "# start by reshaping\n",
    "arr2d.reshape((2,10))"
   ]
  },
  {
   "cell_type": "code",
   "execution_count": 54,
   "id": "a52f3eb8",
   "metadata": {},
   "outputs": [
    {
     "data": {
      "text/plain": [
       "array([ 6, 11, 16, 10, 13, 19, 14, 18, 11, 19])"
      ]
     },
     "execution_count": 54,
     "metadata": {},
     "output_type": "execute_result"
    }
   ],
   "source": [
    "# chain: reshape and then take the max of each column\n",
    "arr2d.reshape((2,10)).max(axis=0)"
   ]
  },
  {
   "cell_type": "code",
   "execution_count": 57,
   "id": "60fe9a22",
   "metadata": {},
   "outputs": [
    {
     "data": {
      "text/plain": [
       "13.7"
      ]
     },
     "execution_count": 57,
     "metadata": {},
     "output_type": "execute_result"
    }
   ],
   "source": [
    "# chain: reshape and then take the max of each column then get the average of those\n",
    "arr2d.reshape((2,10)).max(axis=0).mean()"
   ]
  },
  {
   "cell_type": "code",
   "execution_count": 160,
   "id": "cf40ee4a",
   "metadata": {},
   "outputs": [
    {
     "data": {
      "text/plain": [
       "14.1"
      ]
     },
     "execution_count": 160,
     "metadata": {},
     "output_type": "execute_result"
    }
   ],
   "source": [
    "# when your chains start getting long \n",
    "(arr2d.reshape((2,10))\n",
    " .max(axis=0)\n",
    " .mean())"
   ]
  },
  {
   "cell_type": "code",
   "execution_count": 161,
   "id": "10255afa",
   "metadata": {},
   "outputs": [
    {
     "data": {
      "text/plain": [
       "array([[ 8, 11,  1, 16,  9],\n",
       "       [17,  5, 13, 18, 17],\n",
       "       [12,  6,  8, 12, 17],\n",
       "       [12, 12,  6, 16,  7]])"
      ]
     },
     "execution_count": 161,
     "metadata": {},
     "output_type": "execute_result"
    }
   ],
   "source": [
    "# reminder that none of this changes the original array\n",
    "arr2d"
   ]
  },
  {
   "cell_type": "markdown",
   "id": "ff2981f8",
   "metadata": {},
   "source": [
    "## Pandas"
   ]
  },
  {
   "cell_type": "code",
   "execution_count": 62,
   "id": "dd7c23b8",
   "metadata": {},
   "outputs": [],
   "source": [
    "# whenever we want to use Pandas\n",
    "import pandas as pd"
   ]
  },
  {
   "cell_type": "code",
   "execution_count": 177,
   "id": "36d7f816",
   "metadata": {},
   "outputs": [
    {
     "data": {
      "text/plain": [
       "array([ 1,  3,  5,  7,  9, 11, 13, 15, 17, 19])"
      ]
     },
     "execution_count": 177,
     "metadata": {},
     "output_type": "execute_result"
    }
   ],
   "source": [
    "evens_array = np.arange(1,20,2)\n",
    "evens_array"
   ]
  },
  {
   "cell_type": "code",
   "execution_count": 178,
   "id": "37f90e66",
   "metadata": {},
   "outputs": [
    {
     "data": {
      "text/plain": [
       "0     1\n",
       "1     3\n",
       "2     5\n",
       "3     7\n",
       "4     9\n",
       "5    11\n",
       "6    13\n",
       "7    15\n",
       "8    17\n",
       "9    19\n",
       "Name: even numbers, dtype: int64"
      ]
     },
     "execution_count": 178,
     "metadata": {},
     "output_type": "execute_result"
    }
   ],
   "source": [
    "evens_series = pd.Series(evens_array,name = \"even numbers\")\n",
    "evens_series"
   ]
  },
  {
   "cell_type": "code",
   "execution_count": 126,
   "id": "9c3a0d12",
   "metadata": {},
   "outputs": [],
   "source": [
    "lst = ['data','science','math']"
   ]
  },
  {
   "cell_type": "code",
   "execution_count": 127,
   "id": "8e5100b3",
   "metadata": {},
   "outputs": [
    {
     "data": {
      "text/plain": [
       "0       data\n",
       "1    science\n",
       "2       math\n",
       "dtype: object"
      ]
     },
     "execution_count": 127,
     "metadata": {},
     "output_type": "execute_result"
    }
   ],
   "source": [
    "pd.Series(lst)"
   ]
  },
  {
   "cell_type": "code",
   "execution_count": 170,
   "id": "bf71e705",
   "metadata": {
    "scrolled": true
   },
   "outputs": [],
   "source": [
    "tup = (2,3,5)\n",
    "tup_series = pd.Series(tup)"
   ]
  },
  {
   "cell_type": "code",
   "execution_count": 172,
   "id": "e7959965",
   "metadata": {},
   "outputs": [
    {
     "data": {
      "text/plain": [
       "two      2\n",
       "three    3\n",
       "five     5\n",
       "dtype: int64"
      ]
     },
     "execution_count": 172,
     "metadata": {},
     "output_type": "execute_result"
    }
   ],
   "source": [
    "tup_series.index = ['two','three','five']\n",
    "tup_series"
   ]
  },
  {
   "cell_type": "code",
   "execution_count": 173,
   "id": "844f5790",
   "metadata": {},
   "outputs": [
    {
     "data": {
      "text/plain": [
       "2"
      ]
     },
     "execution_count": 173,
     "metadata": {},
     "output_type": "execute_result"
    }
   ],
   "source": [
    "tup_series['two']"
   ]
  },
  {
   "cell_type": "markdown",
   "id": "0b4fdf40",
   "metadata": {},
   "source": [
    "### Series attributes"
   ]
  },
  {
   "cell_type": "code",
   "execution_count": 174,
   "id": "38063e4a",
   "metadata": {},
   "outputs": [
    {
     "data": {
      "text/plain": [
       "dtype('int64')"
      ]
     },
     "execution_count": 174,
     "metadata": {},
     "output_type": "execute_result"
    }
   ],
   "source": [
    "evens_series.dtype"
   ]
  },
  {
   "cell_type": "code",
   "execution_count": 175,
   "id": "ed96b381",
   "metadata": {},
   "outputs": [
    {
     "data": {
      "text/plain": [
       "(10,)"
      ]
     },
     "execution_count": 175,
     "metadata": {},
     "output_type": "execute_result"
    }
   ],
   "source": [
    "evens_series.shape"
   ]
  },
  {
   "cell_type": "code",
   "execution_count": 179,
   "id": "573aeacf",
   "metadata": {},
   "outputs": [
    {
     "data": {
      "text/plain": [
       "RangeIndex(start=0, stop=10, step=1)"
      ]
     },
     "execution_count": 179,
     "metadata": {},
     "output_type": "execute_result"
    }
   ],
   "source": [
    "evens_series.index"
   ]
  },
  {
   "cell_type": "code",
   "execution_count": 180,
   "id": "6599e252",
   "metadata": {},
   "outputs": [
    {
     "data": {
      "text/plain": [
       "array([ 1,  3,  5,  7,  9, 11, 13, 15, 17, 19])"
      ]
     },
     "execution_count": 180,
     "metadata": {},
     "output_type": "execute_result"
    }
   ],
   "source": [
    "evens_series.values"
   ]
  },
  {
   "cell_type": "code",
   "execution_count": 181,
   "id": "55420827",
   "metadata": {},
   "outputs": [],
   "source": [
    "my_dict = {'fruit':['apple','banana','orange'],\n",
    "          'color':['red','yellow','orange'],\n",
    "          'yum score':[5,5,5],\n",
    "          'in fridge':[True, False, True],\n",
    "          'number':[3,4,0]}"
   ]
  },
  {
   "cell_type": "code",
   "execution_count": 182,
   "id": "289448a5",
   "metadata": {},
   "outputs": [
    {
     "data": {
      "text/html": [
       "<div>\n",
       "<style scoped>\n",
       "    .dataframe tbody tr th:only-of-type {\n",
       "        vertical-align: middle;\n",
       "    }\n",
       "\n",
       "    .dataframe tbody tr th {\n",
       "        vertical-align: top;\n",
       "    }\n",
       "\n",
       "    .dataframe thead th {\n",
       "        text-align: right;\n",
       "    }\n",
       "</style>\n",
       "<table border=\"1\" class=\"dataframe\">\n",
       "  <thead>\n",
       "    <tr style=\"text-align: right;\">\n",
       "      <th></th>\n",
       "      <th>fruit</th>\n",
       "      <th>color</th>\n",
       "      <th>yum score</th>\n",
       "      <th>in fridge</th>\n",
       "      <th>number</th>\n",
       "    </tr>\n",
       "  </thead>\n",
       "  <tbody>\n",
       "    <tr>\n",
       "      <th>0</th>\n",
       "      <td>apple</td>\n",
       "      <td>red</td>\n",
       "      <td>5</td>\n",
       "      <td>True</td>\n",
       "      <td>3</td>\n",
       "    </tr>\n",
       "    <tr>\n",
       "      <th>1</th>\n",
       "      <td>banana</td>\n",
       "      <td>yellow</td>\n",
       "      <td>5</td>\n",
       "      <td>False</td>\n",
       "      <td>4</td>\n",
       "    </tr>\n",
       "    <tr>\n",
       "      <th>2</th>\n",
       "      <td>orange</td>\n",
       "      <td>orange</td>\n",
       "      <td>5</td>\n",
       "      <td>True</td>\n",
       "      <td>0</td>\n",
       "    </tr>\n",
       "  </tbody>\n",
       "</table>\n",
       "</div>"
      ],
      "text/plain": [
       "    fruit   color  yum score  in fridge  number\n",
       "0   apple     red          5       True       3\n",
       "1  banana  yellow          5      False       4\n",
       "2  orange  orange          5       True       0"
      ]
     },
     "execution_count": 182,
     "metadata": {},
     "output_type": "execute_result"
    }
   ],
   "source": [
    "fruit_df = pd.DataFrame(my_dict)\n",
    "fruit_df"
   ]
  },
  {
   "cell_type": "code",
   "execution_count": 139,
   "id": "f7baffe1",
   "metadata": {},
   "outputs": [
    {
     "data": {
      "text/plain": [
       "[(0, 0, 0),\n",
       " (1, 1, 1),\n",
       " (2, 4, 8),\n",
       " (3, 9, 27),\n",
       " (4, 16, 64),\n",
       " (5, 25, 125),\n",
       " (6, 36, 216),\n",
       " (7, 49, 343),\n",
       " (8, 64, 512),\n",
       " (9, 81, 729)]"
      ]
     },
     "execution_count": 139,
     "metadata": {},
     "output_type": "execute_result"
    }
   ],
   "source": [
    "list_of_tups = [(i,i**2,i**3) for i in range(10)]\n",
    "list_of_tups"
   ]
  },
  {
   "cell_type": "code",
   "execution_count": 145,
   "id": "2cd4d440",
   "metadata": {},
   "outputs": [
    {
     "data": {
      "text/html": [
       "<div>\n",
       "<style scoped>\n",
       "    .dataframe tbody tr th:only-of-type {\n",
       "        vertical-align: middle;\n",
       "    }\n",
       "\n",
       "    .dataframe tbody tr th {\n",
       "        vertical-align: top;\n",
       "    }\n",
       "\n",
       "    .dataframe thead th {\n",
       "        text-align: right;\n",
       "    }\n",
       "</style>\n",
       "<table border=\"1\" class=\"dataframe\">\n",
       "  <thead>\n",
       "    <tr style=\"text-align: right;\">\n",
       "      <th></th>\n",
       "      <th>n</th>\n",
       "      <th>squared</th>\n",
       "      <th>cubed</th>\n",
       "    </tr>\n",
       "  </thead>\n",
       "  <tbody>\n",
       "    <tr>\n",
       "      <th>0</th>\n",
       "      <td>0</td>\n",
       "      <td>0</td>\n",
       "      <td>0</td>\n",
       "    </tr>\n",
       "    <tr>\n",
       "      <th>1</th>\n",
       "      <td>1</td>\n",
       "      <td>1</td>\n",
       "      <td>1</td>\n",
       "    </tr>\n",
       "    <tr>\n",
       "      <th>2</th>\n",
       "      <td>2</td>\n",
       "      <td>4</td>\n",
       "      <td>8</td>\n",
       "    </tr>\n",
       "    <tr>\n",
       "      <th>3</th>\n",
       "      <td>3</td>\n",
       "      <td>9</td>\n",
       "      <td>27</td>\n",
       "    </tr>\n",
       "    <tr>\n",
       "      <th>4</th>\n",
       "      <td>4</td>\n",
       "      <td>16</td>\n",
       "      <td>64</td>\n",
       "    </tr>\n",
       "    <tr>\n",
       "      <th>5</th>\n",
       "      <td>5</td>\n",
       "      <td>25</td>\n",
       "      <td>125</td>\n",
       "    </tr>\n",
       "    <tr>\n",
       "      <th>6</th>\n",
       "      <td>6</td>\n",
       "      <td>36</td>\n",
       "      <td>216</td>\n",
       "    </tr>\n",
       "    <tr>\n",
       "      <th>7</th>\n",
       "      <td>7</td>\n",
       "      <td>49</td>\n",
       "      <td>343</td>\n",
       "    </tr>\n",
       "    <tr>\n",
       "      <th>8</th>\n",
       "      <td>8</td>\n",
       "      <td>64</td>\n",
       "      <td>512</td>\n",
       "    </tr>\n",
       "    <tr>\n",
       "      <th>9</th>\n",
       "      <td>9</td>\n",
       "      <td>81</td>\n",
       "      <td>729</td>\n",
       "    </tr>\n",
       "  </tbody>\n",
       "</table>\n",
       "</div>"
      ],
      "text/plain": [
       "   n  squared  cubed\n",
       "0  0        0      0\n",
       "1  1        1      1\n",
       "2  2        4      8\n",
       "3  3        9     27\n",
       "4  4       16     64\n",
       "5  5       25    125\n",
       "6  6       36    216\n",
       "7  7       49    343\n",
       "8  8       64    512\n",
       "9  9       81    729"
      ]
     },
     "execution_count": 145,
     "metadata": {},
     "output_type": "execute_result"
    }
   ],
   "source": [
    "squares_and_cubes = pd.DataFrame(list_of_tups,columns = ['n','squared','cubed'])\n",
    "squares_and_cubes"
   ]
  },
  {
   "cell_type": "markdown",
   "id": "d4968f49",
   "metadata": {},
   "source": [
    "### Dictionary attributes"
   ]
  },
  {
   "cell_type": "code",
   "execution_count": 106,
   "id": "d8af9be4",
   "metadata": {},
   "outputs": [
    {
     "data": {
      "text/plain": [
       "fruit        object\n",
       "color        object\n",
       "yum score     int64\n",
       "in fridge      bool\n",
       "number        int64\n",
       "dtype: object"
      ]
     },
     "execution_count": 106,
     "metadata": {},
     "output_type": "execute_result"
    }
   ],
   "source": [
    "fruit_df.dtypes"
   ]
  },
  {
   "cell_type": "code",
   "execution_count": 110,
   "id": "122402f8",
   "metadata": {},
   "outputs": [
    {
     "data": {
      "text/plain": [
       "(3, 5)"
      ]
     },
     "execution_count": 110,
     "metadata": {},
     "output_type": "execute_result"
    }
   ],
   "source": [
    "fruit_df.shape"
   ]
  },
  {
   "cell_type": "code",
   "execution_count": 107,
   "id": "7f313d26",
   "metadata": {},
   "outputs": [
    {
     "data": {
      "text/plain": [
       "RangeIndex(start=0, stop=3, step=1)"
      ]
     },
     "execution_count": 107,
     "metadata": {},
     "output_type": "execute_result"
    }
   ],
   "source": [
    "fruit_df.index"
   ]
  },
  {
   "cell_type": "code",
   "execution_count": 108,
   "id": "000d172a",
   "metadata": {},
   "outputs": [
    {
     "data": {
      "text/plain": [
       "array([['apple', 'red', 5, True, 3],\n",
       "       ['banana', 'yellow', 5, False, 4],\n",
       "       ['orange', 'orange', 5, True, 0]], dtype=object)"
      ]
     },
     "execution_count": 108,
     "metadata": {},
     "output_type": "execute_result"
    }
   ],
   "source": [
    "fruit_df.values"
   ]
  },
  {
   "cell_type": "code",
   "execution_count": 109,
   "id": "af2af0c9",
   "metadata": {},
   "outputs": [
    {
     "data": {
      "text/plain": [
       "Index(['fruit', 'color', 'yum score', 'in fridge', 'number'], dtype='object')"
      ]
     },
     "execution_count": 109,
     "metadata": {},
     "output_type": "execute_result"
    }
   ],
   "source": [
    "fruit_df.columns"
   ]
  },
  {
   "cell_type": "code",
   "execution_count": 111,
   "id": "2ffbe855",
   "metadata": {},
   "outputs": [
    {
     "data": {
      "text/plain": [
       "False"
      ]
     },
     "execution_count": 111,
     "metadata": {},
     "output_type": "execute_result"
    }
   ],
   "source": [
    "fruit_df.empty"
   ]
  },
  {
   "cell_type": "code",
   "execution_count": 125,
   "id": "5fc1986e",
   "metadata": {},
   "outputs": [
    {
     "data": {
      "text/html": [
       "<div>\n",
       "<style scoped>\n",
       "    .dataframe tbody tr th:only-of-type {\n",
       "        vertical-align: middle;\n",
       "    }\n",
       "\n",
       "    .dataframe tbody tr th {\n",
       "        vertical-align: top;\n",
       "    }\n",
       "\n",
       "    .dataframe thead th {\n",
       "        text-align: right;\n",
       "    }\n",
       "</style>\n",
       "<table border=\"1\" class=\"dataframe\">\n",
       "  <thead>\n",
       "    <tr style=\"text-align: right;\">\n",
       "      <th></th>\n",
       "      <th>color</th>\n",
       "      <th>yum score</th>\n",
       "      <th>in fridge</th>\n",
       "      <th>number</th>\n",
       "    </tr>\n",
       "    <tr>\n",
       "      <th>fruit</th>\n",
       "      <th></th>\n",
       "      <th></th>\n",
       "      <th></th>\n",
       "      <th></th>\n",
       "    </tr>\n",
       "  </thead>\n",
       "  <tbody>\n",
       "    <tr>\n",
       "      <th>apple</th>\n",
       "      <td>red</td>\n",
       "      <td>5</td>\n",
       "      <td>True</td>\n",
       "      <td>3</td>\n",
       "    </tr>\n",
       "    <tr>\n",
       "      <th>banana</th>\n",
       "      <td>yellow</td>\n",
       "      <td>5</td>\n",
       "      <td>False</td>\n",
       "      <td>4</td>\n",
       "    </tr>\n",
       "    <tr>\n",
       "      <th>orange</th>\n",
       "      <td>orange</td>\n",
       "      <td>5</td>\n",
       "      <td>True</td>\n",
       "      <td>0</td>\n",
       "    </tr>\n",
       "  </tbody>\n",
       "</table>\n",
       "</div>"
      ],
      "text/plain": [
       "         color  yum score  in fridge  number\n",
       "fruit                                       \n",
       "apple      red          5       True       3\n",
       "banana  yellow          5      False       4\n",
       "orange  orange          5       True       0"
      ]
     },
     "execution_count": 125,
     "metadata": {},
     "output_type": "execute_result"
    }
   ],
   "source": [
    "fruit_df.set_index('fruit')"
   ]
  },
  {
   "cell_type": "code",
   "execution_count": 135,
   "id": "19ff7de4",
   "metadata": {},
   "outputs": [
    {
     "data": {
      "text/plain": [
       "0       red\n",
       "1    yellow\n",
       "2    orange\n",
       "Name: color, dtype: object"
      ]
     },
     "execution_count": 135,
     "metadata": {},
     "output_type": "execute_result"
    }
   ],
   "source": [
    "fruit_df['color']"
   ]
  },
  {
   "cell_type": "code",
   "execution_count": null,
   "id": "72d4b74a",
   "metadata": {},
   "outputs": [],
   "source": []
  }
 ],
 "metadata": {
  "kernelspec": {
   "display_name": "Python 3 (ipykernel)",
   "language": "python",
   "name": "python3"
  },
  "language_info": {
   "codemirror_mode": {
    "name": "ipython",
    "version": 3
   },
   "file_extension": ".py",
   "mimetype": "text/x-python",
   "name": "python",
   "nbconvert_exporter": "python",
   "pygments_lexer": "ipython3",
   "version": "3.11.4"
  }
 },
 "nbformat": 4,
 "nbformat_minor": 5
}
