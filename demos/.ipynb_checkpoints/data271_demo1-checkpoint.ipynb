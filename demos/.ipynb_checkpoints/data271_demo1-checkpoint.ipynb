{
 "cells": [
  {
   "cell_type": "markdown",
   "id": "685ec8ab",
   "metadata": {},
   "source": [
    "# Discussion questions"
   ]
  },
  {
   "cell_type": "code",
   "execution_count": null,
   "id": "982bac9c",
   "metadata": {},
   "outputs": [],
   "source": [
    "type(5.2)"
   ]
  },
  {
   "cell_type": "code",
   "execution_count": null,
   "id": "52a44d54",
   "metadata": {},
   "outputs": [],
   "source": [
    "type(True)"
   ]
  },
  {
   "cell_type": "code",
   "execution_count": null,
   "id": "3cbafee5",
   "metadata": {},
   "outputs": [],
   "source": [
    "type('Data 271 rules!')"
   ]
  },
  {
   "cell_type": "code",
   "execution_count": null,
   "id": "a02d4bd9",
   "metadata": {},
   "outputs": [],
   "source": [
    "type(3)"
   ]
  },
  {
   "cell_type": "code",
   "execution_count": null,
   "id": "92cf7edf",
   "metadata": {},
   "outputs": [],
   "source": [
    "type(3 + 4j)"
   ]
  },
  {
   "cell_type": "code",
   "execution_count": null,
   "id": "9d7c48b8",
   "metadata": {},
   "outputs": [],
   "source": [
    "int(5.2 + 3.1)"
   ]
  },
  {
   "cell_type": "code",
   "execution_count": null,
   "id": "2d3976d7",
   "metadata": {},
   "outputs": [],
   "source": [
    "type(True + float('2.3'))"
   ]
  },
  {
   "cell_type": "code",
   "execution_count": null,
   "id": "a49701e3",
   "metadata": {},
   "outputs": [],
   "source": [
    "str(45) * 3"
   ]
  },
  {
   "cell_type": "code",
   "execution_count": null,
   "id": "fbd7e572",
   "metadata": {},
   "outputs": [],
   "source": [
    "type(1/1)"
   ]
  },
  {
   "cell_type": "code",
   "execution_count": null,
   "id": "526becf1",
   "metadata": {},
   "outputs": [],
   "source": [
    "int('67.3')"
   ]
  },
  {
   "cell_type": "code",
   "execution_count": null,
   "id": "b6df959f",
   "metadata": {},
   "outputs": [],
   "source": [
    "'ha' + 'ha'"
   ]
  },
  {
   "cell_type": "markdown",
   "id": "12f531d0",
   "metadata": {},
   "source": [
    "test3"
   ]
  },
  {
   "cell_type": "code",
   "execution_count": null,
   "id": "ae8c0c57",
   "metadata": {},
   "outputs": [],
   "source": []
  }
 ],
 "metadata": {
  "kernelspec": {
   "display_name": "Python 3 (ipykernel)",
   "language": "python",
   "name": "python3"
  },
  "language_info": {
   "codemirror_mode": {
    "name": "ipython",
    "version": 3
   },
   "file_extension": ".py",
   "mimetype": "text/x-python",
   "name": "python",
   "nbconvert_exporter": "python",
   "pygments_lexer": "ipython3",
   "version": "3.10.11"
  }
 },
 "nbformat": 4,
 "nbformat_minor": 5
}
